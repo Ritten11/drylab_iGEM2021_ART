{
 "cells": [
  {
   "cell_type": "code",
   "execution_count": 1,
   "id": "609e5899",
   "metadata": {},
   "outputs": [
    {
     "name": "stdout",
     "output_type": "stream",
     "text": [
      "Size combinatorial library: 1280\n"
     ]
    }
   ],
   "source": [
    "import numpy as np\n",
    "\n",
    "# Listing the the number of variables and creating the associated indeces:\n",
    "num_strains = 8\n",
    "indeces_strains = np.array(range(1,9))\n",
    "num_promoters = 10\n",
    "indeces_promoters = np.array(range(num_strains+1, num_strains+num_promoters+1))\n",
    "num_secretion_signals = 4\n",
    "indeces_secretion = np.array(range(num_strains+num_promoters+1, num_strains+num_promoters+num_secretion_signals+1))\n",
    "num_genes = 4\n",
    "indeces_genes = np.array(range(num_strains+num_promoters+num_secretion_signals+1, num_strains+num_promoters+num_secretion_signals+num_genes+1))\n",
    "\n",
    "\n",
    "num_combinations = num_strains*num_genes*num_promoters*num_secretion_signals\n",
    "\n",
    "print(f'Size combinatorial library: {num_combinations}')"
   ]
  },
  {
   "cell_type": "code",
   "execution_count": 2,
   "id": "bfd58a67",
   "metadata": {},
   "outputs": [
    {
     "name": "stdout",
     "output_type": "stream",
     "text": [
      "[1 2 3 4 5 6 7 8]\n",
      "[ 9 10 11 12 13 14 15 16 17 18]\n",
      "[19 20 21 22]\n",
      "[23 24 25 26]\n"
     ]
    }
   ],
   "source": [
    "print(indeces_strains)\n",
    "print(indeces_promoters)\n",
    "print(indeces_secretion)\n",
    "print(indeces_genes)"
   ]
  },
  {
   "cell_type": "code",
   "execution_count": 3,
   "id": "9c24ab3e",
   "metadata": {},
   "outputs": [],
   "source": [
    "# Iteratively initialize the combinatory library \n",
    "\n",
    "def init_comb_library(size):\n",
    "    comb_library = [np.zeros(0) for i in range(size)]\n",
    "    i = 0\n",
    "    for idx1 in indeces_strains:\n",
    "        for idx2 in indeces_promoters:\n",
    "            for idx3 in indeces_secretion:\n",
    "                for idx4 in indeces_genes:\n",
    "                    comb_library[i] = [idx1, idx2, idx3, idx4]\n",
    "                    i += 1\n",
    "    return comb_library"
   ]
  },
  {
   "cell_type": "code",
   "execution_count": 75,
   "id": "23af8c7b",
   "metadata": {},
   "outputs": [
    {
     "name": "stdout",
     "output_type": "stream",
     "text": [
      "90\n",
      "First five constructs:\n",
      "[[ 6 15 19 26]\n",
      " [ 3 12 19 26]\n",
      " [ 6 15 19 23]\n",
      " [ 7 15 20 23]\n",
      " [ 3 14 21 23]]\n"
     ]
    }
   ],
   "source": [
    "# Initializing the set of constructs\n",
    "import random\n",
    "\n",
    "np.random.seed(2021) # For an unbalanced sub-set, set seed to 42\n",
    "percentage_comb_library = 7\n",
    "\n",
    "num_constructs = int(np.rint(num_combinations/(100/percentage_comb_library)))\n",
    "\n",
    "# Initializing the entire combinational library\n",
    "comb_library = init_comb_library(num_combinations)\n",
    "\n",
    "construct_indeces = np.random.choice(range(num_combinations), num_constructs, replace=False)\n",
    "constructs = [comb_library[i] for i in construct_indeces]\n",
    "constructs = np.array(constructs)\n",
    "print(f'{num_constructs}')\n",
    "\n",
    "print(f'First five constructs:')\n",
    "print(constructs[:5])"
   ]
  },
  {
   "cell_type": "code",
   "execution_count": 149,
   "id": "868bb114",
   "metadata": {},
   "outputs": [
    {
     "name": "stdout",
     "output_type": "stream",
     "text": [
      "[1 2 3 4 5 6 7 8]\n"
     ]
    }
   ],
   "source": [
    "print(np.unique(constructs[:,0]))"
   ]
  },
  {
   "cell_type": "code",
   "execution_count": 76,
   "id": "fd38a79c",
   "metadata": {},
   "outputs": [
    {
     "data": {
      "text/plain": [
       "Text(0.5, 1.0, 'Distribution of genes')"
      ]
     },
     "execution_count": 76,
     "metadata": {},
     "output_type": "execute_result"
    },
    {
     "data": {
      "image/png": "[encoded data removed]",
      "text/plain": [
       "<Figure size 576x576 with 4 Axes>"
      ]
     },
     "metadata": {
      "needs_background": "light"
     },
     "output_type": "display_data"
    }
   ],
   "source": [
    "import matplotlib.pyplot as plt\n",
    "\n",
    "# Plotting the occurances of each part withing the selected constructs\n",
    "\n",
    "fig, axs = plt.subplots(2,2, figsize=(8,8))\n",
    "axs[0][0].hist(constructs[:,0], align='mid', bins=np.append(indeces_strains,9)-0.5, edgecolor = 'black')\n",
    "axs[0][0].set_xticks(indeces_strains)\n",
    "axs[0][0].set_title('Distribution of strains')\n",
    "axs[0][1].hist(constructs[:,1], align='mid', bins=np.append(indeces_promoters,19)-0.5, edgecolor = 'black')\n",
    "axs[0][1].set_xticks(indeces_promoters)\n",
    "axs[0][1].set_title('Distribution of promoters')\n",
    "axs[1][0].hist(constructs[:,2], align='mid', bins=np.append(indeces_secretion,23)-0.5, edgecolor = 'black')\n",
    "axs[1][0].set_title('Distribution of secretion signals')\n",
    "axs[1][1].hist(constructs[:,3], align='mid', bins=np.append(indeces_genes,27)-0.5, edgecolor = 'black')\n",
    "axs[1][1].set_title('Distribution of genes')"
   ]
  },
  {
   "cell_type": "code",
   "execution_count": 79,
   "id": "7fdd3b9b",
   "metadata": {},
   "outputs": [
    {
     "name": "stdout",
     "output_type": "stream",
     "text": [
      "   str_idx  pro_idx  sec_idx  gen_idx\n",
      "0        6       15       19       26\n",
      "1        3       12       19       26\n",
      "2        6       15       19       23\n",
      "3        7       15       20       23\n",
      "4        3       14       21       23\n"
     ]
    },
    {
     "data": {
      "text/html": [
       "<div>\n",
       "<style scoped>\n",
       "    .dataframe tbody tr th:only-of-type {\n",
       "        vertical-align: middle;\n",
       "    }\n",
       "\n",
       "    .dataframe tbody tr th {\n",
       "        vertical-align: top;\n",
       "    }\n",
       "\n",
       "    .dataframe thead th {\n",
       "        text-align: right;\n",
       "    }\n",
       "</style>\n",
       "<table border=\"1\" class=\"dataframe\">\n",
       "  <thead>\n",
       "    <tr style=\"text-align: right;\">\n",
       "      <th></th>\n",
       "      <th>str_idx_1</th>\n",
       "      <th>str_idx_2</th>\n",
       "      <th>str_idx_3</th>\n",
       "      <th>str_idx_4</th>\n",
       "      <th>str_idx_5</th>\n",
       "      <th>str_idx_6</th>\n",
       "      <th>str_idx_7</th>\n",
       "      <th>str_idx_8</th>\n",
       "      <th>pro_idx_9</th>\n",
       "      <th>pro_idx_10</th>\n",
       "      <th>...</th>\n",
       "      <th>pro_idx_17</th>\n",
       "      <th>pro_idx_18</th>\n",
       "      <th>sec_idx_19</th>\n",
       "      <th>sec_idx_20</th>\n",
       "      <th>sec_idx_21</th>\n",
       "      <th>sec_idx_22</th>\n",
       "      <th>gen_idx_23</th>\n",
       "      <th>gen_idx_24</th>\n",
       "      <th>gen_idx_25</th>\n",
       "      <th>gen_idx_26</th>\n",
       "    </tr>\n",
       "  </thead>\n",
       "  <tbody>\n",
       "    <tr>\n",
       "      <th>0</th>\n",
       "      <td>0</td>\n",
       "      <td>0</td>\n",
       "      <td>0</td>\n",
       "      <td>0</td>\n",
       "      <td>0</td>\n",
       "      <td>1</td>\n",
       "      <td>0</td>\n",
       "      <td>0</td>\n",
       "      <td>0</td>\n",
       "      <td>0</td>\n",
       "      <td>...</td>\n",
       "      <td>0</td>\n",
       "      <td>0</td>\n",
       "      <td>1</td>\n",
       "      <td>0</td>\n",
       "      <td>0</td>\n",
       "      <td>0</td>\n",
       "      <td>0</td>\n",
       "      <td>0</td>\n",
       "      <td>0</td>\n",
       "      <td>1</td>\n",
       "    </tr>\n",
       "    <tr>\n",
       "      <th>1</th>\n",
       "      <td>0</td>\n",
       "      <td>0</td>\n",
       "      <td>1</td>\n",
       "      <td>0</td>\n",
       "      <td>0</td>\n",
       "      <td>0</td>\n",
       "      <td>0</td>\n",
       "      <td>0</td>\n",
       "      <td>0</td>\n",
       "      <td>0</td>\n",
       "      <td>...</td>\n",
       "      <td>0</td>\n",
       "      <td>0</td>\n",
       "      <td>1</td>\n",
       "      <td>0</td>\n",
       "      <td>0</td>\n",
       "      <td>0</td>\n",
       "      <td>0</td>\n",
       "      <td>0</td>\n",
       "      <td>0</td>\n",
       "      <td>1</td>\n",
       "    </tr>\n",
       "    <tr>\n",
       "      <th>2</th>\n",
       "      <td>0</td>\n",
       "      <td>0</td>\n",
       "      <td>0</td>\n",
       "      <td>0</td>\n",
       "      <td>0</td>\n",
       "      <td>1</td>\n",
       "      <td>0</td>\n",
       "      <td>0</td>\n",
       "      <td>0</td>\n",
       "      <td>0</td>\n",
       "      <td>...</td>\n",
       "      <td>0</td>\n",
       "      <td>0</td>\n",
       "      <td>1</td>\n",
       "      <td>0</td>\n",
       "      <td>0</td>\n",
       "      <td>0</td>\n",
       "      <td>1</td>\n",
       "      <td>0</td>\n",
       "      <td>0</td>\n",
       "      <td>0</td>\n",
       "    </tr>\n",
       "    <tr>\n",
       "      <th>3</th>\n",
       "      <td>0</td>\n",
       "      <td>0</td>\n",
       "      <td>0</td>\n",
       "      <td>0</td>\n",
       "      <td>0</td>\n",
       "      <td>0</td>\n",
       "      <td>1</td>\n",
       "      <td>0</td>\n",
       "      <td>0</td>\n",
       "      <td>0</td>\n",
       "      <td>...</td>\n",
       "      <td>0</td>\n",
       "      <td>0</td>\n",
       "      <td>0</td>\n",
       "      <td>1</td>\n",
       "      <td>0</td>\n",
       "      <td>0</td>\n",
       "      <td>1</td>\n",
       "      <td>0</td>\n",
       "      <td>0</td>\n",
       "      <td>0</td>\n",
       "    </tr>\n",
       "    <tr>\n",
       "      <th>4</th>\n",
       "      <td>0</td>\n",
       "      <td>0</td>\n",
       "      <td>1</td>\n",
       "      <td>0</td>\n",
       "      <td>0</td>\n",
       "      <td>0</td>\n",
       "      <td>0</td>\n",
       "      <td>0</td>\n",
       "      <td>0</td>\n",
       "      <td>0</td>\n",
       "      <td>...</td>\n",
       "      <td>0</td>\n",
       "      <td>0</td>\n",
       "      <td>0</td>\n",
       "      <td>0</td>\n",
       "      <td>1</td>\n",
       "      <td>0</td>\n",
       "      <td>1</td>\n",
       "      <td>0</td>\n",
       "      <td>0</td>\n",
       "      <td>0</td>\n",
       "    </tr>\n",
       "  </tbody>\n",
       "</table>\n",
       "<p>5 rows × 26 columns</p>\n",
       "</div>"
      ],
      "text/plain": [
       "   str_idx_1  str_idx_2  str_idx_3  str_idx_4  str_idx_5  str_idx_6  \\\n",
       "0          0          0          0          0          0          1   \n",
       "1          0          0          1          0          0          0   \n",
       "2          0          0          0          0          0          1   \n",
       "3          0          0          0          0          0          0   \n",
       "4          0          0          1          0          0          0   \n",
       "\n",
       "   str_idx_7  str_idx_8  pro_idx_9  pro_idx_10  ...  pro_idx_17  pro_idx_18  \\\n",
       "0          0          0          0           0  ...           0           0   \n",
       "1          0          0          0           0  ...           0           0   \n",
       "2          0          0          0           0  ...           0           0   \n",
       "3          1          0          0           0  ...           0           0   \n",
       "4          0          0          0           0  ...           0           0   \n",
       "\n",
       "   sec_idx_19  sec_idx_20  sec_idx_21  sec_idx_22  gen_idx_23  gen_idx_24  \\\n",
       "0           1           0           0           0           0           0   \n",
       "1           1           0           0           0           0           0   \n",
       "2           1           0           0           0           1           0   \n",
       "3           0           1           0           0           1           0   \n",
       "4           0           0           1           0           1           0   \n",
       "\n",
       "   gen_idx_25  gen_idx_26  \n",
       "0           0           1  \n",
       "1           0           1  \n",
       "2           0           0  \n",
       "3           0           0  \n",
       "4           0           0  \n",
       "\n",
       "[5 rows x 26 columns]"
      ]
     },
     "execution_count": 79,
     "metadata": {},
     "output_type": "execute_result"
    }
   ],
   "source": [
    "# Tranforming the 2d array into a one-hot-encoded panda.DataFrame\n",
    "\n",
    "import pandas as pd\n",
    "\n",
    "df = pd.DataFrame(constructs, columns=['str_idx', 'pro_idx', 'sec_idx', 'gen_idx'])\n",
    "print(df.head())\n",
    "strains_art_oneh = pd.get_dummies(data=df, columns=['str_idx', 'pro_idx', 'sec_idx', 'gen_idx'])\n",
    "strains_art_oneh.head()"
   ]
  },
  {
   "cell_type": "code",
   "execution_count": 78,
   "id": "6b5e2037",
   "metadata": {},
   "outputs": [
    {
     "name": "stdout",
     "output_type": "stream",
     "text": [
      "(90, 26)\n",
      "-1.3474501666390789e-17 1.0\n",
      "[[-0.4108907  -0.31234752 -0.4472136  -0.24253563 -0.35355339  2.67989145\n",
      "  -0.46499055 -0.39223227 -0.26726124 -0.33333333 -0.35355339 -0.4108907\n",
      "  -0.33333333 -0.35355339  4.12310563 -0.33333333 -0.31234752 -0.37314944\n",
      "   1.52752523 -0.5        -0.63737744 -0.51730613 -0.65465367 -0.5\n",
      "  -0.53452248  1.61245155]\n",
      " [-0.4108907  -0.31234752  2.23606798 -0.24253563 -0.35355339 -0.37314944\n",
      "  -0.46499055 -0.39223227 -0.26726124 -0.33333333 -0.35355339  2.43373723\n",
      "  -0.33333333 -0.35355339 -0.24253563 -0.33333333 -0.31234752 -0.37314944\n",
      "   1.52752523 -0.5        -0.63737744 -0.51730613 -0.65465367 -0.5\n",
      "  -0.53452248  1.61245155]\n",
      " [-0.4108907  -0.31234752 -0.4472136  -0.24253563 -0.35355339  2.67989145\n",
      "  -0.46499055 -0.39223227 -0.26726124 -0.33333333 -0.35355339 -0.4108907\n",
      "  -0.33333333 -0.35355339  4.12310563 -0.33333333 -0.31234752 -0.37314944\n",
      "   1.52752523 -0.5        -0.63737744 -0.51730613  1.52752523 -0.5\n",
      "  -0.53452248 -0.62017367]\n",
      " [-0.4108907  -0.31234752 -0.4472136  -0.24253563 -0.35355339 -0.37314944\n",
      "   2.15058132 -0.39223227 -0.26726124 -0.33333333 -0.35355339 -0.4108907\n",
      "  -0.33333333 -0.35355339  4.12310563 -0.33333333 -0.31234752 -0.37314944\n",
      "  -0.65465367  2.         -0.63737744 -0.51730613  1.52752523 -0.5\n",
      "  -0.53452248 -0.62017367]\n",
      " [-0.4108907  -0.31234752  2.23606798 -0.24253563 -0.35355339 -0.37314944\n",
      "  -0.46499055 -0.39223227 -0.26726124 -0.33333333 -0.35355339 -0.4108907\n",
      "  -0.33333333  2.82842712 -0.24253563 -0.33333333 -0.31234752 -0.37314944\n",
      "  -0.65465367 -0.5         1.56892908 -0.51730613  1.52752523 -0.5\n",
      "  -0.53452248 -0.62017367]]\n"
     ]
    }
   ],
   "source": [
    "## If handling different measurement types, first normalise the data. Should not be necessary if everything is one-hot encoded\n",
    "\n",
    "# from sklearn.preprocessing import StandardScaler\n",
    "\n",
    "# strains_art_oneh = StandardScaler().fit_transform(strains_art_oneh) # normalizing the features\n",
    "# print(strains_art_oneh.shape)\n",
    "\n",
    "# print(np.mean(strains_art_oneh),np.std(strains_art_oneh))\n",
    "# print(strains_art_oneh[:5])"
   ]
  },
  {
   "cell_type": "code",
   "execution_count": 84,
   "id": "c7a9fb34",
   "metadata": {},
   "outputs": [
    {
     "name": "stdout",
     "output_type": "stream",
     "text": [
      "sum of all components: 0.9758581824233616\n",
      "[0.1037928  0.09949963 0.08417862 0.07718789 0.0748287  0.06700994\n",
      " 0.0558837  0.04889642 0.04654028 0.04156714 0.03734968 0.03510922\n",
      " 0.03229142 0.03102803 0.02872815 0.02749231 0.02410998 0.02244776\n",
      " 0.02058282 0.01733368]\n",
      "100.0\n",
      "str_idx_1      1.525743\n",
      "str_idx_2      1.408274\n",
      "str_idx_3      1.034718\n",
      "str_idx_4      1.651936\n",
      "str_idx_5      2.057330\n",
      "str_idx_6      0.696883\n",
      "str_idx_7      5.012974\n",
      "str_idx_8      2.506123\n",
      "pro_idx_9      3.003732\n",
      "pro_idx_10     1.532596\n",
      "pro_idx_11     0.231354\n",
      "pro_idx_12     0.799251\n",
      "pro_idx_13     1.829300\n",
      "pro_idx_14     1.366901\n",
      "pro_idx_15     2.493624\n",
      "pro_idx_16     5.034838\n",
      "pro_idx_17     0.055802\n",
      "pro_idx_18     2.575147\n",
      "sec_idx_19    18.370985\n",
      "sec_idx_20     5.496948\n",
      "sec_idx_21     6.940385\n",
      "sec_idx_22     5.933652\n",
      "gen_idx_23     2.181381\n",
      "gen_idx_24     6.195256\n",
      "gen_idx_25     5.844115\n",
      "gen_idx_26    14.220751\n",
      "Name: 0, dtype: float64\n"
     ]
    }
   ],
   "source": [
    "from sklearn.decomposition import PCA\n",
    "\n",
    "# Starting the Principal Componant Analysis in order to determine wether each part adds sufficient variablity \n",
    "# to the set of selceted constructs\n",
    "\n",
    "number_of_PCA_components = 20 # Select the number of principal components you with to analyse. Set to 8+10+4+4=26 to include all variability\n",
    "\n",
    "pca_constructs = PCA(n_components=number_of_PCA_components)\n",
    "principalComponents_constructs = pca_constructs.fit_transform(strains_art_oneh) \n",
    "\n",
    "print(f\"sum of all components: {np.sum(pca_constructs.explained_variance_ratio_)}\") # A measure of how much variability is included in the PCA. If 1.0, all variability is included\n",
    "print(pca_constructs.explained_variance_ratio_) # Shows how much each PC contributes to the total amount of variability\n",
    "\n",
    "eigenvalues = pca_constructs.components_ # Extracts the influence of each variable on each principle component\n",
    "\n",
    "contributions_pca = (abs(eigenvalues)*100) / abs(eigenvalues).sum(axis=1, keepdims=True) # Expresses the contribution of each variable to a PC in percentages\n",
    "\n",
    "#print(contributions_pca)\n",
    "contributions_pca = pd.DataFrame(contributions_pca, columns = strains_art_oneh.columns)\n",
    "print(np.sum(contributions_pca.iloc[0])) # Shows that the sum of the influence of each variable on the first PC is equal to 100% \n",
    "print(contributions_pca.iloc[0]) # Shows the relative influence of each variable on the first PC"
   ]
  },
  {
   "cell_type": "code",
   "execution_count": 87,
   "id": "8141aa65",
   "metadata": {},
   "outputs": [
    {
     "name": "stdout",
     "output_type": "stream",
     "text": [
      "[3.92180381 2.54285003 4.15209978 1.86348804 2.76740829 3.50370992\n",
      " 3.96555435 4.23574369 2.54619103 3.41900477 3.38264569 3.96927884\n",
      " 3.37387573 3.40919386 1.83409815 3.4178744  2.94048979 3.2562231\n",
      " 4.76426548 5.02562683 4.78227916 4.79110836 4.70125402 4.70772036\n",
      " 5.23700335 5.07502744]\n",
      "97.58581824233616\n"
     ]
    }
   ],
   "source": [
    "# Obtain the percentage of variance originating from each variable by calculating the dot product between: \n",
    "# - the explained variance ratio of each PC \n",
    "# - how much each variable contributed to that PC\n",
    "\n",
    "perc_var_per_parameter = np.dot(pca_constructs.explained_variance_ratio_, contributions_pca)\n",
    "\n",
    "\n",
    "print(perc_var_per_parameter) # How much each variable contributed to the total variance in percentages\n",
    "       \n",
    "print(np.sum(perc_var_per_parameter)) # The sum of all percentages. Should be 100% if number_of_PCA_components=26"
   ]
  },
  {
   "cell_type": "code",
   "execution_count": 88,
   "id": "3d35fba9",
   "metadata": {},
   "outputs": [
    {
     "name": "stdout",
     "output_type": "stream",
     "text": [
      "8 7\n"
     ]
    },
    {
     "data": {
      "text/plain": [
       "Text(0.5, 1.0, 'Distribution of genes')"
      ]
     },
     "execution_count": 88,
     "metadata": {},
     "output_type": "execute_result"
    },
    {
     "data": {
      "image/png": "[encoded data removed]",
      "text/plain": [
       "<Figure size 576x576 with 4 Axes>"
      ]
     },
     "metadata": {
      "needs_background": "light"
     },
     "output_type": "display_data"
    }
   ],
   "source": [
    "# Creating a bar plot of contribution of each variable to the total variance in perentages\n",
    "fig, axs = plt.subplots(2,2, figsize=(8,8))\n",
    "axs[0][0].bar(indeces_strains, perc_var_per_parameter[0:8], edgecolor = 'black')\n",
    "axs[0][0].set_xticks(indeces_strains)\n",
    "axs[0][0].set_title('Distribution of strains')\n",
    "axs[0][1].bar(indeces_promoters, perc_var_per_parameter[8:18], edgecolor = 'black')\n",
    "axs[0][1].set_xticks(indeces_promoters)\n",
    "axs[0][1].set_title('Distribution of promoters')\n",
    "axs[1][0].bar(indeces_secretion, perc_var_per_parameter[18:22], edgecolor = 'black')\n",
    "axs[1][0].set_title('Distribution of secretion signals')\n",
    "axs[1][1].bar(indeces_genes, perc_var_per_parameter[22:26], edgecolor = 'black')\n",
    "axs[1][1].set_title('Distribution of genes')"
   ]
  }
 ],
 "metadata": {
  "kernelspec": {
   "display_name": "Python 3 (ipykernel)",
   "language": "python",
   "name": "python3"
  },
  "language_info": {
   "codemirror_mode": {
    "name": "ipython",
    "version": 3
   },
   "file_extension": ".py",
   "mimetype": "text/x-python",
   "name": "python",
   "nbconvert_exporter": "python",
   "pygments_lexer": "ipython3",
   "version": "3.9.2"
  }
 },
 "nbformat": 4,
 "nbformat_minor": 5
}
