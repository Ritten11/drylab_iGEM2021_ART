{
 "cells": [
  {
   "cell_type": "code",
   "execution_count": 3,
   "id": "609e5899",
   "metadata": {},
   "outputs": [
    {
     "name": "stdout",
     "output_type": "stream",
     "text": [
      "Size combinatorial library: 640\n"
     ]
    }
   ],
   "source": [
    "import numpy as np\n",
    "\n",
    "# Listing the the number of variables and creating the associated indeces:\n",
    "num_strains = 4\n",
    "indeces_strains = np.array(range(1,num_strains+1))\n",
    "num_promoters = 10\n",
    "indeces_promoters = np.array(range(num_strains+1, num_strains+num_promoters+1))\n",
    "num_secretion_signals = 4\n",
    "indeces_secretion = np.array(range(num_strains+num_promoters+1, num_strains+num_promoters+num_secretion_signals+1))\n",
    "num_genes = 4\n",
    "indeces_genes = np.array(range(num_strains+num_promoters+num_secretion_signals+1, num_strains+num_promoters+num_secretion_signals+num_genes+1))\n",
    "\n",
    "\n",
    "num_combinations = num_strains*num_genes*num_promoters*num_secretion_signals\n",
    "\n",
    "print(f'Size combinatorial library: {num_combinations}')"
   ]
  },
  {
   "cell_type": "code",
   "execution_count": 4,
   "id": "bfd58a67",
   "metadata": {},
   "outputs": [
    {
     "name": "stdout",
     "output_type": "stream",
     "text": [
      "[1 2 3 4]\n",
      "[ 5  6  7  8  9 10 11 12 13 14]\n",
      "[15 16 17 18]\n",
      "[19 20 21 22]\n"
     ]
    }
   ],
   "source": [
    "print(indeces_strains)\n",
    "print(indeces_promoters)\n",
    "print(indeces_secretion)\n",
    "print(indeces_genes)"
   ]
  },
  {
   "cell_type": "code",
   "execution_count": 5,
   "id": "9c24ab3e",
   "metadata": {},
   "outputs": [],
   "source": [
    "# Iteratively initialize the combinatory library \n",
    "\n",
    "def init_comb_library(size):\n",
    "    comb_library = [np.zeros(0) for i in range(size)]\n",
    "    i = 0\n",
    "    for idx1 in indeces_strains:\n",
    "        for idx2 in indeces_promoters:\n",
    "            for idx3 in indeces_secretion:\n",
    "                for idx4 in indeces_genes:\n",
    "                    comb_library[i] = [idx1, idx2, idx3, idx4]\n",
    "                    i += 1\n",
    "    return comb_library"
   ]
  },
  {
   "cell_type": "code",
   "execution_count": 34,
   "id": "23af8c7b",
   "metadata": {},
   "outputs": [
    {
     "name": "stdout",
     "output_type": "stream",
     "text": [
      "64\n",
      "First five constructs:\n",
      "[[ 2  6 16 22]\n",
      " [ 4 11 18 19]\n",
      " [ 1  5 16 19]\n",
      " [ 1 11 18 19]\n",
      " [ 3  8 16 22]]\n"
     ]
    }
   ],
   "source": [
    "# Initializing the set of constructs\n",
    "import random\n",
    "\n",
    "np.random.seed(578924431) # For an unbalanced sub-set, set seed to 42\n",
    "percentage_comb_library = 10\n",
    "\n",
    "num_constructs = int(np.rint(num_combinations/(100/percentage_comb_library)))\n",
    "\n",
    "# Initializing the entire combinational library\n",
    "comb_library = init_comb_library(num_combinations)\n",
    "\n",
    "construct_indeces = np.random.choice(range(num_combinations), num_constructs, replace=False)\n",
    "constructs = [comb_library[i] for i in construct_indeces]\n",
    "constructs = np.array(constructs)\n",
    "print(f'{num_constructs}')\n",
    "\n",
    "print(f'First five constructs:')\n",
    "print(constructs[:5])"
   ]
  },
  {
   "cell_type": "code",
   "execution_count": 7,
   "id": "868bb114",
   "metadata": {},
   "outputs": [
    {
     "name": "stdout",
     "output_type": "stream",
     "text": [
      "[1 2 3 4]\n"
     ]
    }
   ],
   "source": [
    "print(np.unique(constructs[:,0]))"
   ]
  },
  {
   "cell_type": "code",
   "execution_count": 35,
   "id": "fd38a79c",
   "metadata": {},
   "outputs": [
    {
     "data": {
      "text/plain": [
       "Text(0.5, 1.0, 'Distribution of genes')"
      ]
     },
     "execution_count": 35,
     "metadata": {},
     "output_type": "execute_result"
    },
    {
     "data": {
      "image/png": "[encoded data removed]",
      "text/plain": [
       "<Figure size 576x576 with 4 Axes>"
      ]
     },
     "metadata": {
      "needs_background": "light"
     },
     "output_type": "display_data"
    }
   ],
   "source": [
    "import matplotlib.pyplot as plt\n",
    "\n",
    "# Plotting the occurances of each part withing the selected constructs\n",
    "\n",
    "fig, axs = plt.subplots(2,2, figsize=(8,8))\n",
    "axs[0][0].hist(constructs[:,0], align='mid', bins=np.append(indeces_strains,5)-0.5, edgecolor = 'black')\n",
    "axs[0][0].set_xticks(indeces_strains)\n",
    "axs[0][0].set_title('Distribution of strains')\n",
    "axs[0][1].hist(constructs[:,1], align='mid', bins=np.append(indeces_promoters,15)-0.5, edgecolor = 'black')\n",
    "axs[0][1].set_xticks(indeces_promoters)\n",
    "axs[0][1].set_title('Distribution of promoters')\n",
    "axs[1][0].hist(constructs[:,2], align='mid', bins=np.append(indeces_secretion,19)-0.5, edgecolor = 'black')\n",
    "axs[1][0].set_title('Distribution of secretion signals')\n",
    "axs[1][1].hist(constructs[:,3], align='mid', bins=np.append(indeces_genes,23)-0.5, edgecolor = 'black')\n",
    "axs[1][1].set_title('Distribution of genes')"
   ]
  },
  {
   "cell_type": "code",
   "execution_count": 36,
   "id": "7fdd3b9b",
   "metadata": {},
   "outputs": [
    {
     "name": "stdout",
     "output_type": "stream",
     "text": [
      "   str_idx  pro_idx  sec_idx  gen_idx\n",
      "0        2        6       16       22\n",
      "1        4       11       18       19\n",
      "2        1        5       16       19\n",
      "3        1       11       18       19\n",
      "4        3        8       16       22\n"
     ]
    },
    {
     "data": {
      "text/html": [
       "<div>\n",
       "<style scoped>\n",
       "    .dataframe tbody tr th:only-of-type {\n",
       "        vertical-align: middle;\n",
       "    }\n",
       "\n",
       "    .dataframe tbody tr th {\n",
       "        vertical-align: top;\n",
       "    }\n",
       "\n",
       "    .dataframe thead th {\n",
       "        text-align: right;\n",
       "    }\n",
       "</style>\n",
       "<table border=\"1\" class=\"dataframe\">\n",
       "  <thead>\n",
       "    <tr style=\"text-align: right;\">\n",
       "      <th></th>\n",
       "      <th>str_idx_1</th>\n",
       "      <th>str_idx_2</th>\n",
       "      <th>str_idx_3</th>\n",
       "      <th>str_idx_4</th>\n",
       "      <th>pro_idx_5</th>\n",
       "      <th>pro_idx_6</th>\n",
       "      <th>pro_idx_7</th>\n",
       "      <th>pro_idx_8</th>\n",
       "      <th>pro_idx_9</th>\n",
       "      <th>pro_idx_10</th>\n",
       "      <th>...</th>\n",
       "      <th>pro_idx_13</th>\n",
       "      <th>pro_idx_14</th>\n",
       "      <th>sec_idx_15</th>\n",
       "      <th>sec_idx_16</th>\n",
       "      <th>sec_idx_17</th>\n",
       "      <th>sec_idx_18</th>\n",
       "      <th>gen_idx_19</th>\n",
       "      <th>gen_idx_20</th>\n",
       "      <th>gen_idx_21</th>\n",
       "      <th>gen_idx_22</th>\n",
       "    </tr>\n",
       "  </thead>\n",
       "  <tbody>\n",
       "    <tr>\n",
       "      <th>0</th>\n",
       "      <td>0</td>\n",
       "      <td>1</td>\n",
       "      <td>0</td>\n",
       "      <td>0</td>\n",
       "      <td>0</td>\n",
       "      <td>1</td>\n",
       "      <td>0</td>\n",
       "      <td>0</td>\n",
       "      <td>0</td>\n",
       "      <td>0</td>\n",
       "      <td>...</td>\n",
       "      <td>0</td>\n",
       "      <td>0</td>\n",
       "      <td>0</td>\n",
       "      <td>1</td>\n",
       "      <td>0</td>\n",
       "      <td>0</td>\n",
       "      <td>0</td>\n",
       "      <td>0</td>\n",
       "      <td>0</td>\n",
       "      <td>1</td>\n",
       "    </tr>\n",
       "    <tr>\n",
       "      <th>1</th>\n",
       "      <td>0</td>\n",
       "      <td>0</td>\n",
       "      <td>0</td>\n",
       "      <td>1</td>\n",
       "      <td>0</td>\n",
       "      <td>0</td>\n",
       "      <td>0</td>\n",
       "      <td>0</td>\n",
       "      <td>0</td>\n",
       "      <td>0</td>\n",
       "      <td>...</td>\n",
       "      <td>0</td>\n",
       "      <td>0</td>\n",
       "      <td>0</td>\n",
       "      <td>0</td>\n",
       "      <td>0</td>\n",
       "      <td>1</td>\n",
       "      <td>1</td>\n",
       "      <td>0</td>\n",
       "      <td>0</td>\n",
       "      <td>0</td>\n",
       "    </tr>\n",
       "    <tr>\n",
       "      <th>2</th>\n",
       "      <td>1</td>\n",
       "      <td>0</td>\n",
       "      <td>0</td>\n",
       "      <td>0</td>\n",
       "      <td>1</td>\n",
       "      <td>0</td>\n",
       "      <td>0</td>\n",
       "      <td>0</td>\n",
       "      <td>0</td>\n",
       "      <td>0</td>\n",
       "      <td>...</td>\n",
       "      <td>0</td>\n",
       "      <td>0</td>\n",
       "      <td>0</td>\n",
       "      <td>1</td>\n",
       "      <td>0</td>\n",
       "      <td>0</td>\n",
       "      <td>1</td>\n",
       "      <td>0</td>\n",
       "      <td>0</td>\n",
       "      <td>0</td>\n",
       "    </tr>\n",
       "    <tr>\n",
       "      <th>3</th>\n",
       "      <td>1</td>\n",
       "      <td>0</td>\n",
       "      <td>0</td>\n",
       "      <td>0</td>\n",
       "      <td>0</td>\n",
       "      <td>0</td>\n",
       "      <td>0</td>\n",
       "      <td>0</td>\n",
       "      <td>0</td>\n",
       "      <td>0</td>\n",
       "      <td>...</td>\n",
       "      <td>0</td>\n",
       "      <td>0</td>\n",
       "      <td>0</td>\n",
       "      <td>0</td>\n",
       "      <td>0</td>\n",
       "      <td>1</td>\n",
       "      <td>1</td>\n",
       "      <td>0</td>\n",
       "      <td>0</td>\n",
       "      <td>0</td>\n",
       "    </tr>\n",
       "    <tr>\n",
       "      <th>4</th>\n",
       "      <td>0</td>\n",
       "      <td>0</td>\n",
       "      <td>1</td>\n",
       "      <td>0</td>\n",
       "      <td>0</td>\n",
       "      <td>0</td>\n",
       "      <td>0</td>\n",
       "      <td>1</td>\n",
       "      <td>0</td>\n",
       "      <td>0</td>\n",
       "      <td>...</td>\n",
       "      <td>0</td>\n",
       "      <td>0</td>\n",
       "      <td>0</td>\n",
       "      <td>1</td>\n",
       "      <td>0</td>\n",
       "      <td>0</td>\n",
       "      <td>0</td>\n",
       "      <td>0</td>\n",
       "      <td>0</td>\n",
       "      <td>1</td>\n",
       "    </tr>\n",
       "  </tbody>\n",
       "</table>\n",
       "<p>5 rows × 22 columns</p>\n",
       "</div>"
      ],
      "text/plain": [
       "   str_idx_1  str_idx_2  str_idx_3  str_idx_4  pro_idx_5  pro_idx_6  \\\n",
       "0          0          1          0          0          0          1   \n",
       "1          0          0          0          1          0          0   \n",
       "2          1          0          0          0          1          0   \n",
       "3          1          0          0          0          0          0   \n",
       "4          0          0          1          0          0          0   \n",
       "\n",
       "   pro_idx_7  pro_idx_8  pro_idx_9  pro_idx_10  ...  pro_idx_13  pro_idx_14  \\\n",
       "0          0          0          0           0  ...           0           0   \n",
       "1          0          0          0           0  ...           0           0   \n",
       "2          0          0          0           0  ...           0           0   \n",
       "3          0          0          0           0  ...           0           0   \n",
       "4          0          1          0           0  ...           0           0   \n",
       "\n",
       "   sec_idx_15  sec_idx_16  sec_idx_17  sec_idx_18  gen_idx_19  gen_idx_20  \\\n",
       "0           0           1           0           0           0           0   \n",
       "1           0           0           0           1           1           0   \n",
       "2           0           1           0           0           1           0   \n",
       "3           0           0           0           1           1           0   \n",
       "4           0           1           0           0           0           0   \n",
       "\n",
       "   gen_idx_21  gen_idx_22  \n",
       "0           0           1  \n",
       "1           0           0  \n",
       "2           0           0  \n",
       "3           0           0  \n",
       "4           0           1  \n",
       "\n",
       "[5 rows x 22 columns]"
      ]
     },
     "execution_count": 36,
     "metadata": {},
     "output_type": "execute_result"
    }
   ],
   "source": [
    "# Tranforming the 2d array into a one-hot-encoded panda.DataFrame\n",
    "\n",
    "import pandas as pd\n",
    "\n",
    "df = pd.DataFrame(constructs, columns=['str_idx', 'pro_idx', 'sec_idx', 'gen_idx'])\n",
    "print(df.head())\n",
    "strains_art_oneh = pd.get_dummies(data=df, columns=['str_idx', 'pro_idx', 'sec_idx', 'gen_idx'])\n",
    "strains_art_oneh.head()"
   ]
  },
  {
   "cell_type": "code",
   "execution_count": 78,
   "id": "6b5e2037",
   "metadata": {},
   "outputs": [
    {
     "name": "stdout",
     "output_type": "stream",
     "text": [
      "(90, 26)\n",
      "-1.3474501666390789e-17 1.0\n",
      "[[-0.4108907  -0.31234752 -0.4472136  -0.24253563 -0.35355339  2.67989145\n",
      "  -0.46499055 -0.39223227 -0.26726124 -0.33333333 -0.35355339 -0.4108907\n",
      "  -0.33333333 -0.35355339  4.12310563 -0.33333333 -0.31234752 -0.37314944\n",
      "   1.52752523 -0.5        -0.63737744 -0.51730613 -0.65465367 -0.5\n",
      "  -0.53452248  1.61245155]\n",
      " [-0.4108907  -0.31234752  2.23606798 -0.24253563 -0.35355339 -0.37314944\n",
      "  -0.46499055 -0.39223227 -0.26726124 -0.33333333 -0.35355339  2.43373723\n",
      "  -0.33333333 -0.35355339 -0.24253563 -0.33333333 -0.31234752 -0.37314944\n",
      "   1.52752523 -0.5        -0.63737744 -0.51730613 -0.65465367 -0.5\n",
      "  -0.53452248  1.61245155]\n",
      " [-0.4108907  -0.31234752 -0.4472136  -0.24253563 -0.35355339  2.67989145\n",
      "  -0.46499055 -0.39223227 -0.26726124 -0.33333333 -0.35355339 -0.4108907\n",
      "  -0.33333333 -0.35355339  4.12310563 -0.33333333 -0.31234752 -0.37314944\n",
      "   1.52752523 -0.5        -0.63737744 -0.51730613  1.52752523 -0.5\n",
      "  -0.53452248 -0.62017367]\n",
      " [-0.4108907  -0.31234752 -0.4472136  -0.24253563 -0.35355339 -0.37314944\n",
      "   2.15058132 -0.39223227 -0.26726124 -0.33333333 -0.35355339 -0.4108907\n",
      "  -0.33333333 -0.35355339  4.12310563 -0.33333333 -0.31234752 -0.37314944\n",
      "  -0.65465367  2.         -0.63737744 -0.51730613  1.52752523 -0.5\n",
      "  -0.53452248 -0.62017367]\n",
      " [-0.4108907  -0.31234752  2.23606798 -0.24253563 -0.35355339 -0.37314944\n",
      "  -0.46499055 -0.39223227 -0.26726124 -0.33333333 -0.35355339 -0.4108907\n",
      "  -0.33333333  2.82842712 -0.24253563 -0.33333333 -0.31234752 -0.37314944\n",
      "  -0.65465367 -0.5         1.56892908 -0.51730613  1.52752523 -0.5\n",
      "  -0.53452248 -0.62017367]]\n"
     ]
    }
   ],
   "source": [
    "## If handling different measurement types, first normalise the data. Should not be necessary if everything is one-hot encoded\n",
    "\n",
    "# from sklearn.preprocessing import StandardScaler\n",
    "\n",
    "# strains_art_oneh = StandardScaler().fit_transform(strains_art_oneh) # normalizing the features\n",
    "# print(strains_art_oneh.shape)\n",
    "\n",
    "# print(np.mean(strains_art_oneh),np.std(strains_art_oneh))\n",
    "# print(strains_art_oneh[:5])"
   ]
  },
  {
   "cell_type": "code",
   "execution_count": 37,
   "id": "c7a9fb34",
   "metadata": {},
   "outputs": [
    {
     "name": "stdout",
     "output_type": "stream",
     "text": [
      "sum of all components: 1.0\n",
      "[1.34215454e-01 1.18680097e-01 1.05144805e-01 9.58773015e-02\n",
      " 8.49547649e-02 7.84134911e-02 5.81035490e-02 5.01599320e-02\n",
      " 4.73217074e-02 3.84511821e-02 3.26216081e-02 3.00403124e-02\n",
      " 2.70467714e-02 2.53019092e-02 2.43909413e-02 2.04821530e-02\n",
      " 1.51948769e-02 1.35991433e-02 1.10340200e-32 6.64412756e-33]\n",
      "99.99999999999999\n",
      "str_idx_1      5.265150\n",
      "str_idx_2      8.330218\n",
      "str_idx_3      0.949433\n",
      "str_idx_4     12.645935\n",
      "pro_idx_5      1.403962\n",
      "pro_idx_6      1.235543\n",
      "pro_idx_7      1.914011\n",
      "pro_idx_8      1.940550\n",
      "pro_idx_9      0.789976\n",
      "pro_idx_10     3.130240\n",
      "pro_idx_11     4.789054\n",
      "pro_idx_12     1.958768\n",
      "pro_idx_13     1.192852\n",
      "pro_idx_14     0.038958\n",
      "sec_idx_15     8.431943\n",
      "sec_idx_16    14.113263\n",
      "sec_idx_17     1.381231\n",
      "sec_idx_18     4.300089\n",
      "gen_idx_19    10.642439\n",
      "gen_idx_20     2.235131\n",
      "gen_idx_21    10.859281\n",
      "gen_idx_22     2.451973\n",
      "Name: 0, dtype: float64\n"
     ]
    }
   ],
   "source": [
    "from sklearn.decomposition import PCA\n",
    "\n",
    "# Starting the Principal Componant Analysis in order to determine wether each part adds sufficient variablity \n",
    "# to the set of selceted constructs\n",
    "\n",
    "number_of_PCA_components = 20 # Select the number of principal components you with to analyse. Set to 8+10+4+4=26 to include all variability\n",
    "\n",
    "pca_constructs = PCA(n_components=number_of_PCA_components)\n",
    "principalComponents_constructs = pca_constructs.fit_transform(strains_art_oneh) \n",
    "\n",
    "print(f\"sum of all components: {np.sum(pca_constructs.explained_variance_ratio_)}\") # A measure of how much variability is included in the PCA. If 1.0, all variability is included\n",
    "print(pca_constructs.explained_variance_ratio_) # Shows how much each PC contributes to the total amount of variability\n",
    "\n",
    "eigenvalues = pca_constructs.components_ # Extracts the influence of each variable on each principle component\n",
    "\n",
    "contributions_pca = (abs(eigenvalues)*100) / abs(eigenvalues).sum(axis=1, keepdims=True) # Expresses the contribution of each variable to a PC in percentages\n",
    "\n",
    "#print(contributions_pca)\n",
    "contributions_pca = pd.DataFrame(contributions_pca, columns = strains_art_oneh.columns)\n",
    "print(np.sum(contributions_pca.iloc[0])) # Shows that the sum of the influence of each variable on the first PC is equal to 100% \n",
    "print(contributions_pca.iloc[0]) # Shows the relative influence of each variable on the first PC"
   ]
  },
  {
   "cell_type": "code",
   "execution_count": 38,
   "id": "8141aa65",
   "metadata": {},
   "outputs": [
    {
     "name": "stdout",
     "output_type": "stream",
     "text": [
      "[5.14144676 6.10065601 4.57337369 6.25052728 2.92133983 3.46559123\n",
      " 3.67369354 3.6298389  3.85669364 3.47936611 4.75098699 3.1285419\n",
      " 2.7906857  3.16425484 5.53392297 6.28249794 4.36693138 5.36725083\n",
      " 5.22178855 5.31417268 5.83498721 5.15145201]\n",
      "99.99999999999999\n"
     ]
    }
   ],
   "source": [
    "# Obtain the percentage of variance originating from each variable by calculating the dot product between: \n",
    "# - the explained variance ratio of each PC \n",
    "# - how much each variable contributed to that PC\n",
    "\n",
    "perc_var_per_parameter = np.dot(pca_constructs.explained_variance_ratio_, contributions_pca)\n",
    "\n",
    "\n",
    "print(perc_var_per_parameter) # How much each variable contributed to the total variance in percentages\n",
    "       \n",
    "print(np.sum(perc_var_per_parameter)) # The sum of all percentages. Should be 100% if number_of_PCA_components=26"
   ]
  },
  {
   "cell_type": "code",
   "execution_count": 41,
   "id": "3d35fba9",
   "metadata": {},
   "outputs": [
    {
     "data": {
      "text/plain": [
       "Text(0.5, 1.0, 'Distribution of genes')"
      ]
     },
     "execution_count": 41,
     "metadata": {},
     "output_type": "execute_result"
    },
    {
     "data": {
      "image/png": "[encoded data removed]",
      "text/plain": [
       "<Figure size 576x576 with 4 Axes>"
      ]
     },
     "metadata": {
      "needs_background": "light"
     },
     "output_type": "display_data"
    }
   ],
   "source": [
    "# Creating a bar plot of contribution of each variable to the total variance in perentages\n",
    "fig, axs = plt.subplots(2,2, figsize=(8,8))\n",
    "axs[0][0].bar(indeces_strains, perc_var_per_parameter[indeces_strains-1], edgecolor = 'black')\n",
    "axs[0][0].set_xticks(indeces_strains)\n",
    "axs[0][0].set_title('Distribution of strains')\n",
    "axs[0][1].bar(indeces_promoters, perc_var_per_parameter[indeces_promoters-1], edgecolor = 'black')\n",
    "axs[0][1].set_xticks(indeces_promoters)\n",
    "axs[0][1].set_title('Distribution of promoters')\n",
    "axs[1][0].bar(indeces_secretion, perc_var_per_parameter[indeces_secretion-1], edgecolor = 'black')\n",
    "axs[1][0].set_title('Distribution of secretion signals')\n",
    "axs[1][1].bar(indeces_genes, perc_var_per_parameter[indeces_genes-1], edgecolor = 'black')\n",
    "axs[1][1].set_title('Distribution of genes')"
   ]
  }
 ],
 "metadata": {
  "kernelspec": {
   "display_name": "Python 3 (ipykernel)",
   "language": "python",
   "name": "python3"
  },
  "language_info": {
   "codemirror_mode": {
    "name": "ipython",
    "version": 3
   },
   "file_extension": ".py",
   "mimetype": "text/x-python",
   "name": "python",
   "nbconvert_exporter": "python",
   "pygments_lexer": "ipython3",
   "version": "3.9.2"
  }
 },
 "nbformat": 4,
 "nbformat_minor": 5
}
