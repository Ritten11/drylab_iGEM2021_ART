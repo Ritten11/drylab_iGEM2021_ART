{
 "cells": [
  {
   "cell_type": "code",
   "execution_count": null,
   "id": "f0f1cb43",
   "metadata": {},
   "outputs": [],
   "source": [
    "import numpy as np\n",
    "import pandas as pd\n",
    "import matplotlib.pyplot as plt\n",
    "\n",
    "import random\n",
    "seed = 578924431 # For an unbalanced sub-set, set seed to 42. Properly balanced subset: 578924431\n",
    "\n",
    "from sklearn.decomposition import PCA"
   ]
  },
  {
   "cell_type": "markdown",
   "id": "17780c88",
   "metadata": {},
   "source": [
    "# Creating a balanced subset of the combinatory library\n",
    "\n",
    "When optimising a genetically engineered machine, there are a lot of parts of this machine that could possibly be optimized. One strategy on deciding whether to \n",
    "\n"
   ]
  },
  {
   "cell_type": "code",
   "execution_count": 20,
   "id": "609e5899",
   "metadata": {},
   "outputs": [
    {
     "name": "stdout",
     "output_type": "stream",
     "text": [
      "Size combinatorial library: 640\n"
     ]
    }
   ],
   "source": [
    "# Listing the the number of variables and creating the associated indeces:\n",
    "num_strains = 4\n",
    "indeces_strains = np.array(range(1,num_strains+1))\n",
    "num_promoters = 10\n",
    "indeces_promoters = np.array(range(num_strains+1, num_strains+num_promoters+1))\n",
    "num_secretion_signals = 4\n",
    "indeces_secretion = np.array(range(num_strains+num_promoters+1, num_strains+num_promoters+num_secretion_signals+1))\n",
    "num_genes = 4\n",
    "indeces_genes = np.array(range(num_strains+num_promoters+num_secretion_signals+1, num_strains+num_promoters+num_secretion_signals+num_genes+1))\n",
    "\n",
    "\n",
    "num_combinations = num_strains*num_genes*num_promoters*num_secretion_signals\n",
    "\n",
    "print(f'Size combinatorial library: {num_combinations}')"
   ]
  },
  {
   "cell_type": "code",
   "execution_count": 21,
   "id": "bfd58a67",
   "metadata": {},
   "outputs": [
    {
     "name": "stdout",
     "output_type": "stream",
     "text": [
      "[1 2 3 4]\n",
      "[ 5  6  7  8  9 10 11 12 13 14]\n",
      "[15 16 17 18]\n",
      "[19 20 21 22]\n"
     ]
    }
   ],
   "source": [
    "print(indeces_strains)\n",
    "print(indeces_promoters)\n",
    "print(indeces_secretion)\n",
    "print(indeces_genes)"
   ]
  },
  {
   "cell_type": "code",
   "execution_count": 22,
   "id": "9c24ab3e",
   "metadata": {},
   "outputs": [],
   "source": [
    "# Iteratively initialize the combinatory library \n",
    "\n",
    "def init_comb_library(size):\n",
    "    comb_library = [np.zeros(0) for i in range(size)]\n",
    "    i = 0\n",
    "    for idx1 in indeces_strains:\n",
    "        for idx2 in indeces_promoters:\n",
    "            for idx3 in indeces_secretion:\n",
    "                for idx4 in indeces_genes:\n",
    "                    comb_library[i] = [idx1, idx2, idx3, idx4]\n",
    "                    i += 1\n",
    "    return comb_library"
   ]
  },
  {
   "cell_type": "code",
   "execution_count": 23,
   "id": "23af8c7b",
   "metadata": {},
   "outputs": [
    {
     "name": "stdout",
     "output_type": "stream",
     "text": [
      "64\n",
      "First five constructs:\n",
      "[[ 2  6 16 22]\n",
      " [ 4 11 18 19]\n",
      " [ 1  5 16 19]\n",
      " [ 1 11 18 19]\n",
      " [ 3  8 16 22]]\n"
     ]
    }
   ],
   "source": [
    "# Initializing the set of constructs\n",
    "np.random.seed(seed)\n",
    "percentage_comb_library = 10\n",
    "\n",
    "num_constructs = int(np.rint(num_combinations/(100/percentage_comb_library)))\n",
    "\n",
    "# Initializing the entire combinational library\n",
    "comb_library = init_comb_library(num_combinations)\n",
    "\n",
    "construct_indeces = np.random.choice(range(num_combinations), num_constructs, replace=False)\n",
    "constructs = [comb_library[i] for i in construct_indeces]\n",
    "constructs = np.array(constructs)\n",
    "print(f'{num_constructs}')\n",
    "\n",
    "print(f'First five constructs:')\n",
    "print(constructs[:5])\n",
    "\n",
    "# Firt, name each construct:\n",
    "names = ['#'+str(i).zfill(2) for i in range(1, num_constructs+1)]\n",
    "named_strains = pd.DataFrame(constructs, columns=['str_idx', 'pro_idx', 'sec_idx', 'gen_idx'])\n",
    "named_strains['Line name'] = names\n"
   ]
  },
  {
   "cell_type": "markdown",
   "id": "57cfe5a3",
   "metadata": {},
   "source": [
    "# Exporting the subset to a .csv file"
   ]
  },
  {
   "cell_type": "code",
   "execution_count": 24,
   "id": "168ffcd4",
   "metadata": {},
   "outputs": [
    {
     "name": "stdout",
     "output_type": "stream",
     "text": [
      "    str_idx pro_idx sec_idx gen_idx Line name Replicate activity\n",
      "0         2       6      16      22       #01        r0        _\n",
      "1         2       6      16      22       #01        r1        _\n",
      "2         2       6      16      22       #01        r2        _\n",
      "3         4      11      18      19       #02        r0        _\n",
      "4         4      11      18      19       #02        r1        _\n",
      "..      ...     ...     ...     ...       ...       ...      ...\n",
      "187       1      12      16      21       #63        r1        _\n",
      "188       1      12      16      21       #63        r2        _\n",
      "189       4       6      18      19       #64        r0        _\n",
      "190       4       6      18      19       #64        r1        _\n",
      "191       4       6      18      19       #64        r2        _\n",
      "\n",
      "[192 rows x 7 columns]\n",
      "    Line name Replicate activity str_idx pro_idx sec_idx gen_idx\n",
      "0         #01        r0        _       2       6      16      22\n",
      "1         #01        r1        _       2       6      16      22\n",
      "2         #01        r2        _       2       6      16      22\n",
      "3         #02        r0        _       4      11      18      19\n",
      "4         #02        r1        _       4      11      18      19\n",
      "..        ...       ...      ...     ...     ...     ...     ...\n",
      "187       #63        r1        _       1      12      16      21\n",
      "188       #63        r2        _       1      12      16      21\n",
      "189       #64        r0        _       4       6      18      19\n",
      "190       #64        r1        _       4       6      18      19\n",
      "191       #64        r2        _       4       6      18      19\n",
      "\n",
      "[192 rows x 7 columns]\n"
     ]
    }
   ],
   "source": [
    "\n",
    "newdf = pd.DataFrame(np.repeat(named_strains.values,3,axis=0))\n",
    "newdf.columns = named_strains.columns\n",
    "newdf['Replicate'] = ['r0', 'r1', 'r2']*num_constructs # creating entries for each replicate\n",
    "newdf['activity'] = '_' # creating an empty cell for the actual measurement.\n",
    "print(newdf)\n",
    "\n",
    "# Setting the line name, replicate number and measurement value as first columns in the dataframe\n",
    "cols = newdf.columns.tolist()\n",
    "cols = cols[-3:] + cols[:-3]\n",
    "named_strains = newdf[cols] \n",
    "\n",
    "#print(temp_df)\n",
    "print(named_strains)\n",
    "named_strains.to_csv('Sample_list.csv', sep=',', index=False)"
   ]
  },
  {
   "cell_type": "code",
   "execution_count": 25,
   "id": "27b70f7d",
   "metadata": {},
   "outputs": [
    {
     "name": "stdout",
     "output_type": "stream",
     "text": [
      "    Line name Replicate activity str_idx pro_idx sec_idx gen_idx  measurement\n",
      "0         #01        r0        _       2       6      16      22     0.829131\n",
      "1         #01        r1        _       2       6      16      22     0.333064\n",
      "2         #01        r2        _       2       6      16      22     0.871142\n",
      "3         #02        r0        _       4      11      18      19     0.937158\n",
      "4         #02        r1        _       4      11      18      19     0.054991\n",
      "..        ...       ...      ...     ...     ...     ...     ...          ...\n",
      "187       #63        r1        _       1      12      16      21     0.101024\n",
      "188       #63        r2        _       1      12      16      21     0.448711\n",
      "189       #64        r0        _       4       6      18      19     0.153779\n",
      "190       #64        r1        _       4       6      18      19     0.711719\n",
      "191       #64        r2        _       4       6      18      19     0.680596\n",
      "\n",
      "[192 rows x 8 columns]\n"
     ]
    }
   ],
   "source": [
    "# Creating mock data for the testing of the ART\n",
    "\n",
    "np.random.seed(seed)\n",
    "\n",
    "mock_data = named_strains.copy()\n",
    "mock_data['measurement'] = np.random.random(mock_data.shape[0])\n",
    "print(mock_data)\n",
    "\n",
    "mock_data.to_csv('mock_data.csv', sep=',', index=False)"
   ]
  },
  {
   "cell_type": "markdown",
   "id": "0a3aafa2",
   "metadata": {},
   "source": [
    "## We had to drop a few samples. We decided to drop samples:\n",
    "6\n",
    "11\n",
    "3\n",
    "14\n",
    "4\n",
    "15\n",
    "18\n",
    "20\n",
    "36\n"
   ]
  },
  {
   "cell_type": "code",
   "execution_count": 26,
   "id": "901e92f2",
   "metadata": {},
   "outputs": [
    {
     "name": "stdout",
     "output_type": "stream",
     "text": [
      "['#64' '#62' '#48' '#07' '#36' '#03' '#04']\n",
      "           str_idx  pro_idx  sec_idx  gen_idx\n",
      "Line name                                    \n",
      "#01              2        6       16       22\n",
      "#02              4       11       18       19\n",
      "#05              3        8       16       22\n",
      "#06              2       11       17       19\n",
      "#08              3        8       15       22\n",
      "#09              4       11       15       22\n",
      "#10              2        8       16       22\n",
      "#11              2        5       15       21\n",
      "#12              3       11       15       19\n",
      "#13              4       13       16       22\n",
      "#14              1       14       16       20\n",
      "#15              1        6       18       19\n",
      "#16              2       13       15       21\n",
      "#17              4        7       18       19\n",
      "#18              1       13       18       20\n",
      "#19              3        7       15       21\n",
      "#20              1       11       18       20\n",
      "#21              2       10       16       22\n",
      "#22              2       14       16       20\n",
      "#23              2       12       17       21\n",
      "#24              2        7       18       21\n",
      "#25              3       10       15       20\n",
      "#26              1        8       16       21\n",
      "#27              1       11       15       22\n",
      "#28              2        7       16       20\n",
      "#29              4        9       16       21\n",
      "#30              4        5       18       20\n",
      "#31              2        6       18       20\n",
      "#32              3        9       17       20\n",
      "#33              4       14       16       22\n",
      "#34              1        7       16       21\n",
      "#35              1       10       17       21\n",
      "#37              4        9       16       22\n",
      "#38              3       12       16       22\n",
      "#39              4        7       16       21\n",
      "#40              4        7       17       21\n",
      "#41              4        8       15       20\n",
      "#42              1        9       16       21\n",
      "#43              4        9       17       19\n",
      "#44              2       12       18       21\n",
      "#45              3       10       16       21\n",
      "#46              2        5       18       21\n",
      "#47              2        6       15       19\n",
      "#49              4       13       15       19\n",
      "#50              2        6       17       20\n",
      "#51              1       11       17       21\n",
      "#52              2       10       16       20\n",
      "#53              4        8       15       19\n",
      "#54              4        9       18       22\n",
      "#55              2        9       16       21\n",
      "#56              3       10       15       21\n",
      "#57              4        8       17       21\n",
      "#58              3       12       15       19\n",
      "#59              2        8       18       20\n",
      "#60              4       14       15       22\n",
      "#61              4       14       17       20\n",
      "#63              1       12       16       21\n"
     ]
    }
   ],
   "source": [
    "# constructs = constructs[:60]\n",
    "\n",
    "names = ['#'+str(i).zfill(2) for i in range(1, num_constructs+1)]\n",
    "named_samples = pd.DataFrame(constructs, columns=['str_idx', 'pro_idx', 'sec_idx', 'gen_idx'])\n",
    "named_samples['Line name'] = names\n",
    "named_samples = named_samples.set_index('Line name')\n",
    "# Drop rows for multiple countries:\n",
    "list_of_droppable_samples = [\"#06\", \"#11\", \"#03\", \"#14\", \"#04\", \"#15\", \"#18\", \"#20\", \"#36\"]\n",
    "np.random.seed(seed)\n",
    "dropped_samples = np.random.choice(list_of_droppable_samples, 3, replace=False)\n",
    "dropped_samples = np.append(\"#07\", dropped_samples)\n",
    "dropped_samples = np.append([\"#64\",\"#62\", \"#48\"], dropped_samples)\n",
    "print(dropped_samples)\n",
    "named_samples = named_samples.drop(dropped_samples)\n",
    "print(named_samples)"
   ]
  },
  {
   "cell_type": "code",
   "execution_count": 27,
   "id": "868bb114",
   "metadata": {},
   "outputs": [
    {
     "name": "stdout",
     "output_type": "stream",
     "text": [
      "57\n"
     ]
    }
   ],
   "source": [
    "print(len(named_samples[\"str_idx\"]))"
   ]
  },
  {
   "cell_type": "code",
   "execution_count": 28,
   "id": "fd38a79c",
   "metadata": {},
   "outputs": [
    {
     "data": {
      "text/plain": [
       "Text(0.5, 1.0, 'Distribution of genes')"
      ]
     },
     "execution_count": 28,
     "metadata": {},
     "output_type": "execute_result"
    },
    {
     "data": {
      "image/png": "[encoded data removed]",
      "text/plain": [
       "<Figure size 576x576 with 4 Axes>"
      ]
     },
     "metadata": {
      "needs_background": "light"
     },
     "output_type": "display_data"
    }
   ],
   "source": [
    "# Plotting the occurances of each part withing the selected constructs\n",
    "\n",
    "fig, axs = plt.subplots(2,2, figsize=(8,8))\n",
    "axs[0][0].hist(named_samples[\"str_idx\"], align='mid', bins=np.append(indeces_strains,5)-0.5, edgecolor = 'black')\n",
    "axs[0][0].set_xticks(indeces_strains)\n",
    "axs[0][0].set_title('Distribution of strains')\n",
    "axs[0][1].hist(named_samples[\"pro_idx\"], align='mid', bins=np.append(indeces_promoters,15)-0.5, edgecolor = 'black')\n",
    "axs[0][1].set_xticks(indeces_promoters)\n",
    "axs[0][1].set_title('Distribution of promoters')\n",
    "axs[1][0].hist(named_samples[\"sec_idx\"], align='mid', bins=np.append(indeces_secretion,19)-0.5, edgecolor = 'black')\n",
    "axs[1][0].set_title('Distribution of secretion signals')\n",
    "axs[1][1].hist(named_samples[\"gen_idx\"], align='mid', bins=np.append(indeces_genes,23)-0.5, edgecolor = 'black')\n",
    "axs[1][1].set_title('Distribution of genes')"
   ]
  },
  {
   "cell_type": "code",
   "execution_count": 29,
   "id": "7fdd3b9b",
   "metadata": {},
   "outputs": [
    {
     "data": {
      "text/html": [
       "<div>\n",
       "<style scoped>\n",
       "    .dataframe tbody tr th:only-of-type {\n",
       "        vertical-align: middle;\n",
       "    }\n",
       "\n",
       "    .dataframe tbody tr th {\n",
       "        vertical-align: top;\n",
       "    }\n",
       "\n",
       "    .dataframe thead th {\n",
       "        text-align: right;\n",
       "    }\n",
       "</style>\n",
       "<table border=\"1\" class=\"dataframe\">\n",
       "  <thead>\n",
       "    <tr style=\"text-align: right;\">\n",
       "      <th></th>\n",
       "      <th>str_idx_1</th>\n",
       "      <th>str_idx_2</th>\n",
       "      <th>str_idx_3</th>\n",
       "      <th>str_idx_4</th>\n",
       "      <th>pro_idx_5</th>\n",
       "      <th>pro_idx_6</th>\n",
       "      <th>pro_idx_7</th>\n",
       "      <th>pro_idx_8</th>\n",
       "      <th>pro_idx_9</th>\n",
       "      <th>pro_idx_10</th>\n",
       "      <th>...</th>\n",
       "      <th>pro_idx_13</th>\n",
       "      <th>pro_idx_14</th>\n",
       "      <th>sec_idx_15</th>\n",
       "      <th>sec_idx_16</th>\n",
       "      <th>sec_idx_17</th>\n",
       "      <th>sec_idx_18</th>\n",
       "      <th>gen_idx_19</th>\n",
       "      <th>gen_idx_20</th>\n",
       "      <th>gen_idx_21</th>\n",
       "      <th>gen_idx_22</th>\n",
       "    </tr>\n",
       "    <tr>\n",
       "      <th>Line name</th>\n",
       "      <th></th>\n",
       "      <th></th>\n",
       "      <th></th>\n",
       "      <th></th>\n",
       "      <th></th>\n",
       "      <th></th>\n",
       "      <th></th>\n",
       "      <th></th>\n",
       "      <th></th>\n",
       "      <th></th>\n",
       "      <th></th>\n",
       "      <th></th>\n",
       "      <th></th>\n",
       "      <th></th>\n",
       "      <th></th>\n",
       "      <th></th>\n",
       "      <th></th>\n",
       "      <th></th>\n",
       "      <th></th>\n",
       "      <th></th>\n",
       "      <th></th>\n",
       "    </tr>\n",
       "  </thead>\n",
       "  <tbody>\n",
       "    <tr>\n",
       "      <th>#01</th>\n",
       "      <td>0</td>\n",
       "      <td>1</td>\n",
       "      <td>0</td>\n",
       "      <td>0</td>\n",
       "      <td>0</td>\n",
       "      <td>1</td>\n",
       "      <td>0</td>\n",
       "      <td>0</td>\n",
       "      <td>0</td>\n",
       "      <td>0</td>\n",
       "      <td>...</td>\n",
       "      <td>0</td>\n",
       "      <td>0</td>\n",
       "      <td>0</td>\n",
       "      <td>1</td>\n",
       "      <td>0</td>\n",
       "      <td>0</td>\n",
       "      <td>0</td>\n",
       "      <td>0</td>\n",
       "      <td>0</td>\n",
       "      <td>1</td>\n",
       "    </tr>\n",
       "    <tr>\n",
       "      <th>#02</th>\n",
       "      <td>0</td>\n",
       "      <td>0</td>\n",
       "      <td>0</td>\n",
       "      <td>1</td>\n",
       "      <td>0</td>\n",
       "      <td>0</td>\n",
       "      <td>0</td>\n",
       "      <td>0</td>\n",
       "      <td>0</td>\n",
       "      <td>0</td>\n",
       "      <td>...</td>\n",
       "      <td>0</td>\n",
       "      <td>0</td>\n",
       "      <td>0</td>\n",
       "      <td>0</td>\n",
       "      <td>0</td>\n",
       "      <td>1</td>\n",
       "      <td>1</td>\n",
       "      <td>0</td>\n",
       "      <td>0</td>\n",
       "      <td>0</td>\n",
       "    </tr>\n",
       "    <tr>\n",
       "      <th>#05</th>\n",
       "      <td>0</td>\n",
       "      <td>0</td>\n",
       "      <td>1</td>\n",
       "      <td>0</td>\n",
       "      <td>0</td>\n",
       "      <td>0</td>\n",
       "      <td>0</td>\n",
       "      <td>1</td>\n",
       "      <td>0</td>\n",
       "      <td>0</td>\n",
       "      <td>...</td>\n",
       "      <td>0</td>\n",
       "      <td>0</td>\n",
       "      <td>0</td>\n",
       "      <td>1</td>\n",
       "      <td>0</td>\n",
       "      <td>0</td>\n",
       "      <td>0</td>\n",
       "      <td>0</td>\n",
       "      <td>0</td>\n",
       "      <td>1</td>\n",
       "    </tr>\n",
       "    <tr>\n",
       "      <th>#06</th>\n",
       "      <td>0</td>\n",
       "      <td>1</td>\n",
       "      <td>0</td>\n",
       "      <td>0</td>\n",
       "      <td>0</td>\n",
       "      <td>0</td>\n",
       "      <td>0</td>\n",
       "      <td>0</td>\n",
       "      <td>0</td>\n",
       "      <td>0</td>\n",
       "      <td>...</td>\n",
       "      <td>0</td>\n",
       "      <td>0</td>\n",
       "      <td>0</td>\n",
       "      <td>0</td>\n",
       "      <td>1</td>\n",
       "      <td>0</td>\n",
       "      <td>1</td>\n",
       "      <td>0</td>\n",
       "      <td>0</td>\n",
       "      <td>0</td>\n",
       "    </tr>\n",
       "    <tr>\n",
       "      <th>#08</th>\n",
       "      <td>0</td>\n",
       "      <td>0</td>\n",
       "      <td>1</td>\n",
       "      <td>0</td>\n",
       "      <td>0</td>\n",
       "      <td>0</td>\n",
       "      <td>0</td>\n",
       "      <td>1</td>\n",
       "      <td>0</td>\n",
       "      <td>0</td>\n",
       "      <td>...</td>\n",
       "      <td>0</td>\n",
       "      <td>0</td>\n",
       "      <td>1</td>\n",
       "      <td>0</td>\n",
       "      <td>0</td>\n",
       "      <td>0</td>\n",
       "      <td>0</td>\n",
       "      <td>0</td>\n",
       "      <td>0</td>\n",
       "      <td>1</td>\n",
       "    </tr>\n",
       "  </tbody>\n",
       "</table>\n",
       "<p>5 rows × 22 columns</p>\n",
       "</div>"
      ],
      "text/plain": [
       "           str_idx_1  str_idx_2  str_idx_3  str_idx_4  pro_idx_5  pro_idx_6  \\\n",
       "Line name                                                                     \n",
       "#01                0          1          0          0          0          1   \n",
       "#02                0          0          0          1          0          0   \n",
       "#05                0          0          1          0          0          0   \n",
       "#06                0          1          0          0          0          0   \n",
       "#08                0          0          1          0          0          0   \n",
       "\n",
       "           pro_idx_7  pro_idx_8  pro_idx_9  pro_idx_10  ...  pro_idx_13  \\\n",
       "Line name                                               ...               \n",
       "#01                0          0          0           0  ...           0   \n",
       "#02                0          0          0           0  ...           0   \n",
       "#05                0          1          0           0  ...           0   \n",
       "#06                0          0          0           0  ...           0   \n",
       "#08                0          1          0           0  ...           0   \n",
       "\n",
       "           pro_idx_14  sec_idx_15  sec_idx_16  sec_idx_17  sec_idx_18  \\\n",
       "Line name                                                               \n",
       "#01                 0           0           1           0           0   \n",
       "#02                 0           0           0           0           1   \n",
       "#05                 0           0           1           0           0   \n",
       "#06                 0           0           0           1           0   \n",
       "#08                 0           1           0           0           0   \n",
       "\n",
       "           gen_idx_19  gen_idx_20  gen_idx_21  gen_idx_22  \n",
       "Line name                                                  \n",
       "#01                 0           0           0           1  \n",
       "#02                 1           0           0           0  \n",
       "#05                 0           0           0           1  \n",
       "#06                 1           0           0           0  \n",
       "#08                 0           0           0           1  \n",
       "\n",
       "[5 rows x 22 columns]"
      ]
     },
     "execution_count": 29,
     "metadata": {},
     "output_type": "execute_result"
    }
   ],
   "source": [
    "# Tranforming the 2d array into a one-hot-encoded panda.DataFrame\n",
    "\n",
    "# df = pd.DataFrame(constructs, columns=['str_idx', 'pro_idx', 'sec_idx', 'gen_idx'])\n",
    "# print(df.head())\n",
    "strains_art_oneh = pd.get_dummies(data=named_samples, columns=['str_idx', 'pro_idx', 'sec_idx', 'gen_idx'])\n",
    "strains_art_oneh.head()"
   ]
  },
  {
   "cell_type": "code",
   "execution_count": 78,
   "id": "6b5e2037",
   "metadata": {},
   "outputs": [
    {
     "name": "stdout",
     "output_type": "stream",
     "text": [
      "(90, 26)\n",
      "-1.3474501666390789e-17 1.0\n",
      "[[-0.4108907  -0.31234752 -0.4472136  -0.24253563 -0.35355339  2.67989145\n",
      "  -0.46499055 -0.39223227 -0.26726124 -0.33333333 -0.35355339 -0.4108907\n",
      "  -0.33333333 -0.35355339  4.12310563 -0.33333333 -0.31234752 -0.37314944\n",
      "   1.52752523 -0.5        -0.63737744 -0.51730613 -0.65465367 -0.5\n",
      "  -0.53452248  1.61245155]\n",
      " [-0.4108907  -0.31234752  2.23606798 -0.24253563 -0.35355339 -0.37314944\n",
      "  -0.46499055 -0.39223227 -0.26726124 -0.33333333 -0.35355339  2.43373723\n",
      "  -0.33333333 -0.35355339 -0.24253563 -0.33333333 -0.31234752 -0.37314944\n",
      "   1.52752523 -0.5        -0.63737744 -0.51730613 -0.65465367 -0.5\n",
      "  -0.53452248  1.61245155]\n",
      " [-0.4108907  -0.31234752 -0.4472136  -0.24253563 -0.35355339  2.67989145\n",
      "  -0.46499055 -0.39223227 -0.26726124 -0.33333333 -0.35355339 -0.4108907\n",
      "  -0.33333333 -0.35355339  4.12310563 -0.33333333 -0.31234752 -0.37314944\n",
      "   1.52752523 -0.5        -0.63737744 -0.51730613  1.52752523 -0.5\n",
      "  -0.53452248 -0.62017367]\n",
      " [-0.4108907  -0.31234752 -0.4472136  -0.24253563 -0.35355339 -0.37314944\n",
      "   2.15058132 -0.39223227 -0.26726124 -0.33333333 -0.35355339 -0.4108907\n",
      "  -0.33333333 -0.35355339  4.12310563 -0.33333333 -0.31234752 -0.37314944\n",
      "  -0.65465367  2.         -0.63737744 -0.51730613  1.52752523 -0.5\n",
      "  -0.53452248 -0.62017367]\n",
      " [-0.4108907  -0.31234752  2.23606798 -0.24253563 -0.35355339 -0.37314944\n",
      "  -0.46499055 -0.39223227 -0.26726124 -0.33333333 -0.35355339 -0.4108907\n",
      "  -0.33333333  2.82842712 -0.24253563 -0.33333333 -0.31234752 -0.37314944\n",
      "  -0.65465367 -0.5         1.56892908 -0.51730613  1.52752523 -0.5\n",
      "  -0.53452248 -0.62017367]]\n"
     ]
    }
   ],
   "source": [
    "## If handling different measurement types, first normalise the data. Should not be necessary if everything is one-hot encoded\n",
    "\n",
    "# from sklearn.preprocessing import StandardScaler\n",
    "\n",
    "# strains_art_oneh = StandardScaler().fit_transform(strains_art_oneh) # normalizing the features\n",
    "# print(strains_art_oneh.shape)\n",
    "\n",
    "# print(np.mean(strains_art_oneh),np.std(strains_art_oneh))\n",
    "# print(strains_art_oneh[:5])"
   ]
  },
  {
   "cell_type": "code",
   "execution_count": 30,
   "id": "c7a9fb34",
   "metadata": {},
   "outputs": [
    {
     "name": "stdout",
     "output_type": "stream",
     "text": [
      "sum of all components: 1.0\n",
      "[1.39320302e-01 1.23736787e-01 1.11289014e-01 1.02127633e-01\n",
      " 7.86369288e-02 6.78039123e-02 5.85470219e-02 4.87412451e-02\n",
      " 4.61098376e-02 4.03980372e-02 3.55126561e-02 3.02321343e-02\n",
      " 2.74886002e-02 2.65643582e-02 2.15825822e-02 1.54656882e-02\n",
      " 1.45263713e-02 1.19168905e-02 2.00476935e-32 7.42789922e-33]\n",
      "99.99999999999999\n",
      "str_idx_1      5.189019\n",
      "str_idx_2     10.060894\n",
      "str_idx_3      3.239546\n",
      "str_idx_4     12.010367\n",
      "pro_idx_5      0.581014\n",
      "pro_idx_6      0.520794\n",
      "pro_idx_7      2.432102\n",
      "pro_idx_8      2.011238\n",
      "pro_idx_9      0.733278\n",
      "pro_idx_10     2.544345\n",
      "pro_idx_11     4.570231\n",
      "pro_idx_12     2.043748\n",
      "pro_idx_13     1.555645\n",
      "pro_idx_14     0.718166\n",
      "sec_idx_15    11.666930\n",
      "sec_idx_16    12.026968\n",
      "sec_idx_17     0.293571\n",
      "sec_idx_18     0.653609\n",
      "gen_idx_19     9.623501\n",
      "gen_idx_20     1.329050\n",
      "gen_idx_21    12.245218\n",
      "gen_idx_22     3.950767\n",
      "Name: 0, dtype: float64\n"
     ]
    }
   ],
   "source": [
    "# Starting the Principal Componant Analysis in order to determine wether each part adds sufficient variablity \n",
    "# to the set of selceted constructs\n",
    "\n",
    "number_of_PCA_components = 20 # Select the number of principal components you with to analyse. Set to 8+10+4+4=26 to include all variability\n",
    "\n",
    "pca_constructs = PCA(n_components=number_of_PCA_components)\n",
    "principalComponents_constructs = pca_constructs.fit_transform(strains_art_oneh) \n",
    "\n",
    "print(f\"sum of all components: {np.sum(pca_constructs.explained_variance_ratio_)}\") # A measure of how much variability is included in the PCA. If 1.0, all variability is included\n",
    "print(pca_constructs.explained_variance_ratio_) # Shows how much each PC contributes to the total amount of variability\n",
    "\n",
    "eigenvalues = pca_constructs.components_ # Extracts the influence of each variable on each principle component\n",
    "\n",
    "contributions_pca = (abs(eigenvalues)*100) / abs(eigenvalues).sum(axis=1, keepdims=True) # Expresses the contribution of each variable to a PC in percentages\n",
    "\n",
    "#print(contributions_pca)\n",
    "contributions_pca = pd.DataFrame(contributions_pca, columns = strains_art_oneh.columns)\n",
    "print(np.sum(contributions_pca.iloc[0])) # Shows that the sum of the influence of each variable on the first PC is equal to 100% \n",
    "print(contributions_pca.iloc[0]) # Shows the relative influence of each variable on the first PC"
   ]
  },
  {
   "cell_type": "code",
   "execution_count": 31,
   "id": "8141aa65",
   "metadata": {},
   "outputs": [
    {
     "name": "stdout",
     "output_type": "stream",
     "text": [
      "[4.98127257 6.42606965 5.09922094 6.12395326 2.26153372 3.37852681\n",
      " 4.10662679 3.5206114  3.87101163 3.75118126 4.51288389 2.931597\n",
      " 2.46123866 3.64476348 5.67551389 5.75497952 4.48578313 5.0624958\n",
      " 5.12489699 5.37705123 5.50526258 5.94352581]\n",
      "99.99999999999999\n"
     ]
    }
   ],
   "source": [
    "# Obtain the percentage of variance originating from each variable by calculating the dot product between: \n",
    "# - the explained variance ratio of each PC \n",
    "# - how much each variable contributed to that PC\n",
    "\n",
    "perc_var_per_parameter = np.dot(pca_constructs.explained_variance_ratio_, contributions_pca)\n",
    "\n",
    "\n",
    "print(perc_var_per_parameter) # How much each variable contributed to the total variance in percentages\n",
    "       \n",
    "print(np.sum(perc_var_per_parameter)) # The sum of all percentages. Should be 100% if number_of_PCA_components=26"
   ]
  },
  {
   "cell_type": "code",
   "execution_count": 32,
   "id": "3d35fba9",
   "metadata": {},
   "outputs": [
    {
     "data": {
      "text/plain": [
       "Text(0.5, 1.0, 'Variance attributed to each gene')"
      ]
     },
     "execution_count": 32,
     "metadata": {},
     "output_type": "execute_result"
    },
    {
     "data": {
      "image/png": "[encoded data removed]",
      "text/plain": [
       "<Figure size 576x576 with 4 Axes>"
      ]
     },
     "metadata": {
      "needs_background": "light"
     },
     "output_type": "display_data"
    }
   ],
   "source": [
    "# Creating a bar plot of contribution of each variable to the total variance in perentages\n",
    "fig, axs = plt.subplots(2,2, figsize=(8,8))\n",
    "axs[0][0].bar(indeces_strains, perc_var_per_parameter[indeces_strains-1], edgecolor = 'black')\n",
    "axs[0][0].set_xticks(indeces_strains)\n",
    "axs[0][0].set_title('Variance attributed to each strain')\n",
    "axs[0][1].bar(indeces_promoters, perc_var_per_parameter[indeces_promoters-1], edgecolor = 'black')\n",
    "axs[0][1].set_xticks(indeces_promoters)\n",
    "axs[0][1].set_title('Variance attributed to each promoter')\n",
    "axs[1][0].bar(indeces_secretion, perc_var_per_parameter[indeces_secretion-1], edgecolor = 'black')\n",
    "axs[1][0].set_title('Variance attributed to each secretion signal')\n",
    "axs[1][1].bar(indeces_genes, perc_var_per_parameter[indeces_genes-1], edgecolor = 'black')\n",
    "axs[1][1].set_title('Variance attributed to each gene')"
   ]
  }
 ],
 "metadata": {
  "kernelspec": {
   "display_name": "Python 3 (ipykernel)",
   "language": "python",
   "name": "python3"
  },
  "language_info": {
   "codemirror_mode": {
    "name": "ipython",
    "version": 3
   },
   "file_extension": ".py",
   "mimetype": "text/x-python",
   "name": "python",
   "nbconvert_exporter": "python",
   "pygments_lexer": "ipython3",
   "version": "3.9.2"
  }
 },
 "nbformat": 4,
 "nbformat_minor": 5
}
