{
 "cells": [
  {
   "cell_type": "code",
   "execution_count": 1,
   "id": "6983d0a8",
   "metadata": {},
   "outputs": [],
   "source": [
    "import sys\n",
    "import glob\n",
    "import os\n",
    "import re\n",
    "import numpy as np\n",
    "import pandas as pd\n",
    "import matplotlib.pyplot as plt\n",
    "%matplotlib inline\n",
    "\n",
    "\n",
    "from itertools import chain\n",
    "from scipy.optimize import curve_fit"
   ]
  },
  {
   "cell_type": "markdown",
   "id": "5becc6bc",
   "metadata": {},
   "source": [
    "# Preprocessing of the data\n",
    "\n",
    "For usage of the ART, it is important that each replicate is assigned a single measurement value which represents how well the replicate performed. This value is often also referred to as the *performance measure*. For our perticular project, we decided to use the activity of the alpha-amylase produces by our machines as the performance measure. However, the output of our experiments is a time-series of absorbance measures and an OD measure for each sample. In this notebook, we go over the steps on how to go from these varying data types to a single alpha-amylase activity value."
   ]
  },
  {
   "cell_type": "markdown",
   "id": "d7b81b2a",
   "metadata": {},
   "source": [
    "## Step 1: Loading and structuring the data\n",
    "\n",
    "Before any preprocessing can be done, the measurement data needs to be loaded into the python environment. For easy excess, we will store these measurments in a dataframe."
   ]
  },
  {
   "cell_type": "code",
   "execution_count": 17,
   "id": "1c9e635f",
   "metadata": {},
   "outputs": [],
   "source": [
    "# Storing the current working directory for later usage\n",
    "cwd = os.getcwd()\n",
    "\n",
    "# Change into the correct working directory\n",
    "data_dir = os.path.join(cwd,'data','AA 5-10_1')\n",
    "os.chdir(data_dir)"
   ]
  },
  {
   "cell_type": "code",
   "execution_count": 18,
   "id": "18d9ff1b",
   "metadata": {},
   "outputs": [
    {
     "name": "stdout",
     "output_type": "stream",
     "text": [
      "['14.24.TXT', '14.30.TXT', '14.35.TXT', '14.39.TXT', '14.44.TXT', '14.49.TXT', '14.54.TXT', '14.59.TXT', '15.04.TXT', '15.09.TXT', '15.14.TXT', '15.19.TXT', '15.24.TXT', '16.20.TXT', '16.55.TXT']\n"
     ]
    }
   ],
   "source": [
    "# Extract the file names of all absorbance measurement files\n",
    "abs_files = glob.glob('*.TXT')\n",
    "abs_files.sort()\n",
    "print(abs_files)"
   ]
  },
  {
   "cell_type": "markdown",
   "id": "b66fd4bb",
   "metadata": {},
   "source": [
    "Check wether all the listed files are intended to be used for the analysis. If there are any unwanted files, remove them using the cell below:"
   ]
  },
  {
   "cell_type": "code",
   "execution_count": 19,
   "id": "18d10456",
   "metadata": {},
   "outputs": [
    {
     "name": "stdout",
     "output_type": "stream",
     "text": [
      "['14.24.TXT', '14.30.TXT', '14.35.TXT', '14.39.TXT', '14.44.TXT', '14.49.TXT', '14.54.TXT', '14.59.TXT', '15.04.TXT', '15.09.TXT', '15.14.TXT', '15.19.TXT', '15.24.TXT', '16.20.TXT', '16.55.TXT']\n"
     ]
    }
   ],
   "source": [
    "files_to_remove = [] # ['error_2111.TXT'] # More files can be removed by adding more files to this list\n",
    "\n",
    "\n",
    "for file in files_to_remove:\n",
    "    abs_files.remove(file) \n",
    "print(abs_files)"
   ]
  },
  {
   "cell_type": "code",
   "execution_count": 20,
   "id": "df456d25",
   "metadata": {},
   "outputs": [
    {
     "name": "stdout",
     "output_type": "stream",
     "text": [
      "(8, 12)\n",
      "(8, 12)\n",
      "(8, 12)\n",
      "(8, 12)\n",
      "(8, 12)\n",
      "(8, 12)\n",
      "(8, 12)\n",
      "(8, 12)\n",
      "(8, 12)\n",
      "(8, 12)\n",
      "(8, 12)\n",
      "(8, 12)\n",
      "(8, 12)\n",
      "(8, 12)\n",
      "(8, 12)\n",
      "   Hour Minute absolute_diff  File_name  \\\n",
      "0    14     24             0  14.24.TXT   \n",
      "1    14     30             6  14.30.TXT   \n",
      "2    14     35            11  14.35.TXT   \n",
      "3    14     39            15  14.39.TXT   \n",
      "4    14     44            20  14.44.TXT   \n",
      "5    14     49            25  14.49.TXT   \n",
      "6    14     54            30  14.54.TXT   \n",
      "7    14     59            35  14.59.TXT   \n",
      "8    15      4            40  15.04.TXT   \n",
      "9    15      9            45  15.09.TXT   \n",
      "10   15     14            50  15.14.TXT   \n",
      "11   15     19            55  15.19.TXT   \n",
      "12   15     24            60  15.24.TXT   \n",
      "13   16     20           116  16.20.TXT   \n",
      "14   16     55           151  16.55.TXT   \n",
      "\n",
      "                                     abs_measurements  \n",
      "0         0      1      2      3      4      5    ...  \n",
      "1         0      1      2      3      4      5    ...  \n",
      "2         0      1      2      3      4      5    ...  \n",
      "3         0      1      2      3      4      5    ...  \n",
      "4         0      1      2      3      4      5    ...  \n",
      "5         0      1      2      3      4      5    ...  \n",
      "6         0      1      2      3      4      5    ...  \n",
      "7         0      1      2      3      4      5    ...  \n",
      "8         0      1      2      3      4      5    ...  \n",
      "9         0      1      2      3      4      5    ...  \n",
      "10        0      1      2      3      4      5    ...  \n",
      "11        0      1      2      3      4      5    ...  \n",
      "12        0      1      2      3      4      5    ...  \n",
      "13        0      1      2      3      4      5    ...  \n",
      "14        0      1      2      3      4      5    ...  \n"
     ]
    },
    {
     "name": "stderr",
     "output_type": "stream",
     "text": [
      "/home/user/.pyenv/versions/3.9.2/envs/ART_iGEM-3.9.2/lib/python3.9/site-packages/pandas/core/dtypes/cast.py:881: VisibleDeprecationWarning: Creating an ndarray from ragged nested sequences (which is a list-or-tuple of lists-or-tuples-or ndarrays with different lengths or shapes) is deprecated. If you meant to do this, you must specify 'dtype=object' when creating the ndarray.\n",
      "  element = np.asarray(element)\n"
     ]
    }
   ],
   "source": [
    "\n",
    "\n",
    "# Creating a dataframe with time measurements and reference to the absorbance measure file\n",
    "abs_df = pd.DataFrame(columns=['Hour', 'Minute', 'absolute_diff', 'File_name', 'abs_measurements'])\n",
    "for i, file in enumerate(abs_files):\n",
    "    ms_time = file.split('.')\n",
    "    ms_time = [int(string) for string in ms_time[0:2]]\n",
    "    if i == 0:\n",
    "        time_diff = 0\n",
    "    else:\n",
    "        time_diff = (ms_time[0]-abs_df['Hour'][0])*60+(ms_time[1]-abs_df['Minute'][0])\n",
    "    abs_measurement = pd.read_csv(file, header = None, sep=',')\n",
    "    abs_measurement = abs_measurement.iloc[:, :-1] # Due to the output format of the plate reader, there is an extra column with empty values.\n",
    "    abs_df.loc[i] = [ms_time[0], ms_time[1], time_diff, file, abs_measurement]\n",
    "    print(np.shape(abs_df['abs_measurements'][i]))\n",
    "print(abs_df)"
   ]
  },
  {
   "cell_type": "code",
   "execution_count": 21,
   "id": "e7c23c00",
   "metadata": {},
   "outputs": [
    {
     "name": "stdout",
     "output_type": "stream",
     "text": [
      "(8, 12)\n",
      "      0      1      2      3    4       5       6    7    8    9    10   11\n",
      "0    #42    #42    #42    #51  #51     #51     #63  #63  #63  #01  #01  #01\n",
      "1    #22    #22    #22    #23  #23     #23     #24  #24  #24  #28  #28  #28\n",
      "2    #31    #31    #31    #44  #44     #44     #46  #46  #46  #47  #47  #47\n",
      "3    #50    #50    #50    #52  #52     #52     #55  #55  #55  #59  #59  #59\n",
      "4    #05    #05    #05    #08  #08     #08     #12  #12  #12  #19  #19  #19\n",
      "5    #25    #25    #25    #32  #32     #32     #38  #38  #38  #45  #45  #45\n",
      "6    NaN    NaN    NaN    #56  #56     #56     #58  #58  #58  #02  #02  #02\n",
      "7  BLANK  BLANK  2nmol  2nmol  NaN  10nmol  10nmol  NaN  NaN  NaN  NaN  NaN\n",
      "      0      1      2      3      4      5      6      7      8      9   \\\n",
      "0  0.072  0.051  0.083  0.065  0.064  0.066  0.066  0.067  0.076  0.132   \n",
      "1  0.063  0.062  0.061  0.062  0.063  0.062  0.064  0.063  0.064  0.070   \n",
      "2  0.062  0.064  0.062  0.062  0.061  0.061  0.062  0.063  0.063  0.064   \n",
      "3  0.061  0.061  0.061  0.063  0.060  0.061  0.062  0.061  0.061  0.064   \n",
      "4  0.063  0.063  0.064  0.067  0.064  0.064  0.063  0.063  0.063  0.062   \n",
      "5  0.066  0.062  0.063  0.063  0.064  0.062  0.075  0.074  0.065  0.063   \n",
      "6  0.045  0.045  0.047  0.063  0.062  0.063  0.068  0.076  0.064  0.066   \n",
      "7  0.056  0.057  0.139  0.136  0.046  0.504  0.493  0.045  0.045  0.045   \n",
      "\n",
      "      10     11  \n",
      "0  0.135  0.138  \n",
      "1  0.063  0.065  \n",
      "2  0.064  0.065  \n",
      "3  0.062  0.063  \n",
      "4  0.064  0.065  \n",
      "5  0.063  0.064  \n",
      "6  0.065  0.066  \n",
      "7  0.046  0.045  \n"
     ]
    }
   ],
   "source": [
    "# Next up, is getting the arrangement of the samples on the plate\n",
    "plate_arr = pd.read_csv('plate_arrangements.csv', sep=',', dtype = str)\n",
    "plate_arr = plate_arr.iloc[:, 1:] # For easy navigation, the first column is removed\n",
    "plate_arr.columns = [int(col_num)-1 for col_num in plate_arr.columns] # The previous step also means that the column names need to be updated\n",
    "\n",
    "# The dataframe of the well locations is now in exactly the same shape as the dataframes used for storing the absorbance measures\n",
    "print(np.shape(plate_arr))\n",
    "\n",
    "print(plate_arr)\n",
    "print(abs_df['abs_measurements'][0])\n"
   ]
  },
  {
   "cell_type": "code",
   "execution_count": 22,
   "id": "104774fb",
   "metadata": {},
   "outputs": [
    {
     "name": "stdout",
     "output_type": "stream",
     "text": [
      "Total number of unique samples in dataset: 27\n",
      "{'#01_r0': [0.132, 0.162, 0.189, 0.214, 0.241, 0.268, 0.297, 0.323, 0.352, 0.377, 0.403, 0.429, 0.454, 0.691, 0.792], '#01_r1': [0.135, 0.165, 0.191, 0.216, 0.244, 0.271, 0.3, 0.327, 0.355, 0.381, 0.408, 0.434, 0.459, 0.702, 0.805], '#01_r2': [0.138, 0.168, 0.196, 0.221, 0.25, 0.277, 0.306, 0.333, 0.362, 0.388, 0.414, 0.441, 0.466, 0.709, 0.814], '#02_r0': [0.066, 0.066, 0.066, 0.067, 0.067, 0.067, 0.068, 0.068, 0.068, 0.068, 0.068, 0.069, 0.069, 0.071, 0.072], '#02_r1': [0.065, 0.065, 0.065, 0.065, 0.065, 0.065, 0.066, 0.066, 0.066, 0.067, 0.067, 0.067, 0.067, 0.069, 0.07], '#02_r2': [0.066, 0.067, 0.068, 0.068, 0.068, 0.068, 0.068, 0.068, 0.069, 0.069, 0.068, 0.068, 0.068, 0.07, 0.071], '#05_r0': [0.063, 0.065, 0.066, 0.067, 0.068, 0.07, 0.071, 0.072, 0.073, 0.075, 0.076, 0.077, 0.079, 0.093, 0.102], '#05_r1': [0.063, 0.064, 0.065, 0.066, 0.067, 0.068, 0.07, 0.071, 0.072, 0.074, 0.075, 0.076, 0.078, 0.092, 0.101], '#05_r2': [0.064, 0.065, 0.066, 0.068, 0.069, 0.071, 0.073, 0.074, 0.076, 0.077, 0.078, 0.079, 0.081, 0.095, 0.104], '#08_r0': [0.067, 0.068, 0.068, 0.069, 0.07, 0.07, 0.071, 0.072, 0.073, 0.074, 0.075, 0.076, 0.077, 0.088, 0.095], '#08_r1': [0.064, 0.065, 0.066, 0.067, 0.068, 0.069, 0.069, 0.07, 0.071, 0.072, 0.073, 0.074, 0.075, 0.087, 0.094], '#08_r2': [0.064, 0.064, 0.065, 0.066, 0.066, 0.067, 0.068, 0.069, 0.07, 0.071, 0.072, 0.073, 0.074, 0.085, 0.092], '#12_r0': [0.063, 0.063, 0.064, 0.064, 0.064, 0.065, 0.065, 0.065, 0.066, 0.066, 0.067, 0.067, 0.068, 0.072, 0.075], '#12_r1': [0.063, 0.064, 0.064, 0.064, 0.065, 0.065, 0.066, 0.067, 0.067, 0.068, 0.068, 0.069, 0.069, 0.075, 0.079], '#12_r2': [0.063, 0.063, 0.065, 0.065, 0.065, 0.066, 0.066, 0.067, 0.067, 0.067, 0.068, 0.068, 0.069, 0.074, 0.077], '#19_r0': [0.062, 0.062, 0.062, 0.062, 0.062, 0.062, 0.062, 0.062, 0.062, 0.062, 0.062, 0.062, 0.063, 0.063, 0.063], '#19_r1': [0.064, 0.064, 0.064, 0.064, 0.064, 0.064, 0.064, 0.064, 0.064, 0.064, 0.064, 0.064, 0.064, 0.065, 0.065], '#19_r2': [0.065, 0.065, 0.065, 0.066, 0.066, 0.066, 0.066, 0.066, 0.066, 0.066, 0.066, 0.066, 0.066, 0.067, 0.067], '#22_r0': [0.063, 0.065, 0.064, 0.065, 0.065, 0.065, 0.065, 0.065, 0.065, 0.065, 0.065, 0.065, 0.065, 0.065, 0.065], '#22_r1': [0.062, 0.062, 0.062, 0.062, 0.063, 0.063, 0.063, 0.063, 0.063, 0.063, 0.063, 0.063, 0.064, 0.064, 0.064], '#22_r2': [0.061, 0.062, 0.062, 0.062, 0.062, 0.062, 0.062, 0.062, 0.062, 0.062, 0.062, 0.062, 0.062, 0.063, 0.063], '#23_r0': [0.062, 0.063, 0.063, 0.063, 0.063, 0.063, 0.063, 0.063, 0.063, 0.063, 0.063, 0.063, 0.063, 0.063, 0.064], '#23_r1': [0.063, 0.063, 0.063, 0.063, 0.063, 0.063, 0.064, 0.064, 0.064, 0.064, 0.064, 0.064, 0.064, 0.064, 0.064], '#23_r2': [0.062, 0.062, 0.063, 0.063, 0.063, 0.063, 0.063, 0.063, 0.063, 0.063, 0.063, 0.063, 0.063, 0.063, 0.064], '#24_r0': [0.064, 0.065, 0.066, 0.067, 0.068, 0.07, 0.071, 0.073, 0.074, 0.076, 0.077, 0.079, 0.081, 0.101, 0.115], '#24_r1': [0.063, 0.064, 0.065, 0.066, 0.067, 0.068, 0.07, 0.071, 0.073, 0.074, 0.076, 0.077, 0.079, 0.099, 0.113], '#24_r2': [0.064, 0.065, 0.066, 0.068, 0.069, 0.07, 0.071, 0.073, 0.075, 0.076, 0.078, 0.08, 0.081, 0.102, 0.117], '#25_r0': [0.066, 0.067, 0.066, 0.066, 0.067, 0.066, 0.067, 0.067, 0.067, 0.067, 0.067, 0.067, 0.067, 0.067, 0.067], '#25_r1': [0.062, 0.062, 0.062, 0.062, 0.063, 0.063, 0.063, 0.064, 0.064, 0.064, 0.064, 0.064, 0.064, 0.064, 0.064], '#25_r2': [0.063, 0.063, 0.063, 0.063, 0.063, 0.063, 0.063, 0.063, 0.064, 0.064, 0.064, 0.064, 0.064, 0.064, 0.064], '#28_r0': [0.07, 0.067, 0.065, 0.064, 0.084, 0.063, 0.076, 0.069, 0.063, 0.07, 0.063, 0.063, 0.063, 0.063, 0.064], '#28_r1': [0.063, 0.063, 0.063, 0.063, 0.063, 0.063, 0.063, 0.064, 0.064, 0.064, 0.064, 0.064, 0.064, 0.065, 0.065], '#28_r2': [0.065, 0.065, 0.065, 0.065, 0.065, 0.065, 0.065, 0.065, 0.066, 0.065, 0.065, 0.065, 0.066, 0.066, 0.066], '#31_r0': [0.062, 0.063, 0.063, 0.063, 0.063, 0.063, 0.063, 0.063, 0.063, 0.064, 0.064, 0.064, 0.064, 0.065, 0.066], '#31_r1': [0.064, 0.065, 0.065, 0.065, 0.065, 0.065, 0.065, 0.065, 0.065, 0.065, 0.065, 0.066, 0.067, 0.068, 0.069], '#31_r2': [0.062, 0.062, 0.062, 0.062, 0.062, 0.063, 0.063, 0.063, 0.063, 0.063, 0.063, 0.063, 0.063, 0.064, 0.065], '#32_r0': [0.063, 0.063, 0.064, 0.064, 0.064, 0.064, 0.064, 0.064, 0.064, 0.064, 0.064, 0.064, 0.064, 0.065, 0.065], '#32_r1': [0.064, 0.064, 0.064, 0.064, 0.064, 0.064, 0.064, 0.064, 0.064, 0.064, 0.064, 0.065, 0.065, 0.065, 0.065], '#32_r2': [0.062, 0.062, 0.062, 0.062, 0.063, 0.063, 0.063, 0.063, 0.064, 0.064, 0.064, 0.064, 0.064, 0.066, 0.067], '#38_r0': [0.075, 0.09, 0.103, 0.117, 0.131, 0.146, 0.162, 0.177, 0.193, 0.207, 0.223, 0.239, 0.253, 0.417, 0.511], '#38_r1': [0.074, 0.088, 0.101, 0.114, 0.129, 0.144, 0.16, 0.175, 0.191, 0.206, 0.222, 0.238, 0.253, 0.418, 0.512], '#38_r2': [0.065, 0.076, 0.088, 0.102, 0.116, 0.129, 0.146, 0.161, 0.177, 0.192, 0.207, 0.222, 0.237, 0.403, 0.496], '#42_r0': [0.072, 0.076, 0.08, 0.083, 0.089, 0.098, 0.102, 0.105, 0.11, 0.116, 0.121, 0.125, 0.13, 0.185, 0.222], '#42_r1': [0.051, 0.052, 0.052, 0.052, 0.051, 0.052, 0.051, 0.051, 0.051, 0.052, 0.051, 0.051, 0.052, 0.051, 0.051], '#42_r2': [0.083, 0.087, 0.089, 0.093, 0.097, 0.102, 0.106, 0.111, 0.116, 0.121, 0.126, 0.131, 0.136, 0.2, 0.244], '#44_r0': [0.062, 0.062, 0.062, 0.062, 0.063, 0.063, 0.063, 0.063, 0.063, 0.064, 0.064, 0.064, 0.064, 0.066, 0.067], '#44_r1': [0.061, 0.062, 0.062, 0.062, 0.062, 0.063, 0.063, 0.063, 0.063, 0.063, 0.063, 0.064, 0.064, 0.066, 0.067], '#44_r2': [0.061, 0.062, 0.062, 0.064, 0.064, 0.065, 0.065, 0.065, 0.066, 0.066, 0.066, 0.066, 0.067, 0.068, 0.07], '#45_r0': [0.063, 0.063, 0.063, 0.064, 0.064, 0.064, 0.065, 0.065, 0.065, 0.066, 0.066, 0.068, 0.069, 0.074, 0.078], '#45_r1': [0.063, 0.063, 0.063, 0.063, 0.064, 0.064, 0.064, 0.065, 0.065, 0.065, 0.066, 0.066, 0.067, 0.072, 0.076], '#45_r2': [0.064, 0.064, 0.064, 0.064, 0.065, 0.065, 0.065, 0.066, 0.066, 0.067, 0.067, 0.068, 0.068, 0.074, 0.077], '#46_r0': [0.062, 0.063, 0.063, 0.063, 0.063, 0.063, 0.063, 0.063, 0.063, 0.063, 0.063, 0.063, 0.063, 0.064, 0.064], '#46_r1': [0.063, 0.063, 0.063, 0.063, 0.063, 0.063, 0.063, 0.063, 0.063, 0.063, 0.063, 0.063, 0.063, 0.064, 0.064], '#46_r2': [0.063, 0.063, 0.063, 0.063, 0.063, 0.064, 0.064, 0.064, 0.064, 0.064, 0.064, 0.064, 0.064, 0.065, 0.065], '#47_r0': [0.064, 0.065, 0.065, 0.066, 0.067, 0.068, 0.069, 0.07, 0.071, 0.072, 0.073, 0.074, 0.075, 0.087, 0.096], '#47_r1': [0.064, 0.065, 0.065, 0.066, 0.067, 0.068, 0.069, 0.069, 0.07, 0.071, 0.072, 0.073, 0.074, 0.084, 0.091], '#47_r2': [0.065, 0.066, 0.066, 0.067, 0.067, 0.068, 0.069, 0.07, 0.071, 0.072, 0.074, 0.075, 0.076, 0.085, 0.092], '#50_r0': [0.061, 0.062, 0.062, 0.063, 0.063, 0.063, 0.063, 0.063, 0.063, 0.063, 0.063, 0.063, 0.063, 0.064, 0.063], '#50_r1': [0.061, 0.062, 0.061, 0.062, 0.062, 0.062, 0.063, 0.063, 0.063, 0.063, 0.063, 0.063, 0.064, 0.064, 0.064], '#50_r2': [0.061, 0.061, 0.061, 0.062, 0.062, 0.062, 0.062, 0.062, 0.062, 0.062, 0.062, 0.062, 0.062, 0.063, 0.063], '#51_r0': [0.065, 0.067, 0.068, 0.069, 0.071, 0.072, 0.073, 0.074, 0.076, 0.077, 0.079, 0.08, 0.081, 0.098, 0.11], '#51_r1': [0.064, 0.065, 0.066, 0.067, 0.068, 0.069, 0.07, 0.071, 0.073, 0.074, 0.076, 0.078, 0.079, 0.096, 0.108], '#51_r2': [0.066, 0.067, 0.069, 0.069, 0.07, 0.072, 0.073, 0.074, 0.075, 0.076, 0.078, 0.079, 0.081, 0.098, 0.109], '#52_r0': [0.063, 0.064, 0.064, 0.064, 0.064, 0.064, 0.064, 0.064, 0.064, 0.064, 0.064, 0.064, 0.064, 0.064, 0.064], '#52_r1': [0.06, 0.061, 0.061, 0.061, 0.061, 0.061, 0.061, 0.061, 0.061, 0.061, 0.061, 0.061, 0.061, 0.062, 0.062], '#52_r2': [0.061, 0.061, 0.062, 0.062, 0.062, 0.063, 0.063, 0.063, 0.063, 0.063, 0.063, 0.063, 0.063, 0.063, 0.063], '#55_r0': [0.062, 0.064, 0.064, 0.064, 0.064, 0.064, 0.064, 0.064, 0.064, 0.064, 0.064, 0.064, 0.064, 0.064, 0.064], '#55_r1': [0.061, 0.062, 0.061, 0.062, 0.062, 0.061, 0.062, 0.062, 0.062, 0.062, 0.062, 0.062, 0.062, 0.062, 0.062], '#55_r2': [0.061, 0.061, 0.061, 0.061, 0.061, 0.061, 0.061, 0.062, 0.062, 0.062, 0.062, 0.062, 0.062, 0.062, 0.062], '#56_r0': [0.063, 0.064, 0.064, 0.064, 0.064, 0.064, 0.064, 0.064, 0.064, 0.064, 0.064, 0.064, 0.065, 0.065, 0.066], '#56_r1': [0.062, 0.062, 0.062, 0.063, 0.063, 0.063, 0.063, 0.063, 0.063, 0.063, 0.063, 0.065, 0.065, 0.066, 0.066], '#56_r2': [0.063, 0.063, 0.063, 0.063, 0.064, 0.064, 0.064, 0.064, 0.064, 0.064, 0.064, 0.064, 0.064, 0.065, 0.065], '#58_r0': [0.068, 0.07, 0.071, 0.071, 0.071, 0.072, 0.072, 0.072, 0.073, 0.074, 0.074, 0.074, 0.075, 0.081, 0.086], '#58_r1': [0.076, 0.073, 0.071, 0.068, 0.068, 0.068, 0.07, 0.07, 0.071, 0.071, 0.071, 0.071, 0.072, 0.075, 0.077], '#58_r2': [0.064, 0.065, 0.065, 0.065, 0.066, 0.066, 0.066, 0.066, 0.067, 0.067, 0.067, 0.068, 0.068, 0.071, 0.073], '#59_r0': [0.064, 0.074, 0.066, 0.067, 0.073, 0.069, 0.074, 0.074, 0.075, 0.075, 0.076, 0.075, 0.078, 0.088, 0.095], '#59_r1': [0.062, 0.063, 0.063, 0.064, 0.063, 0.063, 0.063, 0.063, 0.063, 0.063, 0.063, 0.063, 0.063, 0.064, 0.064], '#59_r2': [0.063, 0.063, 0.063, 0.063, 0.063, 0.063, 0.062, 0.062, 0.063, 0.063, 0.063, 0.064, 0.064, 0.064, 0.064], '#63_r0': [0.066, 0.069, 0.071, 0.073, 0.076, 0.078, 0.081, 0.083, 0.086, 0.089, 0.091, 0.094, 0.097, 0.132, 0.156], '#63_r1': [0.067, 0.069, 0.071, 0.073, 0.076, 0.078, 0.082, 0.084, 0.087, 0.09, 0.093, 0.096, 0.099, 0.135, 0.159], '#63_r2': [0.076, 0.108, 0.073, 0.076, 0.078, 0.081, 0.084, 0.087, 0.09, 0.093, 0.096, 0.099, 0.102, 0.141, 0.167], '10nmol_r0': [0.504, 0.512, 0.518, 0.526, 0.533, 0.536, 0.537, 0.538, 0.538, 0.538, 0.538, 0.539, 0.539, 0.542, 0.543], '10nmol_r1': [0.493, 0.51, 0.521, 0.532, 0.544, 0.552, 0.558, 0.564, 0.569, 0.574, 0.579, 0.585, 0.59, 0.643, 0.676], '2nmol_r0': [0.139, 0.141, 0.142, 0.144, 0.146, 0.146, 0.147, 0.147, 0.148, 0.148, 0.149, 0.151, 0.151, 0.155, 0.157], '2nmol_r1': [0.136, 0.138, 0.139, 0.14, 0.141, 0.142, 0.143, 0.143, 0.143, 0.143, 0.144, 0.144, 0.144, 0.145, 0.145], 'BLANK_r0': [0.056, 0.056, 0.056, 0.056, 0.056, 0.056, 0.057, 0.057, 0.057, 0.057, 0.057, 0.057, 0.057, 0.057, 0.057], 'BLANK_r1': [0.057, 0.058, 0.057, 0.057, 0.057, 0.057, 0.057, 0.057, 0.058, 0.058, 0.058, 0.058, 0.058, 0.058, 0.058]}\n"
     ]
    }
   ],
   "source": [
    "# Extracting the unique values out of the plate arragements\n",
    "samples = plate_arr.values.flatten()\n",
    "samples = np.unique(samples.astype(str)) \n",
    "samples = np.delete(samples, np.where(samples == 'nan'))\n",
    "print(f'Total number of unique samples in dataset: {len(samples)-3}') # Not including the baseline and standard measurements\n",
    "# After extracting the unique values, it is possible to create a disctionary where each sample is matched with the corresponding absorbance measure\n",
    "sample_dict = {}\n",
    "for sample in samples:\n",
    "    coordinates = np.array(np.where(plate_arr == sample)).T\n",
    "    for i, coord in enumerate(coordinates):\n",
    "        sample_name = sample + '_r' + str(i)\n",
    "        sample_dict[sample_name] = [measurement[coord[1]][coord[0]] for measurement in abs_df['abs_measurements']]\n",
    "print(sample_dict)"
   ]
  },
  {
   "cell_type": "code",
   "execution_count": 23,
   "id": "2e736f12",
   "metadata": {},
   "outputs": [
    {
     "name": "stdout",
     "output_type": "stream",
     "text": [
      "     sample  Dilution(%)  OD (raw)  OD (stadardized)\n",
      "0        42            5     0.079             0.048\n",
      "1        51            5     0.107             0.076\n",
      "2        63            5     0.120             0.092\n",
      "3         1            5     0.129             0.101\n",
      "4        22            5     0.122             0.094\n",
      "5        23            5     0.138             0.110\n",
      "6        24            5     0.108             0.080\n",
      "7        28            5     0.107             0.079\n",
      "8        31            5     0.101             0.073\n",
      "9        44            5     0.121             0.093\n",
      "10       46            5     0.112             0.084\n",
      "11       47            5     0.126             0.098\n",
      "12       50            5     0.126             0.098\n",
      "13       52            5     0.117             0.086\n",
      "14       55            5     0.107             0.076\n",
      "15       59            5     0.110             0.079\n",
      "16        5            5     0.121             0.090\n",
      "17        8            5     0.130             0.099\n",
      "18       12            5     0.067             0.036\n",
      "19       19            5     0.050             0.022\n",
      "20       25            5     0.096             0.065\n",
      "21       32            5     0.107             0.076\n",
      "22       38            5     0.116             0.088\n",
      "23       45            5     0.110             0.082\n",
      "24       48            5     0.108             0.080\n",
      "25       56            5     0.100             0.072\n",
      "26       58            5     0.084             0.056\n",
      "27        2            5     0.108             0.077\n",
      "28  B (OD1)            5     0.028             0.000\n",
      "29  B (OD2)            5     0.031             0.000\n"
     ]
    }
   ],
   "source": [
    "# The final dataframe that needs to be loaded are the OD measures for each sample\n",
    "\n",
    "OD_measures = pd.read_csv('OD_standerdized.csv', sep=',')\n",
    "print(OD_measures)\n"
   ]
  },
  {
   "cell_type": "markdown",
   "id": "3f291d90",
   "metadata": {},
   "source": [
    "## Step 2: Checking the baseline absorbance \n",
    "\n",
    "The data currently stored in sample_dict cannot be used yet. The following data preprocessing steps need to be taken first:\n",
    "\n",
    "1. Check the baseline absorbance and check whether the measured samples need to be accounted for a changing baseline\n",
    "2. Remove any values above the 10nmol standard. "
   ]
  },
  {
   "cell_type": "code",
   "execution_count": 24,
   "id": "483cc8b8",
   "metadata": {},
   "outputs": [
    {
     "data": {
      "text/plain": [
       "[<matplotlib.lines.Line2D at 0x7f53ef47e700>]"
      ]
     },
     "execution_count": 24,
     "metadata": {},
     "output_type": "execute_result"
    },
    {
     "data": {
      "image/png": "[encoded data removed]",
      "text/plain": [
       "<Figure size 432x288 with 1 Axes>"
      ]
     },
     "metadata": {
      "needs_background": "light"
     },
     "output_type": "display_data"
    }
   ],
   "source": [
    "plt.plot(abs_df['absolute_diff'], sample_dict['BLANK_r0'])\n",
    "plt.plot(abs_df['absolute_diff'], sample_dict['BLANK_r1'])"
   ]
  },
  {
   "cell_type": "markdown",
   "id": "828b8c4d",
   "metadata": {},
   "source": [
    "The plots shown above show the standard of the blank well. This should show a flat horizontal line. If they are not flat, this would be a possible indication that something went wrong with the measurements. Before moving on, please ensure these curves are in the correct shape, or if they are not, that the unusual shape can be explained. \n",
    "\n",
    "If the blank standard is at it should be, the next step is checking whether there are any datapoints that show an obsorbance which is higher than the 10nmol standard. Measurements above this standard are not reliable and thus cannot be used as input for the ART. Measurements of the same replicate taken before the absorbance exceeded the standard can still be used as training data for the ART."
   ]
  },
  {
   "cell_type": "code",
   "execution_count": 25,
   "id": "86c54285",
   "metadata": {},
   "outputs": [
    {
     "name": "stdout",
     "output_type": "stream",
     "text": [
      "Shortening the time series of sample #01_r0 to length 13\n",
      "Shortening the time series of sample #01_r1 to length 13\n",
      "Shortening the time series of sample #01_r2 to length 13\n"
     ]
    }
   ],
   "source": [
    "def correct_sample_by_standard(standard, sample, sample_name):\n",
    "    rest = np.subtract(standard, sample)\n",
    "    corrected_sample = sample\n",
    "    for i, d_measurement in enumerate(rest):\n",
    "        if d_measurement < 0:  # If d_measurement is less then 0, it means that absorbance measure in the sample has exceeded the 10 nmol standard\n",
    "            corrected_sample = sample[:i]\n",
    "            print(f'Shortening the time series of sample {sample_name} to length {len(corrected_sample)}')\n",
    "            break\n",
    "    return corrected_sample\n",
    "\n",
    "avg_10nmol_standard = np.average([sample_dict['10nmol_r0'],sample_dict['10nmol_r1']], axis=0)\n",
    "\n",
    "for sample, measurement in sample_dict.items():\n",
    "    if ('#' in sample): # Only check the actual samples and skip the standard and baseline measurements\n",
    "        sample_dict[sample] = correct_sample_by_standard(avg_10nmol_standard, measurement, sample)\n"
   ]
  },
  {
   "cell_type": "markdown",
   "id": "5564d541",
   "metadata": {},
   "source": [
    "## Step 3: Determine alpha-amylase activity of each sample\n",
    "\n",
    "The alpha-amylase activity of a sample is determined by the change in absorbance over time. This change in absorbance is linear with respect to time. Therefore, it is possible to fit a linear curve to each sample in order to abtain a function in the form of $absorbance = a*t+b$, where $a$ is the change in absorbance over time (i.e. the alpha-amylase activity), $t$ is the time and $b$ is some offset. \n",
    "\n",
    "Under perfect conditions, $b$ would be 0. However, preparing the samples takes some time. This means that at the time of the first measurement, some samples already had the time to **X** for about 15 minutes while others were only prepared one minute in advance. This means that $b$ will not be 0 for most of our samples.\n",
    "\n",
    "For our analysis, the exact value of $b$ is irrelevant as the main interest lies within the change in absobance (i.e. $a$). The value of $b$ is only needed in order to fit the linear curve better to the datapoints. Once the curve has been fitted, the $a$ value is used and interpreted as the alpha-amylase activity of the sample. \n",
    "\n",
    "It is however important to first validate wether the absorbance measures indeed follow a linear pattern with respect to time. "
   ]
  },
  {
   "cell_type": "code",
   "execution_count": 26,
   "id": "521e7ab4",
   "metadata": {},
   "outputs": [
    {
     "name": "stdout",
     "output_type": "stream",
     "text": [
      "Sample #01_r0 fits the linear curve with an R^2 of 0.9996609351966532\n",
      "Sample #01_r1 fits the linear curve with an R^2 of 0.9997187305006582\n",
      "Sample #01_r2 fits the linear curve with an R^2 of 0.9996189127835107\n",
      "Sample #02_r0 fits the linear curve with an R^2 of 0.9556633051067814\n",
      "Sample #02_r1 fits the linear curve with an R^2 of 0.9523939808481529\n",
      "The absorbance measure of sample #02_r2:\n",
      "[0.066, 0.067, 0.068, 0.068, 0.068, 0.068, 0.068, 0.068, 0.069, 0.069, 0.068, 0.068, 0.068, 0.07, 0.071]\n",
      "Sample #05_r0 fits the linear curve with an R^2 of 0.9993933118875061\n",
      "Sample #05_r1 fits the linear curve with an R^2 of 0.9988495369888095\n",
      "Sample #05_r2 fits the linear curve with an R^2 of 0.9964400611970603\n",
      "Sample #08_r0 fits the linear curve with an R^2 of 0.9949199765376235\n",
      "Sample #08_r1 fits the linear curve with an R^2 of 0.9967184302164831\n",
      "Sample #08_r2 fits the linear curve with an R^2 of 0.9961541434359288\n",
      "Sample #12_r0 fits the linear curve with an R^2 of 0.9922913064598073\n",
      "Sample #12_r1 fits the linear curve with an R^2 of 0.9951878647940798\n",
      "Sample #12_r2 fits the linear curve with an R^2 of 0.9889637750417828\n",
      "The absorbance measure of sample #19_r0:\n",
      "[0.062, 0.062, 0.062, 0.062, 0.062, 0.062, 0.062, 0.062, 0.062, 0.062, 0.062, 0.062, 0.063, 0.063, 0.063]\n",
      "The absorbance measure of sample #19_r1:\n",
      "[0.064, 0.064, 0.064, 0.064, 0.064, 0.064, 0.064, 0.064, 0.064, 0.064, 0.064, 0.064, 0.064, 0.065, 0.065]\n",
      "The absorbance measure of sample #19_r2:\n",
      "[0.065, 0.065, 0.065, 0.066, 0.066, 0.066, 0.066, 0.066, 0.066, 0.066, 0.066, 0.066, 0.066, 0.067, 0.067]\n",
      "The absorbance measure of sample #22_r0:\n",
      "[0.063, 0.065, 0.064, 0.065, 0.065, 0.065, 0.065, 0.065, 0.065, 0.065, 0.065, 0.065, 0.065, 0.065, 0.065]\n",
      "The absorbance measure of sample #22_r1:\n",
      "[0.062, 0.062, 0.062, 0.062, 0.063, 0.063, 0.063, 0.063, 0.063, 0.063, 0.063, 0.063, 0.064, 0.064, 0.064]\n",
      "The absorbance measure of sample #22_r2:\n",
      "[0.061, 0.062, 0.062, 0.062, 0.062, 0.062, 0.062, 0.062, 0.062, 0.062, 0.062, 0.062, 0.062, 0.063, 0.063]\n",
      "The absorbance measure of sample #23_r0:\n",
      "[0.062, 0.063, 0.063, 0.063, 0.063, 0.063, 0.063, 0.063, 0.063, 0.063, 0.063, 0.063, 0.063, 0.063, 0.064]\n",
      "The absorbance measure of sample #23_r1:\n",
      "[0.063, 0.063, 0.063, 0.063, 0.063, 0.063, 0.064, 0.064, 0.064, 0.064, 0.064, 0.064, 0.064, 0.064, 0.064]\n",
      "The absorbance measure of sample #23_r2:\n",
      "[0.062, 0.062, 0.063, 0.063, 0.063, 0.063, 0.063, 0.063, 0.063, 0.063, 0.063, 0.063, 0.063, 0.063, 0.064]\n",
      "Sample #24_r0 fits the linear curve with an R^2 of 0.992451495086095\n",
      "Sample #24_r1 fits the linear curve with an R^2 of 0.9901346822283272\n",
      "Sample #24_r2 fits the linear curve with an R^2 of 0.9916699354731326\n",
      "The absorbance measure of sample #25_r0:\n",
      "[0.066, 0.067, 0.066, 0.066, 0.067, 0.066, 0.067, 0.067, 0.067, 0.067, 0.067, 0.067, 0.067, 0.067, 0.067]\n",
      "The absorbance measure of sample #25_r1:\n",
      "[0.062, 0.062, 0.062, 0.062, 0.063, 0.063, 0.063, 0.064, 0.064, 0.064, 0.064, 0.064, 0.064, 0.064, 0.064]\n",
      "The absorbance measure of sample #25_r2:\n",
      "[0.063, 0.063, 0.063, 0.063, 0.063, 0.063, 0.063, 0.063, 0.064, 0.064, 0.064, 0.064, 0.064, 0.064, 0.064]\n",
      "The absorbance measure of sample #28_r0:\n",
      "[0.07, 0.067, 0.065, 0.064, 0.084, 0.063, 0.076, 0.069, 0.063, 0.07, 0.063, 0.063, 0.063, 0.063, 0.064]\n",
      "The absorbance measure of sample #28_r1:\n",
      "[0.063, 0.063, 0.063, 0.063, 0.063, 0.063, 0.063, 0.064, 0.064, 0.064, 0.064, 0.064, 0.064, 0.065, 0.065]\n",
      "The absorbance measure of sample #28_r2:\n",
      "[0.065, 0.065, 0.065, 0.065, 0.065, 0.065, 0.065, 0.065, 0.066, 0.065, 0.065, 0.065, 0.066, 0.066, 0.066]\n",
      "The absorbance measure of sample #31_r0:\n",
      "[0.062, 0.063, 0.063, 0.063, 0.063, 0.063, 0.063, 0.063, 0.063, 0.064, 0.064, 0.064, 0.064, 0.065, 0.066]\n",
      "The absorbance measure of sample #31_r1:\n",
      "[0.064, 0.065, 0.065, 0.065, 0.065, 0.065, 0.065, 0.065, 0.065, 0.065, 0.065, 0.066, 0.067, 0.068, 0.069]\n",
      "The absorbance measure of sample #31_r2:\n",
      "[0.062, 0.062, 0.062, 0.062, 0.062, 0.063, 0.063, 0.063, 0.063, 0.063, 0.063, 0.063, 0.063, 0.064, 0.065]\n",
      "The absorbance measure of sample #32_r0:\n",
      "[0.063, 0.063, 0.064, 0.064, 0.064, 0.064, 0.064, 0.064, 0.064, 0.064, 0.064, 0.064, 0.064, 0.065, 0.065]\n",
      "The absorbance measure of sample #32_r1:\n",
      "[0.064, 0.064, 0.064, 0.064, 0.064, 0.064, 0.064, 0.064, 0.064, 0.064, 0.064, 0.065, 0.065, 0.065, 0.065]\n",
      "Sample #32_r2 fits the linear curve with an R^2 of 0.9553393373838814\n",
      "Sample #38_r0 fits the linear curve with an R^2 of 0.9995377650250532\n",
      "Sample #38_r1 fits the linear curve with an R^2 of 0.9994454881064896\n",
      "Sample #38_r2 fits the linear curve with an R^2 of 0.9994097839344801\n",
      "Sample #42_r0 fits the linear curve with an R^2 of 0.9989261270100905\n",
      "The absorbance measure of sample #42_r1:\n",
      "[0.051, 0.052, 0.052, 0.052, 0.051, 0.052, 0.051, 0.051, 0.051, 0.052, 0.051, 0.051, 0.052, 0.051, 0.051]\n",
      "Sample #42_r2 fits the linear curve with an R^2 of 0.9931878354988362\n",
      "Sample #44_r0 fits the linear curve with an R^2 of 0.9645428636148419\n",
      "Sample #44_r1 fits the linear curve with an R^2 of 0.9613647603600255\n",
      "The absorbance measure of sample #44_r2:\n",
      "[0.061, 0.062, 0.062, 0.064, 0.064, 0.065, 0.065, 0.065, 0.066, 0.066, 0.066, 0.066, 0.067, 0.068, 0.07]\n",
      "Sample #45_r0 fits the linear curve with an R^2 of 0.9769659710720006\n",
      "Sample #45_r1 fits the linear curve with an R^2 of 0.9772032198295886\n",
      "Sample #45_r2 fits the linear curve with an R^2 of 0.9843674060963593\n",
      "The absorbance measure of sample #46_r0:\n",
      "[0.062, 0.063, 0.063, 0.063, 0.063, 0.063, 0.063, 0.063, 0.063, 0.063, 0.063, 0.063, 0.063, 0.064, 0.064]\n",
      "The absorbance measure of sample #46_r1:\n",
      "[0.063, 0.063, 0.063, 0.063, 0.063, 0.063, 0.063, 0.063, 0.063, 0.063, 0.063, 0.063, 0.063, 0.064, 0.064]\n",
      "The absorbance measure of sample #46_r2:\n",
      "[0.063, 0.063, 0.063, 0.063, 0.063, 0.064, 0.064, 0.064, 0.064, 0.064, 0.064, 0.064, 0.064, 0.065, 0.065]\n",
      "Sample #47_r0 fits the linear curve with an R^2 of 0.995506343727216\n",
      "Sample #47_r1 fits the linear curve with an R^2 of 0.9969844128102751\n",
      "Sample #47_r2 fits the linear curve with an R^2 of 0.9929320681079065\n",
      "The absorbance measure of sample #50_r0:\n",
      "[0.061, 0.062, 0.062, 0.063, 0.063, 0.063, 0.063, 0.063, 0.063, 0.063, 0.063, 0.063, 0.063, 0.064, 0.063]\n",
      "The absorbance measure of sample #50_r1:\n",
      "[0.061, 0.062, 0.061, 0.062, 0.062, 0.062, 0.063, 0.063, 0.063, 0.063, 0.063, 0.063, 0.064, 0.064, 0.064]\n",
      "The absorbance measure of sample #50_r2:\n",
      "[0.061, 0.061, 0.061, 0.062, 0.062, 0.062, 0.062, 0.062, 0.062, 0.062, 0.062, 0.062, 0.062, 0.063, 0.063]\n",
      "Sample #51_r0 fits the linear curve with an R^2 of 0.9971171312596713\n",
      "Sample #51_r1 fits the linear curve with an R^2 of 0.9929171171159688\n",
      "Sample #51_r2 fits the linear curve with an R^2 of 0.9936258645783553\n",
      "The absorbance measure of sample #52_r0:\n",
      "[0.063, 0.064, 0.064, 0.064, 0.064, 0.064, 0.064, 0.064, 0.064, 0.064, 0.064, 0.064, 0.064, 0.064, 0.064]\n",
      "The absorbance measure of sample #52_r1:\n",
      "[0.06, 0.061, 0.061, 0.061, 0.061, 0.061, 0.061, 0.061, 0.061, 0.061, 0.061, 0.061, 0.061, 0.062, 0.062]\n",
      "The absorbance measure of sample #52_r2:\n",
      "[0.061, 0.061, 0.062, 0.062, 0.062, 0.063, 0.063, 0.063, 0.063, 0.063, 0.063, 0.063, 0.063, 0.063, 0.063]\n",
      "The absorbance measure of sample #55_r0:\n",
      "[0.062, 0.064, 0.064, 0.064, 0.064, 0.064, 0.064, 0.064, 0.064, 0.064, 0.064, 0.064, 0.064, 0.064, 0.064]\n",
      "The absorbance measure of sample #55_r1:\n",
      "[0.061, 0.062, 0.061, 0.062, 0.062, 0.061, 0.062, 0.062, 0.062, 0.062, 0.062, 0.062, 0.062, 0.062, 0.062]\n",
      "The absorbance measure of sample #55_r2:\n",
      "[0.061, 0.061, 0.061, 0.061, 0.061, 0.061, 0.061, 0.062, 0.062, 0.062, 0.062, 0.062, 0.062, 0.062, 0.062]\n",
      "The absorbance measure of sample #56_r0:\n",
      "[0.063, 0.064, 0.064, 0.064, 0.064, 0.064, 0.064, 0.064, 0.064, 0.064, 0.064, 0.064, 0.065, 0.065, 0.066]\n",
      "The absorbance measure of sample #56_r1:\n",
      "[0.062, 0.062, 0.062, 0.063, 0.063, 0.063, 0.063, 0.063, 0.063, 0.063, 0.063, 0.065, 0.065, 0.066, 0.066]\n",
      "The absorbance measure of sample #56_r2:\n",
      "[0.063, 0.063, 0.063, 0.063, 0.064, 0.064, 0.064, 0.064, 0.064, 0.064, 0.064, 0.064, 0.064, 0.065, 0.065]\n",
      "Sample #58_r0 fits the linear curve with an R^2 of 0.9840115312345171\n",
      "The absorbance measure of sample #58_r1:\n",
      "[0.076, 0.073, 0.071, 0.068, 0.068, 0.068, 0.07, 0.07, 0.071, 0.071, 0.071, 0.071, 0.072, 0.075, 0.077]\n",
      "Sample #58_r2 fits the linear curve with an R^2 of 0.9860613388936978\n",
      "The absorbance measure of sample #59_r0:\n",
      "[0.064, 0.074, 0.066, 0.067, 0.073, 0.069, 0.074, 0.074, 0.075, 0.075, 0.076, 0.075, 0.078, 0.088, 0.095]\n",
      "The absorbance measure of sample #59_r1:\n",
      "[0.062, 0.063, 0.063, 0.064, 0.063, 0.063, 0.063, 0.063, 0.063, 0.063, 0.063, 0.063, 0.063, 0.064, 0.064]\n",
      "The absorbance measure of sample #59_r2:\n",
      "[0.063, 0.063, 0.063, 0.063, 0.063, 0.063, 0.062, 0.062, 0.063, 0.063, 0.063, 0.064, 0.064, 0.064, 0.064]\n",
      "Sample #63_r0 fits the linear curve with an R^2 of 0.9953756751142917\n",
      "Sample #63_r1 fits the linear curve with an R^2 of 0.9963538177363681\n",
      "The absorbance measure of sample #63_r2:\n",
      "[0.076, 0.108, 0.073, 0.076, 0.078, 0.081, 0.084, 0.087, 0.09, 0.093, 0.096, 0.099, 0.102, 0.141, 0.167]\n"
     ]
    },
    {
     "data": {
      "text/plain": [
       "<matplotlib.legend.Legend at 0x7f53f190e070>"
      ]
     },
     "execution_count": 26,
     "metadata": {},
     "output_type": "execute_result"
    },
    {
     "data": {
      "image/png": "[encoded data removed]",
      "text/plain": [
       "<Figure size 432x288 with 1 Axes>"
      ]
     },
     "metadata": {
      "needs_background": "light"
     },
     "output_type": "display_data"
    }
   ],
   "source": [
    "\n",
    "# Defining a linear curve\n",
    "def linear_curve(x, a, b):\n",
    "    return a * x + b\n",
    "\n",
    "# Calculating R^2. For an explanation, see https://stackoverflow.com/questions/19189362/getting-the-r-squared-value-using-curve-fit\n",
    "def determine_R2(xdata, ydata, popt):\n",
    "    residuals = ydata - linear_curve(xdata, *popt)\n",
    "    ss_res = np.sum(residuals**2)\n",
    "    ss_tot = np.sum((ydata-np.mean(ydata))**2)\n",
    "    r_squared = 1 - (ss_res / ss_tot)\n",
    "    return r_squared\n",
    "\n",
    "activity_dict={}\n",
    "for sample in sample_dict:\n",
    "    if ('#' in sample): # Only analize the samples and not the standards\n",
    "        ydata = sample_dict[sample]\n",
    "        xdata = abs_df['absolute_diff'][:len(ydata)] # As some samples might have been corrected for exceeding the standard, the length of the xdata might need to be shortened as well for that perticular sample\n",
    "        popt, pcov = curve_fit(linear_curve, xdata, ydata)\n",
    "        a, b = popt\n",
    "        activity_dict[sample] = a # As explaine above, the slope of the curve is anagolous to the activity of the sample\n",
    "        R_squared = determine_R2(xdata, ydata, popt)\n",
    "\n",
    "        # The R^2 value represents how well the y-value can be explained by the x-value by some function f(). In this case,\n",
    "        # the f() function is a first order polynomial (i.e. a linear curve) in the form of f(x)=y=a*x+b. The downside of using \n",
    "        # the R^2 value for representing the fit to a linear curve, is that is there is no slope (i.e. a=0), the R^2 value is 0\n",
    "        # as well. Therefore, all absorbance measures that have a R^2 value of less than 0.95 need to be manually verified on whether\n",
    "        # they are in fact linear curves. \n",
    "        if R_squared < 0.95: \n",
    "            plt.plot(xdata, ydata, label=sample)\n",
    "            #print(f'R^2 value of sample {sample}: {R_squared}')\n",
    "            print(f'The absorbance measure of sample {sample}:')\n",
    "            print(ydata)\n",
    "        else:\n",
    "            print(f'Sample {sample} fits the linear curve with an R^2 of {R_squared}')\n",
    "plt.legend()"
   ]
  },
  {
   "cell_type": "markdown",
   "id": "157e36c5",
   "metadata": {},
   "source": [
    "Based on the figure created in the cell above, it should be possible to locate any sample that does not show the expected linear behavior. In order to exclude this sample, along with other replicates of the same sample, enter the name of this sample in the in the cell below"
   ]
  },
  {
   "cell_type": "code",
   "execution_count": 27,
   "id": "3e238ce9",
   "metadata": {},
   "outputs": [
    {
     "name": "stdout",
     "output_type": "stream",
     "text": [
      "Samples in dictionary before removal: dict_keys(['#01_r0', '#01_r1', '#01_r2', '#02_r0', '#02_r1', '#02_r2', '#05_r0', '#05_r1', '#05_r2', '#08_r0', '#08_r1', '#08_r2', '#12_r0', '#12_r1', '#12_r2', '#19_r0', '#19_r1', '#19_r2', '#22_r0', '#22_r1', '#22_r2', '#23_r0', '#23_r1', '#23_r2', '#24_r0', '#24_r1', '#24_r2', '#25_r0', '#25_r1', '#25_r2', '#28_r0', '#28_r1', '#28_r2', '#31_r0', '#31_r1', '#31_r2', '#32_r0', '#32_r1', '#32_r2', '#38_r0', '#38_r1', '#38_r2', '#42_r0', '#42_r1', '#42_r2', '#44_r0', '#44_r1', '#44_r2', '#45_r0', '#45_r1', '#45_r2', '#46_r0', '#46_r1', '#46_r2', '#47_r0', '#47_r1', '#47_r2', '#50_r0', '#50_r1', '#50_r2', '#51_r0', '#51_r1', '#51_r2', '#52_r0', '#52_r1', '#52_r2', '#55_r0', '#55_r1', '#55_r2', '#56_r0', '#56_r1', '#56_r2', '#58_r0', '#58_r1', '#58_r2', '#59_r0', '#59_r1', '#59_r2', '#63_r0', '#63_r1', '#63_r2'])\n",
      "Samples in dictionary after removal: dict_keys(['#01_r0', '#01_r1', '#01_r2', '#02_r0', '#02_r1', '#02_r2', '#05_r0', '#05_r1', '#05_r2', '#08_r0', '#08_r1', '#08_r2', '#12_r0', '#12_r1', '#12_r2', '#19_r0', '#19_r1', '#19_r2', '#22_r0', '#22_r1', '#22_r2', '#23_r0', '#23_r1', '#23_r2', '#24_r0', '#24_r1', '#24_r2', '#25_r0', '#25_r1', '#25_r2', '#28_r0', '#28_r1', '#28_r2', '#31_r0', '#31_r1', '#31_r2', '#32_r0', '#32_r1', '#32_r2', '#38_r0', '#38_r1', '#38_r2', '#42_r0', '#42_r1', '#42_r2', '#44_r0', '#44_r1', '#44_r2', '#45_r0', '#45_r1', '#45_r2', '#46_r0', '#46_r1', '#46_r2', '#47_r0', '#47_r1', '#47_r2', '#50_r0', '#50_r1', '#50_r2', '#51_r0', '#51_r1', '#51_r2', '#52_r0', '#52_r1', '#52_r2', '#55_r0', '#55_r1', '#55_r2', '#56_r0', '#56_r1', '#56_r2', '#58_r0', '#58_r1', '#58_r2', '#59_r0', '#59_r1', '#59_r2', '#63_r0', '#63_r1', '#63_r2'])\n"
     ]
    }
   ],
   "source": [
    "\n",
    "samples_to_exclude = ['#17', '#21', '#40', '#43', '#64', '#57'] # for example: ['#26', '#17'] in order to exclude all replicates of samples 26 and 17\n",
    "\n",
    "\n",
    "print(f'Samples in dictionary before removal: {activity_dict.keys()}')\n",
    "for sample in samples_to_exclude:\n",
    "    activity_dict = dict(filter(lambda elem: sample not in elem[0], activity_dict.items()))\n",
    "print(f'Samples in dictionary after removal: {activity_dict.keys()}')"
   ]
  },
  {
   "cell_type": "markdown",
   "id": "0a559c03",
   "metadata": {},
   "source": [
    "## Step 4: Correcting for OD\n",
    "\n",
    "The starting conditions of the overnight cultures were not completely equal across all samples. In order to prevent samples that started their overnight cultures with a higher cell count from yielding the best results, it is necesarry to first account for the number of cells in each sample. The Optical Density (OD) of the sample before **X(forgot how it is called)** was used as a proxy for this cell count. Under the assumption that there is a linear relation between cell count, OD and alpha-amylase activity, the alpha-amylase activity per cell unit can be derived by deviding the overall alpha-amylase activity of a sample with the OD of that sample. \n",
    "\n",
    "Another issue is that the linearity of the OD with respect to the number of cells no longer holds after the sample has reached an OD of **X (enter exact value)** and values onder a **Y (enter exact value)** contain a substantial about of measuring error. Therefore, each sample was diluted to either 2.5%, 1% or .5% depending on which level of dilution yielded an OD between **X** and **Y**. \n",
    "\n",
    "Therefore, the first step is to determine how many cell units there were in the original sample by deviding the measured OD over the concentration of the diluted mixture. Afterwards, the alpha-amylase activity per cell unit is determined by deviding the total alpha-amylase activity of a sample over the number of cell units within that sample."
   ]
  },
  {
   "cell_type": "code",
   "execution_count": 28,
   "id": "ca66ae7b",
   "metadata": {},
   "outputs": [
    {
     "name": "stdout",
     "output_type": "stream",
     "text": [
      "     sample  Dilution(%)  OD (raw)  OD (stadardized)  cell_units\n",
      "0        42            5     0.079             0.048        0.96\n",
      "1        51            5     0.107             0.076        1.52\n",
      "2        63            5     0.120             0.092        1.84\n",
      "3         1            5     0.129             0.101        2.02\n",
      "4        22            5     0.122             0.094        1.88\n",
      "5        23            5     0.138             0.110        2.20\n",
      "6        24            5     0.108             0.080        1.60\n",
      "7        28            5     0.107             0.079        1.58\n",
      "8        31            5     0.101             0.073        1.46\n",
      "9        44            5     0.121             0.093        1.86\n",
      "10       46            5     0.112             0.084        1.68\n",
      "11       47            5     0.126             0.098        1.96\n",
      "12       50            5     0.126             0.098        1.96\n",
      "13       52            5     0.117             0.086        1.72\n",
      "14       55            5     0.107             0.076        1.52\n",
      "15       59            5     0.110             0.079        1.58\n",
      "16        5            5     0.121             0.090        1.80\n",
      "17        8            5     0.130             0.099        1.98\n",
      "18       12            5     0.067             0.036        0.72\n",
      "19       19            5     0.050             0.022        0.44\n",
      "20       25            5     0.096             0.065        1.30\n",
      "21       32            5     0.107             0.076        1.52\n",
      "22       38            5     0.116             0.088        1.76\n",
      "23       45            5     0.110             0.082        1.64\n",
      "24       48            5     0.108             0.080        1.60\n",
      "25       56            5     0.100             0.072        1.44\n",
      "26       58            5     0.084             0.056        1.12\n",
      "27        2            5     0.108             0.077        1.54\n",
      "28  B (OD1)            5     0.028             0.000        0.00\n",
      "29  B (OD2)            5     0.031             0.000        0.00\n"
     ]
    }
   ],
   "source": [
    "OD_measures['cell_units'] = OD_measures['OD (stadardized)']/(OD_measures['Dilution(%)']/100)\n",
    "print(OD_measures)"
   ]
  },
  {
   "cell_type": "markdown",
   "id": "a03a39ff",
   "metadata": {},
   "source": [
    "In order to account for the un-equal cell counts at the beginning of the incubation period of each sample, the activity for each replicate is divided by the number of cell units within the original sample."
   ]
  },
  {
   "cell_type": "code",
   "execution_count": 36,
   "id": "8b04644a",
   "metadata": {},
   "outputs": [
    {
     "name": "stdout",
     "output_type": "stream",
     "text": [
      "{'#01_r0': 0.001329548277172303, '#01_r1': 0.0013407029855833914, '#01_r2': 0.0013558970497717848, '#02_r0': 1.7394018030810365e-05, '#02_r1': 1.5469294289767543e-05, '#02_r2': 1.051626056922813e-05, '#05_r0': 7.939458982104017e-05, '#05_r1': 7.906745745199785e-05, '#05_r2': 8.271214822098207e-05, '#08_r0': 4.808251043164043e-05, '#08_r1': 5.070029030587118e-05, '#08_r2': 4.8751554664821364e-05, '#12_r0': 0.0001557368167984192, '#12_r1': 0.0002042559992966266, '#12_r2': 0.00017635160805026099, '#19_r0': 4.274673129286449e-05, '#19_r1': 3.922830949248863e-05, '#19_r2': 6.436829416223319e-05, '#22_r0': 1.449037569570137e-06, '#22_r1': 4.065622379252974e-06, '#22_r2': 2.6757621272440186e-06, '#23_r0': 1.322696477185632e-06, '#23_r1': 1.6345366428968608e-06, '#23_r2': 1.6549757413732118e-06, '#24_r0': 0.00013315878102298508, '#24_r1': 0.00013018661990338282, '#24_r2': 0.00013724163840596286, '#25_r0': 3.12913576405264e-06, '#25_r1': 8.636480488936158e-06, '#25_r2': 5.2548075850271025e-06, '#28_r0': -1.998672343599203e-05, '#28_r1': 6.447878147712349e-06, '#28_r2': 3.2482813945480595e-06, '#31_r0': 1.081058013016116e-05, '#31_r1': 1.4551122895077634e-05, '#31_r2': 9.027159090669703e-06, '#32_r0': 4.789407834506755e-06, '#32_r1': 3.7850384584089947e-06, '#32_r2': 1.5020269025928308e-05, '#38_r0': 0.0009452533064297874, '#38_r1': 0.0009530922158853227, '#38_r2': 0.0009429931529405359, '#42_r0': 0.0010843487310611317, '#42_r1': -4.673905119588516e-06, '#42_r2': 0.0011647864914518318, '#44_r0': 1.00790810811305e-05, '#44_r1': 1.0823349645825947e-05, '#44_r2': 1.5185205560855941e-05, '#45_r0': 3.8563827157308654e-05, '#45_r1': 3.271993128788806e-05, '#45_r2': 3.4047181912140456e-05, '#46_r0': 3.350770543957995e-06, '#46_r1': 2.6908307531695707e-06, '#46_r2': 5.209416068495877e-06, '#47_r0': 5.525931973737662e-05, '#47_r1': 4.672913542485875e-05, '#47_r2': 4.772238606575118e-05, '#50_r0': 2.5471360719335428e-06, '#50_r1': 5.061899939212624e-06, '#50_r2': 3.2438830882450683e-06, '#51_r0': 0.00012689790826614654, '#51_r1': 0.00012723922249216702, '#51_r2': 0.00012370007609076457, '#52_r0': 6.296020959009364e-07, '#52_r1': 3.1967325792763864e-06, '#52_r2': 3.5760223363361203e-06, '#55_r0': 1.6123739913587655e-06, '#55_r1': 1.7579504542209308e-06, '#55_r2': 3.6798316492222668e-06, '#56_r0': 7.07832626082728e-06, '#56_r1': 1.4444256659211844e-05, '#56_r2': 6.601257348424238e-06, '#58_r0': 8.671244298691724e-05, '#58_r1': 3.0062296597814093e-05, '#58_r2': 4.579419216762544e-05, '#59_r0': 7.414550264704145e-05, '#59_r1': 3.2969656857026065e-06, '#59_r2': 3.891371522800586e-06, '#63_r0': 0.000175183836098906, '#63_r1': 0.0001818725490413017, '#63_r2': 0.0001717685179184009}\n"
     ]
    },
    {
     "data": {
      "text/plain": [
       "<BarContainer object of 81 artists>"
      ]
     },
     "execution_count": 36,
     "metadata": {},
     "output_type": "execute_result"
    },
    {
     "data": {
      "image/png": "[encoded data removed]",
      "text/plain": [
       "<Figure size 1080x360 with 1 Axes>"
      ]
     },
     "metadata": {
      "needs_background": "light"
     },
     "output_type": "display_data"
    }
   ],
   "source": [
    "\n",
    "for sample in activity_dict:\n",
    "    sample_number = re.findall(r'^(?:#)(\\d\\d)', sample) # some RegEX for finding the sample number\n",
    "    if len(sample_number)>0:\n",
    "        sample_number = int(sample_number[0])\n",
    "        activity_dict[sample] = activity_dict[sample]/OD_measures.loc[OD_measures['sample']==str(sample_number)].iloc[0]['cell_units']\n",
    "\n",
    "print(activity_dict)\n",
    "\n",
    "fig, ax = plt.subplots(figsize=(15, 5))\n",
    "ax.tick_params(axis='x', rotation=90)\n",
    "ax.set_title('Alpha-amylase activity of each replicate',fontsize=20)\n",
    "ax.set_ylabel('Activity corrected for cell count', fontsize=15)\n",
    "ax.set_xlabel('Replicate name', fontsize=15)\n",
    "plt.bar(activity_dict.keys(), activity_dict.values())\n",
    "# plt.xticks(rotation=90)"
   ]
  },
  {
   "cell_type": "markdown",
   "id": "a4da5b63",
   "metadata": {},
   "source": [
    "It is possible that some replicates show a completely different value then the other replicates of the same sample. This absolutely fine. The actual outlier detection is handled by the ART, so these 'weird' values can remain in the input data for the ART."
   ]
  },
  {
   "cell_type": "markdown",
   "id": "b292f753",
   "metadata": {},
   "source": [
    "## Step 5: Decrease the order of magnitude of the variance within the activity measures\n",
    "\n",
    "Most activity values are in between the range of $5*10^{-6}$ and $1*10^{-4}$. While there is already an order of magnitude between these values, some values go as high $3*10^{-3}$. This means that there is a difference of almost three orders of magnitude between the lowest and the highest activity measures. The difference in the lower activity value ranges are therefore close to non-existant in comparison to the total spread of activity values. These differences in lower activity values are however important when training the ART. If most activity measures are considered to be 0, there is not much data to train on. Therefore, a way is needed to to project the activity measures which can vary multiple orders of magnitude onto data points which vary only on a single order of magnitude. Taking the natural logarithm is on of the ways of achieving this.\n",
    "\n",
    "A prerequisite for being able to do this, is that all activity values need to be greater than 0. This is a fair assumption as a negative activity would imply that our enzyme actually creates starch instead of breaking it down. There are however measuring errors that could result in a very small negative activity. Under the assumption that it would not matter if this measuring error is either positive or negative, it is possible to take the absolute activity values to get rid of the negative values."
   ]
  },
  {
   "cell_type": "code",
   "execution_count": 35,
   "id": "a7103cac",
   "metadata": {
    "scrolled": true
   },
   "outputs": [
    {
     "data": {
      "text/plain": [
       "<BarContainer object of 81 artists>"
      ]
     },
     "execution_count": 35,
     "metadata": {},
     "output_type": "execute_result"
    },
    {
     "data": {
      "image/png": "[encoded data removed]",
      "text/plain": [
       "<Figure size 1080x360 with 1 Axes>"
      ]
     },
     "metadata": {
      "needs_background": "light"
     },
     "output_type": "display_data"
    }
   ],
   "source": [
    "zipped_corrected_activities = zip(activity_dict.keys(), np.log(abs(np.array(list(activity_dict.values())))))\n",
    "corrected_activity_dict = dict(zipped_corrected_activities)\n",
    "\n",
    "fig, ax = plt.subplots(figsize=(15, 5))\n",
    "ax.tick_params(axis='x', rotation=90)\n",
    "ax.set_title('Natual logarithm of Alpha-amylase activity of each replicate',fontsize=20)\n",
    "ax.set_ylabel('Natural logarithm of the corrected activity', fontsize=15)\n",
    "ax.set_xlabel('Replicate name', fontsize=15)\n",
    "plt.bar(corrected_activity_dict.keys(), corrected_activity_dict.values())"
   ]
  },
  {
   "cell_type": "markdown",
   "id": "b7183e31",
   "metadata": {},
   "source": [
    "Instead of having values that vary several order of magnitude, all values should now be somewhere between -5 and -40"
   ]
  },
  {
   "cell_type": "markdown",
   "id": "472eac33",
   "metadata": {},
   "source": [
    "## Step 6: Match the strain name with the strain, promoter, secretion peptide and gene combination and export the results\n",
    "\n",
    "Once the activity of each sample has been determined, this activity needs to be matched to combination of parts used for creating the sample. The end result is a file in which can be directly used by the ART pipeline.  "
   ]
  },
  {
   "cell_type": "code",
   "execution_count": 31,
   "id": "98de0d80",
   "metadata": {},
   "outputs": [
    {
     "name": "stdout",
     "output_type": "stream",
     "text": [
      "Updated entry of line #01\n",
      "  Line Name Replicate Measurement  str_idx  pro_idx  sec_idx  gen_idx\n",
      "0       #01        r0   -5.919819        2        6       16       22\n",
      "Updated entry of line #01\n",
      "  Line Name Replicate Measurement  str_idx  pro_idx  sec_idx  gen_idx\n",
      "1       #01        r1   -5.911464        2        6       16       22\n",
      "Updated entry of line #01\n",
      "  Line Name Replicate Measurement  str_idx  pro_idx  sec_idx  gen_idx\n",
      "2       #01        r2   -5.900195        2        6       16       22\n",
      "Updated entry of line #02\n",
      "  Line Name Replicate Measurement  str_idx  pro_idx  sec_idx  gen_idx\n",
      "3       #02        r0  -10.527602        4       11       18       19\n",
      "Updated entry of line #02\n",
      "  Line Name Replicate Measurement  str_idx  pro_idx  sec_idx  gen_idx\n",
      "4       #02        r1  -10.644871        4       11       18       19\n",
      "Updated entry of line #02\n",
      "  Line Name Replicate Measurement  str_idx  pro_idx  sec_idx  gen_idx\n",
      "5       #02        r2  -11.030805        4       11       18       19\n",
      "Updated entry of line #05\n",
      "   Line Name Replicate Measurement  str_idx  pro_idx  sec_idx  gen_idx\n",
      "12       #05        r0   -8.853294        3        8       16       22\n",
      "Updated entry of line #05\n",
      "   Line Name Replicate Measurement  str_idx  pro_idx  sec_idx  gen_idx\n",
      "13       #05        r1   -8.857423        3        8       16       22\n",
      "Updated entry of line #05\n",
      "   Line Name Replicate Measurement  str_idx  pro_idx  sec_idx  gen_idx\n",
      "14       #05        r2   -8.812357        3        8       16       22\n",
      "Updated entry of line #08\n",
      "   Line Name Replicate Measurement  str_idx  pro_idx  sec_idx  gen_idx\n",
      "21       #08        r0   -9.259495        3        8       15       22\n",
      "Updated entry of line #08\n",
      "   Line Name Replicate Measurement  str_idx  pro_idx  sec_idx  gen_idx\n",
      "22       #08        r1   -9.206482        3        8       15       22\n",
      "Updated entry of line #08\n",
      "   Line Name Replicate Measurement  str_idx  pro_idx  sec_idx  gen_idx\n",
      "23       #08        r2   -9.245677        3        8       15       22\n",
      "Updated entry of line #12\n",
      "   Line Name Replicate Measurement  str_idx  pro_idx  sec_idx  gen_idx\n",
      "33       #12        r0   -9.095847        3       11       15       19\n",
      "Updated entry of line #12\n",
      "   Line Name Replicate Measurement  str_idx  pro_idx  sec_idx  gen_idx\n",
      "34       #12        r1   -8.824641        3       11       15       19\n",
      "Updated entry of line #12\n",
      "   Line Name Replicate Measurement  str_idx  pro_idx  sec_idx  gen_idx\n",
      "35       #12        r2   -8.971535        3       11       15       19\n",
      "Updated entry of line #19\n",
      "   Line Name Replicate Measurement  str_idx  pro_idx  sec_idx  gen_idx\n",
      "54       #19        r0  -10.881198        3        7       15       21\n",
      "Updated entry of line #19\n",
      "   Line Name Replicate Measurement  str_idx  pro_idx  sec_idx  gen_idx\n",
      "55       #19        r1  -10.967092        3        7       15       21\n",
      "Updated entry of line #19\n",
      "   Line Name Replicate Measurement  str_idx  pro_idx  sec_idx  gen_idx\n",
      "56       #19        r2   -10.47187        3        7       15       21\n",
      "Updated entry of line #22\n",
      "   Line Name Replicate Measurement  str_idx  pro_idx  sec_idx  gen_idx\n",
      "63       #22        r0  -12.813339        2       14       16       20\n",
      "Updated entry of line #22\n",
      "   Line Name Replicate Measurement  str_idx  pro_idx  sec_idx  gen_idx\n",
      "64       #22        r1  -11.781672        2       14       16       20\n",
      "Updated entry of line #22\n",
      "   Line Name Replicate Measurement  str_idx  pro_idx  sec_idx  gen_idx\n",
      "65       #22        r2  -12.200005        2       14       16       20\n",
      "Updated entry of line #23\n",
      "   Line Name Replicate Measurement  str_idx  pro_idx  sec_idx  gen_idx\n",
      "66       #23        r0  -12.747381        2       12       17       21\n",
      "Updated entry of line #23\n",
      "   Line Name Replicate Measurement  str_idx  pro_idx  sec_idx  gen_idx\n",
      "67       #23        r1  -12.535694        2       12       17       21\n",
      "Updated entry of line #23\n",
      "   Line Name Replicate Measurement  str_idx  pro_idx  sec_idx  gen_idx\n",
      "68       #23        r2  -12.523267        2       12       17       21\n",
      "Updated entry of line #24\n",
      "   Line Name Replicate Measurement  str_idx  pro_idx  sec_idx  gen_idx\n",
      "69       #24        r0   -8.453965        2        7       18       21\n",
      "Updated entry of line #24\n",
      "   Line Name Replicate Measurement  str_idx  pro_idx  sec_idx  gen_idx\n",
      "70       #24        r1   -8.476538        2        7       18       21\n",
      "Updated entry of line #24\n",
      "   Line Name Replicate Measurement  str_idx  pro_idx  sec_idx  gen_idx\n",
      "71       #24        r2   -8.423764        2        7       18       21\n",
      "Updated entry of line #25\n",
      "   Line Name Replicate Measurement  str_idx  pro_idx  sec_idx  gen_idx\n",
      "72       #25        r0  -12.412389        3       10       15       20\n",
      "Updated entry of line #25\n",
      "   Line Name Replicate Measurement  str_idx  pro_idx  sec_idx  gen_idx\n",
      "73       #25        r1  -11.397151        3       10       15       20\n",
      "Updated entry of line #25\n",
      "   Line Name Replicate Measurement  str_idx  pro_idx  sec_idx  gen_idx\n",
      "74       #25        r2  -11.894003        3       10       15       20\n",
      "Updated entry of line #28\n",
      "   Line Name Replicate Measurement  str_idx  pro_idx  sec_idx  gen_idx\n",
      "81       #28        r0  -10.363017        2        7       16       20\n",
      "Updated entry of line #28\n",
      "   Line Name Replicate Measurement  str_idx  pro_idx  sec_idx  gen_idx\n",
      "82       #28        r1  -11.494335        2        7       16       20\n",
      "Updated entry of line #28\n",
      "   Line Name Replicate Measurement  str_idx  pro_idx  sec_idx  gen_idx\n",
      "83       #28        r2   -12.17996        2        7       16       20\n",
      "Updated entry of line #31\n",
      "   Line Name Replicate Measurement  str_idx  pro_idx  sec_idx  gen_idx\n",
      "90       #31        r0  -11.056549        2        6       18       20\n",
      "Updated entry of line #31\n",
      "   Line Name Replicate Measurement  str_idx  pro_idx  sec_idx  gen_idx\n",
      "91       #31        r1  -10.759406        2        6       18       20\n",
      "Updated entry of line #31\n",
      "   Line Name Replicate Measurement  str_idx  pro_idx  sec_idx  gen_idx\n",
      "92       #31        r2  -11.236836        2        6       18       20\n",
      "Updated entry of line #32\n",
      "   Line Name Replicate Measurement  str_idx  pro_idx  sec_idx  gen_idx\n",
      "93       #32        r0  -11.830393        3        9       17       20\n",
      "Updated entry of line #32\n",
      "   Line Name Replicate Measurement  str_idx  pro_idx  sec_idx  gen_idx\n",
      "94       #32        r1  -12.065744        3        9       17       20\n",
      "Updated entry of line #32\n",
      "   Line Name Replicate Measurement  str_idx  pro_idx  sec_idx  gen_idx\n",
      "95       #32        r2    -10.6874        3        9       17       20\n",
      "Updated entry of line #38\n",
      "    Line Name Replicate Measurement  str_idx  pro_idx  sec_idx  gen_idx\n",
      "111       #38        r0   -6.398744        3       12       16       22\n",
      "Updated entry of line #38\n",
      "    Line Name Replicate Measurement  str_idx  pro_idx  sec_idx  gen_idx\n",
      "112       #38        r1   -6.390485        3       12       16       22\n",
      "Updated entry of line #38\n",
      "    Line Name Replicate Measurement  str_idx  pro_idx  sec_idx  gen_idx\n",
      "113       #38        r2   -6.401138        3       12       16       22\n",
      "Updated entry of line #42\n",
      "    Line Name Replicate Measurement  str_idx  pro_idx  sec_idx  gen_idx\n",
      "123       #42        r0   -6.867598        1        9       16       21\n",
      "Updated entry of line #42\n",
      "    Line Name Replicate Measurement  str_idx  pro_idx  sec_idx  gen_idx\n",
      "124       #42        r1  -12.314338        1        9       16       21\n",
      "Updated entry of line #42\n",
      "    Line Name Replicate Measurement  str_idx  pro_idx  sec_idx  gen_idx\n",
      "125       #42        r2   -6.796039        1        9       16       21\n",
      "Updated entry of line #44\n",
      "    Line Name Replicate Measurement  str_idx  pro_idx  sec_idx  gen_idx\n",
      "129       #44        r0  -10.884472        2       12       18       21\n",
      "Updated entry of line #44\n",
      "    Line Name Replicate Measurement  str_idx  pro_idx  sec_idx  gen_idx\n",
      "130       #44        r1  -10.813228        2       12       18       21\n",
      "Updated entry of line #44\n",
      "    Line Name Replicate Measurement  str_idx  pro_idx  sec_idx  gen_idx\n",
      "131       #44        r2  -10.474612        2       12       18       21\n",
      "Updated entry of line #45\n",
      "    Line Name Replicate Measurement  str_idx  pro_idx  sec_idx  gen_idx\n",
      "132       #45        r0     -9.6685        3       10       16       21\n",
      "Updated entry of line #45\n",
      "    Line Name Replicate Measurement  str_idx  pro_idx  sec_idx  gen_idx\n",
      "133       #45        r1    -9.83283        3       10       16       21\n",
      "Updated entry of line #45\n",
      "    Line Name Replicate Measurement  str_idx  pro_idx  sec_idx  gen_idx\n",
      "134       #45        r2   -9.793067        3       10       16       21\n",
      "Updated entry of line #46\n",
      "    Line Name Replicate Measurement  str_idx  pro_idx  sec_idx  gen_idx\n",
      "135       #46        r0  -12.087526        2        5       18       21\n",
      "Updated entry of line #46\n",
      "    Line Name Replicate Measurement  str_idx  pro_idx  sec_idx  gen_idx\n",
      "136       #46        r1  -12.306867        2        5       18       21\n",
      "Updated entry of line #46\n",
      "    Line Name Replicate Measurement  str_idx  pro_idx  sec_idx  gen_idx\n",
      "137       #46        r2  -11.646249        2        5       18       21\n",
      "Updated entry of line #47\n",
      "    Line Name Replicate Measurement  str_idx  pro_idx  sec_idx  gen_idx\n",
      "138       #47        r0   -9.130529        2        6       15       19\n",
      "Updated entry of line #47\n",
      "    Line Name Replicate Measurement  str_idx  pro_idx  sec_idx  gen_idx\n",
      "139       #47        r1   -9.298198        2        6       15       19\n",
      "Updated entry of line #47\n",
      "    Line Name Replicate Measurement  str_idx  pro_idx  sec_idx  gen_idx\n",
      "140       #47        r2   -9.277165        2        6       15       19\n",
      "Updated entry of line #50\n",
      "    Line Name Replicate Measurement  str_idx  pro_idx  sec_idx  gen_idx\n",
      "147       #50        r0  -12.207596        2        6       17       20\n",
      "Updated entry of line #50\n",
      "    Line Name Replicate Measurement  str_idx  pro_idx  sec_idx  gen_idx\n",
      "148       #50        r1  -11.520824        2        6       17       20\n",
      "Updated entry of line #50\n",
      "    Line Name Replicate Measurement  str_idx  pro_idx  sec_idx  gen_idx\n",
      "149       #50        r2  -11.965795        2        6       17       20\n",
      "Updated entry of line #51\n",
      "    Line Name Replicate Measurement  str_idx  pro_idx  sec_idx  gen_idx\n",
      "150       #51        r0   -8.553417        1       11       17       21\n",
      "Updated entry of line #51\n",
      "    Line Name Replicate Measurement  str_idx  pro_idx  sec_idx  gen_idx\n",
      "151       #51        r1   -8.550731        1       11       17       21\n",
      "Updated entry of line #51\n",
      "    Line Name Replicate Measurement  str_idx  pro_idx  sec_idx  gen_idx\n",
      "152       #51        r2    -8.57894        1       11       17       21\n",
      "Updated entry of line #52\n",
      "    Line Name Replicate Measurement  str_idx  pro_idx  sec_idx  gen_idx\n",
      "153       #52        r0  -13.735854        2       10       16       20\n",
      "Updated entry of line #52\n",
      "    Line Name Replicate Measurement  str_idx  pro_idx  sec_idx  gen_idx\n",
      "154       #52        r1  -12.111057        2       10       16       20\n",
      "Updated entry of line #52\n",
      "    Line Name Replicate Measurement  str_idx  pro_idx  sec_idx  gen_idx\n",
      "155       #52        r2  -11.998935        2       10       16       20\n",
      "Updated entry of line #55\n",
      "    Line Name Replicate Measurement  str_idx  pro_idx  sec_idx  gen_idx\n",
      "162       #55        r0  -12.919093        2        9       16       21\n",
      "Updated entry of line #55\n",
      "    Line Name Replicate Measurement  str_idx  pro_idx  sec_idx  gen_idx\n",
      "163       #55        r1  -12.832652        2        9       16       21\n",
      "Updated entry of line #55\n",
      "    Line Name Replicate Measurement  str_idx  pro_idx  sec_idx  gen_idx\n",
      "164       #55        r2  -12.093933        2        9       16       21\n",
      "Updated entry of line #56\n",
      "    Line Name Replicate Measurement  str_idx  pro_idx  sec_idx  gen_idx\n",
      "165       #56        r0   -11.49383        3       10       15       21\n",
      "Updated entry of line #56\n",
      "    Line Name Replicate Measurement  str_idx  pro_idx  sec_idx  gen_idx\n",
      "166       #56        r1  -10.780571        3       10       15       21\n",
      "Updated entry of line #56\n",
      "    Line Name Replicate Measurement  str_idx  pro_idx  sec_idx  gen_idx\n",
      "167       #56        r2  -11.563607        3       10       15       21\n",
      "Updated entry of line #58\n",
      "    Line Name Replicate Measurement  str_idx  pro_idx  sec_idx  gen_idx\n",
      "171       #58        r0   -9.239584        3       12       15       19\n",
      "Updated entry of line #58\n",
      "    Line Name Replicate Measurement  str_idx  pro_idx  sec_idx  gen_idx\n",
      "172       #58        r1   -10.29891        3       12       15       19\n",
      "Updated entry of line #58\n",
      "    Line Name Replicate Measurement  str_idx  pro_idx  sec_idx  gen_idx\n",
      "173       #58        r2   -9.878025        3       12       15       19\n",
      "Updated entry of line #59\n",
      "    Line Name Replicate Measurement  str_idx  pro_idx  sec_idx  gen_idx\n",
      "174       #59        r0   -9.052056        2        8       18       20\n",
      "Updated entry of line #59\n",
      "    Line Name Replicate Measurement  str_idx  pro_idx  sec_idx  gen_idx\n",
      "175       #59        r1  -12.165083        2        8       18       20\n",
      "Updated entry of line #59\n",
      "    Line Name Replicate Measurement  str_idx  pro_idx  sec_idx  gen_idx\n",
      "176       #59        r2  -11.999324        2        8       18       20\n",
      "Updated entry of line #63\n",
      "    Line Name Replicate Measurement  str_idx  pro_idx  sec_idx  gen_idx\n",
      "186       #63        r0   -8.039909        1       12       16       21\n",
      "Updated entry of line #63\n",
      "    Line Name Replicate Measurement  str_idx  pro_idx  sec_idx  gen_idx\n",
      "187       #63        r1   -8.002439        1       12       16       21\n",
      "Updated entry of line #63\n",
      "    Line Name Replicate Measurement  str_idx  pro_idx  sec_idx  gen_idx\n",
      "188       #63        r2   -8.059597        1       12       16       21\n"
     ]
    }
   ],
   "source": [
    "os.chdir(cwd) # set the working directory back to the orignal one\n",
    "\n",
    "results = pd.read_csv('Sample_list.csv', sep=',') # load in the file contianing the link of the sample name to the various parts\n",
    "for sample in activity_dict:\n",
    "    line_name, replicate = sample.split('_')\n",
    "    \n",
    "    # Adding the measured activity to the results\n",
    "    results.loc[(results['Line Name']==line_name) & (results['Replicate']==replicate), 'Measurement'] = corrected_activity_dict[sample]\n",
    "    print(f'Updated entry of line {line_name}')\n",
    "    print(results.loc[(results['Line Name']==line_name) & (results['Replicate']==replicate)])\n",
    "# Write the results into the original file\n",
    "results.to_csv('Sample_list.csv', sep=',', index=False) "
   ]
  },
  {
   "cell_type": "code",
   "execution_count": null,
   "id": "88e41f48",
   "metadata": {},
   "outputs": [],
   "source": []
  }
 ],
 "metadata": {
  "kernelspec": {
   "display_name": "Python 3 (ipykernel)",
   "language": "python",
   "name": "python3"
  },
  "language_info": {
   "codemirror_mode": {
    "name": "ipython",
    "version": 3
   },
   "file_extension": ".py",
   "mimetype": "text/x-python",
   "name": "python",
   "nbconvert_exporter": "python",
   "pygments_lexer": "ipython3",
   "version": "3.9.2"
  }
 },
 "nbformat": 4,
 "nbformat_minor": 5
}
