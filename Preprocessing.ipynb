{
 "cells": [
  {
   "cell_type": "code",
   "execution_count": 2,
   "id": "6983d0a8",
   "metadata": {},
   "outputs": [],
   "source": [
    "import sys\n",
    "import glob\n",
    "import os\n",
    "import re\n",
    "import numpy as np\n",
    "import pandas as pd\n",
    "import matplotlib.pyplot as plt\n",
    "%matplotlib inline\n",
    "\n",
    "\n",
    "from itertools import chain\n",
    "from scipy.optimize import curve_fit"
   ]
  },
  {
   "cell_type": "markdown",
   "id": "d7b81b2a",
   "metadata": {},
   "source": [
    "# The first step: Loading and structuring the data\n",
    "\n",
    "The Automated Recommendation tool is used to determine which combination of *Saccharomyces spp.* strain, promotor, secretion peptide and alpha-amylase gene is expected to yield a high alpha-amylase activity. The training data for ART consists of alpha-amylase activity produced by **X** samples out of the possible 640 combinations. This activity was measured using the **X** kit. \n",
    "\n",
    "\n",
    "\n",
    "However, the first step is to load in the various data files and restructure them."
   ]
  },
  {
   "cell_type": "code",
   "execution_count": 3,
   "id": "1c9e635f",
   "metadata": {},
   "outputs": [],
   "source": [
    "# Storing the current working directory for later usage\n",
    "cwd = os.getcwd()\n",
    "\n",
    "# Change into the correct working directory\n",
    "data_dir = os.path.join(cwd,'data','AA 2-10')\n",
    "os.chdir(data_dir)"
   ]
  },
  {
   "cell_type": "code",
   "execution_count": 6,
   "id": "c4c65d5c",
   "metadata": {},
   "outputs": [
    {
     "name": "stdout",
     "output_type": "stream",
     "text": [
      "['19.02.TXT', '19.14.TXT', '19.19.TXT', '19.24.TXT', '19.29.TXT', '19.34.TXT', '19.39.TXT', '19.44.TXT', '19.49.TXT', '19.54.TXT', '19.59.TXT', '20.04.TXT', '20.09.TXT', '20.14.TXT', '21.12.TXT', 'error_2111.TXT']\n"
     ]
    }
   ],
   "source": [
    "# Extract the file names of all absorbance measurement files\n",
    "abs_files = glob.glob('*.TXT')\n",
    "abs_files.sort()\n",
    "print(abs_files)"
   ]
  },
  {
   "cell_type": "markdown",
   "id": "18308c46",
   "metadata": {},
   "source": [
    "Check wether all the listed files are intended to be used for the analysis. If there are any unwanted files, remove them using the cell below:"
   ]
  },
  {
   "cell_type": "code",
   "execution_count": 7,
   "id": "f72a8776",
   "metadata": {},
   "outputs": [
    {
     "name": "stdout",
     "output_type": "stream",
     "text": [
      "['19.02.TXT', '19.14.TXT', '19.19.TXT', '19.24.TXT', '19.29.TXT', '19.34.TXT', '19.39.TXT', '19.44.TXT', '19.49.TXT', '19.54.TXT', '19.59.TXT', '20.04.TXT', '20.09.TXT', '20.14.TXT', '21.12.TXT']\n"
     ]
    }
   ],
   "source": [
    "files_to_remove = ['error_2111.TXT']\n",
    "\n",
    "\n",
    "for file in files_to_remove:\n",
    "    abs_files.remove(file) \n",
    "print(abs_files)"
   ]
  },
  {
   "cell_type": "code",
   "execution_count": 8,
   "id": "df456d25",
   "metadata": {},
   "outputs": [
    {
     "name": "stdout",
     "output_type": "stream",
     "text": [
      "(8, 12)\n",
      "(8, 12)\n",
      "(8, 12)\n",
      "(8, 12)\n",
      "(8, 12)\n",
      "(8, 12)\n",
      "(8, 12)\n",
      "(8, 12)\n",
      "(8, 12)\n",
      "(8, 12)\n",
      "(8, 12)\n",
      "(8, 12)\n",
      "(8, 12)\n",
      "(8, 12)\n",
      "(8, 12)\n",
      "   Hour Minute absolute_diff  File_name  \\\n",
      "0    19      2             0  19.02.TXT   \n",
      "1    19     14            12  19.14.TXT   \n",
      "2    19     19            17  19.19.TXT   \n",
      "3    19     24            22  19.24.TXT   \n",
      "4    19     29            27  19.29.TXT   \n",
      "5    19     34            32  19.34.TXT   \n",
      "6    19     39            37  19.39.TXT   \n",
      "7    19     44            42  19.44.TXT   \n",
      "8    19     49            47  19.49.TXT   \n",
      "9    19     54            52  19.54.TXT   \n",
      "10   19     59            57  19.59.TXT   \n",
      "11   20      4            62  20.04.TXT   \n",
      "12   20      9            67  20.09.TXT   \n",
      "13   20     14            72  20.14.TXT   \n",
      "14   21     12           130  21.12.TXT   \n",
      "\n",
      "                                     abs_measurements  \n",
      "0         0      1      2      3      4      5    ...  \n",
      "1         0      1      2      3      4      5    ...  \n",
      "2         0      1      2      3      4      5    ...  \n",
      "3         0      1      2      3      4      5    ...  \n",
      "4         0      1      2      3      4      5    ...  \n",
      "5         0      1      2      3      4      5    ...  \n",
      "6         0      1      2      3      4      5    ...  \n",
      "7         0      1      2      3      4      5    ...  \n",
      "8         0      1      2      3      4      5    ...  \n",
      "9         0      1      2      3      4      5    ...  \n",
      "10        0      1      2      3      4      5    ...  \n",
      "11        0      1      2      3      4      5    ...  \n",
      "12        0      1      2      3      4      5    ...  \n",
      "13        0      1      2      3      4      5    ...  \n",
      "14        0      1      2      3      4      5    ...  \n"
     ]
    },
    {
     "name": "stderr",
     "output_type": "stream",
     "text": [
      "/home/user/.pyenv/versions/3.9.2/envs/ART_iGEM-3.9.2/lib/python3.9/site-packages/pandas/core/dtypes/cast.py:881: VisibleDeprecationWarning: Creating an ndarray from ragged nested sequences (which is a list-or-tuple of lists-or-tuples-or ndarrays with different lengths or shapes) is deprecated. If you meant to do this, you must specify 'dtype=object' when creating the ndarray.\n",
      "  element = np.asarray(element)\n"
     ]
    }
   ],
   "source": [
    "\n",
    "\n",
    "# Creating a dataframe with time measurements and reference to the absorbance measure file\n",
    "abs_df = pd.DataFrame(columns=['Hour', 'Minute', 'absolute_diff', 'File_name', 'abs_measurements'])\n",
    "for i, file in enumerate(abs_files):\n",
    "    ms_time = file.split('.')\n",
    "    ms_time = [int(string) for string in ms_time[0:2]]\n",
    "    if i == 0:\n",
    "        time_diff = 0\n",
    "    else:\n",
    "        time_diff = (ms_time[0]-abs_df['Hour'][0])*60+(ms_time[1]-abs_df['Minute'][0])\n",
    "    abs_measurement = pd.read_csv(file, header = None, sep=',')\n",
    "    abs_measurement = abs_measurement.iloc[:, :-1] # Due to the output format of the plate reader, there is an extra column with empty values.\n",
    "    abs_df.loc[i] = [ms_time[0], ms_time[1], time_diff, file, abs_measurement]\n",
    "    print(np.shape(abs_df['abs_measurements'][i]))\n",
    "print(abs_df)"
   ]
  },
  {
   "cell_type": "code",
   "execution_count": 10,
   "id": "e7c23c00",
   "metadata": {},
   "outputs": [
    {
     "name": "stdout",
     "output_type": "stream",
     "text": [
      "(8, 12)\n",
      "    0    1      2      3      4      5       6       7    8    9    10   11\n",
      "0  NaN  NaN    NaN    NaN    NaN    NaN     NaN     NaN  NaN  NaN  NaN  NaN\n",
      "1  NaN  NaN    NaN    NaN    NaN    NaN     NaN     NaN  NaN  NaN  NaN  NaN\n",
      "2  NaN  NaN  BLANK  BLANK  2nmol  2nmol  10nmol  10nmol  #34  NaN  NaN  NaN\n",
      "3  #14  #14    #14    #15    #15    #15     #18     #18  #18  #20  #20  #20\n",
      "4  #26  #26    #26    #27    #27    #27     #34     #34  NaN  #35  #35  #35\n",
      "5  NaN  NaN    NaN    NaN    NaN    NaN     NaN     NaN  NaN  NaN  NaN  NaN\n",
      "6  #06  #06    #06    #10    #10    #10     #11     #11  #11  #16  #16  #16\n",
      "7  #21  #21    #21    NaN    NaN    NaN     NaN     NaN  NaN  NaN  NaN  NaN\n",
      "      0      1      2      3      4      5      6      7      8      9   \\\n",
      "0  0.000  0.000  0.000  0.000  0.000  0.000  0.000  0.000  0.000  0.000   \n",
      "1  0.000  0.000  0.000  0.000  0.000  0.000  0.000  0.000  0.000  0.000   \n",
      "2  0.000  0.000  0.056  0.055  0.145  0.152  0.481  0.503  0.067  0.000   \n",
      "3  0.066  0.067  0.073  0.062  0.075  0.065  0.064  0.067  0.065  0.066   \n",
      "4  0.068  0.065  0.067  0.080  0.077  0.078  0.065  0.067  0.000  0.066   \n",
      "5  0.000  0.000  0.000  0.000  0.000  0.000  0.000  0.000  0.000  0.000   \n",
      "6  0.065  0.067  0.065  0.070  0.068  0.088  0.066  0.067  0.066  0.064   \n",
      "7  0.064  0.065  0.119  0.000  0.000  0.000  0.000  0.000  0.000  0.000   \n",
      "\n",
      "      10     11  \n",
      "0  0.000  0.000  \n",
      "1  0.000  0.000  \n",
      "2  0.000  0.000  \n",
      "3  0.099  0.067  \n",
      "4  0.066  0.070  \n",
      "5  0.000  0.000  \n",
      "6  0.065  0.066  \n",
      "7  0.000  0.000  \n"
     ]
    }
   ],
   "source": [
    "# Next up, is getting the arrangement of the samples on the plate\n",
    "plate_arr = pd.read_csv('plate_arrangements.csv', sep=',')\n",
    "plate_arr = plate_arr.iloc[:, 1:] # For easy navigation, the first column is removed\n",
    "plate_arr.columns = [int(col_num)-1 for col_num in plate_arr.columns]\n",
    "\n",
    "# The dataframe of the well locations is now in exactly the same shape as the dataframes used for storing the absorbance measures\n",
    "print(np.shape(plate_arr))\n",
    "\n",
    "print(plate_arr)\n",
    "print(abs_df['abs_measurements'][0])\n"
   ]
  },
  {
   "cell_type": "code",
   "execution_count": 11,
   "id": "104774fb",
   "metadata": {},
   "outputs": [
    {
     "name": "stdout",
     "output_type": "stream",
     "text": [
      "Total number of unique samples in dataset: 13\n",
      "{'#06_r0': [0.065, 0.065, 0.065, 0.065, 0.065, 0.065, 0.065, 0.065, 0.065, 0.065, 0.065, 0.065, 0.065, 0.065, 0.065], '#06_r1': [0.067, 0.072, 0.075, 0.078, 0.08, 0.083, 0.085, 0.088, 0.09, 0.093, 0.095, 0.098, 0.101, 0.104, 0.133], '#06_r2': [0.065, 0.064, 0.064, 0.065, 0.064, 0.064, 0.064, 0.064, 0.064, 0.064, 0.064, 0.064, 0.064, 0.064, 0.065], '#10_r0': [0.07, 0.079, 0.084, 0.089, 0.093, 0.099, 0.105, 0.11, 0.116, 0.122, 0.127, 0.133, 0.139, 0.147, 0.214], '#10_r1': [0.068, 0.077, 0.082, 0.087, 0.092, 0.097, 0.103, 0.108, 0.114, 0.12, 0.126, 0.132, 0.138, 0.145, 0.213], '#10_r2': [0.088, 0.085, 0.087, 0.09, 0.093, 0.098, 0.103, 0.108, 0.114, 0.12, 0.126, 0.131, 0.137, 0.145, 0.214], '#11_r0': [0.066, 0.067, 0.067, 0.067, 0.067, 0.067, 0.067, 0.067, 0.067, 0.067, 0.067, 0.067, 0.067, 0.067, 0.068], '#11_r1': [0.067, 0.075, 0.078, 0.082, 0.085, 0.089, 0.092, 0.096, 0.099, 0.102, 0.106, 0.109, 0.112, 0.117, 0.154], '#11_r2': [0.066, 0.066, 0.067, 0.067, 0.066, 0.066, 0.066, 0.066, 0.066, 0.066, 0.066, 0.066, 0.066, 0.066, 0.067], '#14_r0': [0.066, 0.065, 0.065, 0.065, 0.065, 0.065, 0.065, 0.065, 0.065, 0.065, 0.065, 0.065, 0.065, 0.065, 0.065], '#14_r1': [0.067, 0.066, 0.066, 0.066, 0.066, 0.066, 0.066, 0.066, 0.066, 0.066, 0.066, 0.066, 0.066, 0.066, 0.067], '#14_r2': [0.073, 0.068, 0.067, 0.066, 0.065, 0.065, 0.065, 0.065, 0.065, 0.064, 0.064, 0.064, 0.064, 0.064, 0.065], '#15_r0': [0.062, 0.062, 0.062, 0.062, 0.062, 0.062, 0.062, 0.062, 0.062, 0.062, 0.062, 0.062, 0.062, 0.062, 0.063], '#15_r1': [0.075, 0.077, 0.075, 0.075, 0.076, 0.076, 0.077, 0.077, 0.076, 0.077, 0.077, 0.078, 0.077, 0.077, 0.078], '#15_r2': [0.065, 0.064, 0.064, 0.064, 0.064, 0.064, 0.064, 0.064, 0.064, 0.064, 0.064, 0.064, 0.064, 0.065, 0.065], '#16_r0': [0.064, 0.064, 0.064, 0.064, 0.064, 0.064, 0.064, 0.064, 0.064, 0.064, 0.065, 0.065, 0.065, 0.065, 0.065], '#16_r1': [0.065, 0.066, 0.066, 0.066, 0.066, 0.066, 0.066, 0.066, 0.066, 0.066, 0.067, 0.067, 0.067, 0.067, 0.067], '#16_r2': [0.066, 0.066, 0.066, 0.066, 0.066, 0.066, 0.066, 0.066, 0.066, 0.066, 0.066, 0.066, 0.066, 0.066, 0.066], '#18_r0': [0.064, 0.064, 0.064, 0.065, 0.064, 0.064, 0.064, 0.064, 0.064, 0.064, 0.064, 0.064, 0.064, 0.064, 0.064], '#18_r1': [0.067, 0.066, 0.066, 0.066, 0.066, 0.066, 0.066, 0.066, 0.066, 0.066, 0.066, 0.066, 0.066, 0.066, 0.066], '#18_r2': [0.065, 0.065, 0.065, 0.065, 0.065, 0.065, 0.065, 0.065, 0.065, 0.065, 0.065, 0.065, 0.065, 0.065, 0.066], '#20_r0': [0.066, 0.067, 0.067, 0.067, 0.067, 0.067, 0.067, 0.067, 0.067, 0.067, 0.067, 0.067, 0.067, 0.067, 0.067], '#20_r1': [0.099, 0.25, 0.319, 0.392, 0.445, 0.5, 0.553, 0.599, 0.647, 0.689, 0.729, 0.77, 0.804, 0.847, 1.015], '#20_r2': [0.067, 0.067, 0.067, 0.067, 0.067, 0.067, 0.067, 0.067, 0.067, 0.067, 0.067, 0.067, 0.067, 0.067, 0.067], '#21_r0': [0.064, 0.064, 0.065, 0.065, 0.066, 0.066, 0.067, 0.068, 0.068, 0.069, 0.069, 0.07, 0.071, 0.071, 0.079], '#21_r1': [0.065, 0.065, 0.066, 0.066, 0.067, 0.067, 0.068, 0.068, 0.069, 0.069, 0.07, 0.071, 0.071, 0.072, 0.08], '#21_r2': [0.119, 0.099, 0.092, 0.084, 0.08, 0.068, 0.069, 0.069, 0.07, 0.07, 0.071, 0.071, 0.072, 0.073, 0.08], '#26_r0': [0.068, 0.069, 0.069, 0.07, 0.071, 0.072, 0.073, 0.073, 0.074, 0.075, 0.076, 0.077, 0.079, 0.08, 0.094], '#26_r1': [0.065, 0.066, 0.066, 0.067, 0.068, 0.069, 0.07, 0.07, 0.071, 0.072, 0.073, 0.074, 0.075, 0.077, 0.089], '#26_r2': [0.067, 0.068, 0.069, 0.071, 0.071, 0.072, 0.073, 0.074, 0.075, 0.076, 0.077, 0.078, 0.079, 0.081, 0.094], '#27_r0': [0.08, 0.097, 0.106, 0.116, 0.124, 0.133, 0.143, 0.152, 0.163, 0.172, 0.182, 0.192, 0.202, 0.215, 0.328], '#27_r1': [0.077, 0.093, 0.102, 0.112, 0.12, 0.129, 0.139, 0.148, 0.158, 0.168, 0.177, 0.188, 0.197, 0.21, 0.323], '#27_r2': [0.078, 0.095, 0.104, 0.114, 0.122, 0.131, 0.141, 0.15, 0.16, 0.17, 0.18, 0.19, 0.2, 0.213, 0.326], '#34_r0': [0.067, 0.067, 0.068, 0.069, 0.07, 0.071, 0.072, 0.073, 0.074, 0.075, 0.076, 0.078, 0.079, 0.081, 0.097], '#34_r1': [0.065, 0.066, 0.066, 0.067, 0.068, 0.069, 0.07, 0.071, 0.071, 0.072, 0.073, 0.075, 0.076, 0.077, 0.092], '#34_r2': [0.067, 0.067, 0.068, 0.069, 0.069, 0.07, 0.071, 0.072, 0.073, 0.073, 0.074, 0.075, 0.076, 0.078, 0.091], '#35_r0': [0.066, 0.067, 0.067, 0.069, 0.07, 0.071, 0.072, 0.073, 0.074, 0.074, 0.076, 0.077, 0.078, 0.079, 0.094], '#35_r1': [0.066, 0.066, 0.067, 0.068, 0.068, 0.07, 0.07, 0.071, 0.072, 0.074, 0.074, 0.075, 0.077, 0.078, 0.092], '#35_r2': [0.07, 0.071, 0.071, 0.072, 0.073, 0.074, 0.075, 0.076, 0.077, 0.078, 0.079, 0.08, 0.081, 0.083, 0.096], '10nmol_r0': [0.481, 0.504, 0.512, 0.515, 0.517, 0.518, 0.518, 0.518, 0.519, 0.519, 0.519, 0.52, 0.52, 0.52, 0.522], '10nmol_r1': [0.503, 0.524, 0.531, 0.533, 0.535, 0.535, 0.536, 0.537, 0.537, 0.537, 0.538, 0.538, 0.538, 0.539, 0.541], '2nmol_r0': [0.145, 0.148, 0.15, 0.15, 0.151, 0.151, 0.151, 0.151, 0.151, 0.151, 0.151, 0.151, 0.151, 0.151, 0.152], '2nmol_r1': [0.152, 0.156, 0.157, 0.158, 0.158, 0.159, 0.159, 0.159, 0.159, 0.159, 0.159, 0.159, 0.159, 0.159, 0.16], 'BLANK_r0': [0.056, 0.056, 0.056, 0.056, 0.056, 0.056, 0.056, 0.056, 0.056, 0.056, 0.056, 0.056, 0.056, 0.056, 0.056], 'BLANK_r1': [0.055, 0.056, 0.056, 0.056, 0.056, 0.056, 0.056, 0.056, 0.056, 0.056, 0.056, 0.056, 0.056, 0.056, 0.056]}\n"
     ]
    }
   ],
   "source": [
    "# Extracting the unique values out of the plate arragements\n",
    "samples = plate_arr.values.flatten()\n",
    "samples = np.unique(samples.astype(str)) \n",
    "samples = np.delete(samples, np.where(samples == 'nan'))\n",
    "print(f'Total number of unique samples in dataset: {len(samples)-3}') # Not including the baseline and standard measurements\n",
    "\n",
    "# After extracting the unique values, it is possible to create a disctionary where each sample is matched with the corresponding absorbance measure\n",
    "sample_dict = {}\n",
    "for sample in samples:\n",
    "    coordinates = np.array(np.where(plate_arr == sample)).T\n",
    "    for i, coord in enumerate(coordinates):\n",
    "        sample_name = sample + '_r' + str(i)\n",
    "        sample_dict[sample_name] = [measurement[coord[1]][coord[0]] for measurement in abs_df['abs_measurements']]\n",
    "print(sample_dict)"
   ]
  },
  {
   "cell_type": "code",
   "execution_count": 12,
   "id": "2e736f12",
   "metadata": {},
   "outputs": [
    {
     "name": "stdout",
     "output_type": "stream",
     "text": [
      "   sample  Dilution(%)  OD (raw)  OD (stadardized)\n",
      "0      14          2.5     0.136             0.072\n",
      "1      15          2.5     0.118             0.054\n",
      "2      18          2.5     0.131             0.067\n",
      "3      20          2.5     0.134             0.070\n",
      "4      26          2.5     0.130             0.066\n",
      "5      27          2.5     0.117             0.053\n",
      "6      34          2.5     0.132             0.068\n",
      "7      35          2.5     0.142             0.078\n",
      "8       6          2.5     0.136             0.072\n",
      "9      10          2.5     0.123             0.059\n",
      "10     11          2.5     0.139             0.075\n",
      "11     16          2.5     0.106             0.042\n",
      "12     21          2.5     0.164             0.100\n",
      "13      B          2.5     0.064             0.000\n"
     ]
    }
   ],
   "source": [
    "# The final dataframe that needs to be loaded are the OD measures for each sample\n",
    "\n",
    "OD_measures = pd.read_csv('OD_standerdized.csv', sep=',')\n",
    "print(OD_measures)\n"
   ]
  },
  {
   "cell_type": "markdown",
   "id": "3f291d90",
   "metadata": {},
   "source": [
    "# Step 2: Filtering and correcting the data for the baseline absorbance\n",
    "\n",
    "The data currently stored in sample_dict cannot be used yet. The following data preprocessing steps need to be taken first:\n",
    "\n",
    "1. Subtract the baseline absorbance\n",
    "2. Remove any values above the 10nmol standard. "
   ]
  },
  {
   "cell_type": "code",
   "execution_count": 13,
   "id": "483cc8b8",
   "metadata": {},
   "outputs": [
    {
     "name": "stdout",
     "output_type": "stream",
     "text": [
      "{'#06_r0': array([0.0095, 0.009 , 0.009 , 0.009 , 0.009 , 0.009 , 0.009 , 0.009 ,\n",
      "       0.009 , 0.009 , 0.009 , 0.009 , 0.009 , 0.009 , 0.009 ]), '#06_r1': array([0.0115, 0.016 , 0.019 , 0.022 , 0.024 , 0.027 , 0.029 , 0.032 ,\n",
      "       0.034 , 0.037 , 0.039 , 0.042 , 0.045 , 0.048 , 0.077 ]), '#06_r2': array([0.0095, 0.008 , 0.008 , 0.009 , 0.008 , 0.008 , 0.008 , 0.008 ,\n",
      "       0.008 , 0.008 , 0.008 , 0.008 , 0.008 , 0.008 , 0.009 ]), '#10_r0': array([0.0145, 0.023 , 0.028 , 0.033 , 0.037 , 0.043 , 0.049 , 0.054 ,\n",
      "       0.06  , 0.066 , 0.071 , 0.077 , 0.083 , 0.091 , 0.158 ]), '#10_r1': array([0.0125, 0.021 , 0.026 , 0.031 , 0.036 , 0.041 , 0.047 , 0.052 ,\n",
      "       0.058 , 0.064 , 0.07  , 0.076 , 0.082 , 0.089 , 0.157 ]), '#10_r2': array([0.0325, 0.029 , 0.031 , 0.034 , 0.037 , 0.042 , 0.047 , 0.052 ,\n",
      "       0.058 , 0.064 , 0.07  , 0.075 , 0.081 , 0.089 , 0.158 ]), '#11_r0': array([0.0105, 0.011 , 0.011 , 0.011 , 0.011 , 0.011 , 0.011 , 0.011 ,\n",
      "       0.011 , 0.011 , 0.011 , 0.011 , 0.011 , 0.011 , 0.012 ]), '#11_r1': array([0.0115, 0.019 , 0.022 , 0.026 , 0.029 , 0.033 , 0.036 , 0.04  ,\n",
      "       0.043 , 0.046 , 0.05  , 0.053 , 0.056 , 0.061 , 0.098 ]), '#11_r2': array([0.0105, 0.01  , 0.011 , 0.011 , 0.01  , 0.01  , 0.01  , 0.01  ,\n",
      "       0.01  , 0.01  , 0.01  , 0.01  , 0.01  , 0.01  , 0.011 ]), '#14_r0': array([0.0105, 0.009 , 0.009 , 0.009 , 0.009 , 0.009 , 0.009 , 0.009 ,\n",
      "       0.009 , 0.009 , 0.009 , 0.009 , 0.009 , 0.009 , 0.009 ]), '#14_r1': array([0.0115, 0.01  , 0.01  , 0.01  , 0.01  , 0.01  , 0.01  , 0.01  ,\n",
      "       0.01  , 0.01  , 0.01  , 0.01  , 0.01  , 0.01  , 0.011 ]), '#14_r2': array([0.0175, 0.012 , 0.011 , 0.01  , 0.009 , 0.009 , 0.009 , 0.009 ,\n",
      "       0.009 , 0.008 , 0.008 , 0.008 , 0.008 , 0.008 , 0.009 ]), '#15_r0': array([0.0065, 0.006 , 0.006 , 0.006 , 0.006 , 0.006 , 0.006 , 0.006 ,\n",
      "       0.006 , 0.006 , 0.006 , 0.006 , 0.006 , 0.006 , 0.007 ]), '#15_r1': array([0.0195, 0.021 , 0.019 , 0.019 , 0.02  , 0.02  , 0.021 , 0.021 ,\n",
      "       0.02  , 0.021 , 0.021 , 0.022 , 0.021 , 0.021 , 0.022 ]), '#15_r2': array([0.0095, 0.008 , 0.008 , 0.008 , 0.008 , 0.008 , 0.008 , 0.008 ,\n",
      "       0.008 , 0.008 , 0.008 , 0.008 , 0.008 , 0.009 , 0.009 ]), '#16_r0': array([0.0085, 0.008 , 0.008 , 0.008 , 0.008 , 0.008 , 0.008 , 0.008 ,\n",
      "       0.008 , 0.008 , 0.009 , 0.009 , 0.009 , 0.009 , 0.009 ]), '#16_r1': array([0.0095, 0.01  , 0.01  , 0.01  , 0.01  , 0.01  , 0.01  , 0.01  ,\n",
      "       0.01  , 0.01  , 0.011 , 0.011 , 0.011 , 0.011 , 0.011 ]), '#16_r2': array([0.0105, 0.01  , 0.01  , 0.01  , 0.01  , 0.01  , 0.01  , 0.01  ,\n",
      "       0.01  , 0.01  , 0.01  , 0.01  , 0.01  , 0.01  , 0.01  ]), '#18_r0': array([0.0085, 0.008 , 0.008 , 0.009 , 0.008 , 0.008 , 0.008 , 0.008 ,\n",
      "       0.008 , 0.008 , 0.008 , 0.008 , 0.008 , 0.008 , 0.008 ]), '#18_r1': array([0.0115, 0.01  , 0.01  , 0.01  , 0.01  , 0.01  , 0.01  , 0.01  ,\n",
      "       0.01  , 0.01  , 0.01  , 0.01  , 0.01  , 0.01  , 0.01  ]), '#18_r2': array([0.0095, 0.009 , 0.009 , 0.009 , 0.009 , 0.009 , 0.009 , 0.009 ,\n",
      "       0.009 , 0.009 , 0.009 , 0.009 , 0.009 , 0.009 , 0.01  ]), '#20_r0': array([0.0105, 0.011 , 0.011 , 0.011 , 0.011 , 0.011 , 0.011 , 0.011 ,\n",
      "       0.011 , 0.011 , 0.011 , 0.011 , 0.011 , 0.011 , 0.011 ]), '#20_r1': array([0.0435, 0.194 , 0.263 , 0.336 , 0.389 , 0.444 , 0.497 , 0.543 ,\n",
      "       0.591 , 0.633 , 0.673 , 0.714 , 0.748 , 0.791 , 0.959 ]), '#20_r2': array([0.0115, 0.011 , 0.011 , 0.011 , 0.011 , 0.011 , 0.011 , 0.011 ,\n",
      "       0.011 , 0.011 , 0.011 , 0.011 , 0.011 , 0.011 , 0.011 ]), '#21_r0': array([0.0085, 0.008 , 0.009 , 0.009 , 0.01  , 0.01  , 0.011 , 0.012 ,\n",
      "       0.012 , 0.013 , 0.013 , 0.014 , 0.015 , 0.015 , 0.023 ]), '#21_r1': array([0.0095, 0.009 , 0.01  , 0.01  , 0.011 , 0.011 , 0.012 , 0.012 ,\n",
      "       0.013 , 0.013 , 0.014 , 0.015 , 0.015 , 0.016 , 0.024 ]), '#21_r2': array([0.0635, 0.043 , 0.036 , 0.028 , 0.024 , 0.012 , 0.013 , 0.013 ,\n",
      "       0.014 , 0.014 , 0.015 , 0.015 , 0.016 , 0.017 , 0.024 ]), '#26_r0': array([0.0125, 0.013 , 0.013 , 0.014 , 0.015 , 0.016 , 0.017 , 0.017 ,\n",
      "       0.018 , 0.019 , 0.02  , 0.021 , 0.023 , 0.024 , 0.038 ]), '#26_r1': array([0.0095, 0.01  , 0.01  , 0.011 , 0.012 , 0.013 , 0.014 , 0.014 ,\n",
      "       0.015 , 0.016 , 0.017 , 0.018 , 0.019 , 0.021 , 0.033 ]), '#26_r2': array([0.0115, 0.012 , 0.013 , 0.015 , 0.015 , 0.016 , 0.017 , 0.018 ,\n",
      "       0.019 , 0.02  , 0.021 , 0.022 , 0.023 , 0.025 , 0.038 ]), '#27_r0': array([0.0245, 0.041 , 0.05  , 0.06  , 0.068 , 0.077 , 0.087 , 0.096 ,\n",
      "       0.107 , 0.116 , 0.126 , 0.136 , 0.146 , 0.159 , 0.272 ]), '#27_r1': array([0.0215, 0.037 , 0.046 , 0.056 , 0.064 , 0.073 , 0.083 , 0.092 ,\n",
      "       0.102 , 0.112 , 0.121 , 0.132 , 0.141 , 0.154 , 0.267 ]), '#27_r2': array([0.0225, 0.039 , 0.048 , 0.058 , 0.066 , 0.075 , 0.085 , 0.094 ,\n",
      "       0.104 , 0.114 , 0.124 , 0.134 , 0.144 , 0.157 , 0.27  ]), '#34_r0': array([0.0115, 0.011 , 0.012 , 0.013 , 0.014 , 0.015 , 0.016 , 0.017 ,\n",
      "       0.018 , 0.019 , 0.02  , 0.022 , 0.023 , 0.025 , 0.041 ]), '#34_r1': array([0.0095, 0.01  , 0.01  , 0.011 , 0.012 , 0.013 , 0.014 , 0.015 ,\n",
      "       0.015 , 0.016 , 0.017 , 0.019 , 0.02  , 0.021 , 0.036 ]), '#34_r2': array([0.0115, 0.011 , 0.012 , 0.013 , 0.013 , 0.014 , 0.015 , 0.016 ,\n",
      "       0.017 , 0.017 , 0.018 , 0.019 , 0.02  , 0.022 , 0.035 ]), '#35_r0': array([0.0105, 0.011 , 0.011 , 0.013 , 0.014 , 0.015 , 0.016 , 0.017 ,\n",
      "       0.018 , 0.018 , 0.02  , 0.021 , 0.022 , 0.023 , 0.038 ]), '#35_r1': array([0.0105, 0.01  , 0.011 , 0.012 , 0.012 , 0.014 , 0.014 , 0.015 ,\n",
      "       0.016 , 0.018 , 0.018 , 0.019 , 0.021 , 0.022 , 0.036 ]), '#35_r2': array([0.0145, 0.015 , 0.015 , 0.016 , 0.017 , 0.018 , 0.019 , 0.02  ,\n",
      "       0.021 , 0.022 , 0.023 , 0.024 , 0.025 , 0.027 , 0.04  ]), '10nmol_r0': array([0.4255, 0.448 , 0.456 , 0.459 , 0.461 , 0.462 , 0.462 , 0.462 ,\n",
      "       0.463 , 0.463 , 0.463 , 0.464 , 0.464 , 0.464 , 0.466 ]), '10nmol_r1': array([0.4475, 0.468 , 0.475 , 0.477 , 0.479 , 0.479 , 0.48  , 0.481 ,\n",
      "       0.481 , 0.481 , 0.482 , 0.482 , 0.482 , 0.483 , 0.485 ]), '2nmol_r0': array([0.0895, 0.092 , 0.094 , 0.094 , 0.095 , 0.095 , 0.095 , 0.095 ,\n",
      "       0.095 , 0.095 , 0.095 , 0.095 , 0.095 , 0.095 , 0.096 ]), '2nmol_r1': array([0.0965, 0.1   , 0.101 , 0.102 , 0.102 , 0.103 , 0.103 , 0.103 ,\n",
      "       0.103 , 0.103 , 0.103 , 0.103 , 0.103 , 0.103 , 0.104 ]), 'BLANK_r0': array([0.0005, 0.    , 0.    , 0.    , 0.    , 0.    , 0.    , 0.    ,\n",
      "       0.    , 0.    , 0.    , 0.    , 0.    , 0.    , 0.    ]), 'BLANK_r1': array([-0.0005,  0.    ,  0.    ,  0.    ,  0.    ,  0.    ,  0.    ,\n",
      "        0.    ,  0.    ,  0.    ,  0.    ,  0.    ,  0.    ,  0.    ,\n",
      "        0.    ])}\n"
     ]
    }
   ],
   "source": [
    "# Determining the average baseline\n",
    "baseline = np.average([sample_dict['BLANK_r0'],sample_dict['BLANK_r1']], axis=0)\n",
    "\n",
    "# subtracting the baseline from the other samples\n",
    "for sample in sample_dict:\n",
    "    sample_dict[sample] = np.subtract(sample_dict[sample], baseline)\n",
    "\n",
    "print(sample_dict)"
   ]
  },
  {
   "cell_type": "code",
   "execution_count": 14,
   "id": "86c54285",
   "metadata": {},
   "outputs": [
    {
     "name": "stdout",
     "output_type": "stream",
     "text": [
      "Shortening the time series of sample #20_r1 to length 6\n"
     ]
    }
   ],
   "source": [
    "# Next up is checking whether there are any datapoints that show an obsorbance which is higher than the 10nmol \n",
    "# standard. Measurements above this standard are not reliable and thus cannot be used as input for the ART. \n",
    "# Measurements of the same sample taken before the absorbance exceeded the standard can still be used as training data \n",
    "# for the ART.\n",
    "\n",
    "def correct_sample_by_standard(standard, sample, sample_name):\n",
    "    rest = np.subtract(standard, sample)\n",
    "    corrected_sample = sample\n",
    "    for i, d_measurement in enumerate(rest):\n",
    "        if d_measurement < 0:  # If d_measurement is less then 0, it means that absorbance measure in the sample has exceeded the 10 nmol standard\n",
    "            corrected_sample = sample[:i]\n",
    "            print(f'Shortening the time series of sample {sample_name} to length {len(corrected_sample)}')\n",
    "            break\n",
    "    return corrected_sample\n",
    "\n",
    "avg_10nmol_standard = np.average([sample_dict['10nmol_r0'],sample_dict['10nmol_r1']], axis=0)\n",
    "\n",
    "for sample, measurement in sample_dict.items():\n",
    "    if ('#' in sample): # Only check the actual samples and skip the standard and baseline measurements\n",
    "        sample_dict[sample] = correct_sample_by_standard(avg_10nmol_standard, measurement, sample)\n"
   ]
  },
  {
   "cell_type": "markdown",
   "id": "5564d541",
   "metadata": {},
   "source": [
    "# Step 3: Determine alpha-amylase activity of each sample\n",
    "\n",
    "The alpha-amylase activity of a sample is determined by the change in absorbance over time. This change in absorbance is linear with respect to time. Therefore, it is possible to fit a linear curve to each sample in order to abtain a function in the form of $absorbance = a*t+b$, where $a$ is the change in absorbance over time (i.e. the alpha-amylase activity), $t$ is the time and $b$ is some offset. \n",
    "\n",
    "Under perfect conditions, $b$ would be 0. However, preparing the samples takes some time. This means that at the time of the first measurement, some samples already had the time to **X** for about 15 minutes while others were only prepared one minute in advance. This means that $b$ will not be 0 for most of our samples.\n",
    "\n",
    "For our analysis, the exact value of $b$ is irrelevant as the main interest lies within the change in absobance (i.e. $a$). The value of $b$ is only needed in order to fit the linear curve better to the datapoints. Once the curve has been fitted, the $a$ value is used and interpreted as the alpha-amylase activity of the sample. \n",
    "\n",
    "It is however important to first validate wether the absorbance measures indeed follow a linear pattern with respect to time. "
   ]
  },
  {
   "cell_type": "code",
   "execution_count": 15,
   "id": "521e7ab4",
   "metadata": {},
   "outputs": [
    {
     "name": "stdout",
     "output_type": "stream",
     "text": [
      "The absorbance measure of sample #06_r0:\n",
      "[0.0095 0.009  0.009  0.009  0.009  0.009  0.009  0.009  0.009  0.009\n",
      " 0.009  0.009  0.009  0.009  0.009 ]\n",
      "Sample #06_r1 fits the linear curve with an R^2 of 0.9991643891211567\n",
      "The absorbance measure of sample #06_r2:\n",
      "[0.0095 0.008  0.008  0.009  0.008  0.008  0.008  0.008  0.008  0.008\n",
      " 0.008  0.008  0.008  0.008  0.009 ]\n",
      "Sample #10_r0 fits the linear curve with an R^2 of 0.9961603991092894\n",
      "Sample #10_r1 fits the linear curve with an R^2 of 0.9963388616499251\n",
      "Sample #10_r2 fits the linear curve with an R^2 of 0.9608470498519187\n",
      "The absorbance measure of sample #11_r0:\n",
      "[0.0105 0.011  0.011  0.011  0.011  0.011  0.011  0.011  0.011  0.011\n",
      " 0.011  0.011  0.011  0.011  0.012 ]\n",
      "Sample #11_r1 fits the linear curve with an R^2 of 0.9994143522228782\n",
      "The absorbance measure of sample #11_r2:\n",
      "[0.0105 0.01   0.011  0.011  0.01   0.01   0.01   0.01   0.01   0.01\n",
      " 0.01   0.01   0.01   0.01   0.011 ]\n",
      "The absorbance measure of sample #14_r0:\n",
      "[0.0105 0.009  0.009  0.009  0.009  0.009  0.009  0.009  0.009  0.009\n",
      " 0.009  0.009  0.009  0.009  0.009 ]\n",
      "The absorbance measure of sample #14_r1:\n",
      "[0.0115 0.01   0.01   0.01   0.01   0.01   0.01   0.01   0.01   0.01\n",
      " 0.01   0.01   0.01   0.01   0.011 ]\n",
      "The absorbance measure of sample #14_r2:\n",
      "[0.0175 0.012  0.011  0.01   0.009  0.009  0.009  0.009  0.009  0.008\n",
      " 0.008  0.008  0.008  0.008  0.009 ]\n",
      "The absorbance measure of sample #15_r0:\n",
      "[0.0065 0.006  0.006  0.006  0.006  0.006  0.006  0.006  0.006  0.006\n",
      " 0.006  0.006  0.006  0.006  0.007 ]\n",
      "The absorbance measure of sample #15_r1:\n",
      "[0.0195 0.021  0.019  0.019  0.02   0.02   0.021  0.021  0.02   0.021\n",
      " 0.021  0.022  0.021  0.021  0.022 ]\n",
      "The absorbance measure of sample #15_r2:\n",
      "[0.0095 0.008  0.008  0.008  0.008  0.008  0.008  0.008  0.008  0.008\n",
      " 0.008  0.008  0.008  0.009  0.009 ]\n",
      "The absorbance measure of sample #16_r0:\n",
      "[0.0085 0.008  0.008  0.008  0.008  0.008  0.008  0.008  0.008  0.008\n",
      " 0.009  0.009  0.009  0.009  0.009 ]\n",
      "The absorbance measure of sample #16_r1:\n",
      "[0.0095 0.01   0.01   0.01   0.01   0.01   0.01   0.01   0.01   0.01\n",
      " 0.011  0.011  0.011  0.011  0.011 ]\n",
      "The absorbance measure of sample #16_r2:\n",
      "[0.0105 0.01   0.01   0.01   0.01   0.01   0.01   0.01   0.01   0.01\n",
      " 0.01   0.01   0.01   0.01   0.01  ]\n",
      "The absorbance measure of sample #18_r0:\n",
      "[0.0085 0.008  0.008  0.009  0.008  0.008  0.008  0.008  0.008  0.008\n",
      " 0.008  0.008  0.008  0.008  0.008 ]\n",
      "The absorbance measure of sample #18_r1:\n",
      "[0.0115 0.01   0.01   0.01   0.01   0.01   0.01   0.01   0.01   0.01\n",
      " 0.01   0.01   0.01   0.01   0.01  ]\n",
      "The absorbance measure of sample #18_r2:\n",
      "[0.0095 0.009  0.009  0.009  0.009  0.009  0.009  0.009  0.009  0.009\n",
      " 0.009  0.009  0.009  0.009  0.01  ]\n",
      "The absorbance measure of sample #20_r0:\n",
      "[0.0105 0.011  0.011  0.011  0.011  0.011  0.011  0.011  0.011  0.011\n",
      " 0.011  0.011  0.011  0.011  0.011 ]\n",
      "Sample #20_r1 fits the linear curve with an R^2 of 0.9980315386688146\n",
      "The absorbance measure of sample #20_r2:\n",
      "[0.0115 0.011  0.011  0.011  0.011  0.011  0.011  0.011  0.011  0.011\n",
      " 0.011  0.011  0.011  0.011  0.011 ]\n",
      "Sample #21_r0 fits the linear curve with an R^2 of 0.9757790580519199\n",
      "Sample #21_r1 fits the linear curve with an R^2 of 0.9677300909352989\n",
      "The absorbance measure of sample #21_r2:\n",
      "[0.0635 0.043  0.036  0.028  0.024  0.012  0.013  0.013  0.014  0.014\n",
      " 0.015  0.015  0.016  0.017  0.024 ]\n",
      "Sample #26_r0 fits the linear curve with an R^2 of 0.9653563176986353\n",
      "Sample #26_r1 fits the linear curve with an R^2 of 0.9741083527758839\n",
      "Sample #26_r2 fits the linear curve with an R^2 of 0.9875403889237027\n",
      "Sample #27_r0 fits the linear curve with an R^2 of 0.9981754342234114\n",
      "Sample #27_r1 fits the linear curve with an R^2 of 0.9979165391272021\n",
      "Sample #27_r2 fits the linear curve with an R^2 of 0.9981149701191296\n",
      "Sample #34_r0 fits the linear curve with an R^2 of 0.9685881669601898\n",
      "Sample #34_r1 fits the linear curve with an R^2 of 0.9646482709570571\n",
      "Sample #34_r2 fits the linear curve with an R^2 of 0.9598122281327575\n",
      "Sample #35_r0 fits the linear curve with an R^2 of 0.9806443215075106\n",
      "Sample #35_r1 fits the linear curve with an R^2 of 0.9673465065266547\n",
      "Sample #35_r2 fits the linear curve with an R^2 of 0.9793748561545693\n"
     ]
    },
    {
     "data": {
      "text/plain": [
       "<matplotlib.legend.Legend at 0x7fc1ffcf0b80>"
      ]
     },
     "execution_count": 15,
     "metadata": {},
     "output_type": "execute_result"
    },
    {
     "data": {
      "image/png": "[encoded data removed]",
      "text/plain": [
       "<Figure size 432x288 with 1 Axes>"
      ]
     },
     "metadata": {
      "needs_background": "light"
     },
     "output_type": "display_data"
    }
   ],
   "source": [
    "\n",
    "# Defining a linear curve\n",
    "def linear_curve(x, a, b):\n",
    "    return a * x + b\n",
    "\n",
    "# Calculating R^2. For an explanation, see https://stackoverflow.com/questions/19189362/getting-the-r-squared-value-using-curve-fit\n",
    "def determine_R2(xdata, ydata, popt):\n",
    "    residuals = ydata - linear_curve(xdata, *popt)\n",
    "    ss_res = np.sum(residuals**2)\n",
    "    ss_tot = np.sum((ydata-np.mean(ydata))**2)\n",
    "    r_squared = 1 - (ss_res / ss_tot)\n",
    "    return r_squared\n",
    "\n",
    "activity_dict={}\n",
    "for sample in sample_dict:\n",
    "    if ('#' in sample): # Only analize the samples and not the standards\n",
    "        ydata = sample_dict[sample]\n",
    "        xdata = abs_df['absolute_diff'][:len(ydata)] # As some samples might have been corrected for exceeding the standard, the length of the xdata might need to be shortened as well for that perticular sample\n",
    "        popt, pcov = curve_fit(linear_curve, xdata, ydata)\n",
    "        a, b = popt\n",
    "        activity_dict[sample] = a # As explaine above, the slope of the curve is anagolous to the activity of the sample\n",
    "        R_squared = determine_R2(xdata, ydata, popt)\n",
    "\n",
    "        # The R^2 value represents how well the y-value can be explained by the x-value by some function f(). In this case,\n",
    "        # the f() function is a first order polynomial (i.e. a linear curve) in the form of f(x)=y=a*x+b. The downside of using \n",
    "        # the R^2 value for representing the fit to a linear curve, is that is there is no slope (i.e. a=0), the R^2 value is 0\n",
    "        # as well. Therefore, all absorbance measures that have a R^2 value of less than 0.95 need to be manually verified on whether\n",
    "        # they are in fact linear curves. \n",
    "        if R_squared < 0.95: \n",
    "            plt.plot(xdata, ydata, label=sample)\n",
    "            #print(f'R^2 value of sample {sample}: {R_squared}')\n",
    "            print(f'The absorbance measure of sample {sample}:')\n",
    "            print(ydata)\n",
    "        else:\n",
    "            print(f'Sample {sample} fits the linear curve with an R^2 of {R_squared}')\n",
    "plt.legend()"
   ]
  },
  {
   "cell_type": "markdown",
   "id": "155d459c",
   "metadata": {},
   "source": [
    "Based on the figure created in the cell above, it should be possible to locate any sample that does not show the expected linear behavior. In order to exclude this sample, along with other replicates of the same sample, enter the name of this sample in the in the cell below"
   ]
  },
  {
   "cell_type": "code",
   "execution_count": 17,
   "id": "3a4a5a6b",
   "metadata": {},
   "outputs": [
    {
     "name": "stdout",
     "output_type": "stream",
     "text": [
      "Samples in dictionary before removal: dict_keys(['#06_r0', '#06_r1', '#06_r2', '#10_r0', '#10_r1', '#10_r2', '#11_r0', '#11_r1', '#11_r2', '#14_r0', '#14_r1', '#14_r2', '#15_r0', '#15_r1', '#15_r2', '#16_r0', '#16_r1', '#16_r2', '#18_r0', '#18_r1', '#18_r2', '#20_r0', '#20_r1', '#20_r2', '#21_r0', '#21_r1', '#21_r2', '#26_r0', '#26_r1', '#26_r2', '#27_r0', '#27_r1', '#27_r2', '#34_r0', '#34_r1', '#34_r2', '#35_r0', '#35_r1', '#35_r2'])\n",
      "Samples in dictionary after removal: dict_keys(['#06_r0', '#06_r1', '#06_r2', '#10_r0', '#10_r1', '#10_r2', '#11_r0', '#11_r1', '#11_r2', '#14_r0', '#14_r1', '#14_r2', '#15_r0', '#15_r1', '#15_r2', '#16_r0', '#16_r1', '#16_r2', '#18_r0', '#18_r1', '#18_r2', '#20_r0', '#20_r1', '#20_r2', '#21_r0', '#21_r1', '#21_r2', '#26_r0', '#26_r1', '#26_r2', '#27_r0', '#27_r1', '#27_r2', '#34_r0', '#34_r1', '#34_r2', '#35_r0', '#35_r1', '#35_r2'])\n"
     ]
    }
   ],
   "source": [
    "\n",
    "samples_to_exclude = [] # for example: ['#26', '#17'] in order to exclude all replicates of samples 26 and 17\n",
    "\n",
    "\n",
    "print(f'Samples in dictionary before removal: {activity_dict.keys()}')\n",
    "for sample in samples_to_exclude:\n",
    "    activity_dict = dict(filter(lambda elem: sample not in elem[0], activity_dict.items()))\n",
    "print(f'Samples in dictionary after removal: {activity_dict.keys()}')"
   ]
  },
  {
   "cell_type": "markdown",
   "id": "0a559c03",
   "metadata": {},
   "source": [
    "# Step 4: Correcting for OD\n",
    "\n",
    "The starting conditions of the overnight cultures were not completely equal across all samples. In order to prevent samples that started their overnight cultures with a higher cell count from yielding the best results, it is necesarry to first account for the number of cells in each sample. The Optical Density (OD) of the sample before **X(forgot how it is called)** was used as a proxy for this cell count. Under the assumption that there is a linear relation between cell count, OD and alpha-amylase activity, the alpha-amylase activity per cell unit can be derived by deviding the overall alpha-amylase activity of a sample with the OD of that sample. \n",
    "\n",
    "Another issue is that the linearity of the OD with respect to the number of cells no longer holds after the sample has reached an OD of **X (enter exact value)** and values onder a **Y (enter exact value)** contain a substantial about of measuring error. Therefore, each sample was diluted to either 2.5%, 1% or .5% depending on which level of dilution yielded an OD between **X** and **Y**. \n",
    "\n",
    "Therefore, the first step is to determine how many cell units there were in the original sample by deviding the measured OD over the concentration of the diluted mixture. Afterwards, the alpha-amylase activity per cell unit is determined by deviding the total alpha-amylase activity of a sample over the number of cell units within that sample."
   ]
  },
  {
   "cell_type": "code",
   "execution_count": 18,
   "id": "ca66ae7b",
   "metadata": {},
   "outputs": [
    {
     "name": "stdout",
     "output_type": "stream",
     "text": [
      "   sample  Dilution(%)  OD (raw)  OD (stadardized)  cell_units\n",
      "0      14          2.5     0.136             0.072        2.88\n",
      "1      15          2.5     0.118             0.054        2.16\n",
      "2      18          2.5     0.131             0.067        2.68\n",
      "3      20          2.5     0.134             0.070        2.80\n",
      "4      26          2.5     0.130             0.066        2.64\n",
      "5      27          2.5     0.117             0.053        2.12\n",
      "6      34          2.5     0.132             0.068        2.72\n",
      "7      35          2.5     0.142             0.078        3.12\n",
      "8       6          2.5     0.136             0.072        2.88\n",
      "9      10          2.5     0.123             0.059        2.36\n",
      "10     11          2.5     0.139             0.075        3.00\n",
      "11     16          2.5     0.106             0.042        1.68\n",
      "12     21          2.5     0.164             0.100        4.00\n",
      "13      B          2.5     0.064             0.000        0.00\n"
     ]
    }
   ],
   "source": [
    "OD_measures['cell_units'] = OD_measures['OD (stadardized)']/(OD_measures['Dilution(%)']/100)\n",
    "print(OD_measures)"
   ]
  },
  {
   "cell_type": "code",
   "execution_count": 22,
   "id": "8b04644a",
   "metadata": {},
   "outputs": [
    {
     "name": "stdout",
     "output_type": "stream",
     "text": [
      "{'#06_r0': -2.35348764160406e-08, '#06_r1': 7.428108693858802e-06, '#06_r2': -5.988140087876387e-09, '#10_r0': 3.6282118003981806e-05, '#10_r1': 3.655467788684241e-05, '#10_r2': 3.340332992773923e-05, '#11_r0': 9.533342861512606e-08, '#11_r1': 8.302287873281187e-06, '#11_r2': 9.994667523812097e-09, '#14_r0': -7.060462637205134e-08, '#14_r1': 1.8103753798058027e-08, '#14_r2': -6.748521687720322e-07, '#15_r0': 2.0598046446733474e-07, '#15_r1': 9.933716492486703e-07, '#15_r2': 1.4612291688777092e-07, '#16_r0': 1.2640398345142423e-06, '#16_r1': 1.6705531963628884e-06, '#16_r2': -2.0325664196710426e-07, '#18_r0': -6.351582760853325e-08, '#18_r1': -9.415945455621596e-08, '#18_r2': 8.691642444720734e-08, '#20_r0': 2.634207113674985e-08, '#20_r1': 0.0002065490821353372, '#20_r2': -2.6342060798936717e-08, '#21_r0': 4.623788646615679e-07, '#21_r1': 4.5513723730586526e-07, '#21_r2': -9.180213299460756e-07, '#26_r0': 4.1253244935810755e-06, '#26_r1': 3.84160488108352e-06, '#26_r2': 4.297903330479064e-06, '#27_r0': 9.578268384189823e-05, '#27_r1': 9.509708529784011e-05, '#27_r2': 9.577580643755321e-05, '#34_r0': 4.317622912518464e-06, '#34_r1': 3.790686520746994e-06, '#34_r2': 3.392924355697553e-06, '#35_r0': 2.2806979889906376e-06, '#35_r1': 2.1648810956292078e-06, '#35_r2': 2.1614434960316345e-06}\n"
     ]
    },
    {
     "data": {
      "text/plain": [
       "<BarContainer object of 39 artists>"
      ]
     },
     "execution_count": 22,
     "metadata": {},
     "output_type": "execute_result"
    },
    {
     "data": {
      "image/png": "[encoded data removed]",
      "text/plain": [
       "<Figure size 720x360 with 1 Axes>"
      ]
     },
     "metadata": {
      "needs_background": "light"
     },
     "output_type": "display_data"
    }
   ],
   "source": [
    "# In order to account for the un-equal cell counts at the beginning of the incubation period of each sample, the\n",
    "# activity for each replicate is divided by the number of cell units within the original sample. \n",
    "\n",
    "for sample in activity_dict:\n",
    "    sample_number = re.findall(r'^(?:#)(\\d\\d)', sample) # some RegEX for finding the sample number\n",
    "    if len(sample_number)>0:\n",
    "        sample_number = int(sample_number[0])\n",
    "        activity_dict[sample] = activity_dict[sample]/OD_measures.loc[OD_measures['sample']==str(sample_number)].iloc[0]['cell_units']\n",
    "\n",
    "print(activity_dict)\n",
    "\n",
    "fig, ax = plt.subplots(figsize=(10, 5))\n",
    "ax.tick_params(axis='x', rotation=90)\n",
    "ax.set_title('Alpha-amylase activity of each replicate',fontsize=20)\n",
    "plt.bar(activity_dict.keys(), activity_dict.values())\n",
    "# plt.xticks(rotation=90)"
   ]
  },
  {
   "cell_type": "markdown",
   "id": "cc200266",
   "metadata": {},
   "source": [
    "It is possible that some replicates show a completely different value then the other replicates of the same sample. This absolutely fine. The actual outlier detection is handled by the ART, so these 'weird' values can remain in the input data for the ART."
   ]
  },
  {
   "cell_type": "markdown",
   "id": "472eac33",
   "metadata": {},
   "source": [
    "# Step 5: Match the strain name with the strain, promoter, secretion peptide and gene combination\n",
    "\n",
    "Once the activity of each sample has been determined, this activity needs to be matched to combination of parts used for creating the sample. The end result is a file in which can be directly used by the ART pipeline.  "
   ]
  },
  {
   "cell_type": "code",
   "execution_count": 25,
   "id": "1444e072",
   "metadata": {},
   "outputs": [
    {
     "name": "stdout",
     "output_type": "stream",
     "text": [
      "   Line name Replicate  activity  str_idx  pro_idx  sec_idx  gen_idx\n",
      "15       #06        r0 -0.000001        2       11       17       19\n",
      "   Line name Replicate  activity  str_idx  pro_idx  sec_idx  gen_idx\n",
      "16       #06        r1  0.000177        2       11       17       19\n",
      "   Line name Replicate activity  str_idx  pro_idx  sec_idx  gen_idx\n",
      "17       #06        r2     -0.0        2       11       17       19\n",
      "   Line name Replicate  activity  str_idx  pro_idx  sec_idx  gen_idx\n",
      "27       #10        r0  0.000477        2        8       16       22\n",
      "   Line name Replicate activity  str_idx  pro_idx  sec_idx  gen_idx\n",
      "28       #10        r1  0.00048        2        8       16       22\n",
      "   Line name Replicate  activity  str_idx  pro_idx  sec_idx  gen_idx\n",
      "29       #10        r2  0.000439        2        8       16       22\n",
      "   Line name Replicate  activity  str_idx  pro_idx  sec_idx  gen_idx\n",
      "30       #11        r0  0.000003        2        5       15       21\n",
      "   Line name Replicate  activity  str_idx  pro_idx  sec_idx  gen_idx\n",
      "31       #11        r1  0.000224        2        5       15       21\n",
      "   Line name Replicate activity  str_idx  pro_idx  sec_idx  gen_idx\n",
      "32       #11        r2      0.0        2        5       15       21\n",
      "   Line name Replicate  activity  str_idx  pro_idx  sec_idx  gen_idx\n",
      "39       #14        r0 -0.000002        1       14       16       20\n",
      "   Line name Replicate activity  str_idx  pro_idx  sec_idx  gen_idx\n",
      "40       #14        r1      0.0        1       14       16       20\n",
      "   Line name Replicate  activity  str_idx  pro_idx  sec_idx  gen_idx\n",
      "41       #14        r2 -0.000016        1       14       16       20\n",
      "   Line name Replicate  activity  str_idx  pro_idx  sec_idx  gen_idx\n",
      "42       #15        r0  0.000002        1        6       18       19\n",
      "   Line name Replicate activity  str_idx  pro_idx  sec_idx  gen_idx\n",
      "43       #15        r1  0.00001        1        6       18       19\n",
      "   Line name Replicate  activity  str_idx  pro_idx  sec_idx  gen_idx\n",
      "44       #15        r2  0.000001        1        6       18       19\n",
      "   Line name Replicate  activity  str_idx  pro_idx  sec_idx  gen_idx\n",
      "45       #16        r0  0.000006        2       13       15       21\n",
      "   Line name Replicate  activity  str_idx  pro_idx  sec_idx  gen_idx\n",
      "46       #16        r1  0.000008        2       13       15       21\n",
      "   Line name Replicate  activity  str_idx  pro_idx  sec_idx  gen_idx\n",
      "47       #16        r2 -0.000001        2       13       15       21\n",
      "   Line name Replicate  activity  str_idx  pro_idx  sec_idx  gen_idx\n",
      "51       #18        r0 -0.000001        1       13       18       20\n",
      "   Line name Replicate  activity  str_idx  pro_idx  sec_idx  gen_idx\n",
      "52       #18        r1 -0.000002        1       13       18       20\n",
      "   Line name Replicate  activity  str_idx  pro_idx  sec_idx  gen_idx\n",
      "53       #18        r2  0.000002        1       13       18       20\n",
      "   Line name Replicate  activity  str_idx  pro_idx  sec_idx  gen_idx\n",
      "57       #20        r0  0.000001        1       11       18       20\n",
      "   Line name Replicate  activity  str_idx  pro_idx  sec_idx  gen_idx\n",
      "58       #20        r1  0.004534        1       11       18       20\n",
      "   Line name Replicate  activity  str_idx  pro_idx  sec_idx  gen_idx\n",
      "59       #20        r2 -0.000001        1       11       18       20\n",
      "   Line name Replicate activity  str_idx  pro_idx  sec_idx  gen_idx\n",
      "60       #21        r0  0.00003        2       10       16       22\n",
      "   Line name Replicate  activity  str_idx  pro_idx  sec_idx  gen_idx\n",
      "61       #21        r1  0.000029        2       10       16       22\n",
      "   Line name Replicate  activity  str_idx  pro_idx  sec_idx  gen_idx\n",
      "62       #21        r2 -0.000059        2       10       16       22\n",
      "   Line name Replicate  activity  str_idx  pro_idx  sec_idx  gen_idx\n",
      "75       #26        r0  0.000076        1        8       16       21\n",
      "   Line name Replicate  activity  str_idx  pro_idx  sec_idx  gen_idx\n",
      "76       #26        r1  0.000071        1        8       16       21\n",
      "   Line name Replicate  activity  str_idx  pro_idx  sec_idx  gen_idx\n",
      "77       #26        r2  0.000079        1        8       16       21\n",
      "   Line name Replicate  activity  str_idx  pro_idx  sec_idx  gen_idx\n",
      "78       #27        r0  0.000913        1       11       15       22\n",
      "   Line name Replicate  activity  str_idx  pro_idx  sec_idx  gen_idx\n",
      "79       #27        r1  0.000906        1       11       15       22\n",
      "   Line name Replicate  activity  str_idx  pro_idx  sec_idx  gen_idx\n",
      "80       #27        r2  0.000913        1       11       15       22\n",
      "   Line name Replicate  activity  str_idx  pro_idx  sec_idx  gen_idx\n",
      "99       #34        r0  0.000087        1        7       16       21\n",
      "    Line name Replicate  activity  str_idx  pro_idx  sec_idx  gen_idx\n",
      "100       #34        r1  0.000076        1        7       16       21\n",
      "    Line name Replicate  activity  str_idx  pro_idx  sec_idx  gen_idx\n",
      "101       #34        r2  0.000068        1        7       16       21\n",
      "    Line name Replicate  activity  str_idx  pro_idx  sec_idx  gen_idx\n",
      "102       #35        r0  0.000069        1       10       17       21\n",
      "    Line name Replicate  activity  str_idx  pro_idx  sec_idx  gen_idx\n",
      "103       #35        r1  0.000066        1       10       17       21\n",
      "    Line name Replicate  activity  str_idx  pro_idx  sec_idx  gen_idx\n",
      "104       #35        r2  0.000066        1       10       17       21\n"
     ]
    }
   ],
   "source": [
    "os.chdir(cwd) # set the working directory back to the orignal one\n",
    "\n",
    "results = pd.read_csv('Sample_list.csv', sep=',') # load in the file contianing the link of the sample name to the various parts\n",
    "for sample in activity_dict:\n",
    "    line_name, replicate = sample.split('_')\n",
    "    \n",
    "    # Adding the measured activity to the results\n",
    "    results.loc[(results['Line name']==line_name) & (results['Replicate']==replicate), 'activity'] = activity_dict[sample]\n",
    "    print(results.loc[(results['Line name']==line_name) & (results['Replicate']==replicate)])\n",
    "# Write the results into the original file\n",
    "results.to_csv('Sample_list.csv', sep=',', index=False) "
   ]
  },
  {
   "cell_type": "code",
   "execution_count": null,
   "id": "d5d7d484",
   "metadata": {},
   "outputs": [],
   "source": []
  }
 ],
 "metadata": {
  "kernelspec": {
   "display_name": "Python 3 (ipykernel)",
   "language": "python",
   "name": "python3"
  },
  "language_info": {
   "codemirror_mode": {
    "name": "ipython",
    "version": 3
   },
   "file_extension": ".py",
   "mimetype": "text/x-python",
   "name": "python",
   "nbconvert_exporter": "python",
   "pygments_lexer": "ipython3",
   "version": "3.9.2"
  }
 },
 "nbformat": 4,
 "nbformat_minor": 5
}
