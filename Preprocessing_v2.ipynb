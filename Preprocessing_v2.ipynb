{
 "cells": [
  {
   "cell_type": "code",
   "execution_count": 1,
   "id": "6983d0a8",
   "metadata": {},
   "outputs": [],
   "source": [
    "import sys\n",
    "import glob\n",
    "import os\n",
    "import re\n",
    "import numpy as np\n",
    "import pandas as pd\n",
    "import matplotlib as mpl\n",
    "import matplotlib.pyplot as plt\n",
    "%matplotlib inline\n",
    "\n",
    "\n",
    "from itertools import chain\n",
    "from scipy.optimize import curve_fit\n",
    "\n",
    "# setting the colorscheme of the figures\n",
    "COLOR = '#307890'\n",
    "mpl.rcParams.update({'text.color' : COLOR,\n",
    "                     'axes.labelcolor' : COLOR,\n",
    "                     'xtick.color': COLOR,\n",
    "                     'ytick.color': COLOR, \n",
    "                     'axes.edgecolor': COLOR})"
   ]
  },
  {
   "cell_type": "markdown",
   "id": "5becc6bc",
   "metadata": {},
   "source": [
    "# Preprocessing of the data\n",
    "\n",
    "For usage of the ART, it is important that each replicate is assigned a single measurement value which represents how well the replicate performed. This value is often also referred to as the *performance measure*. For our perticular project, we decided to use the activity of the alpha-amylase produces by our machines as the performance measure. However, the output of our experiments is a time-series of absorbance measures and an OD measure for each sample. In this notebook, we go over the steps on how to go from these varying data types to a single alpha-amylase activity value. Note that only one 96 well plate can be processed at the time. If multiple 96 well plates are used, rerun this notebook for each well plate"
   ]
  },
  {
   "cell_type": "markdown",
   "id": "d7b81b2a",
   "metadata": {},
   "source": [
    "## Step 1: Loading and structuring the data\n",
    "\n",
    "Before any preprocessing can be done, the measurement data needs to be loaded into the python environment. For easy excess, we will store these measurments in a dataframe."
   ]
  },
  {
   "cell_type": "code",
   "execution_count": 2,
   "id": "1c9e635f",
   "metadata": {},
   "outputs": [],
   "source": [
    "# Storing the current working directory for later usage\n",
    "cwd = os.getcwd()\n",
    "plate_name = 'AA 2-10' # Change this line in order to analyse a different 96 well plate\n",
    "# Change into the correct working directory\n",
    "data_dir = os.path.join(cwd,'data',plate_name)\n",
    "os.chdir(data_dir)"
   ]
  },
  {
   "cell_type": "code",
   "execution_count": 3,
   "id": "18d9ff1b",
   "metadata": {},
   "outputs": [
    {
     "name": "stdout",
     "output_type": "stream",
     "text": [
      "['19.02.TXT', '19.14.TXT', '19.19.TXT', '19.24.TXT', '19.29.TXT', '19.34.TXT', '19.39.TXT', '19.44.TXT', '19.49.TXT', '19.54.TXT', '19.59.TXT', '20.04.TXT', '20.09.TXT', '20.14.TXT', '21.12.TXT', 'error_2111.TXT']\n"
     ]
    }
   ],
   "source": [
    "# Extract the file names of all absorbance measurement files\n",
    "abs_files = glob.glob('*.TXT')\n",
    "abs_files.sort()\n",
    "print(abs_files)"
   ]
  },
  {
   "cell_type": "markdown",
   "id": "b66fd4bb",
   "metadata": {},
   "source": [
    "Check wether all the listed files are intended to be used for the analysis. If there are any unwanted files, remove them using the cell below:"
   ]
  },
  {
   "cell_type": "code",
   "execution_count": 4,
   "id": "18d10456",
   "metadata": {},
   "outputs": [
    {
     "name": "stdout",
     "output_type": "stream",
     "text": [
      "['19.02.TXT', '19.14.TXT', '19.19.TXT', '19.24.TXT', '19.29.TXT', '19.34.TXT', '19.39.TXT', '19.44.TXT', '19.49.TXT', '19.54.TXT', '19.59.TXT', '20.04.TXT', '20.09.TXT', '20.14.TXT', '21.12.TXT']\n"
     ]
    }
   ],
   "source": [
    "files_to_remove = ['error_2111.TXT'] # More files can be removed by adding more files to this list\n",
    "\n",
    "\n",
    "for file in files_to_remove:\n",
    "    abs_files.remove(file) \n",
    "print(abs_files)"
   ]
  },
  {
   "cell_type": "code",
   "execution_count": 5,
   "id": "df456d25",
   "metadata": {},
   "outputs": [
    {
     "name": "stdout",
     "output_type": "stream",
     "text": [
      "(8, 12)\n",
      "(8, 12)\n",
      "(8, 12)\n",
      "(8, 12)\n",
      "(8, 12)\n",
      "(8, 12)\n",
      "(8, 12)\n",
      "(8, 12)\n",
      "(8, 12)\n",
      "(8, 12)\n",
      "(8, 12)\n",
      "(8, 12)\n",
      "(8, 12)\n",
      "(8, 12)\n",
      "(8, 12)\n",
      "   Hour Minute absolute_diff  File_name  \\\n",
      "0    19      2             0  19.02.TXT   \n",
      "1    19     14            12  19.14.TXT   \n",
      "2    19     19            17  19.19.TXT   \n",
      "3    19     24            22  19.24.TXT   \n",
      "4    19     29            27  19.29.TXT   \n",
      "5    19     34            32  19.34.TXT   \n",
      "6    19     39            37  19.39.TXT   \n",
      "7    19     44            42  19.44.TXT   \n",
      "8    19     49            47  19.49.TXT   \n",
      "9    19     54            52  19.54.TXT   \n",
      "10   19     59            57  19.59.TXT   \n",
      "11   20      4            62  20.04.TXT   \n",
      "12   20      9            67  20.09.TXT   \n",
      "13   20     14            72  20.14.TXT   \n",
      "14   21     12           130  21.12.TXT   \n",
      "\n",
      "                                     abs_measurements  \n",
      "0         0      1      2      3      4      5    ...  \n",
      "1         0      1      2      3      4      5    ...  \n",
      "2         0      1      2      3      4      5    ...  \n",
      "3         0      1      2      3      4      5    ...  \n",
      "4         0      1      2      3      4      5    ...  \n",
      "5         0      1      2      3      4      5    ...  \n",
      "6         0      1      2      3      4      5    ...  \n",
      "7         0      1      2      3      4      5    ...  \n",
      "8         0      1      2      3      4      5    ...  \n",
      "9         0      1      2      3      4      5    ...  \n",
      "10        0      1      2      3      4      5    ...  \n",
      "11        0      1      2      3      4      5    ...  \n",
      "12        0      1      2      3      4      5    ...  \n",
      "13        0      1      2      3      4      5    ...  \n",
      "14        0      1      2      3      4      5    ...  \n"
     ]
    }
   ],
   "source": [
    "\n",
    "\n",
    "# Creating a dataframe with time measurements and reference to the absorbance measure file\n",
    "abs_df = pd.DataFrame(columns=['Hour', 'Minute', 'absolute_diff', 'File_name', 'abs_measurements'])\n",
    "for i, file in enumerate(abs_files):\n",
    "    ms_time = file.split('.')\n",
    "    ms_time = [int(string) for string in ms_time[0:2]]\n",
    "    if i == 0:\n",
    "        time_diff = 0\n",
    "    else:\n",
    "        time_diff = (ms_time[0]-abs_df['Hour'][0])*60+(ms_time[1]-abs_df['Minute'][0])\n",
    "    abs_measurement = pd.read_csv(file, header = None, sep=',')\n",
    "    abs_measurement = abs_measurement.iloc[:, :-1] # Due to the output format of the plate reader, there is an extra column with empty values.\n",
    "    abs_df.loc[i] = [ms_time[0], ms_time[1], time_diff, file, abs_measurement]\n",
    "    print(np.shape(abs_df['abs_measurements'][i]))\n",
    "print(abs_df)"
   ]
  },
  {
   "cell_type": "code",
   "execution_count": 6,
   "id": "e7c23c00",
   "metadata": {},
   "outputs": [
    {
     "name": "stdout",
     "output_type": "stream",
     "text": [
      "(8, 12)\n",
      "    0    1      2      3      4      5       6       7    8    9    10   11\n",
      "0  NaN  NaN    NaN    NaN    NaN    NaN     NaN     NaN  NaN  NaN  NaN  NaN\n",
      "1  NaN  NaN    NaN    NaN    NaN    NaN     NaN     NaN  NaN  NaN  NaN  NaN\n",
      "2  NaN  NaN  BLANK  BLANK  2nmol  2nmol  10nmol  10nmol  #34  NaN  NaN  NaN\n",
      "3  #14  #14    #14    #15    #15    #15     #18     #18  #18  #20  #20  #20\n",
      "4  #26  #26    #26    #27    #27    #27     #34     #34  NaN  #35  #35  #35\n",
      "5  NaN  NaN    NaN    NaN    NaN    NaN     NaN     NaN  NaN  NaN  NaN  NaN\n",
      "6  #06  #06    #06    #10    #10    #10     #11     #11  #11  #16  #16  #16\n",
      "7  #21  #21    #21    NaN    NaN    NaN     NaN     NaN  NaN  NaN  NaN  NaN\n",
      "      0      1      2      3      4      5      6      7      8      9   \\\n",
      "0  0.000  0.000  0.000  0.000  0.000  0.000  0.000  0.000  0.000  0.000   \n",
      "1  0.000  0.000  0.000  0.000  0.000  0.000  0.000  0.000  0.000  0.000   \n",
      "2  0.000  0.000  0.056  0.055  0.145  0.152  0.481  0.503  0.067  0.000   \n",
      "3  0.066  0.067  0.073  0.062  0.075  0.065  0.064  0.067  0.065  0.066   \n",
      "4  0.068  0.065  0.067  0.080  0.077  0.078  0.065  0.067  0.000  0.066   \n",
      "5  0.000  0.000  0.000  0.000  0.000  0.000  0.000  0.000  0.000  0.000   \n",
      "6  0.065  0.067  0.065  0.070  0.068  0.088  0.066  0.067  0.066  0.064   \n",
      "7  0.064  0.065  0.119  0.000  0.000  0.000  0.000  0.000  0.000  0.000   \n",
      "\n",
      "      10     11  \n",
      "0  0.000  0.000  \n",
      "1  0.000  0.000  \n",
      "2  0.000  0.000  \n",
      "3  0.099  0.067  \n",
      "4  0.066  0.070  \n",
      "5  0.000  0.000  \n",
      "6  0.065  0.066  \n",
      "7  0.000  0.000  \n"
     ]
    }
   ],
   "source": [
    "# Next up, is getting the arrangement of the samples on the plate\n",
    "plate_arr = pd.read_csv('plate_arrangements.csv', sep=',', dtype = str)\n",
    "plate_arr = plate_arr.iloc[:, 1:] # For easy navigation, the first column is removed\n",
    "plate_arr.columns = [int(col_num)-1 for col_num in plate_arr.columns] # The previous step also means that the column names need to be updated\n",
    "\n",
    "# The dataframe of the well locations is now in exactly the same shape as the dataframes used for storing the absorbance measures\n",
    "print(np.shape(plate_arr))\n",
    "\n",
    "print(plate_arr)\n",
    "print(abs_df['abs_measurements'][0])\n"
   ]
  },
  {
   "cell_type": "code",
   "execution_count": 7,
   "id": "104774fb",
   "metadata": {},
   "outputs": [
    {
     "name": "stdout",
     "output_type": "stream",
     "text": [
      "Total number of unique samples in dataset: 13\n",
      "{'#06_r0': [0.065, 0.065, 0.065, 0.065, 0.065, 0.065, 0.065, 0.065, 0.065, 0.065, 0.065, 0.065, 0.065, 0.065, 0.065], '#06_r1': [0.067, 0.072, 0.075, 0.078, 0.08, 0.083, 0.085, 0.088, 0.09, 0.093, 0.095, 0.098, 0.101, 0.104, 0.133], '#06_r2': [0.065, 0.064, 0.064, 0.065, 0.064, 0.064, 0.064, 0.064, 0.064, 0.064, 0.064, 0.064, 0.064, 0.064, 0.065], '#10_r0': [0.07, 0.079, 0.084, 0.089, 0.093, 0.099, 0.105, 0.11, 0.116, 0.122, 0.127, 0.133, 0.139, 0.147, 0.214], '#10_r1': [0.068, 0.077, 0.082, 0.087, 0.092, 0.097, 0.103, 0.108, 0.114, 0.12, 0.126, 0.132, 0.138, 0.145, 0.213], '#10_r2': [0.088, 0.085, 0.087, 0.09, 0.093, 0.098, 0.103, 0.108, 0.114, 0.12, 0.126, 0.131, 0.137, 0.145, 0.214], '#11_r0': [0.066, 0.067, 0.067, 0.067, 0.067, 0.067, 0.067, 0.067, 0.067, 0.067, 0.067, 0.067, 0.067, 0.067, 0.068], '#11_r1': [0.067, 0.075, 0.078, 0.082, 0.085, 0.089, 0.092, 0.096, 0.099, 0.102, 0.106, 0.109, 0.112, 0.117, 0.154], '#11_r2': [0.066, 0.066, 0.067, 0.067, 0.066, 0.066, 0.066, 0.066, 0.066, 0.066, 0.066, 0.066, 0.066, 0.066, 0.067], '#14_r0': [0.066, 0.065, 0.065, 0.065, 0.065, 0.065, 0.065, 0.065, 0.065, 0.065, 0.065, 0.065, 0.065, 0.065, 0.065], '#14_r1': [0.067, 0.066, 0.066, 0.066, 0.066, 0.066, 0.066, 0.066, 0.066, 0.066, 0.066, 0.066, 0.066, 0.066, 0.067], '#14_r2': [0.073, 0.068, 0.067, 0.066, 0.065, 0.065, 0.065, 0.065, 0.065, 0.064, 0.064, 0.064, 0.064, 0.064, 0.065], '#15_r0': [0.062, 0.062, 0.062, 0.062, 0.062, 0.062, 0.062, 0.062, 0.062, 0.062, 0.062, 0.062, 0.062, 0.062, 0.063], '#15_r1': [0.075, 0.077, 0.075, 0.075, 0.076, 0.076, 0.077, 0.077, 0.076, 0.077, 0.077, 0.078, 0.077, 0.077, 0.078], '#15_r2': [0.065, 0.064, 0.064, 0.064, 0.064, 0.064, 0.064, 0.064, 0.064, 0.064, 0.064, 0.064, 0.064, 0.065, 0.065], '#16_r0': [0.064, 0.064, 0.064, 0.064, 0.064, 0.064, 0.064, 0.064, 0.064, 0.064, 0.065, 0.065, 0.065, 0.065, 0.065], '#16_r1': [0.065, 0.066, 0.066, 0.066, 0.066, 0.066, 0.066, 0.066, 0.066, 0.066, 0.067, 0.067, 0.067, 0.067, 0.067], '#16_r2': [0.066, 0.066, 0.066, 0.066, 0.066, 0.066, 0.066, 0.066, 0.066, 0.066, 0.066, 0.066, 0.066, 0.066, 0.066], '#18_r0': [0.064, 0.064, 0.064, 0.065, 0.064, 0.064, 0.064, 0.064, 0.064, 0.064, 0.064, 0.064, 0.064, 0.064, 0.064], '#18_r1': [0.067, 0.066, 0.066, 0.066, 0.066, 0.066, 0.066, 0.066, 0.066, 0.066, 0.066, 0.066, 0.066, 0.066, 0.066], '#18_r2': [0.065, 0.065, 0.065, 0.065, 0.065, 0.065, 0.065, 0.065, 0.065, 0.065, 0.065, 0.065, 0.065, 0.065, 0.066], '#20_r0': [0.066, 0.067, 0.067, 0.067, 0.067, 0.067, 0.067, 0.067, 0.067, 0.067, 0.067, 0.067, 0.067, 0.067, 0.067], '#20_r1': [0.099, 0.25, 0.319, 0.392, 0.445, 0.5, 0.553, 0.599, 0.647, 0.689, 0.729, 0.77, 0.804, 0.847, 1.015], '#20_r2': [0.067, 0.067, 0.067, 0.067, 0.067, 0.067, 0.067, 0.067, 0.067, 0.067, 0.067, 0.067, 0.067, 0.067, 0.067], '#21_r0': [0.064, 0.064, 0.065, 0.065, 0.066, 0.066, 0.067, 0.068, 0.068, 0.069, 0.069, 0.07, 0.071, 0.071, 0.079], '#21_r1': [0.065, 0.065, 0.066, 0.066, 0.067, 0.067, 0.068, 0.068, 0.069, 0.069, 0.07, 0.071, 0.071, 0.072, 0.08], '#21_r2': [0.119, 0.099, 0.092, 0.084, 0.08, 0.068, 0.069, 0.069, 0.07, 0.07, 0.071, 0.071, 0.072, 0.073, 0.08], '#26_r0': [0.068, 0.069, 0.069, 0.07, 0.071, 0.072, 0.073, 0.073, 0.074, 0.075, 0.076, 0.077, 0.079, 0.08, 0.094], '#26_r1': [0.065, 0.066, 0.066, 0.067, 0.068, 0.069, 0.07, 0.07, 0.071, 0.072, 0.073, 0.074, 0.075, 0.077, 0.089], '#26_r2': [0.067, 0.068, 0.069, 0.071, 0.071, 0.072, 0.073, 0.074, 0.075, 0.076, 0.077, 0.078, 0.079, 0.081, 0.094], '#27_r0': [0.08, 0.097, 0.106, 0.116, 0.124, 0.133, 0.143, 0.152, 0.163, 0.172, 0.182, 0.192, 0.202, 0.215, 0.328], '#27_r1': [0.077, 0.093, 0.102, 0.112, 0.12, 0.129, 0.139, 0.148, 0.158, 0.168, 0.177, 0.188, 0.197, 0.21, 0.323], '#27_r2': [0.078, 0.095, 0.104, 0.114, 0.122, 0.131, 0.141, 0.15, 0.16, 0.17, 0.18, 0.19, 0.2, 0.213, 0.326], '#34_r0': [0.067, 0.067, 0.068, 0.069, 0.07, 0.071, 0.072, 0.073, 0.074, 0.075, 0.076, 0.078, 0.079, 0.081, 0.097], '#34_r1': [0.065, 0.066, 0.066, 0.067, 0.068, 0.069, 0.07, 0.071, 0.071, 0.072, 0.073, 0.075, 0.076, 0.077, 0.092], '#34_r2': [0.067, 0.067, 0.068, 0.069, 0.069, 0.07, 0.071, 0.072, 0.073, 0.073, 0.074, 0.075, 0.076, 0.078, 0.091], '#35_r0': [0.066, 0.067, 0.067, 0.069, 0.07, 0.071, 0.072, 0.073, 0.074, 0.074, 0.076, 0.077, 0.078, 0.079, 0.094], '#35_r1': [0.066, 0.066, 0.067, 0.068, 0.068, 0.07, 0.07, 0.071, 0.072, 0.074, 0.074, 0.075, 0.077, 0.078, 0.092], '#35_r2': [0.07, 0.071, 0.071, 0.072, 0.073, 0.074, 0.075, 0.076, 0.077, 0.078, 0.079, 0.08, 0.081, 0.083, 0.096], '10nmol_r0': [0.481, 0.504, 0.512, 0.515, 0.517, 0.518, 0.518, 0.518, 0.519, 0.519, 0.519, 0.52, 0.52, 0.52, 0.522], '10nmol_r1': [0.503, 0.524, 0.531, 0.533, 0.535, 0.535, 0.536, 0.537, 0.537, 0.537, 0.538, 0.538, 0.538, 0.539, 0.541], '2nmol_r0': [0.145, 0.148, 0.15, 0.15, 0.151, 0.151, 0.151, 0.151, 0.151, 0.151, 0.151, 0.151, 0.151, 0.151, 0.152], '2nmol_r1': [0.152, 0.156, 0.157, 0.158, 0.158, 0.159, 0.159, 0.159, 0.159, 0.159, 0.159, 0.159, 0.159, 0.159, 0.16], 'BLANK_r0': [0.056, 0.056, 0.056, 0.056, 0.056, 0.056, 0.056, 0.056, 0.056, 0.056, 0.056, 0.056, 0.056, 0.056, 0.056], 'BLANK_r1': [0.055, 0.056, 0.056, 0.056, 0.056, 0.056, 0.056, 0.056, 0.056, 0.056, 0.056, 0.056, 0.056, 0.056, 0.056]}\n"
     ]
    }
   ],
   "source": [
    "# Extracting the unique values out of the plate arragements\n",
    "samples = plate_arr.values.flatten()\n",
    "samples = np.unique(samples.astype(str)) \n",
    "samples = np.delete(samples, np.where(samples == 'nan'))\n",
    "print(f'Total number of unique samples in dataset: {len(samples)-3}') # Not including the baseline and standard measurements\n",
    "# After extracting the unique values, it is possible to create a disctionary where each sample is matched with the corresponding absorbance measure\n",
    "sample_dict = {}\n",
    "for sample in samples:\n",
    "    coordinates = np.array(np.where(plate_arr == sample)).T\n",
    "    for i, coord in enumerate(coordinates):\n",
    "        sample_name = sample + '_r' + str(i)\n",
    "        sample_dict[sample_name] = [measurement[coord[1]][coord[0]] for measurement in abs_df['abs_measurements']]\n",
    "print(sample_dict)"
   ]
  },
  {
   "cell_type": "markdown",
   "id": "4e87802a",
   "metadata": {},
   "source": [
    "In order to prevent confusion on what the current working directory is, set it back to the original working directory"
   ]
  },
  {
   "cell_type": "code",
   "execution_count": 8,
   "id": "b945bf39",
   "metadata": {},
   "outputs": [],
   "source": [
    "os.chdir(cwd)"
   ]
  },
  {
   "cell_type": "markdown",
   "id": "3f291d90",
   "metadata": {},
   "source": [
    "## Step 2: Checking the baseline absorbance \n",
    "\n",
    "The data currently stored in sample_dict cannot be used yet. The following data preprocessing steps need to be taken first:\n",
    "\n",
    "1. Check the baseline absorbance and check whether the measured samples need to be accounted for a changing baseline\n",
    "2. Remove any values above the 10nmol standard. "
   ]
  },
  {
   "cell_type": "code",
   "execution_count": 9,
   "id": "483cc8b8",
   "metadata": {},
   "outputs": [
    {
     "data": {
      "text/plain": [
       "[<matplotlib.lines.Line2D at 0x7fe852d1f280>]"
      ]
     },
     "execution_count": 9,
     "metadata": {},
     "output_type": "execute_result"
    },
    {
     "data": {
      "image/png": "[encoded data removed]",
      "text/plain": [
       "<Figure size 432x288 with 1 Axes>"
      ]
     },
     "metadata": {
      "needs_background": "light"
     },
     "output_type": "display_data"
    }
   ],
   "source": [
    "plt.plot(abs_df['absolute_diff'], sample_dict['BLANK_r0'])\n",
    "plt.plot(abs_df['absolute_diff'], sample_dict['BLANK_r1'])"
   ]
  },
  {
   "cell_type": "markdown",
   "id": "828b8c4d",
   "metadata": {},
   "source": [
    "The plot shown above shows the standard of the blank wells. This should show a flat horizontal line. If they are not flat, this would be a possible indication that something went wrong with the measurements. Before moving on, please ensure these curves are in the correct shape, or if they are not, that the unusual shape can be explained. \n",
    "\n",
    "If the blank standard is at it should be, the next step is checking whether there are any datapoints that show an obsorbance which is higher than the 10nmol standard. Measurements above this standard generally no longer increase linearly with respect to time and are thus not represenative of the actual absorbance of the replicate. Measurements of the same replicate taken before the absorbance exceeded the standard can still be used as training data for the ART."
   ]
  },
  {
   "cell_type": "code",
   "execution_count": 10,
   "id": "86c54285",
   "metadata": {},
   "outputs": [
    {
     "name": "stdout",
     "output_type": "stream",
     "text": [
      "Shortening the time series of sample #20_r1 to length 6\n"
     ]
    }
   ],
   "source": [
    "def correct_sample_by_standard(standard, sample, sample_name):\n",
    "    rest = np.subtract(standard, sample)\n",
    "    corrected_sample = sample\n",
    "    for i, d_measurement in enumerate(rest):\n",
    "        if d_measurement < 0:  # If d_measurement is less then 0, it means that absorbance measure in the sample has exceeded the 10 nmol standard\n",
    "            corrected_sample = sample[:i]\n",
    "            print(f'Shortening the time series of sample {sample_name} to length {len(corrected_sample)}')\n",
    "            break\n",
    "    return corrected_sample\n",
    "\n",
    "avg_10nmol_standard = np.average([sample_dict['10nmol_r0'],sample_dict['10nmol_r1']], axis=0)\n",
    "\n",
    "for sample, measurement in sample_dict.items():\n",
    "    if ('#' in sample): # Only check the actual samples and skip the standard and baseline measurements\n",
    "        sample_dict[sample] = correct_sample_by_standard(avg_10nmol_standard, measurement, sample)\n"
   ]
  },
  {
   "cell_type": "markdown",
   "id": "5564d541",
   "metadata": {},
   "source": [
    "## Step 3: Determine alpha-amylase activity of each sample\n",
    "\n",
    "The alpha-amylase activity of a sample is determined by the change in absorbance over time. This change in absorbance is linear with respect to time. Therefore, it is possible to fit a linear curve to each sample in order to abtain a function in the form of $absorbance = a*t+b$, where $a$ is the change in absorbance over time (i.e. the alpha-amylase activity), $t$ is the time and $b$ is some offset. \n",
    "\n",
    "Under perfect conditions, $b$ would be $0$ + the baseline absorbance. However, preparing the samples takes some time. This means that at the time of the first measurement, some samples already had the time to be activated by the reation buffer for about 15 minutes while others were only prepared one minute prior to measurements. This means that $b$ will be higher than the baseline for most of our samples.\n",
    "\n",
    "For our analysis, the exact value of $b$ is irrelevant as the main interest lies within the change in absobance (i.e. $a$). The value of $b$ is only needed in order to fit the linear curve better to the datapoints. Once the curve has been fitted, the $a$ value is used and interpreted as the alpha-amylase activity of the sample. \n",
    "\n",
    "It is however important to first validate wether the absorbance measures indeed follow a linear pattern with respect to time. "
   ]
  },
  {
   "cell_type": "code",
   "execution_count": 11,
   "id": "521e7ab4",
   "metadata": {},
   "outputs": [
    {
     "name": "stdout",
     "output_type": "stream",
     "text": [
      "The absorbance measure of sample #06_r0:\n",
      "[0.065, 0.065, 0.065, 0.065, 0.065, 0.065, 0.065, 0.065, 0.065, 0.065, 0.065, 0.065, 0.065, 0.065, 0.065]\n",
      "The absorbance measure of sample #06_r1:\n",
      "[0.067, 0.072, 0.075, 0.078, 0.08, 0.083, 0.085, 0.088, 0.09, 0.093, 0.095, 0.098, 0.101, 0.104, 0.133]\n",
      "The absorbance measure of sample #06_r2:\n",
      "[0.065, 0.064, 0.064, 0.065, 0.064, 0.064, 0.064, 0.064, 0.064, 0.064, 0.064, 0.064, 0.064, 0.064, 0.065]\n",
      "The absorbance measure of sample #10_r0:\n",
      "[0.07, 0.079, 0.084, 0.089, 0.093, 0.099, 0.105, 0.11, 0.116, 0.122, 0.127, 0.133, 0.139, 0.147, 0.214]\n",
      "The absorbance measure of sample #10_r1:\n",
      "[0.068, 0.077, 0.082, 0.087, 0.092, 0.097, 0.103, 0.108, 0.114, 0.12, 0.126, 0.132, 0.138, 0.145, 0.213]\n",
      "The absorbance measure of sample #10_r2:\n",
      "[0.088, 0.085, 0.087, 0.09, 0.093, 0.098, 0.103, 0.108, 0.114, 0.12, 0.126, 0.131, 0.137, 0.145, 0.214]\n",
      "The absorbance measure of sample #11_r0:\n",
      "[0.066, 0.067, 0.067, 0.067, 0.067, 0.067, 0.067, 0.067, 0.067, 0.067, 0.067, 0.067, 0.067, 0.067, 0.068]\n",
      "The absorbance measure of sample #11_r1:\n",
      "[0.067, 0.075, 0.078, 0.082, 0.085, 0.089, 0.092, 0.096, 0.099, 0.102, 0.106, 0.109, 0.112, 0.117, 0.154]\n",
      "The absorbance measure of sample #11_r2:\n",
      "[0.066, 0.066, 0.067, 0.067, 0.066, 0.066, 0.066, 0.066, 0.066, 0.066, 0.066, 0.066, 0.066, 0.066, 0.067]\n",
      "The absorbance measure of sample #14_r0:\n",
      "[0.066, 0.065, 0.065, 0.065, 0.065, 0.065, 0.065, 0.065, 0.065, 0.065, 0.065, 0.065, 0.065, 0.065, 0.065]\n",
      "The absorbance measure of sample #14_r1:\n",
      "[0.067, 0.066, 0.066, 0.066, 0.066, 0.066, 0.066, 0.066, 0.066, 0.066, 0.066, 0.066, 0.066, 0.066, 0.067]\n",
      "The absorbance measure of sample #14_r2:\n",
      "[0.073, 0.068, 0.067, 0.066, 0.065, 0.065, 0.065, 0.065, 0.065, 0.064, 0.064, 0.064, 0.064, 0.064, 0.065]\n",
      "The absorbance measure of sample #15_r0:\n",
      "[0.062, 0.062, 0.062, 0.062, 0.062, 0.062, 0.062, 0.062, 0.062, 0.062, 0.062, 0.062, 0.062, 0.062, 0.063]\n",
      "The absorbance measure of sample #15_r1:\n",
      "[0.075, 0.077, 0.075, 0.075, 0.076, 0.076, 0.077, 0.077, 0.076, 0.077, 0.077, 0.078, 0.077, 0.077, 0.078]\n",
      "The absorbance measure of sample #15_r2:\n",
      "[0.065, 0.064, 0.064, 0.064, 0.064, 0.064, 0.064, 0.064, 0.064, 0.064, 0.064, 0.064, 0.064, 0.065, 0.065]\n",
      "The absorbance measure of sample #16_r0:\n",
      "[0.064, 0.064, 0.064, 0.064, 0.064, 0.064, 0.064, 0.064, 0.064, 0.064, 0.065, 0.065, 0.065, 0.065, 0.065]\n",
      "The absorbance measure of sample #16_r1:\n",
      "[0.065, 0.066, 0.066, 0.066, 0.066, 0.066, 0.066, 0.066, 0.066, 0.066, 0.067, 0.067, 0.067, 0.067, 0.067]\n",
      "The absorbance measure of sample #16_r2:\n",
      "[0.066, 0.066, 0.066, 0.066, 0.066, 0.066, 0.066, 0.066, 0.066, 0.066, 0.066, 0.066, 0.066, 0.066, 0.066]\n",
      "The absorbance measure of sample #18_r0:\n",
      "[0.064, 0.064, 0.064, 0.065, 0.064, 0.064, 0.064, 0.064, 0.064, 0.064, 0.064, 0.064, 0.064, 0.064, 0.064]\n",
      "The absorbance measure of sample #18_r1:\n",
      "[0.067, 0.066, 0.066, 0.066, 0.066, 0.066, 0.066, 0.066, 0.066, 0.066, 0.066, 0.066, 0.066, 0.066, 0.066]\n",
      "The absorbance measure of sample #18_r2:\n",
      "[0.065, 0.065, 0.065, 0.065, 0.065, 0.065, 0.065, 0.065, 0.065, 0.065, 0.065, 0.065, 0.065, 0.065, 0.066]\n",
      "The absorbance measure of sample #20_r0:\n",
      "[0.066, 0.067, 0.067, 0.067, 0.067, 0.067, 0.067, 0.067, 0.067, 0.067, 0.067, 0.067, 0.067, 0.067, 0.067]\n",
      "The absorbance measure of sample #20_r1:\n",
      "[0.099, 0.25, 0.319, 0.392, 0.445, 0.5]\n",
      "The absorbance measure of sample #20_r2:\n",
      "[0.067, 0.067, 0.067, 0.067, 0.067, 0.067, 0.067, 0.067, 0.067, 0.067, 0.067, 0.067, 0.067, 0.067, 0.067]\n",
      "The absorbance measure of sample #21_r0:\n",
      "[0.064, 0.064, 0.065, 0.065, 0.066, 0.066, 0.067, 0.068, 0.068, 0.069, 0.069, 0.07, 0.071, 0.071, 0.079]\n",
      "The absorbance measure of sample #21_r1:\n",
      "[0.065, 0.065, 0.066, 0.066, 0.067, 0.067, 0.068, 0.068, 0.069, 0.069, 0.07, 0.071, 0.071, 0.072, 0.08]\n",
      "The absorbance measure of sample #21_r2:\n",
      "[0.119, 0.099, 0.092, 0.084, 0.08, 0.068, 0.069, 0.069, 0.07, 0.07, 0.071, 0.071, 0.072, 0.073, 0.08]\n",
      "The absorbance measure of sample #26_r0:\n",
      "[0.068, 0.069, 0.069, 0.07, 0.071, 0.072, 0.073, 0.073, 0.074, 0.075, 0.076, 0.077, 0.079, 0.08, 0.094]\n",
      "The absorbance measure of sample #26_r1:\n",
      "[0.065, 0.066, 0.066, 0.067, 0.068, 0.069, 0.07, 0.07, 0.071, 0.072, 0.073, 0.074, 0.075, 0.077, 0.089]\n",
      "The absorbance measure of sample #26_r2:\n",
      "[0.067, 0.068, 0.069, 0.071, 0.071, 0.072, 0.073, 0.074, 0.075, 0.076, 0.077, 0.078, 0.079, 0.081, 0.094]\n",
      "The absorbance measure of sample #27_r0:\n",
      "[0.08, 0.097, 0.106, 0.116, 0.124, 0.133, 0.143, 0.152, 0.163, 0.172, 0.182, 0.192, 0.202, 0.215, 0.328]\n",
      "The absorbance measure of sample #27_r1:\n",
      "[0.077, 0.093, 0.102, 0.112, 0.12, 0.129, 0.139, 0.148, 0.158, 0.168, 0.177, 0.188, 0.197, 0.21, 0.323]\n",
      "The absorbance measure of sample #27_r2:\n",
      "[0.078, 0.095, 0.104, 0.114, 0.122, 0.131, 0.141, 0.15, 0.16, 0.17, 0.18, 0.19, 0.2, 0.213, 0.326]\n",
      "The absorbance measure of sample #34_r0:\n",
      "[0.067, 0.067, 0.068, 0.069, 0.07, 0.071, 0.072, 0.073, 0.074, 0.075, 0.076, 0.078, 0.079, 0.081, 0.097]\n",
      "The absorbance measure of sample #34_r1:\n",
      "[0.065, 0.066, 0.066, 0.067, 0.068, 0.069, 0.07, 0.071, 0.071, 0.072, 0.073, 0.075, 0.076, 0.077, 0.092]\n",
      "The absorbance measure of sample #34_r2:\n",
      "[0.067, 0.067, 0.068, 0.069, 0.069, 0.07, 0.071, 0.072, 0.073, 0.073, 0.074, 0.075, 0.076, 0.078, 0.091]\n",
      "The absorbance measure of sample #35_r0:\n",
      "[0.066, 0.067, 0.067, 0.069, 0.07, 0.071, 0.072, 0.073, 0.074, 0.074, 0.076, 0.077, 0.078, 0.079, 0.094]\n",
      "The absorbance measure of sample #35_r1:\n",
      "[0.066, 0.066, 0.067, 0.068, 0.068, 0.07, 0.07, 0.071, 0.072, 0.074, 0.074, 0.075, 0.077, 0.078, 0.092]\n",
      "The absorbance measure of sample #35_r2:\n",
      "[0.07, 0.071, 0.071, 0.072, 0.073, 0.074, 0.075, 0.076, 0.077, 0.078, 0.079, 0.08, 0.081, 0.083, 0.096]\n"
     ]
    },
    {
     "name": "stderr",
     "output_type": "stream",
     "text": [
      "/home/user/.pyenv/versions/3.9.2/envs/test-3.9.2/lib/python3.9/site-packages/scipy/optimize/minpack.py:833: OptimizeWarning: Covariance of the parameters could not be estimated\n",
      "  warnings.warn('Covariance of the parameters could not be estimated',\n",
      "/home/user/.pyenv/versions/3.9.2/envs/test-3.9.2/lib/python3.9/site-packages/scipy/optimize/minpack.py:833: OptimizeWarning: Covariance of the parameters could not be estimated\n",
      "  warnings.warn('Covariance of the parameters could not be estimated',\n",
      "/home/user/.pyenv/versions/3.9.2/envs/test-3.9.2/lib/python3.9/site-packages/scipy/optimize/minpack.py:833: OptimizeWarning: Covariance of the parameters could not be estimated\n",
      "  warnings.warn('Covariance of the parameters could not be estimated',\n"
     ]
    },
    {
     "data": {
      "text/plain": [
       "<matplotlib.legend.Legend at 0x7fe852ce1640>"
      ]
     },
     "execution_count": 11,
     "metadata": {},
     "output_type": "execute_result"
    },
    {
     "data": {
      "image/png": "[encoded data removed]",
      "text/plain": [
       "<Figure size 432x288 with 1 Axes>"
      ]
     },
     "metadata": {
      "needs_background": "light"
     },
     "output_type": "display_data"
    }
   ],
   "source": [
    "\n",
    "# Defining a linear curve\n",
    "def linear_curve(x, a, b):\n",
    "    return a * x + b\n",
    "\n",
    "# Calculating R^2. For an explanation, see https://stackoverflow.com/questions/19189362/getting-the-r-squared-value-using-curve-fit\n",
    "def determine_R2(xdata, ydata, popt):\n",
    "    residuals = ydata - linear_curve(xdata, *popt)\n",
    "    ss_res = np.sum(residuals**2)\n",
    "    ss_tot = np.sum((ydata-np.mean(ydata))**2)\n",
    "    r_squared = 1 - (ss_res / ss_tot)\n",
    "    return r_squared\n",
    "\n",
    "activity_dict={}\n",
    "for sample in sample_dict:\n",
    "    if ('#' in sample): # Only analize the samples and not the standards\n",
    "        ydata = sample_dict[sample]\n",
    "        xdata = abs_df['absolute_diff'][:len(ydata)] # As some samples might have been corrected for exceeding the standard, the length of the xdata might need to be shortened as well for that perticular sample\n",
    "        popt, pcov = curve_fit(linear_curve, xdata, ydata)\n",
    "        a, b = popt\n",
    "        activity_dict[sample] = a # As explaine above, the slope of the curve is anagolous to the activity of the sample\n",
    "        R_squared = determine_R2(xdata, ydata, popt)\n",
    "\n",
    "        # The R^2 value represents how well the y-value can be explained by the x-value by some function f(). In this case,\n",
    "        # the f() function is a first order polynomial (i.e. a linear curve) in the form of f(x)=y=a*x+b. The downside of using \n",
    "        # the R^2 value for representing the fit to a linear curve, is that is there is no slope (i.e. a=0), the R^2 value is 0\n",
    "        # as well. Therefore, all absorbance measures that have a R^2 value of less than 0.95 need to be manually verified on whether\n",
    "        # they are in fact linear curves. \n",
    "        if R_squared < 1: \n",
    "            plt.plot(xdata, ydata, label=sample)\n",
    "            #print(f'R^2 value of sample {sample}: {R_squared}')\n",
    "            print(f'The absorbance measure of sample {sample}:')\n",
    "            print(ydata)\n",
    "        else:\n",
    "            print(f'Sample {sample} fits the linear curve with an R^2 of {R_squared}')\n",
    "plt.legend()"
   ]
  },
  {
   "cell_type": "markdown",
   "id": "157e36c5",
   "metadata": {},
   "source": [
    "Based on the figure created in the cell above, it should be possible to locate any replicate that does not show the expected linear behavior. In order to exclude this replicate, along with other replicates of the same sample, enter the name of this sample in the in the cell below"
   ]
  },
  {
   "cell_type": "code",
   "execution_count": 12,
   "id": "3e238ce9",
   "metadata": {},
   "outputs": [
    {
     "name": "stdout",
     "output_type": "stream",
     "text": [
      "Samples in dictionary before removal: dict_keys(['#06_r0', '#06_r1', '#06_r2', '#10_r0', '#10_r1', '#10_r2', '#11_r0', '#11_r1', '#11_r2', '#14_r0', '#14_r1', '#14_r2', '#15_r0', '#15_r1', '#15_r2', '#16_r0', '#16_r1', '#16_r2', '#18_r0', '#18_r1', '#18_r2', '#20_r0', '#20_r1', '#20_r2', '#21_r0', '#21_r1', '#21_r2', '#26_r0', '#26_r1', '#26_r2', '#27_r0', '#27_r1', '#27_r2', '#34_r0', '#34_r1', '#34_r2', '#35_r0', '#35_r1', '#35_r2'])\n",
      "Samples in dictionary after removal: dict_keys(['#06_r0', '#06_r1', '#06_r2', '#10_r0', '#10_r1', '#10_r2', '#11_r0', '#11_r1', '#11_r2', '#14_r0', '#14_r1', '#14_r2', '#15_r0', '#15_r1', '#15_r2', '#16_r0', '#16_r1', '#16_r2', '#18_r0', '#18_r1', '#18_r2', '#20_r0', '#20_r1', '#20_r2', '#26_r0', '#26_r1', '#26_r2', '#27_r0', '#27_r1', '#27_r2', '#34_r0', '#34_r1', '#34_r2', '#35_r0', '#35_r1', '#35_r2'])\n"
     ]
    }
   ],
   "source": [
    "\n",
    "samples_to_exclude = ['#21', '#17', '#40', '#43', '#64', '#57'] # for example: ['#26', '#17'] in order to exclude all replicates of samples 26 and 17\n",
    "\n",
    "\n",
    "print(f'Samples in dictionary before removal: {activity_dict.keys()}')\n",
    "for sample in samples_to_exclude:\n",
    "    activity_dict = dict(filter(lambda elem: sample not in elem[0], activity_dict.items()))\n",
    "print(f'Samples in dictionary after removal: {activity_dict.keys()}')"
   ]
  },
  {
   "cell_type": "code",
   "execution_count": 13,
   "id": "8b04644a",
   "metadata": {},
   "outputs": [
    {
     "name": "stdout",
     "output_type": "stream",
     "text": [
      "{'#06_r0': -2.1811441541785825e-12, '#06_r1': 0.0005126512546344651, '#06_r2': 1.207164114730796e-06, '#10_r0': 0.0011271065464292227, '#10_r1': 0.0011355614742202882, '#10_r2': 0.0010378052614328226, '#11_r0': 9.341137663150845e-06, '#11_r1': 0.0006741044482238937, '#11_r2': 2.42869379607491e-06, '#14_r0': -3.238260443113404e-06, '#14_r1': 2.8646131055819655e-06, '#14_r2': -4.4808722228077e-05, '#15_r0': 6.102879451060657e-06, '#15_r1': 2.324266580433618e-05, '#15_r2': 4.799908964598643e-06, '#16_r0': 1.1688396460083407e-05, '#16_r1': 1.4926656297170724e-05, '#16_r2': -2.1809221095736575e-12, '#18_r0': -1.657454536421516e-06, '#18_r1': -3.238260443113406e-06, '#18_r2': 6.102878829660443e-06, '#20_r0': 3.2382619179281853e-06, '#20_r1': 0.012709693887146463, '#20_r2': -2.1811441541785825e-12, '#26_r0': 0.00020200810534360224, '#26_r1': 0.00018822633357302022, '#26_r2': 0.00021039117780073771, '#27_r0': 0.0019363940337913058, '#27_r1': 0.0019225451960867706, '#27_r2': 0.0019362551133873026, '#34_r0': 0.00023794993189945387, '#34_r1': 0.0002091073700463985, '#34_r2': 0.0001873353326417877, '#35_r0': 0.0002177347502517288, '#35_r1': 0.0002067601102290037, '#35_r2': 0.00020643436792511217}\n"
     ]
    },
    {
     "data": {
      "image/png": "[encoded data removed]",
      "text/plain": [
       "<Figure size 1080x360 with 1 Axes>"
      ]
     },
     "metadata": {
      "needs_background": "light"
     },
     "output_type": "display_data"
    }
   ],
   "source": [
    "\n",
    "print(activity_dict) # Printing the raw data in to see the exact values.\n",
    "fig, ax = plt.subplots(figsize=(15, 5))\n",
    "ax.tick_params(axis='x', rotation=90)\n",
    "ax.set_title('Alpha-amylase activity each replicate',fontsize=20)\n",
    "ax.set_ylabel('Activity (d[Nitrophenol]/dt)', fontsize=15)\n",
    "ax.set_ylim([0,0.006])\n",
    "ax.set_xlabel('Replicate name', fontsize=15)\n",
    "plt.bar(activity_dict.keys(), activity_dict.values(), color='#A40E4C')\n",
    "fig.tight_layout()\n",
    "fig.savefig('./figures/activity_'+plate_name+'.pdf', transparent=True)\n",
    "fig.savefig('./figures/activity_'+plate_name+'.png', transparent=True)\n",
    "# plt.xticks(rotation=90)"
   ]
  },
  {
   "cell_type": "markdown",
   "id": "a4da5b63",
   "metadata": {},
   "source": [
    "It is possible that some replicates show a completely different value then the other replicates of the same sample. This absolutely fine. The actual outlier detection is handled by the ART, so these 'weird' values can remain in the input data for the ART."
   ]
  },
  {
   "cell_type": "markdown",
   "id": "b7f9d377",
   "metadata": {},
   "source": [
    "## Step 4: Decrease the order of magnitude of the variance within the activity measures\n",
    "\n",
    "Most activity values of the samples that show at least some activity are in between the range of $1*10^{-5}$ and $1*10^{-4}$. While there is already an order of magnitude between these values, some values go as high $6*10^{-3}$. This means that there is a difference of more than two orders of magnitude between the lowest and the highest activity measures. The difference in the lower activity value ranges are therefore close to non-existant in comparison to the total spread of activity values. These differences in lower activity values are however important when training the ART. If most activity measures are considered to be 0, there is not much data to train on. Therefore, a way is needed to project the activity measures which can vary multiple orders of magnitude onto data points which vary only on a single order of magnitude. Taking the natural logarithm is one of the ways of achieving this.\n",
    "\n",
    "\n",
    "A downside of taking the natural logarithm is that values very close to 0 are transformed dispropotionately large negative numbers. However, values close very close to 0 are likely to not show any activity at all. Any variation between these numbers is likely to be caused by a minor measuring error. Therefore, a cutt-off value is needed to prevent the ART from trying to learn these measuring errors."
   ]
  },
  {
   "cell_type": "code",
   "execution_count": 14,
   "id": "442f6eff",
   "metadata": {
    "scrolled": true
   },
   "outputs": [
    {
     "data": {
      "image/png": "[encoded data removed]",
      "text/plain": [
       "<Figure size 1080x360 with 1 Axes>"
      ]
     },
     "metadata": {
      "needs_background": "light"
     },
     "output_type": "display_data"
    }
   ],
   "source": [
    "cut_off = 0.00001\n",
    "\n",
    "for key, value in activity_dict.items():\n",
    "    if value < cut_off:\n",
    "        activity_dict[key] = cut_off\n",
    "\n",
    "zipped_corrected_activities = zip(activity_dict.keys(), np.log(list(activity_dict.values())))\n",
    "corrected_activity_dict = dict(zipped_corrected_activities)\n",
    "\n",
    "fig, ax = plt.subplots(figsize=(15, 5))\n",
    "ax.tick_params(axis='x', rotation=90)\n",
    "ax.set_title('Natual logarithm of Alpha-amylase activity of each replicate',fontsize=20)\n",
    "ax.set_ylabel('Corrected activity (ln(d[Nitrophenol]/dt))', fontsize=15)\n",
    "ax.set_xlabel('Replicate name', fontsize=15)\n",
    "plt.bar(corrected_activity_dict.keys(), corrected_activity_dict.values(), color='#98C9A6')\n",
    "fig.tight_layout()\n",
    "fig.savefig('./figures/ln(activity)_'+plate_name+'.pdf', transparent=True)\n",
    "fig.savefig('./figures/ln(activity)_'+plate_name+'.png', transparent=True)"
   ]
  },
  {
   "cell_type": "markdown",
   "id": "48085abd",
   "metadata": {},
   "source": [
    "Instead of having values that vary several order of magnitude, all values should now be somewhere between -5 and -12"
   ]
  },
  {
   "cell_type": "markdown",
   "id": "472eac33",
   "metadata": {},
   "source": [
    "## Step 5: Match the strain name with the strain, promoter, secretion peptide and gene combination and export the results\n",
    "\n",
    "Once the activity of each sample has been determined, this activity needs to be matched to combination of parts used for creating the sample. The end result is a file in which can be directly used by the ART pipeline.  "
   ]
  },
  {
   "cell_type": "code",
   "execution_count": 15,
   "id": "98de0d80",
   "metadata": {},
   "outputs": [
    {
     "name": "stdout",
     "output_type": "stream",
     "text": [
      "#06\n",
      "Updated entry of line #06\n",
      "   Line Name Replicate Activity  str_idx  pro_idx  sec_idx  gen_idx  \\\n",
      "15       #06        r0  0.00001        2       11       17       19   \n",
      "\n",
      "    Corrected activity  \n",
      "15          -11.512925  \n",
      "#06\n",
      "Updated entry of line #06\n",
      "   Line Name Replicate  Activity  str_idx  pro_idx  sec_idx  gen_idx  \\\n",
      "16       #06        r1  0.000513        2       11       17       19   \n",
      "\n",
      "    Corrected activity  \n",
      "16           -7.575915  \n",
      "#06\n",
      "Updated entry of line #06\n",
      "   Line Name Replicate Activity  str_idx  pro_idx  sec_idx  gen_idx  \\\n",
      "17       #06        r2  0.00001        2       11       17       19   \n",
      "\n",
      "    Corrected activity  \n",
      "17          -11.512925  \n",
      "#10\n",
      "Updated entry of line #10\n",
      "   Line Name Replicate  Activity  str_idx  pro_idx  sec_idx  gen_idx  \\\n",
      "27       #10        r0  0.001127        2        8       16       22   \n",
      "\n",
      "    Corrected activity  \n",
      "27           -6.788102  \n",
      "#10\n",
      "Updated entry of line #10\n",
      "   Line Name Replicate  Activity  str_idx  pro_idx  sec_idx  gen_idx  \\\n",
      "28       #10        r1  0.001136        2        8       16       22   \n",
      "\n",
      "    Corrected activity  \n",
      "28           -6.780628  \n",
      "#10\n",
      "Updated entry of line #10\n",
      "   Line Name Replicate  Activity  str_idx  pro_idx  sec_idx  gen_idx  \\\n",
      "29       #10        r2  0.001038        2        8       16       22   \n",
      "\n",
      "    Corrected activity  \n",
      "29           -6.870647  \n",
      "#11\n",
      "Updated entry of line #11\n",
      "   Line Name Replicate Activity  str_idx  pro_idx  sec_idx  gen_idx  \\\n",
      "30       #11        r0  0.00001        2        5       15       21   \n",
      "\n",
      "    Corrected activity  \n",
      "30          -11.512925  \n",
      "#11\n",
      "Updated entry of line #11\n",
      "   Line Name Replicate  Activity  str_idx  pro_idx  sec_idx  gen_idx  \\\n",
      "31       #11        r1  0.000674        2        5       15       21   \n",
      "\n",
      "    Corrected activity  \n",
      "31           -7.302125  \n",
      "#11\n",
      "Updated entry of line #11\n",
      "   Line Name Replicate Activity  str_idx  pro_idx  sec_idx  gen_idx  \\\n",
      "32       #11        r2  0.00001        2        5       15       21   \n",
      "\n",
      "    Corrected activity  \n",
      "32          -11.512925  \n",
      "#14\n",
      "Updated entry of line #14\n",
      "   Line Name Replicate Activity  str_idx  pro_idx  sec_idx  gen_idx  \\\n",
      "39       #14        r0  0.00001        1       14       16       20   \n",
      "\n",
      "    Corrected activity  \n",
      "39          -11.512925  \n",
      "#14\n",
      "Updated entry of line #14\n",
      "   Line Name Replicate Activity  str_idx  pro_idx  sec_idx  gen_idx  \\\n",
      "40       #14        r1  0.00001        1       14       16       20   \n",
      "\n",
      "    Corrected activity  \n",
      "40          -11.512925  \n",
      "#14\n",
      "Updated entry of line #14\n",
      "   Line Name Replicate Activity  str_idx  pro_idx  sec_idx  gen_idx  \\\n",
      "41       #14        r2  0.00001        1       14       16       20   \n",
      "\n",
      "    Corrected activity  \n",
      "41          -11.512925  \n",
      "#15\n",
      "Updated entry of line #15\n",
      "   Line Name Replicate Activity  str_idx  pro_idx  sec_idx  gen_idx  \\\n",
      "42       #15        r0  0.00001        1        6       18       19   \n",
      "\n",
      "    Corrected activity  \n",
      "42          -11.512925  \n",
      "#15\n",
      "Updated entry of line #15\n",
      "   Line Name Replicate  Activity  str_idx  pro_idx  sec_idx  gen_idx  \\\n",
      "43       #15        r1  0.000023        1        6       18       19   \n",
      "\n",
      "    Corrected activity  \n",
      "43          -10.669521  \n",
      "#15\n",
      "Updated entry of line #15\n",
      "   Line Name Replicate Activity  str_idx  pro_idx  sec_idx  gen_idx  \\\n",
      "44       #15        r2  0.00001        1        6       18       19   \n",
      "\n",
      "    Corrected activity  \n",
      "44          -11.512925  \n",
      "#16\n",
      "Updated entry of line #16\n",
      "   Line Name Replicate  Activity  str_idx  pro_idx  sec_idx  gen_idx  \\\n",
      "45       #16        r0  0.000012        2       13       15       21   \n",
      "\n",
      "    Corrected activity  \n",
      "45          -11.356914  \n",
      "#16\n",
      "Updated entry of line #16\n",
      "   Line Name Replicate  Activity  str_idx  pro_idx  sec_idx  gen_idx  \\\n",
      "46       #16        r1  0.000015        2       13       15       21   \n",
      "\n",
      "    Corrected activity  \n",
      "46          -11.112362  \n",
      "#16\n",
      "Updated entry of line #16\n",
      "   Line Name Replicate Activity  str_idx  pro_idx  sec_idx  gen_idx  \\\n",
      "47       #16        r2  0.00001        2       13       15       21   \n",
      "\n",
      "    Corrected activity  \n",
      "47          -11.512925  \n",
      "#18\n",
      "Updated entry of line #18\n",
      "   Line Name Replicate Activity  str_idx  pro_idx  sec_idx  gen_idx  \\\n",
      "51       #18        r0  0.00001        1       13       18       20   \n",
      "\n",
      "    Corrected activity  \n",
      "51          -11.512925  \n",
      "#18\n",
      "Updated entry of line #18\n",
      "   Line Name Replicate Activity  str_idx  pro_idx  sec_idx  gen_idx  \\\n",
      "52       #18        r1  0.00001        1       13       18       20   \n",
      "\n",
      "    Corrected activity  \n",
      "52          -11.512925  \n",
      "#18\n",
      "Updated entry of line #18\n",
      "   Line Name Replicate Activity  str_idx  pro_idx  sec_idx  gen_idx  \\\n",
      "53       #18        r2  0.00001        1       13       18       20   \n",
      "\n",
      "    Corrected activity  \n",
      "53          -11.512925  \n",
      "#20\n",
      "Updated entry of line #20\n",
      "   Line Name Replicate Activity  str_idx  pro_idx  sec_idx  gen_idx  \\\n",
      "57       #20        r0  0.00001        1       11       18       20   \n",
      "\n",
      "    Corrected activity  \n",
      "57          -11.512925  \n",
      "#20\n",
      "Updated entry of line #20\n",
      "   Line Name Replicate Activity  str_idx  pro_idx  sec_idx  gen_idx  \\\n",
      "58       #20        r1  0.01271        1       11       18       20   \n",
      "\n",
      "    Corrected activity  \n",
      "58            -4.36539  \n",
      "#20\n",
      "Updated entry of line #20\n",
      "   Line Name Replicate Activity  str_idx  pro_idx  sec_idx  gen_idx  \\\n",
      "59       #20        r2  0.00001        1       11       18       20   \n",
      "\n",
      "    Corrected activity  \n",
      "59          -11.512925  \n",
      "#26\n",
      "Updated entry of line #26\n",
      "   Line Name Replicate  Activity  str_idx  pro_idx  sec_idx  gen_idx  \\\n",
      "75       #26        r0  0.000202        1        8       16       21   \n",
      "\n",
      "    Corrected activity  \n",
      "75           -8.507203  \n",
      "#26\n",
      "Updated entry of line #26\n",
      "   Line Name Replicate  Activity  str_idx  pro_idx  sec_idx  gen_idx  \\\n",
      "76       #26        r1  0.000188        1        8       16       21   \n",
      "\n",
      "    Corrected activity  \n",
      "76           -8.577865  \n",
      "#26\n",
      "Updated entry of line #26\n",
      "   Line Name Replicate Activity  str_idx  pro_idx  sec_idx  gen_idx  \\\n",
      "77       #26        r2  0.00021        1        8       16       21   \n",
      "\n",
      "    Corrected activity  \n",
      "77           -8.466542  \n",
      "#27\n",
      "Updated entry of line #27\n",
      "   Line Name Replicate  Activity  str_idx  pro_idx  sec_idx  gen_idx  \\\n",
      "78       #27        r0  0.001936        1       11       15       22   \n",
      "\n",
      "    Corrected activity  \n",
      "78           -6.246928  \n",
      "#27\n",
      "Updated entry of line #27\n",
      "   Line Name Replicate  Activity  str_idx  pro_idx  sec_idx  gen_idx  \\\n",
      "79       #27        r1  0.001923        1       11       15       22   \n",
      "\n",
      "    Corrected activity  \n",
      "79           -6.254105  \n",
      "#27\n",
      "Updated entry of line #27\n",
      "   Line Name Replicate  Activity  str_idx  pro_idx  sec_idx  gen_idx  \\\n",
      "80       #27        r2  0.001936        1       11       15       22   \n",
      "\n",
      "    Corrected activity  \n",
      "80              -6.247  \n",
      "#34\n",
      "Updated entry of line #34\n",
      "   Line Name Replicate  Activity  str_idx  pro_idx  sec_idx  gen_idx  \\\n",
      "99       #34        r0  0.000238        1        7       16       21   \n",
      "\n",
      "    Corrected activity  \n",
      "99            -8.34345  \n",
      "#34\n",
      "Updated entry of line #34\n",
      "    Line Name Replicate  Activity  str_idx  pro_idx  sec_idx  gen_idx  \\\n",
      "100       #34        r1  0.000209        1        7       16       21   \n",
      "\n",
      "     Corrected activity  \n",
      "100           -8.472663  \n",
      "#34\n",
      "Updated entry of line #34\n",
      "    Line Name Replicate  Activity  str_idx  pro_idx  sec_idx  gen_idx  \\\n",
      "101       #34        r2  0.000187        1        7       16       21   \n",
      "\n",
      "     Corrected activity  \n",
      "101            -8.58261  \n",
      "#35\n",
      "Updated entry of line #35\n",
      "    Line Name Replicate  Activity  str_idx  pro_idx  sec_idx  gen_idx  \\\n",
      "102       #35        r0  0.000218        1       10       17       21   \n",
      "\n",
      "     Corrected activity  \n",
      "102           -8.432233  \n",
      "#35\n",
      "Updated entry of line #35\n",
      "    Line Name Replicate  Activity  str_idx  pro_idx  sec_idx  gen_idx  \\\n",
      "103       #35        r1  0.000207        1       10       17       21   \n",
      "\n",
      "     Corrected activity  \n",
      "103           -8.483951  \n",
      "#35\n",
      "Updated entry of line #35\n",
      "    Line Name Replicate  Activity  str_idx  pro_idx  sec_idx  gen_idx  \\\n",
      "104       #35        r2  0.000206        1       10       17       21   \n",
      "\n",
      "     Corrected activity  \n",
      "104           -8.485528  \n"
     ]
    }
   ],
   "source": [
    "results = pd.read_csv('Sample_list.csv', sep=',') # load in the file contianing the link of the sample name to the various parts\n",
    "\n",
    "for sample in activity_dict:\n",
    "    line_name, replicate = sample.split('_')\n",
    "    print(line_name)\n",
    "    # Adding the measured and corrected activity to the results\n",
    "    results.loc[(results['Line Name']==line_name) & (results['Replicate']==replicate), 'Corrected activity'] = corrected_activity_dict[sample]\n",
    "    results.loc[(results['Line Name']==line_name) & (results['Replicate']==replicate), 'Activity'] = activity_dict[sample]\n",
    "    print(f'Updated entry of line {line_name}')\n",
    "    print(results.loc[(results['Line Name']==line_name) & (results['Replicate']==replicate)])\n",
    "# Write the results into the original file\n",
    "results.to_csv('Sample_list.csv', sep=',', index=False) "
   ]
  },
  {
   "cell_type": "code",
   "execution_count": null,
   "id": "88e41f48",
   "metadata": {},
   "outputs": [],
   "source": []
  }
 ],
 "metadata": {
  "kernelspec": {
   "display_name": "Python 3 (ipykernel)",
   "language": "python",
   "name": "python3"
  },
  "language_info": {
   "codemirror_mode": {
    "name": "ipython",
    "version": 3
   },
   "file_extension": ".py",
   "mimetype": "text/x-python",
   "name": "python",
   "nbconvert_exporter": "python",
   "pygments_lexer": "ipython3",
   "version": "3.9.2"
  }
 },
 "nbformat": 4,
 "nbformat_minor": 5
}
