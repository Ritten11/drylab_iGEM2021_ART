{
 "cells": [
  {
   "cell_type": "code",
   "execution_count": 1,
   "id": "11d8303f",
   "metadata": {},
   "outputs": [],
   "source": [
    "import numpy as np\n",
    "import pandas as pd\n",
    "import matplotlib as mpl\n",
    "import matplotlib.pyplot as plt\n",
    "\n",
    "\n",
    "import random\n",
    "SEED = 578924431 # For an unbalanced sub-set, set seed to 42. Properly balanced subset: 578924431\n",
    "\n",
    "from sklearn.decomposition import PCA\n",
    "\n",
    "# setting the colorscheme of the figures\n",
    "COLOR = '#307890'\n",
    "mpl.rcParams.update({'text.color' : COLOR,\n",
    "                     'axes.labelcolor' : COLOR,\n",
    "                     'xtick.color': COLOR,\n",
    "                     'ytick.color': COLOR, \n",
    "                     'axes.edgecolor': COLOR})"
   ]
  },
  {
   "cell_type": "markdown",
   "id": "15ba201d",
   "metadata": {},
   "source": [
    "# Creating a balanced subset of the combinational library\n",
    "\n",
    "When optimising a genetically engineered machine, there are a lot of parts of this machine that could possibly be optimized. One strategy would be to optimize each part independantly and then put all \"optimal\" variants into a single machine. It is however highly unlikely that changing one part has no effect on the functioning of the other parts. In other words, the assumption of independence between each part required for the afore mentioned strategy does not hold. It is however infeasibale to test all possible combinations of the part-variants as the number of variants that would need to be tested increases exponentially with each added part. This raises the question: \"How do I optimize my genetically engineered machine in a cost- and time-effective manner?\". \n",
    "\n",
    "The Automated Recommendation Tool (ART) is designed exactly for this purpose by **ADD CITATION**. The tool uses machine learning to learn underlying dependencies between the varying parts of the genetically engineered machine based only on the results of a relatively small subset of the *combinatorial library* (a fancy word for a list with all possible combinations of the different part-variants). The exact working of the ART is discussed in the `performing_ART_analysis.ipynb` notebook. This notebook discusses how to create a subset of this combinatorial library in which each part-variant is sufficiently represented. "
   ]
  },
  {
   "cell_type": "markdown",
   "id": "d8a48aef",
   "metadata": {},
   "source": [
    "## Step 1: Create the entire combinatorial library\n",
    "\n",
    "Before it is possible to take a subset of the combinatorial library, the library needs to exist in the first place. This is done by creating a unique index for each part-variant and listing all posible combinations of these indeces.\n",
    "\n",
    "For our analysis we used:\n",
    "- 4 different *Saccharomyces spp.* strains\n",
    "- 10 different promoters\n",
    "- 4 different secretion signals\n",
    "- 4 different alpha-amylase genes\n"
   ]
  },
  {
   "cell_type": "code",
   "execution_count": 2,
   "id": "609e5899",
   "metadata": {},
   "outputs": [
    {
     "name": "stdout",
     "output_type": "stream",
     "text": [
      "Size combinatorial library: 640\n"
     ]
    }
   ],
   "source": [
    "# Listing the the number of variables and creating the associated indeces:\n",
    "num_strains = 4\n",
    "indeces_strains = np.array(range(1,num_strains+1)) # Results in an array with values [1,2,3,4]\n",
    "num_promoters = 10\n",
    "indeces_promoters = np.array(range(num_strains+1, num_strains+num_promoters+1)) # --> array with values [5,6,7,8,9,10,11,12,13,14]\n",
    "num_secretion_signals = 4\n",
    "indeces_secretion = np.array(range(num_strains+num_promoters+1, num_strains+num_promoters+num_secretion_signals+1)) # --> array with values [15,16,17,18]\n",
    "num_genes = 4\n",
    "indeces_genes = np.array(range(num_strains+num_promoters+num_secretion_signals+1, num_strains+num_promoters+num_secretion_signals+num_genes+1)) # --> array with values [19,20,21,22]\n",
    "\n",
    "\n",
    "# determining the size of the combinatorial library\n",
    "num_combinations = num_strains*num_genes*num_promoters*num_secretion_signals\n",
    "\n",
    "print(f'Size combinatorial library: {num_combinations}')"
   ]
  },
  {
   "cell_type": "code",
   "execution_count": 3,
   "id": "bfd58a67",
   "metadata": {},
   "outputs": [
    {
     "name": "stdout",
     "output_type": "stream",
     "text": [
      "[1 2 3 4]\n",
      "[ 5  6  7  8  9 10 11 12 13 14]\n",
      "[15 16 17 18]\n",
      "[19 20 21 22]\n"
     ]
    }
   ],
   "source": [
    "print(indeces_strains)\n",
    "print(indeces_promoters)\n",
    "print(indeces_secretion)\n",
    "print(indeces_genes)"
   ]
  },
  {
   "cell_type": "markdown",
   "id": "17ba4e64",
   "metadata": {},
   "source": [
    "After assigning an index to each part-variant, the entire library can be created by iteration over all variants of each part and putting those combinations into a single list."
   ]
  },
  {
   "cell_type": "code",
   "execution_count": 4,
   "id": "9c24ab3e",
   "metadata": {},
   "outputs": [],
   "source": [
    "def init_comb_library(size):\n",
    "    \n",
    "    # First, initialize \n",
    "    comb_library = [np.zeros(0) for i in range(size)]\n",
    "    i = 0\n",
    "    for idx1 in indeces_strains:\n",
    "        for idx2 in indeces_promoters:\n",
    "            for idx3 in indeces_secretion:\n",
    "                for idx4 in indeces_genes:\n",
    "                    comb_library[i] = [idx1, idx2, idx3, idx4]\n",
    "                    i += 1\n",
    "    return comb_library"
   ]
  },
  {
   "cell_type": "markdown",
   "id": "1a5e7228",
   "metadata": {},
   "source": [
    "Now that there is a function for creating the combinatorial library, it is possible to select a few entries from this library in order to create a subset."
   ]
  },
  {
   "cell_type": "code",
   "execution_count": 5,
   "id": "23af8c7b",
   "metadata": {
    "scrolled": true
   },
   "outputs": [
    {
     "name": "stdout",
     "output_type": "stream",
     "text": [
      "64\n",
      "First five samples:\n",
      "[[ 2  6 16 22]\n",
      " [ 4 11 18 19]\n",
      " [ 1  5 16 19]\n",
      " [ 1 11 18 19]\n",
      " [ 3  8 16 22]]\n",
      "   str_idx  pro_idx  sec_idx  gen_idx Line Name\n",
      "0        2        6       16       22       #01\n",
      "1        4       11       18       19       #02\n",
      "2        1        5       16       19       #03\n",
      "3        1       11       18       19       #04\n",
      "4        3        8       16       22       #05\n"
     ]
    }
   ],
   "source": [
    "# In order to be able to reproduce the created subset, always set the seed of the random number generator to a value \n",
    "# you know. This seed is used throughtout the notebook, so we initialized it in the very first cell.\n",
    "np.random.seed(SEED) \n",
    "\n",
    "# We decided we wanted to explore about 10% of the entire combinatorial library. If you wish to explore an X amount, just fill in the that number.\n",
    "percentage_comb_library = 10 \n",
    "num_samples = int(np.rint(num_combinations*(percentage_comb_library/100)))\n",
    "\n",
    "# Initializing the entire combinational library\n",
    "comb_library = init_comb_library(num_combinations)\n",
    "\n",
    "# Pick a number of random samples out of the combinatorial library\n",
    "sample_indeces = np.random.choice(range(num_combinations), num_samples, replace=False)\n",
    "samples = [comb_library[i] for i in sample_indeces]\n",
    "samples = np.array(samples)\n",
    "print(f'{num_samples}')\n",
    "\n",
    "print(f'First five samples:')\n",
    "print(samples[:5])\n",
    "\n",
    "# transforming the samples into a dataframe and adding columns\n",
    "samples = pd.DataFrame(samples, columns=['str_idx', 'pro_idx', 'sec_idx', 'gen_idx'])\n",
    "names = ['#'+str(i).zfill(2) for i in range(1, num_samples+1)]\n",
    "names_df = pd.DataFrame(names, columns=['Line Name'])\n",
    "named_samples = samples.join(names_df)\n",
    "# named_samples = named_samples.set_index('Line Name')\n",
    "\n",
    "print(named_samples.head())"
   ]
  },
  {
   "cell_type": "markdown",
   "id": "57cfe5a3",
   "metadata": {},
   "source": [
    "## step 2: Creating the framework which can be used as input for the ART\n",
    "At this step the basic framework which will be used as the input for the ART is designed. The steps that follow afterwards will show how to verify wether the subset created in the previous step is actualy a balanced subset. "
   ]
  },
  {
   "cell_type": "code",
   "execution_count": 6,
   "id": "168ffcd4",
   "metadata": {},
   "outputs": [
    {
     "name": "stdout",
     "output_type": "stream",
     "text": [
      "    str_idx pro_idx sec_idx gen_idx Line Name Replicate Activity\n",
      "0         2       6      16      22       #01        r0        _\n",
      "1         2       6      16      22       #01        r1        _\n",
      "2         2       6      16      22       #01        r2        _\n",
      "3         4      11      18      19       #02        r0        _\n",
      "4         4      11      18      19       #02        r1        _\n",
      "..      ...     ...     ...     ...       ...       ...      ...\n",
      "187       1      12      16      21       #63        r1        _\n",
      "188       1      12      16      21       #63        r2        _\n",
      "189       4       6      18      19       #64        r0        _\n",
      "190       4       6      18      19       #64        r1        _\n",
      "191       4       6      18      19       #64        r2        _\n",
      "\n",
      "[192 rows x 7 columns]\n",
      "    Line Name Replicate Activity str_idx pro_idx sec_idx gen_idx\n",
      "0         #01        r0        _       2       6      16      22\n",
      "1         #01        r1        _       2       6      16      22\n",
      "2         #01        r2        _       2       6      16      22\n",
      "3         #02        r0        _       4      11      18      19\n",
      "4         #02        r1        _       4      11      18      19\n",
      "..        ...       ...      ...     ...     ...     ...     ...\n",
      "187       #63        r1        _       1      12      16      21\n",
      "188       #63        r2        _       1      12      16      21\n",
      "189       #64        r0        _       4       6      18      19\n",
      "190       #64        r1        _       4       6      18      19\n",
      "191       #64        r2        _       4       6      18      19\n",
      "\n",
      "[192 rows x 7 columns]\n"
     ]
    }
   ],
   "source": [
    "\n",
    "newdf = pd.DataFrame(np.repeat(named_samples.values,3,axis=0))\n",
    "newdf.columns = named_samples.columns\n",
    "newdf['Replicate'] = ['r0', 'r1', 'r2']*num_samples # creating entries for each replicate\n",
    "newdf['Activity'] = '_' # creating an empty column for the actual measurement.\n",
    "print(newdf)\n",
    "\n",
    "# Setting the line name, replicate number and measurement value as first columns in the dataframe\n",
    "# This is not a required step, but is more esthetically pleasing :)\n",
    "cols = newdf.columns.tolist()\n",
    "cols = cols[-3:] + cols[:-3]\n",
    "sample_list = newdf[cols] \n",
    "\n",
    "print(sample_list)\n",
    "sample_list.to_csv('Sample_list.csv', sep=',', index=False)"
   ]
  },
  {
   "cell_type": "markdown",
   "id": "4a4ebc04",
   "metadata": {},
   "source": [
    "Now that there is a design for the input format, some mock-data can be generated which can be used for testing the ART pipeline before the actual measurements have been performed"
   ]
  },
  {
   "cell_type": "code",
   "execution_count": 7,
   "id": "27b70f7d",
   "metadata": {},
   "outputs": [
    {
     "name": "stdout",
     "output_type": "stream",
     "text": [
      "    str_idx  pro_idx  sec_idx  gen_idx Line Name  Activity\n",
      "0         2        6       16       22       #01  0.829131\n",
      "1         4       11       18       19       #02  0.333064\n",
      "2         1        5       16       19       #03  0.871142\n",
      "3         1       11       18       19       #04  0.937158\n",
      "4         3        8       16       22       #05  0.054991\n",
      "..      ...      ...      ...      ...       ...       ...\n",
      "59        4       14       15       22       #60  0.416399\n",
      "60        4       14       17       20       #61  0.671471\n",
      "61        4       13       16       20       #62  0.958380\n",
      "62        1       12       16       21       #63  0.669798\n",
      "63        4        6       18       19       #64  0.714480\n",
      "\n",
      "[64 rows x 6 columns]\n"
     ]
    }
   ],
   "source": [
    "# Creating mock data for the testing of the ART\n",
    "\n",
    "np.random.seed(SEED)\n",
    "\n",
    "mock_data = named_samples.copy()\n",
    "mock_data['Activity'] = np.random.random(mock_data.shape[0])\n",
    "print(mock_data)\n",
    "\n",
    "mock_data.to_csv('mock_data.csv', sep=',', index=False)"
   ]
  },
  {
   "cell_type": "markdown",
   "id": "0a3aafa2",
   "metadata": {},
   "source": [
    "## (Optional) Step 3: Validating whether each part-variant is sufficiently represented within the subset\n",
    "\n",
    "Generally speaking, a well balanced subset of a combinatorial library means that part-variant of a part is somewhat equally reprented in the subset. Verifying this can be done by creating a histrogram of the part-variant for each part. If it turns out that some part-variants are severely under represented, you can change the `SEED` parameter which was set in the first cell of this notebook and generate a different subset.\n"
   ]
  },
  {
   "cell_type": "code",
   "execution_count": 8,
   "id": "97fa3150",
   "metadata": {},
   "outputs": [
    {
     "data": {
      "text/plain": [
       "['ySB76', 'ySB77', 'ySB78', 'ySB85']"
      ]
     },
     "execution_count": 8,
     "metadata": {},
     "output_type": "execute_result"
    }
   ],
   "source": [
    "# Loading the official names of the part-variants\n",
    "part_names = pd.read_csv('part_names.csv')\n",
    "part_names = part_names.set_index('Index')\n",
    "\n",
    "list(part_names.Name[indeces_strains])"
   ]
  },
  {
   "cell_type": "code",
   "execution_count": 17,
   "id": "fd38a79c",
   "metadata": {},
   "outputs": [
    {
     "data": {
      "image/png": "[encoded data removed]",
      "text/plain": [
       "<Figure size 576x576 with 4 Axes>"
      ]
     },
     "metadata": {
      "needs_background": "light"
     },
     "output_type": "display_data"
    }
   ],
   "source": [
    "\n",
    "# Plotting the occurances of each part withing the selected constructs\n",
    "\n",
    "fig, axs = plt.subplots(2,2, figsize=(8,8))\n",
    "axs[0][0].hist(named_samples[\"str_idx\"], align='mid', bins=np.append(indeces_strains,5)-0.5, \n",
    "               color='#a40e4c', edgecolor = 'black', rwidth=0.8)\n",
    "axs[0][0].patch.set_alpha(0.0)\n",
    "axs[0][0].set_xticks(indeces_strains)\n",
    "axs[0][0].set_xticklabels(list(part_names.Name[indeces_strains]), rotation = 90)\n",
    "axs[0][0].set_title('Distribution of strains')\n",
    "axs[0][1].hist(named_samples[\"pro_idx\"], align='mid', bins=np.append(indeces_promoters,15)-0.5,\n",
    "               color='#a40e4c', edgecolor = 'black', rwidth=0.8)\n",
    "axs[0][1].patch.set_alpha(0.0)\n",
    "axs[0][1].set_xticks(indeces_promoters)\n",
    "axs[0][1].set_xticklabels(list(part_names.Name[indeces_promoters]), rotation = 90)\n",
    "axs[0][1].set_title('Distribution of promoters')\n",
    "axs[1][0].hist(named_samples[\"sec_idx\"], align='mid', bins=np.append(indeces_secretion,19)-0.5,\n",
    "               color='#a40e4c', edgecolor = 'black', rwidth=0.8)\n",
    "axs[1][0].patch.set_alpha(0.0)\n",
    "axs[1][0].set_xticks(indeces_secretion)\n",
    "axs[1][0].set_xticklabels(list(part_names.Name[indeces_secretion]), rotation = 90)\n",
    "axs[1][0].set_title('Distribution of secretion signals')\n",
    "axs[1][1].hist(named_samples[\"gen_idx\"], align='mid', bins=np.append(indeces_genes,23)-0.5,\n",
    "               color='#a40e4c', edgecolor = 'black', rwidth=0.8)\n",
    "axs[1][1].patch.set_alpha(0.0)\n",
    "axs[1][1].set_xticks(indeces_genes)\n",
    "axs[1][1].set_xticklabels(list(part_names.Name[indeces_genes]), rotation = 90)\n",
    "axs[1][1].set_title('Distribution of genes')\n",
    "\n",
    "fig.suptitle('Final Frequency distributions of part-variants', fontsize=22)\n",
    "fig.tight_layout()\n",
    "fig.savefig('./figures/freq_dist_updated.pdf', transparent=True)\n",
    "fig.savefig('./figures/freq_dist_updated.png', transparent=True)"
   ]
  },
  {
   "cell_type": "markdown",
   "id": "9bce2773",
   "metadata": {},
   "source": [
    "## (Optional) Step 4: Validating of each part-variant contributes sufficiently to the overall variance within the subset.\n",
    "\n",
    "This part is becoming a bit more complex, so do not worry if are having difficulties following what is going on. Just take it slow and do some additional googling when needed. Especially the theory behind Principle Component Analysis (PCA) is rather complex and difficult to explain in just a few short sentences. There are however plenty of educational materials available online. If interested, [Jonathon Shlens](https://arxiv.org/pdf/1404.1100.pdf) wrote a nice (but still complicated) tutorial. For a more intuitive explanation, we highly recommend watching [this video](https://www.youtube.com/watch?v=_UVHneBUBW0) on how PCA can be used in genetics. \n",
    "\n",
    "If you've read the video linked above, you should by now know that PCA can be used to capture the variance within a dataset into a set of principle components. It also discussed how much each 'cell' contributes to each principle component. In our case however, the interest lies within how much each part-variant contributes to the total variance within the dataset. Ideally, this should be equal for all variants of a part. \n",
    "\n",
    "This can be determined by first figuring out how much each part-variant contributes (i.e. the weight) to each principle component. One way of achieving this is by dividing the loading of each part-variant by the sum of all absolute loadings in the eigenarray ($\\vec{l}$) of the principle component. In order to get the weight vector ($\\vec{w}$) of principle component $i$ ($PCi$), the following formula is used:\n",
    "\n",
    "$$ \\vec{w}_{PCi}=\\frac{\\vec{l}_{PCi}}{\\sum(abs(\\vec{l}_{PCi}))}$$\n",
    "\n",
    "The weight vectors of all principle components are combined into a single weight matrix $\\mathbf{W}$. The dot product between this matrix and the explained variance ratio vector of the PCA ($\\vec{var_{PC}}$), creates a vector in which each element represents how much each part-variant contributed to the total variance within the dataset ($\\vec{var_{part}}$):\n",
    "\n",
    "$$ \\vec{var_{part}}=\\mathbf{W}\\cdot\\vec{var_{PC}}$$\n",
    "\n",
    "All that is left to do now, is group all part-variants according to the part they belong and analise if there are any major differences within each part!\n",
    "\n",
    "Now that the theory is explained, it is time to discuss the implementation"
   ]
  },
  {
   "cell_type": "markdown",
   "id": "8fe5a5f2",
   "metadata": {},
   "source": [
    "In order to be able to apply PCA to the subset, each part-variant needs its own dimension. A simple trick often used in ML is to one-hot-encode the data"
   ]
  },
  {
   "cell_type": "code",
   "execution_count": 10,
   "id": "7fdd3b9b",
   "metadata": {},
   "outputs": [
    {
     "data": {
      "text/html": [
       "<div>\n",
       "<style scoped>\n",
       "    .dataframe tbody tr th:only-of-type {\n",
       "        vertical-align: middle;\n",
       "    }\n",
       "\n",
       "    .dataframe tbody tr th {\n",
       "        vertical-align: top;\n",
       "    }\n",
       "\n",
       "    .dataframe thead th {\n",
       "        text-align: right;\n",
       "    }\n",
       "</style>\n",
       "<table border=\"1\" class=\"dataframe\">\n",
       "  <thead>\n",
       "    <tr style=\"text-align: right;\">\n",
       "      <th></th>\n",
       "      <th>str_idx_1</th>\n",
       "      <th>str_idx_2</th>\n",
       "      <th>str_idx_3</th>\n",
       "      <th>str_idx_4</th>\n",
       "      <th>pro_idx_5</th>\n",
       "      <th>pro_idx_6</th>\n",
       "      <th>pro_idx_7</th>\n",
       "      <th>pro_idx_8</th>\n",
       "      <th>pro_idx_9</th>\n",
       "      <th>pro_idx_10</th>\n",
       "      <th>...</th>\n",
       "      <th>pro_idx_13</th>\n",
       "      <th>pro_idx_14</th>\n",
       "      <th>sec_idx_15</th>\n",
       "      <th>sec_idx_16</th>\n",
       "      <th>sec_idx_17</th>\n",
       "      <th>sec_idx_18</th>\n",
       "      <th>gen_idx_19</th>\n",
       "      <th>gen_idx_20</th>\n",
       "      <th>gen_idx_21</th>\n",
       "      <th>gen_idx_22</th>\n",
       "    </tr>\n",
       "  </thead>\n",
       "  <tbody>\n",
       "    <tr>\n",
       "      <th>0</th>\n",
       "      <td>0</td>\n",
       "      <td>1</td>\n",
       "      <td>0</td>\n",
       "      <td>0</td>\n",
       "      <td>0</td>\n",
       "      <td>1</td>\n",
       "      <td>0</td>\n",
       "      <td>0</td>\n",
       "      <td>0</td>\n",
       "      <td>0</td>\n",
       "      <td>...</td>\n",
       "      <td>0</td>\n",
       "      <td>0</td>\n",
       "      <td>0</td>\n",
       "      <td>1</td>\n",
       "      <td>0</td>\n",
       "      <td>0</td>\n",
       "      <td>0</td>\n",
       "      <td>0</td>\n",
       "      <td>0</td>\n",
       "      <td>1</td>\n",
       "    </tr>\n",
       "    <tr>\n",
       "      <th>1</th>\n",
       "      <td>0</td>\n",
       "      <td>0</td>\n",
       "      <td>0</td>\n",
       "      <td>1</td>\n",
       "      <td>0</td>\n",
       "      <td>0</td>\n",
       "      <td>0</td>\n",
       "      <td>0</td>\n",
       "      <td>0</td>\n",
       "      <td>0</td>\n",
       "      <td>...</td>\n",
       "      <td>0</td>\n",
       "      <td>0</td>\n",
       "      <td>0</td>\n",
       "      <td>0</td>\n",
       "      <td>0</td>\n",
       "      <td>1</td>\n",
       "      <td>1</td>\n",
       "      <td>0</td>\n",
       "      <td>0</td>\n",
       "      <td>0</td>\n",
       "    </tr>\n",
       "    <tr>\n",
       "      <th>2</th>\n",
       "      <td>1</td>\n",
       "      <td>0</td>\n",
       "      <td>0</td>\n",
       "      <td>0</td>\n",
       "      <td>1</td>\n",
       "      <td>0</td>\n",
       "      <td>0</td>\n",
       "      <td>0</td>\n",
       "      <td>0</td>\n",
       "      <td>0</td>\n",
       "      <td>...</td>\n",
       "      <td>0</td>\n",
       "      <td>0</td>\n",
       "      <td>0</td>\n",
       "      <td>1</td>\n",
       "      <td>0</td>\n",
       "      <td>0</td>\n",
       "      <td>1</td>\n",
       "      <td>0</td>\n",
       "      <td>0</td>\n",
       "      <td>0</td>\n",
       "    </tr>\n",
       "    <tr>\n",
       "      <th>3</th>\n",
       "      <td>1</td>\n",
       "      <td>0</td>\n",
       "      <td>0</td>\n",
       "      <td>0</td>\n",
       "      <td>0</td>\n",
       "      <td>0</td>\n",
       "      <td>0</td>\n",
       "      <td>0</td>\n",
       "      <td>0</td>\n",
       "      <td>0</td>\n",
       "      <td>...</td>\n",
       "      <td>0</td>\n",
       "      <td>0</td>\n",
       "      <td>0</td>\n",
       "      <td>0</td>\n",
       "      <td>0</td>\n",
       "      <td>1</td>\n",
       "      <td>1</td>\n",
       "      <td>0</td>\n",
       "      <td>0</td>\n",
       "      <td>0</td>\n",
       "    </tr>\n",
       "    <tr>\n",
       "      <th>4</th>\n",
       "      <td>0</td>\n",
       "      <td>0</td>\n",
       "      <td>1</td>\n",
       "      <td>0</td>\n",
       "      <td>0</td>\n",
       "      <td>0</td>\n",
       "      <td>0</td>\n",
       "      <td>1</td>\n",
       "      <td>0</td>\n",
       "      <td>0</td>\n",
       "      <td>...</td>\n",
       "      <td>0</td>\n",
       "      <td>0</td>\n",
       "      <td>0</td>\n",
       "      <td>1</td>\n",
       "      <td>0</td>\n",
       "      <td>0</td>\n",
       "      <td>0</td>\n",
       "      <td>0</td>\n",
       "      <td>0</td>\n",
       "      <td>1</td>\n",
       "    </tr>\n",
       "  </tbody>\n",
       "</table>\n",
       "<p>5 rows × 22 columns</p>\n",
       "</div>"
      ],
      "text/plain": [
       "   str_idx_1  str_idx_2  str_idx_3  str_idx_4  pro_idx_5  pro_idx_6  \\\n",
       "0          0          1          0          0          0          1   \n",
       "1          0          0          0          1          0          0   \n",
       "2          1          0          0          0          1          0   \n",
       "3          1          0          0          0          0          0   \n",
       "4          0          0          1          0          0          0   \n",
       "\n",
       "   pro_idx_7  pro_idx_8  pro_idx_9  pro_idx_10  ...  pro_idx_13  pro_idx_14  \\\n",
       "0          0          0          0           0  ...           0           0   \n",
       "1          0          0          0           0  ...           0           0   \n",
       "2          0          0          0           0  ...           0           0   \n",
       "3          0          0          0           0  ...           0           0   \n",
       "4          0          1          0           0  ...           0           0   \n",
       "\n",
       "   sec_idx_15  sec_idx_16  sec_idx_17  sec_idx_18  gen_idx_19  gen_idx_20  \\\n",
       "0           0           1           0           0           0           0   \n",
       "1           0           0           0           1           1           0   \n",
       "2           0           1           0           0           1           0   \n",
       "3           0           0           0           1           1           0   \n",
       "4           0           1           0           0           0           0   \n",
       "\n",
       "   gen_idx_21  gen_idx_22  \n",
       "0           0           1  \n",
       "1           0           0  \n",
       "2           0           0  \n",
       "3           0           0  \n",
       "4           0           1  \n",
       "\n",
       "[5 rows x 22 columns]"
      ]
     },
     "execution_count": 10,
     "metadata": {},
     "output_type": "execute_result"
    }
   ],
   "source": [
    "samples_art_oneh = pd.get_dummies(data=named_samples.drop('Line Name', axis=1), columns=['str_idx', 'pro_idx', 'sec_idx', 'gen_idx'])\n",
    "samples_art_oneh.head()"
   ]
  },
  {
   "cell_type": "markdown",
   "id": "7f704cc3",
   "metadata": {},
   "source": [
    "PCA is generally used to reduce the number of dimensions of the data at a minimal loss of variability within the data. If you however wish to keep all variance, you can set the number of principle components to the total number of dimensions in your data. It should be noted that the final few principle components generally do not add a substantial amount of variance. In order to save computational resources, you could decide to skip the final few principle components."
   ]
  },
  {
   "cell_type": "code",
   "execution_count": 11,
   "id": "c2717219",
   "metadata": {},
   "outputs": [
    {
     "name": "stdout",
     "output_type": "stream",
     "text": [
      "22\n"
     ]
    }
   ],
   "source": [
    "\n",
    "# Select the number of principal components you with to analyse. Set to 4+10+4+4=22 to include all variability\n",
    "number_of_PCA_components = len(samples_art_oneh.columns)\n",
    "\n",
    "print(number_of_PCA_components)"
   ]
  },
  {
   "cell_type": "code",
   "execution_count": 12,
   "id": "c7a9fb34",
   "metadata": {},
   "outputs": [
    {
     "name": "stdout",
     "output_type": "stream",
     "text": [
      "sum of all components: 1.0\n",
      "[1.34215454e-01 1.18680097e-01 1.05144805e-01 9.58773015e-02\n",
      " 8.49547649e-02 7.84134911e-02 5.81035490e-02 5.01599320e-02\n",
      " 4.73217074e-02 3.84511821e-02 3.26216081e-02 3.00403124e-02\n",
      " 2.70467714e-02 2.53019092e-02 2.43909413e-02 2.04821530e-02\n",
      " 1.51948769e-02 1.35991433e-02 1.10340200e-32 6.64412756e-33\n",
      " 2.01438854e-33 2.57505802e-34]\n",
      "99.99999999999999\n",
      "str_idx_1      5.265150\n",
      "str_idx_2      8.330218\n",
      "str_idx_3      0.949433\n",
      "str_idx_4     12.645935\n",
      "pro_idx_5      1.403962\n",
      "pro_idx_6      1.235543\n",
      "pro_idx_7      1.914011\n",
      "pro_idx_8      1.940550\n",
      "pro_idx_9      0.789976\n",
      "pro_idx_10     3.130240\n",
      "pro_idx_11     4.789054\n",
      "pro_idx_12     1.958768\n",
      "pro_idx_13     1.192852\n",
      "pro_idx_14     0.038958\n",
      "sec_idx_15     8.431943\n",
      "sec_idx_16    14.113263\n",
      "sec_idx_17     1.381231\n",
      "sec_idx_18     4.300089\n",
      "gen_idx_19    10.642439\n",
      "gen_idx_20     2.235131\n",
      "gen_idx_21    10.859281\n",
      "gen_idx_22     2.451973\n",
      "Name: 0, dtype: float64\n"
     ]
    }
   ],
   "source": [
    "# Starting the Principal Componant Analysis in order to determine wether each part adds sufficient variablity \n",
    "# to the set of selected constructs\n",
    "\n",
    "\n",
    "pca_constructs = PCA(n_components=number_of_PCA_components)\n",
    "principalComponents_constructs = pca_constructs.fit_transform(samples_art_oneh) \n",
    "\n",
    "print(f\"sum of all components: {np.sum(pca_constructs.explained_variance_ratio_)}\") # A measure of how much variability is included in the PCA. If 1.0, all variability is included\n",
    "print(pca_constructs.explained_variance_ratio_) # Shows how much each PC contributes to the total amount of variability\n",
    "\n",
    "eigenarray = pca_constructs.components_ # Extracts the influence of each variable on each principle component\n",
    "\n",
    "contributions_pca = (abs(eigenarray)*100) / abs(eigenarray).sum(axis=1, keepdims=True) # Expresses the contribution of each variable to a PC in percentages\n",
    "\n",
    "#print(contributions_pca)\n",
    "contributions_pca = pd.DataFrame(contributions_pca, columns = samples_art_oneh.columns)\n",
    "print(np.sum(contributions_pca.iloc[0])) # Shows that the sum of the influence of each variable on the first PC is equal to 100% \n",
    "print(contributions_pca.iloc[0]) # Shows the relative influence of each variable on the first PC"
   ]
  },
  {
   "cell_type": "code",
   "execution_count": 13,
   "id": "8141aa65",
   "metadata": {},
   "outputs": [
    {
     "name": "stdout",
     "output_type": "stream",
     "text": [
      "[5.14144676 6.10065601 4.57337369 6.25052728 2.92133983 3.46559123\n",
      " 3.67369354 3.6298389  3.85669364 3.47936611 4.75098699 3.1285419\n",
      " 2.7906857  3.16425484 5.53392297 6.28249794 4.36693138 5.36725083\n",
      " 5.22178855 5.31417268 5.83498721 5.15145201]\n",
      "99.99999999999999\n"
     ]
    }
   ],
   "source": [
    "# Obtain the percentage of variance originating from each variable by calculating the dot product between: \n",
    "# - the explained variance ratio of each PC \n",
    "# - how much each variable contributed to that PC\n",
    "\n",
    "perc_var_per_parameter = np.dot(pca_constructs.explained_variance_ratio_, contributions_pca)\n",
    "\n",
    "\n",
    "print(perc_var_per_parameter) # How much each variable contributed to the total variance in percentages\n",
    "       \n",
    "print(np.sum(perc_var_per_parameter)) # The sum of all percentages. Should be 100% if number_of_PCA_components=22"
   ]
  },
  {
   "cell_type": "code",
   "execution_count": 14,
   "id": "3d35fba9",
   "metadata": {},
   "outputs": [
    {
     "data": {
      "image/png": "[encoded data removed]",
      "text/plain": [
       "<Figure size 576x576 with 4 Axes>"
      ]
     },
     "metadata": {
      "needs_background": "light"
     },
     "output_type": "display_data"
    }
   ],
   "source": [
    "# Creating a bar plot of contribution of each variable to the total variance in perentages\n",
    "fig, axs = plt.subplots(2,2, figsize=(8,8))\n",
    "axs[0][0].bar(indeces_strains, perc_var_per_parameter[indeces_strains-1], edgecolor = 'black', color='#98c9a6')\n",
    "axs[0][0].set_xticks(indeces_strains)\n",
    "axs[0][0].set_xticklabels(list(part_names.Name[indeces_strains]), rotation = 90)\n",
    "axs[0][0].set_title('Variance attributed to each strain')\n",
    "axs[0][1].bar(indeces_promoters, perc_var_per_parameter[indeces_promoters-1], edgecolor = 'black', color='#98c9a6')\n",
    "axs[0][1].set_xticks(indeces_promoters)\n",
    "axs[0][1].set_xticklabels(list(part_names.Name[indeces_promoters]), rotation = 90)\n",
    "axs[0][1].set_title('Variance attributed to each promoter')\n",
    "axs[1][0].bar(indeces_secretion, perc_var_per_parameter[indeces_secretion-1], edgecolor = 'black', color='#98c9a6')\n",
    "axs[1][0].set_xticks(indeces_secretion)\n",
    "axs[1][0].set_xticklabels(list(part_names.Name[indeces_secretion]), rotation = 90)\n",
    "axs[1][0].set_title('Variance attributed to each secretion signal')\n",
    "axs[1][1].bar(indeces_genes, perc_var_per_parameter[indeces_genes-1], edgecolor = 'black', color='#98c9a6')\n",
    "axs[1][1].set_xticks(indeces_genes)\n",
    "axs[1][1].set_xticklabels(list(part_names.Name[indeces_genes]), rotation = 90)\n",
    "axs[1][1].set_title('Variance attributed to each gene')\n",
    "\n",
    "fig.suptitle('Distribution of variance attributed to part-variants in %', fontsize=22)\n",
    "fig.tight_layout()\n",
    "fig.savefig('./figures/var_dist.pdf', transparent=True)\n",
    "fig.savefig('./figures/var_dist.png', transparent=True)"
   ]
  },
  {
   "cell_type": "markdown",
   "id": "2526e09d",
   "metadata": {},
   "source": [
    "## (optional) Step 5: Excluding some samples\n",
    "\n",
    "This step is only relevant once the final list of samples has been constructed and the physical experiments have already started. It is for instance possible that some samples cannot be included in the analysis due to a lack of measuring materials or accidents in the lab. If this happens too often for samples with for instance one specific secretion peptide, this secretion peptide might become under respesented in the subset used for further analysis. It might therefore be wise to check how much effort needs to be spend on either saving the sample or redoing the experiments for this sample. \n",
    "\n",
    "By running the cells below, the lost samples can be excluded from the subset. The effect of this exclusion can be seen by re-running the cells starting at step 3. If it turns out that removing these samples has close to no effect on the variance within the dataset, these samples can be skipped safely. If it turns out that the removal the samples causes one part-variant to be under-represented, it might be wise to put additional effort into including some of the removed samples."
   ]
  },
  {
   "cell_type": "code",
   "execution_count": 15,
   "id": "901e92f2",
   "metadata": {},
   "outputs": [
    {
     "name": "stdout",
     "output_type": "stream",
     "text": [
      "    str_idx  pro_idx  sec_idx  gen_idx Line Name\n",
      "0         2        6       16       22       #01\n",
      "1         4       11       18       19       #02\n",
      "2         1        5       16       19       #03\n",
      "3         1       11       18       19       #04\n",
      "4         3        8       16       22       #05\n",
      "..      ...      ...      ...      ...       ...\n",
      "59        4       14       15       22       #60\n",
      "60        4       14       17       20       #61\n",
      "61        4       13       16       20       #62\n",
      "62        1       12       16       21       #63\n",
      "63        4        6       18       19       #64\n",
      "\n",
      "[64 rows x 5 columns]\n",
      "    str_idx  pro_idx  sec_idx  gen_idx Line Name\n",
      "0         2        6       16       22       #01\n",
      "1         4       11       18       19       #02\n",
      "4         3        8       16       22       #05\n",
      "7         3        8       15       22       #08\n",
      "8         4       11       15       22       #09\n",
      "9         2        8       16       22       #10\n",
      "11        3       11       15       19       #12\n",
      "12        4       13       16       22       #13\n",
      "13        1       14       16       20       #14\n",
      "14        1        6       18       19       #15\n",
      "15        2       13       15       21       #16\n",
      "17        1       13       18       20       #18\n",
      "18        3        7       15       21       #19\n",
      "21        2       14       16       20       #22\n",
      "22        2       12       17       21       #23\n",
      "23        2        7       18       21       #24\n",
      "24        3       10       15       20       #25\n",
      "25        1        8       16       21       #26\n",
      "26        1       11       15       22       #27\n",
      "27        2        7       16       20       #28\n",
      "28        4        9       16       21       #29\n",
      "29        4        5       18       20       #30\n",
      "30        2        6       18       20       #31\n",
      "32        4       14       16       22       #33\n",
      "33        1        7       16       21       #34\n",
      "34        1       10       17       21       #35\n",
      "36        4        9       16       22       #37\n",
      "37        3       12       16       22       #38\n",
      "38        4        7       16       21       #39\n",
      "40        4        8       15       20       #41\n",
      "43        2       12       18       21       #44\n",
      "44        3       10       16       21       #45\n",
      "45        2        5       18       21       #46\n",
      "46        2        6       15       19       #47\n",
      "48        4       13       15       19       #49\n",
      "49        2        6       17       20       #50\n",
      "50        1       11       17       21       #51\n",
      "51        2       10       16       20       #52\n",
      "52        4        8       15       19       #53\n",
      "53        4        9       18       22       #54\n",
      "54        2        9       16       21       #55\n",
      "55        3       10       15       21       #56\n",
      "57        3       12       15       19       #58\n",
      "59        4       14       15       22       #60\n",
      "60        4       14       17       20       #61\n",
      "61        4       13       16       20       #62\n",
      "62        1       12       16       21       #63\n"
     ]
    }
   ],
   "source": [
    "\n",
    "dropped_samples = [\"#03\", \"#04\", \"#07\", \"#17\", \"#36\", \"#40\", \"#43\", \"#48\", \"#57\", \"#64\", \"#21\", \"#06\", \"#11\",\"#20\", \"#32\", \"#42\", \"#59\"]\n",
    "mask = named_samples['Line Name'].isin(dropped_samples)\n",
    "\n",
    "print(named_samples)\n",
    "named_samples = named_samples[~mask]\n",
    "print(named_samples)"
   ]
  },
  {
   "cell_type": "code",
   "execution_count": 16,
   "id": "868bb114",
   "metadata": {},
   "outputs": [
    {
     "name": "stdout",
     "output_type": "stream",
     "text": [
      "47\n"
     ]
    }
   ],
   "source": [
    "print(len(named_samples[\"str_idx\"]))"
   ]
  }
 ],
 "metadata": {
  "kernelspec": {
   "display_name": "Python 3 (ipykernel)",
   "language": "python",
   "name": "python3"
  },
  "language_info": {
   "codemirror_mode": {
    "name": "ipython",
    "version": 3
   },
   "file_extension": ".py",
   "mimetype": "text/x-python",
   "name": "python",
   "nbconvert_exporter": "python",
   "pygments_lexer": "ipython3",
   "version": "3.9.2"
  }
 },
 "nbformat": 4,
 "nbformat_minor": 5
}
