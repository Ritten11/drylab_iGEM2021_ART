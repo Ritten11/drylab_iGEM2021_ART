{
 "cells": [
  {
   "cell_type": "code",
   "execution_count": 1,
   "id": "6983d0a8",
   "metadata": {},
   "outputs": [
    {
     "name": "stdout",
     "output_type": "stream",
     "text": [
      "Do not have mpi4py package.\n",
      "Do not have acor package\n"
     ]
    }
   ],
   "source": [
    "import sys\n",
    "import glob\n",
    "import os\n",
    "import re\n",
    "import numpy as np\n",
    "import pandas as pd\n",
    "import matplotlib.pyplot as plt\n",
    "%matplotlib inline\n",
    "import seaborn as sns\n",
    "# from scipy.interpolate import UnivariateSpline\n",
    "# from scipy import stats\n",
    "import pickle\n",
    "\n",
    "from itertools import chain\n",
    "from scipy.optimize import curve_fit\n",
    "\n",
    "# Import ART\n",
    "\n",
    "sys.path.append('.')\n",
    "sys.path.append('../ART_iGEM')\n",
    "\n",
    "from art.core import *\n",
    "import art.plot as plot"
   ]
  },
  {
   "cell_type": "markdown",
   "id": "d7b81b2a",
   "metadata": {},
   "source": [
    "# Step 1: Loading the data\n",
    "\n",
    "The Automated Recommendation tool is used to determine which combination of *Saccharomyces spp.* strain, promotor, secretion peptide and alpha-amylase gene is expected to yield a high alpha-amylase activity. The training data for ART consists of alpha-amylase activity produced by 53 samples out of the possible 640 combinations. This activity was measured using the **X** kit. \n",
    "\n",
    "\n",
    "\n",
    "However, the first step is to load in the various data files and make sure they have the correct data type"
   ]
  },
  {
   "cell_type": "code",
   "execution_count": 2,
   "id": "7a224ce5",
   "metadata": {},
   "outputs": [
    {
     "name": "stdout",
     "output_type": "stream",
     "text": [
      "192\n",
      "<class 'pandas.core.frame.DataFrame'>\n",
      "Int64Index: 174 entries, 0 to 191\n",
      "Data columns (total 7 columns):\n",
      " #   Column       Non-Null Count  Dtype  \n",
      "---  ------       --------------  -----  \n",
      " 0   Line Name    174 non-null    object \n",
      " 1   Replicate    174 non-null    object \n",
      " 2   Measurement  174 non-null    float64\n",
      " 3   str_idx      174 non-null    int64  \n",
      " 4   pro_idx      174 non-null    int64  \n",
      " 5   sec_idx      174 non-null    int64  \n",
      " 6   gen_idx      174 non-null    int64  \n",
      "dtypes: float64(1), int64(4), object(2)\n",
      "memory usage: 10.9+ KB\n"
     ]
    }
   ],
   "source": [
    "samples = pd.read_csv('Sample_list.csv', sep=',')\n",
    "\n",
    "# filtering out the non-existant measurments:\n",
    "\n",
    "print(len(samples))\n",
    "\n",
    "samples = samples.loc[samples['Measurement']!='_']\n",
    "samples['Measurement'] = samples['Measurement'].astype('float64')\n",
    "samples.info()\n",
    "#print(len(samples))\n",
    "\n",
    "#strains_art_oneh = strains.copy().loc[np.logical_or(strains['origin'] == 'lib', strains['origin'] == 'ctr')]\n",
    "\n"
   ]
  },
  {
   "cell_type": "markdown",
   "id": "63d7ac87",
   "metadata": {},
   "source": [
    "The info box above should show that the `Line Name` and `Replicate` columns have the Dtype `object`, the has the Dtype `float64` and all other columns have the Dtype `int64`"
   ]
  },
  {
   "cell_type": "markdown",
   "id": "10a49a97",
   "metadata": {},
   "source": [
    "## Step 2: Restructuring the data\n",
    "\n",
    "The ART needs a unique name for each replicate. Therefore, the `Line Name` and `Replicate` are combined into a single `Line Name`. Furthermore, ART is designed for the optimization of a genetically engineered machine in which the expression of several protein is varied. Under these circumstances, proteomic and transcriptomic data is generally used as the input data (Radivojević, Costello & Workman et al., 2020). In our case however, the main interest lies within optimizing the activity of a single enzyme. As our focus is on the activity and not the abundance of the enzyme, proteomic data on the absolute protein content of the micro organism is not a representative performance measure. Furthermore, transcriptomic data of the gene with encodes for alpha-amylase is not the only variable which can influence the activity of alpha-amylase. The strain in which the enzyme is produced, the secretion peptide of the protein and the variant of alpha-amylase also influence activity of the resulting enzyme. Therefore, a different measurement type is needed as input data.\n",
    "Zhang, Petersen & Radivojević et al. (2020) faced a similar problem. They varied the promoters of 5 different genes in order to optimize tryptophan digestion in Saccharomyces cerevisiae. However, transcriptomic data of each gene was not available. What they did instead, was looking at which promoter combination yielded the best tryptophan digestion. Each promoter was given a unique index. By one-hot-encoding each of these indexes, the promoter combinations can be expressed in a sparse binary vector. This sparse vector can be used instead of the more common transcriptomic data. A similar approach was chosen for our project. Instead of looking at different promoters, other parts of the genetically engineered machine are optimized. Each of the part-variants is given a unique index which in turn can be translated to a one-hot-encoded vector.\n",
    "\n",
    "Most of the code you see below is either taken directly from the publication of Zhang, Petersen & Radivojević et al. (2020), or it is heavily inspired by it.\n",
    "\n",
    "#### References:\n",
    "Radivojević, T., Costello, Z., Workman, K. et al. A machine learning Automated Recommendation Tool for synthetic biology. Nat Commun 11, 4879 (2020). https://doi.org/10.1038/s41467-020-18008-\n",
    "\n",
    "Zhang, J., Petersen, S.D., Radivojević, T. et al. Combining mechanistic and machine learning models for predictive engineering and optimization of tryptophan metabolism. Nat Commun 11, 4880 (2020). https://doi.org/10.1038/s41467-020-17910-1"
   ]
  },
  {
   "cell_type": "code",
   "execution_count": 3,
   "id": "e8bd7986",
   "metadata": {},
   "outputs": [],
   "source": [
    "samples[\"Line Name\"] = samples[\"Line Name\"] + \"-\" + samples[\"Replicate\"]\n",
    "\n",
    "samples = samples.loc[:,['Line Name','Measurement','str_idx', 'pro_idx', 'sec_idx', 'gen_idx']]"
   ]
  },
  {
   "cell_type": "code",
   "execution_count": 4,
   "id": "009357fc",
   "metadata": {},
   "outputs": [
    {
     "data": {
      "text/html": [
       "<div>\n",
       "<style scoped>\n",
       "    .dataframe tbody tr th:only-of-type {\n",
       "        vertical-align: middle;\n",
       "    }\n",
       "\n",
       "    .dataframe tbody tr th {\n",
       "        vertical-align: top;\n",
       "    }\n",
       "\n",
       "    .dataframe thead th {\n",
       "        text-align: right;\n",
       "    }\n",
       "</style>\n",
       "<table border=\"1\" class=\"dataframe\">\n",
       "  <thead>\n",
       "    <tr style=\"text-align: right;\">\n",
       "      <th></th>\n",
       "      <th>Line Name</th>\n",
       "      <th>Measurement</th>\n",
       "      <th>str_idx_1</th>\n",
       "      <th>str_idx_2</th>\n",
       "      <th>str_idx_3</th>\n",
       "      <th>str_idx_4</th>\n",
       "      <th>pro_idx_5</th>\n",
       "      <th>pro_idx_6</th>\n",
       "      <th>pro_idx_7</th>\n",
       "      <th>pro_idx_8</th>\n",
       "      <th>...</th>\n",
       "      <th>pro_idx_13</th>\n",
       "      <th>pro_idx_14</th>\n",
       "      <th>sec_idx_15</th>\n",
       "      <th>sec_idx_16</th>\n",
       "      <th>sec_idx_17</th>\n",
       "      <th>sec_idx_18</th>\n",
       "      <th>gen_idx_19</th>\n",
       "      <th>gen_idx_20</th>\n",
       "      <th>gen_idx_21</th>\n",
       "      <th>gen_idx_22</th>\n",
       "    </tr>\n",
       "  </thead>\n",
       "  <tbody>\n",
       "    <tr>\n",
       "      <th>0</th>\n",
       "      <td>#01-r0</td>\n",
       "      <td>-5.919819</td>\n",
       "      <td>0</td>\n",
       "      <td>1</td>\n",
       "      <td>0</td>\n",
       "      <td>0</td>\n",
       "      <td>0</td>\n",
       "      <td>1</td>\n",
       "      <td>0</td>\n",
       "      <td>0</td>\n",
       "      <td>...</td>\n",
       "      <td>0</td>\n",
       "      <td>0</td>\n",
       "      <td>0</td>\n",
       "      <td>1</td>\n",
       "      <td>0</td>\n",
       "      <td>0</td>\n",
       "      <td>0</td>\n",
       "      <td>0</td>\n",
       "      <td>0</td>\n",
       "      <td>1</td>\n",
       "    </tr>\n",
       "    <tr>\n",
       "      <th>1</th>\n",
       "      <td>#01-r1</td>\n",
       "      <td>-5.911464</td>\n",
       "      <td>0</td>\n",
       "      <td>1</td>\n",
       "      <td>0</td>\n",
       "      <td>0</td>\n",
       "      <td>0</td>\n",
       "      <td>1</td>\n",
       "      <td>0</td>\n",
       "      <td>0</td>\n",
       "      <td>...</td>\n",
       "      <td>0</td>\n",
       "      <td>0</td>\n",
       "      <td>0</td>\n",
       "      <td>1</td>\n",
       "      <td>0</td>\n",
       "      <td>0</td>\n",
       "      <td>0</td>\n",
       "      <td>0</td>\n",
       "      <td>0</td>\n",
       "      <td>1</td>\n",
       "    </tr>\n",
       "    <tr>\n",
       "      <th>2</th>\n",
       "      <td>#01-r2</td>\n",
       "      <td>-5.900195</td>\n",
       "      <td>0</td>\n",
       "      <td>1</td>\n",
       "      <td>0</td>\n",
       "      <td>0</td>\n",
       "      <td>0</td>\n",
       "      <td>1</td>\n",
       "      <td>0</td>\n",
       "      <td>0</td>\n",
       "      <td>...</td>\n",
       "      <td>0</td>\n",
       "      <td>0</td>\n",
       "      <td>0</td>\n",
       "      <td>1</td>\n",
       "      <td>0</td>\n",
       "      <td>0</td>\n",
       "      <td>0</td>\n",
       "      <td>0</td>\n",
       "      <td>0</td>\n",
       "      <td>1</td>\n",
       "    </tr>\n",
       "    <tr>\n",
       "      <th>3</th>\n",
       "      <td>#02-r0</td>\n",
       "      <td>-10.527602</td>\n",
       "      <td>0</td>\n",
       "      <td>0</td>\n",
       "      <td>0</td>\n",
       "      <td>1</td>\n",
       "      <td>0</td>\n",
       "      <td>0</td>\n",
       "      <td>0</td>\n",
       "      <td>0</td>\n",
       "      <td>...</td>\n",
       "      <td>0</td>\n",
       "      <td>0</td>\n",
       "      <td>0</td>\n",
       "      <td>0</td>\n",
       "      <td>0</td>\n",
       "      <td>1</td>\n",
       "      <td>1</td>\n",
       "      <td>0</td>\n",
       "      <td>0</td>\n",
       "      <td>0</td>\n",
       "    </tr>\n",
       "    <tr>\n",
       "      <th>4</th>\n",
       "      <td>#02-r1</td>\n",
       "      <td>-10.644871</td>\n",
       "      <td>0</td>\n",
       "      <td>0</td>\n",
       "      <td>0</td>\n",
       "      <td>1</td>\n",
       "      <td>0</td>\n",
       "      <td>0</td>\n",
       "      <td>0</td>\n",
       "      <td>0</td>\n",
       "      <td>...</td>\n",
       "      <td>0</td>\n",
       "      <td>0</td>\n",
       "      <td>0</td>\n",
       "      <td>0</td>\n",
       "      <td>0</td>\n",
       "      <td>1</td>\n",
       "      <td>1</td>\n",
       "      <td>0</td>\n",
       "      <td>0</td>\n",
       "      <td>0</td>\n",
       "    </tr>\n",
       "  </tbody>\n",
       "</table>\n",
       "<p>5 rows × 24 columns</p>\n",
       "</div>"
      ],
      "text/plain": [
       "  Line Name  Measurement  str_idx_1  str_idx_2  str_idx_3  str_idx_4  \\\n",
       "0    #01-r0    -5.919819          0          1          0          0   \n",
       "1    #01-r1    -5.911464          0          1          0          0   \n",
       "2    #01-r2    -5.900195          0          1          0          0   \n",
       "3    #02-r0   -10.527602          0          0          0          1   \n",
       "4    #02-r1   -10.644871          0          0          0          1   \n",
       "\n",
       "   pro_idx_5  pro_idx_6  pro_idx_7  pro_idx_8  ...  pro_idx_13  pro_idx_14  \\\n",
       "0          0          1          0          0  ...           0           0   \n",
       "1          0          1          0          0  ...           0           0   \n",
       "2          0          1          0          0  ...           0           0   \n",
       "3          0          0          0          0  ...           0           0   \n",
       "4          0          0          0          0  ...           0           0   \n",
       "\n",
       "   sec_idx_15  sec_idx_16  sec_idx_17  sec_idx_18  gen_idx_19  gen_idx_20  \\\n",
       "0           0           1           0           0           0           0   \n",
       "1           0           1           0           0           0           0   \n",
       "2           0           1           0           0           0           0   \n",
       "3           0           0           0           1           1           0   \n",
       "4           0           0           0           1           1           0   \n",
       "\n",
       "   gen_idx_21  gen_idx_22  \n",
       "0           0           1  \n",
       "1           0           1  \n",
       "2           0           1  \n",
       "3           0           0  \n",
       "4           0           0  \n",
       "\n",
       "[5 rows x 24 columns]"
      ]
     },
     "execution_count": 4,
     "metadata": {},
     "output_type": "execute_result"
    }
   ],
   "source": [
    "samples_art_oneh = pd.get_dummies(data=samples, columns=['str_idx', 'pro_idx', 'sec_idx', 'gen_idx'])\n",
    "samples_art_oneh.head()"
   ]
  },
  {
   "cell_type": "markdown",
   "id": "b2570d4a",
   "metadata": {},
   "source": [
    "After the transformation, the columns in the dataframe represent the line name of the machine, the corrected activity measure of this line and which part-variants were used in constructing this line. "
   ]
  },
  {
   "cell_type": "code",
   "execution_count": 5,
   "id": "400ecb1c",
   "metadata": {},
   "outputs": [
    {
     "name": "stdout",
     "output_type": "stream",
     "text": [
      "['str_idx_1', 'str_idx_2', 'str_idx_3', 'str_idx_4', 'pro_idx_5', 'pro_idx_6', 'pro_idx_7', 'pro_idx_8', 'pro_idx_9', 'pro_idx_10', 'pro_idx_11', 'pro_idx_12', 'pro_idx_13', 'pro_idx_14', 'sec_idx_15', 'sec_idx_16', 'sec_idx_17', 'sec_idx_18', 'gen_idx_19', 'gen_idx_20', 'gen_idx_21', 'gen_idx_22']\n"
     ]
    }
   ],
   "source": [
    "# store the columnnames as parameter setting for ART\n",
    "colnames = samples_art_oneh.columns[2:].tolist()\n",
    "print(colnames)"
   ]
  },
  {
   "cell_type": "markdown",
   "id": "2100be4a",
   "metadata": {},
   "source": [
    "The input data is fed to the ART measurement by measurement. This makes it impossible to feed the entire one-hot encoded vector to the ART at once. The trick is to consider each entry in the one-hot-encoded vector as a 'measurement' on wether the line contains this part-variant. A `1.000000` in the `Value` column would indicate that the part-variant listed in the `Measurement Type` column is preset in the line listed in the `Line Name` column. A `0.000000` would indicate the oposite. "
   ]
  },
  {
   "cell_type": "code",
   "execution_count": 6,
   "id": "0d5544bd",
   "metadata": {},
   "outputs": [
    {
     "name": "stdout",
     "output_type": "stream",
     "text": [
      "     Line Name Measurement Type     Value\n",
      "0       #01-r0      Measurement -5.919819\n",
      "1       #01-r0        str_idx_1  0.000000\n",
      "2       #01-r0        str_idx_2  1.000000\n",
      "3       #01-r0        str_idx_3  0.000000\n",
      "4       #01-r0        str_idx_4  0.000000\n",
      "...        ...              ...       ...\n",
      "3997    #64-r2       sec_idx_18  1.000000\n",
      "3998    #64-r2       gen_idx_19  1.000000\n",
      "3999    #64-r2       gen_idx_20  0.000000\n",
      "4000    #64-r2       gen_idx_21  0.000000\n",
      "4001    #64-r2       gen_idx_22  0.000000\n",
      "\n",
      "[4002 rows x 3 columns]\n"
     ]
    }
   ],
   "source": [
    "# Pivot the dataframe and change the column names\n",
    "samples_art_oneh = samples_art_oneh.set_index('Line Name').stack().reset_index()\n",
    "samples_art_oneh.columns = ['Line Name', 'Measurement Type', 'Value']\n",
    "print(samples_art_oneh)\n",
    "samples_art_oneh.to_csv('test.csv')"
   ]
  },
  {
   "cell_type": "markdown",
   "id": "1d582a62",
   "metadata": {},
   "source": [
    "## Step 3: Outlier detection\n",
    "\n",
    "Measurements can be noisy and sometimes it is impossible to determine whether the results of a sample can be attributed to the functioning of the sample, of if the results are due to some random measuring error. This is the reason that each measurement was taken in triplicates. In theory, each replicate of the same sample should give a somewhat similar activity measurement. In practice, there is often one replicate that shows a substantially different activity compared to the other two measurements. The ART has an intergrated tool which can be used for exluding the samples in which the variance within the replicates of the same sample is greater than the variance within `x`% of all samples. This `x` needs to be guessed depending on the accuracy of the measurements."
   ]
  },
  {
   "cell_type": "code",
   "execution_count": 7,
   "id": "d3ede783",
   "metadata": {},
   "outputs": [],
   "source": [
    "measurement = ['Measurement']"
   ]
  },
  {
   "cell_type": "code",
   "execution_count": 8,
   "id": "77da8a40",
   "metadata": {},
   "outputs": [
    {
     "name": "stderr",
     "output_type": "stream",
     "text": [
      "../ART_iGEM/art/utility.py:835: FutureWarning: Columnar iteration over characters will be deprecated in future releases.\n",
      "  df[\"Line Name\"], df[\"Replicate\"] = df[\"Line Name\"].str.split(\"-\").str\n"
     ]
    },
    {
     "data": {
      "text/html": [
       "Measurement"
      ],
      "text/plain": [
       "<IPython.core.display.HTML object>"
      ]
     },
     "metadata": {},
     "output_type": "display_data"
    },
    {
     "data": {
      "text/html": [
       "18 individual replicates from 6 strains found with absolute error higher than 0.74 (data with errors higher than 90% of all data)."
      ],
      "text/plain": [
       "<IPython.core.display.HTML object>"
      ]
     },
     "metadata": {},
     "output_type": "display_data"
    },
    {
     "data": {
      "text/html": [
       "<div>\n",
       "<style scoped>\n",
       "    .dataframe tbody tr th:only-of-type {\n",
       "        vertical-align: middle;\n",
       "    }\n",
       "\n",
       "    .dataframe tbody tr th {\n",
       "        vertical-align: top;\n",
       "    }\n",
       "\n",
       "    .dataframe thead th {\n",
       "        text-align: right;\n",
       "    }\n",
       "</style>\n",
       "<table border=\"1\" class=\"dataframe\">\n",
       "  <thead>\n",
       "    <tr style=\"text-align: right;\">\n",
       "      <th></th>\n",
       "      <th>Value</th>\n",
       "      <th>Measurement Type</th>\n",
       "      <th>Replicate Mean</th>\n",
       "      <th>Replicate Error</th>\n",
       "    </tr>\n",
       "    <tr>\n",
       "      <th>Line Name</th>\n",
       "      <th></th>\n",
       "      <th></th>\n",
       "      <th></th>\n",
       "      <th></th>\n",
       "    </tr>\n",
       "  </thead>\n",
       "  <tbody>\n",
       "    <tr>\n",
       "      <th>#06-r0</th>\n",
       "      <td>-11.512925</td>\n",
       "      <td>Measurement</td>\n",
       "      <td>-10.553185</td>\n",
       "      <td>-0.959740</td>\n",
       "    </tr>\n",
       "    <tr>\n",
       "      <th>#06-r1</th>\n",
       "      <td>-8.633705</td>\n",
       "      <td>Measurement</td>\n",
       "      <td>-10.553185</td>\n",
       "      <td>1.919480</td>\n",
       "    </tr>\n",
       "    <tr>\n",
       "      <th>#06-r2</th>\n",
       "      <td>-11.512925</td>\n",
       "      <td>Measurement</td>\n",
       "      <td>-10.553185</td>\n",
       "      <td>-0.959740</td>\n",
       "    </tr>\n",
       "    <tr>\n",
       "      <th>#11-r0</th>\n",
       "      <td>-11.512925</td>\n",
       "      <td>Measurement</td>\n",
       "      <td>-10.475530</td>\n",
       "      <td>-1.037396</td>\n",
       "    </tr>\n",
       "    <tr>\n",
       "      <th>#11-r1</th>\n",
       "      <td>-8.400738</td>\n",
       "      <td>Measurement</td>\n",
       "      <td>-10.475530</td>\n",
       "      <td>2.074792</td>\n",
       "    </tr>\n",
       "    <tr>\n",
       "      <th>#11-r2</th>\n",
       "      <td>-11.512925</td>\n",
       "      <td>Measurement</td>\n",
       "      <td>-10.475530</td>\n",
       "      <td>-1.037396</td>\n",
       "    </tr>\n",
       "    <tr>\n",
       "      <th>#20-r0</th>\n",
       "      <td>-11.512925</td>\n",
       "      <td>Measurement</td>\n",
       "      <td>-9.473620</td>\n",
       "      <td>-2.039305</td>\n",
       "    </tr>\n",
       "    <tr>\n",
       "      <th>#20-r1</th>\n",
       "      <td>-5.395010</td>\n",
       "      <td>Measurement</td>\n",
       "      <td>-9.473620</td>\n",
       "      <td>4.078611</td>\n",
       "    </tr>\n",
       "    <tr>\n",
       "      <th>#20-r2</th>\n",
       "      <td>-11.512925</td>\n",
       "      <td>Measurement</td>\n",
       "      <td>-9.473620</td>\n",
       "      <td>-2.039305</td>\n",
       "    </tr>\n",
       "    <tr>\n",
       "      <th>#21-r0</th>\n",
       "      <td>-9.028118</td>\n",
       "      <td>Measurement</td>\n",
       "      <td>-9.861577</td>\n",
       "      <td>0.833460</td>\n",
       "    </tr>\n",
       "    <tr>\n",
       "      <th>#21-r1</th>\n",
       "      <td>-9.043689</td>\n",
       "      <td>Measurement</td>\n",
       "      <td>-9.861577</td>\n",
       "      <td>0.817889</td>\n",
       "    </tr>\n",
       "    <tr>\n",
       "      <th>#21-r2</th>\n",
       "      <td>-11.512925</td>\n",
       "      <td>Measurement</td>\n",
       "      <td>-9.861577</td>\n",
       "      <td>-1.651348</td>\n",
       "    </tr>\n",
       "    <tr>\n",
       "      <th>#42-r0</th>\n",
       "      <td>-6.867598</td>\n",
       "      <td>Measurement</td>\n",
       "      <td>-8.392188</td>\n",
       "      <td>1.524590</td>\n",
       "    </tr>\n",
       "    <tr>\n",
       "      <th>#42-r1</th>\n",
       "      <td>-11.512925</td>\n",
       "      <td>Measurement</td>\n",
       "      <td>-8.392188</td>\n",
       "      <td>-3.120738</td>\n",
       "    </tr>\n",
       "    <tr>\n",
       "      <th>#42-r2</th>\n",
       "      <td>-6.796039</td>\n",
       "      <td>Measurement</td>\n",
       "      <td>-8.392188</td>\n",
       "      <td>1.596148</td>\n",
       "    </tr>\n",
       "    <tr>\n",
       "      <th>#59-r0</th>\n",
       "      <td>-9.052056</td>\n",
       "      <td>Measurement</td>\n",
       "      <td>-10.692636</td>\n",
       "      <td>1.640579</td>\n",
       "    </tr>\n",
       "    <tr>\n",
       "      <th>#59-r1</th>\n",
       "      <td>-11.512925</td>\n",
       "      <td>Measurement</td>\n",
       "      <td>-10.692636</td>\n",
       "      <td>-0.820290</td>\n",
       "    </tr>\n",
       "    <tr>\n",
       "      <th>#59-r2</th>\n",
       "      <td>-11.512925</td>\n",
       "      <td>Measurement</td>\n",
       "      <td>-10.692636</td>\n",
       "      <td>-0.820290</td>\n",
       "    </tr>\n",
       "  </tbody>\n",
       "</table>\n",
       "</div>"
      ],
      "text/plain": [
       "               Value Measurement Type  Replicate Mean  Replicate Error\n",
       "Line Name                                                             \n",
       "#06-r0    -11.512925      Measurement      -10.553185        -0.959740\n",
       "#06-r1     -8.633705      Measurement      -10.553185         1.919480\n",
       "#06-r2    -11.512925      Measurement      -10.553185        -0.959740\n",
       "#11-r0    -11.512925      Measurement      -10.475530        -1.037396\n",
       "#11-r1     -8.400738      Measurement      -10.475530         2.074792\n",
       "#11-r2    -11.512925      Measurement      -10.475530        -1.037396\n",
       "#20-r0    -11.512925      Measurement       -9.473620        -2.039305\n",
       "#20-r1     -5.395010      Measurement       -9.473620         4.078611\n",
       "#20-r2    -11.512925      Measurement       -9.473620        -2.039305\n",
       "#21-r0     -9.028118      Measurement       -9.861577         0.833460\n",
       "#21-r1     -9.043689      Measurement       -9.861577         0.817889\n",
       "#21-r2    -11.512925      Measurement       -9.861577        -1.651348\n",
       "#42-r0     -6.867598      Measurement       -8.392188         1.524590\n",
       "#42-r1    -11.512925      Measurement       -8.392188        -3.120738\n",
       "#42-r2     -6.796039      Measurement       -8.392188         1.596148\n",
       "#59-r0     -9.052056      Measurement      -10.692636         1.640579\n",
       "#59-r1    -11.512925      Measurement      -10.692636        -0.820290\n",
       "#59-r2    -11.512925      Measurement      -10.692636        -0.820290"
      ]
     },
     "metadata": {},
     "output_type": "display_data"
    },
    {
     "data": {
      "text/html": [
       "\n",
       "Excluded 18 individual replicates from 6 strains:"
      ],
      "text/plain": [
       "<IPython.core.display.HTML object>"
      ]
     },
     "metadata": {},
     "output_type": "display_data"
    },
    {
     "data": {
      "text/html": [
       "<div>\n",
       "<style scoped>\n",
       "    .dataframe tbody tr th:only-of-type {\n",
       "        vertical-align: middle;\n",
       "    }\n",
       "\n",
       "    .dataframe tbody tr th {\n",
       "        vertical-align: top;\n",
       "    }\n",
       "\n",
       "    .dataframe thead th {\n",
       "        text-align: right;\n",
       "    }\n",
       "</style>\n",
       "<table border=\"1\" class=\"dataframe\">\n",
       "  <thead>\n",
       "    <tr style=\"text-align: right;\">\n",
       "      <th></th>\n",
       "      <th>Line Name</th>\n",
       "      <th>Measurement Type</th>\n",
       "      <th>Value</th>\n",
       "    </tr>\n",
       "  </thead>\n",
       "  <tbody>\n",
       "    <tr>\n",
       "      <th>207</th>\n",
       "      <td>#06-r0</td>\n",
       "      <td>Measurement</td>\n",
       "      <td>-11.512925</td>\n",
       "    </tr>\n",
       "    <tr>\n",
       "      <th>230</th>\n",
       "      <td>#06-r1</td>\n",
       "      <td>Measurement</td>\n",
       "      <td>-8.633705</td>\n",
       "    </tr>\n",
       "    <tr>\n",
       "      <th>253</th>\n",
       "      <td>#06-r2</td>\n",
       "      <td>Measurement</td>\n",
       "      <td>-11.512925</td>\n",
       "    </tr>\n",
       "    <tr>\n",
       "      <th>483</th>\n",
       "      <td>#11-r0</td>\n",
       "      <td>Measurement</td>\n",
       "      <td>-11.512925</td>\n",
       "    </tr>\n",
       "    <tr>\n",
       "      <th>506</th>\n",
       "      <td>#11-r1</td>\n",
       "      <td>Measurement</td>\n",
       "      <td>-8.400738</td>\n",
       "    </tr>\n",
       "    <tr>\n",
       "      <th>529</th>\n",
       "      <td>#11-r2</td>\n",
       "      <td>Measurement</td>\n",
       "      <td>-11.512925</td>\n",
       "    </tr>\n",
       "    <tr>\n",
       "      <th>1104</th>\n",
       "      <td>#20-r0</td>\n",
       "      <td>Measurement</td>\n",
       "      <td>-11.512925</td>\n",
       "    </tr>\n",
       "    <tr>\n",
       "      <th>1127</th>\n",
       "      <td>#20-r1</td>\n",
       "      <td>Measurement</td>\n",
       "      <td>-5.395010</td>\n",
       "    </tr>\n",
       "    <tr>\n",
       "      <th>1150</th>\n",
       "      <td>#20-r2</td>\n",
       "      <td>Measurement</td>\n",
       "      <td>-11.512925</td>\n",
       "    </tr>\n",
       "    <tr>\n",
       "      <th>1173</th>\n",
       "      <td>#21-r0</td>\n",
       "      <td>Measurement</td>\n",
       "      <td>-9.028118</td>\n",
       "    </tr>\n",
       "    <tr>\n",
       "      <th>1196</th>\n",
       "      <td>#21-r1</td>\n",
       "      <td>Measurement</td>\n",
       "      <td>-9.043689</td>\n",
       "    </tr>\n",
       "    <tr>\n",
       "      <th>1219</th>\n",
       "      <td>#21-r2</td>\n",
       "      <td>Measurement</td>\n",
       "      <td>-11.512925</td>\n",
       "    </tr>\n",
       "    <tr>\n",
       "      <th>2553</th>\n",
       "      <td>#42-r0</td>\n",
       "      <td>Measurement</td>\n",
       "      <td>-6.867598</td>\n",
       "    </tr>\n",
       "    <tr>\n",
       "      <th>2576</th>\n",
       "      <td>#42-r1</td>\n",
       "      <td>Measurement</td>\n",
       "      <td>-11.512925</td>\n",
       "    </tr>\n",
       "    <tr>\n",
       "      <th>2599</th>\n",
       "      <td>#42-r2</td>\n",
       "      <td>Measurement</td>\n",
       "      <td>-6.796039</td>\n",
       "    </tr>\n",
       "    <tr>\n",
       "      <th>3588</th>\n",
       "      <td>#59-r0</td>\n",
       "      <td>Measurement</td>\n",
       "      <td>-9.052056</td>\n",
       "    </tr>\n",
       "    <tr>\n",
       "      <th>3611</th>\n",
       "      <td>#59-r1</td>\n",
       "      <td>Measurement</td>\n",
       "      <td>-11.512925</td>\n",
       "    </tr>\n",
       "    <tr>\n",
       "      <th>3634</th>\n",
       "      <td>#59-r2</td>\n",
       "      <td>Measurement</td>\n",
       "      <td>-11.512925</td>\n",
       "    </tr>\n",
       "  </tbody>\n",
       "</table>\n",
       "</div>"
      ],
      "text/plain": [
       "     Line Name Measurement Type      Value\n",
       "207     #06-r0      Measurement -11.512925\n",
       "230     #06-r1      Measurement  -8.633705\n",
       "253     #06-r2      Measurement -11.512925\n",
       "483     #11-r0      Measurement -11.512925\n",
       "506     #11-r1      Measurement  -8.400738\n",
       "529     #11-r2      Measurement -11.512925\n",
       "1104    #20-r0      Measurement -11.512925\n",
       "1127    #20-r1      Measurement  -5.395010\n",
       "1150    #20-r2      Measurement -11.512925\n",
       "1173    #21-r0      Measurement  -9.028118\n",
       "1196    #21-r1      Measurement  -9.043689\n",
       "1219    #21-r2      Measurement -11.512925\n",
       "2553    #42-r0      Measurement  -6.867598\n",
       "2576    #42-r1      Measurement -11.512925\n",
       "2599    #42-r2      Measurement  -6.796039\n",
       "3588    #59-r0      Measurement  -9.052056\n",
       "3611    #59-r1      Measurement -11.512925\n",
       "3634    #59-r2      Measurement -11.512925"
      ]
     },
     "metadata": {},
     "output_type": "display_data"
    }
   ],
   "source": [
    "noisy_line_name = utils.find_noisy_data(samples_art_oneh, measurement, percentile=90,plot_flag=False)\n",
    "samples_art_oneh_filtered = utils.filter_noisy_data(samples_art_oneh, noisy_line_name, measurement, filter_all_replicates=True,plot_flag=False)\n"
   ]
  },
  {
   "cell_type": "code",
   "execution_count": 9,
   "id": "5bc58cef",
   "metadata": {},
   "outputs": [
    {
     "name": "stderr",
     "output_type": "stream",
     "text": [
      "../ART_iGEM/art/utility.py:835: FutureWarning: Columnar iteration over characters will be deprecated in future releases.\n",
      "  df[\"Line Name\"], df[\"Replicate\"] = df[\"Line Name\"].str.split(\"-\").str\n"
     ]
    },
    {
     "name": "stdout",
     "output_type": "stream",
     "text": [
      "The value that delimites the five percent most extreme errors is: 0.742298588\n"
     ]
    }
   ],
   "source": [
    "errors = utils.add_replicate_mean_and_error(samples_art_oneh, ['Measurement'])['Replicate Error']\n",
    "limit = round(np.percentile(abs(errors), 90),10)\n",
    "print(\"The value that delimites the five percent most extreme errors is: {}\".format(limit))"
   ]
  },
  {
   "cell_type": "code",
   "execution_count": 10,
   "id": "3f1e4fd1",
   "metadata": {},
   "outputs": [
    {
     "data": {
      "text/plain": [
       "0.5733949017733355"
      ]
     },
     "execution_count": 10,
     "metadata": {},
     "output_type": "execute_result"
    }
   ],
   "source": [
    "errors.abs().mean()*2.5"
   ]
  },
  {
   "cell_type": "markdown",
   "id": "061a446b",
   "metadata": {},
   "source": [
    "In order to determine wether the excluded samples were indeed outliers, the differences between mean of a sample and the actual activity measurement of the replicates of that sample are plotted below. It should be noticable that most of the differences are centered around `0`. Samples in which the absolute difference is substantially more than the expected `0` should be considered to be excluded from the analysis."
   ]
  },
  {
   "cell_type": "code",
   "execution_count": 11,
   "id": "5da5d231",
   "metadata": {},
   "outputs": [
    {
     "name": "stderr",
     "output_type": "stream",
     "text": [
      "/home/user/.pyenv/versions/3.9.2/envs/ART_iGEM-3.9.2/lib/python3.9/site-packages/seaborn/distributions.py:2557: FutureWarning: `distplot` is a deprecated function and will be removed in a future version. Please adapt your code to use either `displot` (a figure-level function with similar flexibility) or `histplot` (an axes-level function for histograms).\n",
      "  warnings.warn(msg, FutureWarning)\n"
     ]
    },
    {
     "data": {
      "image/png": "[encoded data removed]",
      "text/plain": [
       "<Figure size 864x288 with 1 Axes>"
      ]
     },
     "metadata": {
      "needs_background": "light"
     },
     "output_type": "display_data"
    }
   ],
   "source": [
    "fig, ax = plt.subplots(figsize=(12, 4))\n",
    "fig.set_tight_layout(True)\n",
    "sns.distplot(errors, ax=ax);\n",
    "ax.set_ylim(0, 2)\n",
    "ax.set_xlim(-5, 5)\n",
    "ax.set_ylabel('Density', fontsize=15)\n",
    "ax.set_xlabel('Absolute difference', fontsize=15)\n",
    "fig.savefig('./figures/Error.pdf')"
   ]
  },
  {
   "cell_type": "markdown",
   "id": "d868780b",
   "metadata": {},
   "source": [
    "The red lines drawn in the figure bolow indicate at which point a sample is considered an outlier according to the ART."
   ]
  },
  {
   "cell_type": "code",
   "execution_count": 12,
   "id": "cf5c8621",
   "metadata": {},
   "outputs": [
    {
     "name": "stderr",
     "output_type": "stream",
     "text": [
      "/home/user/.pyenv/versions/3.9.2/envs/ART_iGEM-3.9.2/lib/python3.9/site-packages/seaborn/distributions.py:2557: FutureWarning: `distplot` is a deprecated function and will be removed in a future version. Please adapt your code to use either `displot` (a figure-level function with similar flexibility) or `histplot` (an axes-level function for histograms).\n",
      "  warnings.warn(msg, FutureWarning)\n"
     ]
    },
    {
     "data": {
      "image/png": "[encoded data removed]",
      "text/plain": [
       "<Figure size 864x288 with 1 Axes>"
      ]
     },
     "metadata": {
      "needs_background": "light"
     },
     "output_type": "display_data"
    }
   ],
   "source": [
    "fig, ax = plt.subplots(figsize=(12, 4))\n",
    "fig.set_tight_layout(True)\n",
    "sns.distplot(errors, ax=ax)\n",
    "ax.set_ylim(0, 2)\n",
    "ax.set_xlim(-5, 5)\n",
    "ax.axvline(x=limit, ymin=0, color='r', ls='--')\n",
    "ax.axvline(x=-limit, ymin=0, color='r', ls='--')\n",
    "ax.annotate(str(round(-limit, 2)), xy=(-limit, 0), xytext=(-limit-0.35, 0.1), color='r')\n",
    "ax.annotate(str(round(limit, 2)), xy=(limit, 0), xytext=(limit+0.05, 0.1), color='r')\n",
    "ax.set_xlabel('Absolute difference', fontsize=15)\n",
    "ax.set_ylabel('Density', fontsize=15)\n",
    "fig.savefig('./figures/Excluded.pdf')"
   ]
  },
  {
   "cell_type": "markdown",
   "id": "b8fca30a",
   "metadata": {},
   "source": [
    "## Step 4: RUNNING ART!!!!!\n",
    "\n",
    "Now that the data is correctly structured and the outlier have been removed, it is time to run the ART. First, the following ART paramaters need to be defined"
   ]
  },
  {
   "cell_type": "code",
   "execution_count": 13,
   "id": "e21f9a46",
   "metadata": {},
   "outputs": [],
   "source": [
    "art_params = {}\n",
    "art_params['response_vars'] = measurement\n",
    "art_params['input_vars'] = colnames\n",
    "art_params['seed'] = 42  # default: None\n",
    "art_params['num_recommendations'] = 30   \n",
    "art_params['cross_val'] = True\n",
    "art_params['recommend'] = False\n",
    "art_params['output_directory'] = 'results_onehot/'\n"
   ]
  },
  {
   "cell_type": "markdown",
   "id": "1c6d78df",
   "metadata": {},
   "source": [
    "Training the ART takes some time. Fortunatly, this only needs to be done once. If there is already a trained ART model, it is not needed to run it again."
   ]
  },
  {
   "cell_type": "code",
   "execution_count": 14,
   "id": "c367330e",
   "metadata": {},
   "outputs": [],
   "source": [
    "run_art = True"
   ]
  },
  {
   "cell_type": "code",
   "execution_count": 15,
   "id": "619066af",
   "metadata": {},
   "outputs": [
    {
     "name": "stdout",
     "output_type": "stream",
     "text": [
      "Warning: Dataframe does not have a time column matching one of the supported formats. Assuming that all data in the file comes from a single time point.\n"
     ]
    },
    {
     "name": "stderr",
     "output_type": "stream",
     "text": [
      "/home/user/.pyenv/versions/3.9.2/envs/ART_iGEM-3.9.2/lib/python3.9/site-packages/pandas/core/dtypes/cast.py:881: VisibleDeprecationWarning: Creating an ndarray from ragged nested sequences (which is a list-or-tuple of lists-or-tuples-or ndarrays with different lengths or shapes) is deprecated. If you meant to do this, you must specify 'dtype=object' when creating the ndarray.\n",
      "  element = np.asarray(element)\n",
      "/home/user/.pyenv/versions/3.9.2/envs/ART_iGEM-3.9.2/lib/python3.9/site-packages/pandas/core/internals/blocks.py:938: VisibleDeprecationWarning: Creating an ndarray from ragged nested sequences (which is a list-or-tuple of lists-or-tuples-or ndarrays with different lengths or shapes) is deprecated. If you meant to do this, you must specify 'dtype=object' when creating the ndarray.\n",
      "  arr_value = np.asarray(value)\n",
      "../ART_iGEM/art/core.py:1312: FutureWarning: In v4.0, pm.sample will return an `arviz.InferenceData` object instead of a `MultiTrace` by default. You can pass return_inferencedata=True or return_inferencedata=False to be safe and silence this warning.\n",
      "  self.trace[j] = pm.sample(\n",
      "Multiprocess sampling (2 chains in 2 jobs)\n",
      "NUTS: [omegas, sigma]\n",
      "Sampling 2 chains for 1_000 tune and 10_000 draw iterations (2_000 + 20_000 draws total) took 59 seconds.\n",
      "There were 3 divergences after tuning. Increase `target_accept` or reparameterize.\n",
      "There was 1 divergence after tuning. Increase `target_accept` or reparameterize.\n",
      "The number of effective samples is smaller than 25% for some parameters.\n",
      "/home/user/.pyenv/versions/3.9.2/envs/ART_iGEM-3.9.2/lib/python3.9/site-packages/pandas/core/dtypes/cast.py:881: VisibleDeprecationWarning: Creating an ndarray from ragged nested sequences (which is a list-or-tuple of lists-or-tuples-or ndarrays with different lengths or shapes) is deprecated. If you meant to do this, you must specify 'dtype=object' when creating the ndarray.\n",
      "  element = np.asarray(element)\n",
      "/home/user/.pyenv/versions/3.9.2/envs/ART_iGEM-3.9.2/lib/python3.9/site-packages/pandas/core/internals/blocks.py:938: VisibleDeprecationWarning: Creating an ndarray from ragged nested sequences (which is a list-or-tuple of lists-or-tuples-or ndarrays with different lengths or shapes) is deprecated. If you meant to do this, you must specify 'dtype=object' when creating the ndarray.\n",
      "  arr_value = np.asarray(value)\n",
      "../ART_iGEM/art/core.py:1312: FutureWarning: In v4.0, pm.sample will return an `arviz.InferenceData` object instead of a `MultiTrace` by default. You can pass return_inferencedata=True or return_inferencedata=False to be safe and silence this warning.\n",
      "  self.trace[j] = pm.sample(\n",
      "Multiprocess sampling (2 chains in 2 jobs)\n",
      "NUTS: [omegas, sigma]\n",
      "Sampling 2 chains for 1_000 tune and 10_000 draw iterations (2_000 + 20_000 draws total) took 42 seconds.\n",
      "There were 8 divergences after tuning. Increase `target_accept` or reparameterize.\n",
      "There were 4 divergences after tuning. Increase `target_accept` or reparameterize.\n",
      "The number of effective samples is smaller than 10% for some parameters.\n",
      "/home/user/.pyenv/versions/3.9.2/envs/ART_iGEM-3.9.2/lib/python3.9/site-packages/pandas/core/dtypes/cast.py:881: VisibleDeprecationWarning: Creating an ndarray from ragged nested sequences (which is a list-or-tuple of lists-or-tuples-or ndarrays with different lengths or shapes) is deprecated. If you meant to do this, you must specify 'dtype=object' when creating the ndarray.\n",
      "  element = np.asarray(element)\n",
      "/home/user/.pyenv/versions/3.9.2/envs/ART_iGEM-3.9.2/lib/python3.9/site-packages/pandas/core/internals/blocks.py:938: VisibleDeprecationWarning: Creating an ndarray from ragged nested sequences (which is a list-or-tuple of lists-or-tuples-or ndarrays with different lengths or shapes) is deprecated. If you meant to do this, you must specify 'dtype=object' when creating the ndarray.\n",
      "  arr_value = np.asarray(value)\n",
      "../ART_iGEM/art/core.py:1312: FutureWarning: In v4.0, pm.sample will return an `arviz.InferenceData` object instead of a `MultiTrace` by default. You can pass return_inferencedata=True or return_inferencedata=False to be safe and silence this warning.\n",
      "  self.trace[j] = pm.sample(\n",
      "Multiprocess sampling (2 chains in 2 jobs)\n",
      "NUTS: [omegas, sigma]\n",
      "Sampling 2 chains for 1_000 tune and 10_000 draw iterations (2_000 + 20_000 draws total) took 36 seconds.\n",
      "There were 125 divergences after tuning. Increase `target_accept` or reparameterize.\n",
      "There were 121 divergences after tuning. Increase `target_accept` or reparameterize.\n",
      "The number of effective samples is smaller than 25% for some parameters.\n",
      "/home/user/.pyenv/versions/3.9.2/envs/ART_iGEM-3.9.2/lib/python3.9/site-packages/pandas/core/dtypes/cast.py:881: VisibleDeprecationWarning: Creating an ndarray from ragged nested sequences (which is a list-or-tuple of lists-or-tuples-or ndarrays with different lengths or shapes) is deprecated. If you meant to do this, you must specify 'dtype=object' when creating the ndarray.\n",
      "  element = np.asarray(element)\n",
      "/home/user/.pyenv/versions/3.9.2/envs/ART_iGEM-3.9.2/lib/python3.9/site-packages/pandas/core/internals/blocks.py:938: VisibleDeprecationWarning: Creating an ndarray from ragged nested sequences (which is a list-or-tuple of lists-or-tuples-or ndarrays with different lengths or shapes) is deprecated. If you meant to do this, you must specify 'dtype=object' when creating the ndarray.\n",
      "  arr_value = np.asarray(value)\n",
      "../ART_iGEM/art/core.py:1312: FutureWarning: In v4.0, pm.sample will return an `arviz.InferenceData` object instead of a `MultiTrace` by default. You can pass return_inferencedata=True or return_inferencedata=False to be safe and silence this warning.\n",
      "  self.trace[j] = pm.sample(\n",
      "Multiprocess sampling (2 chains in 2 jobs)\n",
      "NUTS: [omegas, sigma]\n",
      "Sampling 2 chains for 1_000 tune and 10_000 draw iterations (2_000 + 20_000 draws total) took 34 seconds.\n",
      "There were 2 divergences after tuning. Increase `target_accept` or reparameterize.\n",
      "There were 341 divergences after tuning. Increase `target_accept` or reparameterize.\n",
      "The number of effective samples is smaller than 25% for some parameters.\n",
      "/home/user/.pyenv/versions/3.9.2/envs/ART_iGEM-3.9.2/lib/python3.9/site-packages/pandas/core/dtypes/cast.py:881: VisibleDeprecationWarning: Creating an ndarray from ragged nested sequences (which is a list-or-tuple of lists-or-tuples-or ndarrays with different lengths or shapes) is deprecated. If you meant to do this, you must specify 'dtype=object' when creating the ndarray.\n",
      "  element = np.asarray(element)\n",
      "/home/user/.pyenv/versions/3.9.2/envs/ART_iGEM-3.9.2/lib/python3.9/site-packages/pandas/core/internals/blocks.py:938: VisibleDeprecationWarning: Creating an ndarray from ragged nested sequences (which is a list-or-tuple of lists-or-tuples-or ndarrays with different lengths or shapes) is deprecated. If you meant to do this, you must specify 'dtype=object' when creating the ndarray.\n",
      "  arr_value = np.asarray(value)\n",
      "../ART_iGEM/art/core.py:1312: FutureWarning: In v4.0, pm.sample will return an `arviz.InferenceData` object instead of a `MultiTrace` by default. You can pass return_inferencedata=True or return_inferencedata=False to be safe and silence this warning.\n",
      "  self.trace[j] = pm.sample(\n",
      "Multiprocess sampling (2 chains in 2 jobs)\n",
      "NUTS: [omegas, sigma]\n",
      "Sampling 2 chains for 1_000 tune and 10_000 draw iterations (2_000 + 20_000 draws total) took 36 seconds.\n",
      "There were 445 divergences after tuning. Increase `target_accept` or reparameterize.\n",
      "There were 85 divergences after tuning. Increase `target_accept` or reparameterize.\n",
      "The number of effective samples is smaller than 25% for some parameters.\n",
      "/home/user/.pyenv/versions/3.9.2/envs/ART_iGEM-3.9.2/lib/python3.9/site-packages/pandas/core/dtypes/cast.py:881: VisibleDeprecationWarning: Creating an ndarray from ragged nested sequences (which is a list-or-tuple of lists-or-tuples-or ndarrays with different lengths or shapes) is deprecated. If you meant to do this, you must specify 'dtype=object' when creating the ndarray.\n",
      "  element = np.asarray(element)\n",
      "/home/user/.pyenv/versions/3.9.2/envs/ART_iGEM-3.9.2/lib/python3.9/site-packages/pandas/core/internals/blocks.py:938: VisibleDeprecationWarning: Creating an ndarray from ragged nested sequences (which is a list-or-tuple of lists-or-tuples-or ndarrays with different lengths or shapes) is deprecated. If you meant to do this, you must specify 'dtype=object' when creating the ndarray.\n",
      "  arr_value = np.asarray(value)\n"
     ]
    },
    {
     "name": "stderr",
     "output_type": "stream",
     "text": [
      "../ART_iGEM/art/core.py:1312: FutureWarning: In v4.0, pm.sample will return an `arviz.InferenceData` object instead of a `MultiTrace` by default. You can pass return_inferencedata=True or return_inferencedata=False to be safe and silence this warning.\n",
      "  self.trace[j] = pm.sample(\n",
      "Multiprocess sampling (2 chains in 2 jobs)\n",
      "NUTS: [omegas, sigma]\n",
      "Sampling 2 chains for 1_000 tune and 10_000 draw iterations (2_000 + 20_000 draws total) took 73 seconds.\n",
      "There were 2 divergences after tuning. Increase `target_accept` or reparameterize.\n",
      "There were 11 divergences after tuning. Increase `target_accept` or reparameterize.\n",
      "The number of effective samples is smaller than 25% for some parameters.\n",
      "/home/user/.pyenv/versions/3.9.2/envs/ART_iGEM-3.9.2/lib/python3.9/site-packages/pandas/core/dtypes/cast.py:881: VisibleDeprecationWarning: Creating an ndarray from ragged nested sequences (which is a list-or-tuple of lists-or-tuples-or ndarrays with different lengths or shapes) is deprecated. If you meant to do this, you must specify 'dtype=object' when creating the ndarray.\n",
      "  element = np.asarray(element)\n",
      "/home/user/.pyenv/versions/3.9.2/envs/ART_iGEM-3.9.2/lib/python3.9/site-packages/pandas/core/internals/blocks.py:938: VisibleDeprecationWarning: Creating an ndarray from ragged nested sequences (which is a list-or-tuple of lists-or-tuples-or ndarrays with different lengths or shapes) is deprecated. If you meant to do this, you must specify 'dtype=object' when creating the ndarray.\n",
      "  arr_value = np.asarray(value)\n",
      "../ART_iGEM/art/core.py:1312: FutureWarning: In v4.0, pm.sample will return an `arviz.InferenceData` object instead of a `MultiTrace` by default. You can pass return_inferencedata=True or return_inferencedata=False to be safe and silence this warning.\n",
      "  self.trace[j] = pm.sample(\n",
      "Multiprocess sampling (2 chains in 2 jobs)\n",
      "NUTS: [omegas, sigma]\n",
      "Sampling 2 chains for 1_000 tune and 10_000 draw iterations (2_000 + 20_000 draws total) took 46 seconds.\n",
      "There were 3 divergences after tuning. Increase `target_accept` or reparameterize.\n",
      "The number of effective samples is smaller than 10% for some parameters.\n",
      "/home/user/.pyenv/versions/3.9.2/envs/ART_iGEM-3.9.2/lib/python3.9/site-packages/pandas/core/dtypes/cast.py:881: VisibleDeprecationWarning: Creating an ndarray from ragged nested sequences (which is a list-or-tuple of lists-or-tuples-or ndarrays with different lengths or shapes) is deprecated. If you meant to do this, you must specify 'dtype=object' when creating the ndarray.\n",
      "  element = np.asarray(element)\n",
      "/home/user/.pyenv/versions/3.9.2/envs/ART_iGEM-3.9.2/lib/python3.9/site-packages/pandas/core/internals/blocks.py:938: VisibleDeprecationWarning: Creating an ndarray from ragged nested sequences (which is a list-or-tuple of lists-or-tuples-or ndarrays with different lengths or shapes) is deprecated. If you meant to do this, you must specify 'dtype=object' when creating the ndarray.\n",
      "  arr_value = np.asarray(value)\n",
      "../ART_iGEM/art/core.py:1312: FutureWarning: In v4.0, pm.sample will return an `arviz.InferenceData` object instead of a `MultiTrace` by default. You can pass return_inferencedata=True or return_inferencedata=False to be safe and silence this warning.\n",
      "  self.trace[j] = pm.sample(\n",
      "Multiprocess sampling (2 chains in 2 jobs)\n",
      "NUTS: [omegas, sigma]\n",
      "Sampling 2 chains for 1_000 tune and 10_000 draw iterations (2_000 + 20_000 draws total) took 40 seconds.\n",
      "There were 4 divergences after tuning. Increase `target_accept` or reparameterize.\n",
      "There were 134 divergences after tuning. Increase `target_accept` or reparameterize.\n",
      "The number of effective samples is smaller than 25% for some parameters.\n",
      "/home/user/.pyenv/versions/3.9.2/envs/ART_iGEM-3.9.2/lib/python3.9/site-packages/pandas/core/dtypes/cast.py:881: VisibleDeprecationWarning: Creating an ndarray from ragged nested sequences (which is a list-or-tuple of lists-or-tuples-or ndarrays with different lengths or shapes) is deprecated. If you meant to do this, you must specify 'dtype=object' when creating the ndarray.\n",
      "  element = np.asarray(element)\n",
      "/home/user/.pyenv/versions/3.9.2/envs/ART_iGEM-3.9.2/lib/python3.9/site-packages/pandas/core/internals/blocks.py:938: VisibleDeprecationWarning: Creating an ndarray from ragged nested sequences (which is a list-or-tuple of lists-or-tuples-or ndarrays with different lengths or shapes) is deprecated. If you meant to do this, you must specify 'dtype=object' when creating the ndarray.\n",
      "  arr_value = np.asarray(value)\n",
      "../ART_iGEM/art/core.py:1312: FutureWarning: In v4.0, pm.sample will return an `arviz.InferenceData` object instead of a `MultiTrace` by default. You can pass return_inferencedata=True or return_inferencedata=False to be safe and silence this warning.\n",
      "  self.trace[j] = pm.sample(\n",
      "Multiprocess sampling (2 chains in 2 jobs)\n",
      "NUTS: [omegas, sigma]\n",
      "Sampling 2 chains for 1_000 tune and 10_000 draw iterations (2_000 + 20_000 draws total) took 34 seconds.\n",
      "There were 5 divergences after tuning. Increase `target_accept` or reparameterize.\n",
      "There were 149 divergences after tuning. Increase `target_accept` or reparameterize.\n",
      "The number of effective samples is smaller than 25% for some parameters.\n",
      "/home/user/.pyenv/versions/3.9.2/envs/ART_iGEM-3.9.2/lib/python3.9/site-packages/pandas/core/dtypes/cast.py:881: VisibleDeprecationWarning: Creating an ndarray from ragged nested sequences (which is a list-or-tuple of lists-or-tuples-or ndarrays with different lengths or shapes) is deprecated. If you meant to do this, you must specify 'dtype=object' when creating the ndarray.\n",
      "  element = np.asarray(element)\n",
      "/home/user/.pyenv/versions/3.9.2/envs/ART_iGEM-3.9.2/lib/python3.9/site-packages/pandas/core/internals/blocks.py:938: VisibleDeprecationWarning: Creating an ndarray from ragged nested sequences (which is a list-or-tuple of lists-or-tuples-or ndarrays with different lengths or shapes) is deprecated. If you meant to do this, you must specify 'dtype=object' when creating the ndarray.\n",
      "  arr_value = np.asarray(value)\n",
      "../ART_iGEM/art/core.py:1312: FutureWarning: In v4.0, pm.sample will return an `arviz.InferenceData` object instead of a `MultiTrace` by default. You can pass return_inferencedata=True or return_inferencedata=False to be safe and silence this warning.\n",
      "  self.trace[j] = pm.sample(\n",
      "Multiprocess sampling (2 chains in 2 jobs)\n",
      "NUTS: [omegas, sigma]\n",
      "Sampling 2 chains for 1_000 tune and 10_000 draw iterations (2_000 + 20_000 draws total) took 34 seconds.\n",
      "There were 714 divergences after tuning. Increase `target_accept` or reparameterize.\n",
      "There were 60 divergences after tuning. Increase `target_accept` or reparameterize.\n",
      "The number of effective samples is smaller than 25% for some parameters.\n"
     ]
    },
    {
     "data": {
      "image/png": "[encoded data removed]",
      "text/plain": [
       "<Figure size 504x504 with 1 Axes>"
      ]
     },
     "metadata": {},
     "output_type": "display_data"
    },
    {
     "name": "stderr",
     "output_type": "stream",
     "text": [
      "/home/user/.pyenv/versions/3.9.2/envs/ART_iGEM-3.9.2/lib/python3.9/site-packages/pandas/core/dtypes/cast.py:881: VisibleDeprecationWarning: Creating an ndarray from ragged nested sequences (which is a list-or-tuple of lists-or-tuples-or ndarrays with different lengths or shapes) is deprecated. If you meant to do this, you must specify 'dtype=object' when creating the ndarray.\n",
      "  element = np.asarray(element)\n",
      "/home/user/.pyenv/versions/3.9.2/envs/ART_iGEM-3.9.2/lib/python3.9/site-packages/pandas/core/internals/blocks.py:938: VisibleDeprecationWarning: Creating an ndarray from ragged nested sequences (which is a list-or-tuple of lists-or-tuples-or ndarrays with different lengths or shapes) is deprecated. If you meant to do this, you must specify 'dtype=object' when creating the ndarray.\n",
      "  arr_value = np.asarray(value)\n",
      "../ART_iGEM/art/core.py:1312: FutureWarning: In v4.0, pm.sample will return an `arviz.InferenceData` object instead of a `MultiTrace` by default. You can pass return_inferencedata=True or return_inferencedata=False to be safe and silence this warning.\n",
      "  self.trace[j] = pm.sample(\n",
      "Multiprocess sampling (2 chains in 2 jobs)\n",
      "NUTS: [omegas, sigma]\n",
      "Sampling 2 chains for 1_000 tune and 10_000 draw iterations (2_000 + 20_000 draws total) took 39 seconds.\n",
      "There were 564 divergences after tuning. Increase `target_accept` or reparameterize.\n",
      "There was 1 divergence after tuning. Increase `target_accept` or reparameterize.\n",
      "The number of effective samples is smaller than 25% for some parameters.\n"
     ]
    },
    {
     "data": {
      "image/png": "[encoded data removed]",
      "text/plain": [
       "<Figure size 504x504 with 1 Axes>"
      ]
     },
     "metadata": {},
     "output_type": "display_data"
    },
    {
     "name": "stdout",
     "output_type": "stream",
     "text": [
      "CPU times: user 50min 26s, sys: 46min 50s, total: 1h 37min 16s\n",
      "Wall time: 47min 34s\n"
     ]
    }
   ],
   "source": [
    "%%time\n",
    "if run_art:\n",
    "    art = RecommendationEngine(samples_art_oneh_filtered, **art_params)\n",
    "else:\n",
    "    with open('results_onehot/art.pkl', 'rb') as output:\n",
    "        art = pickle.load(output)"
   ]
  },
  {
   "cell_type": "markdown",
   "id": "5c5119d2",
   "metadata": {},
   "source": [
    "## Step 5: Starting with analysis of the data\n",
    "\n",
    "After having trained the ART, it is time to interpret the results from the ART. The ultimate goal is to find out how acturate the predictions made by the ART will be on samples which have not been tested. Unfortunatly, this is impossible as it is unknown what exact activity of the untested samples will be. The best we can do, is give an approximation.\n",
    "\n",
    "A powerfull tool for this approximation is *k-fold cross-validation*. The idea is to split the entire dataset into `k` (almost) equally sized *folds*. Afterwards, the model is trained `k` times, where each time one of the folds is excluded from the training data. Once training is done, the model is validated on the fold that was excluded from the training data. This gives an approximation of what would happen is the model would encounter new samples. The error between the predictions and the actual measurements can be used to determine the Mean Absolute Error (MAE), Mean Relative Absolute Error (MRAE), standard deviation of the Absolute Error (stdAE), Mean Squared Error (MSE) and $R^2$ value of the model. The most important parametric to look at is the $R^2$ value as it represents how well the model is able to explain the validation data. An $R^2$-value of $1.0$ means that the model is able to explain 100% of the data. A value of $0.0$ or less means non of the data can be explained by the model. \n",
    "\n",
    "This process of *k-fold cross-validation* can be repeated for all the models used to construct the final `Ensamble Model`. The ensamble model should yield (one of) the highest $R^2$-values."
   ]
  },
  {
   "cell_type": "code",
   "execution_count": 16,
   "id": "52d19895",
   "metadata": {},
   "outputs": [
    {
     "data": {
      "text/html": [
       "<div>\n",
       "<style scoped>\n",
       "    .dataframe tbody tr th:only-of-type {\n",
       "        vertical-align: middle;\n",
       "    }\n",
       "\n",
       "    .dataframe tbody tr th {\n",
       "        vertical-align: top;\n",
       "    }\n",
       "\n",
       "    .dataframe thead th {\n",
       "        text-align: right;\n",
       "    }\n",
       "</style>\n",
       "<table border=\"1\" class=\"dataframe\">\n",
       "  <thead>\n",
       "    <tr style=\"text-align: right;\">\n",
       "      <th></th>\n",
       "      <th>MAE</th>\n",
       "      <th>MRAE(%)</th>\n",
       "      <th>StdAE</th>\n",
       "      <th>MSE</th>\n",
       "      <th>$R^2$</th>\n",
       "    </tr>\n",
       "    <tr>\n",
       "      <th>Name</th>\n",
       "      <th></th>\n",
       "      <th></th>\n",
       "      <th></th>\n",
       "      <th></th>\n",
       "      <th></th>\n",
       "    </tr>\n",
       "  </thead>\n",
       "  <tbody>\n",
       "    <tr>\n",
       "      <th>Neural Regressor</th>\n",
       "      <td>11.549765</td>\n",
       "      <td>119.088182</td>\n",
       "      <td>27.482067</td>\n",
       "      <td>888.661094</td>\n",
       "      <td>-322.268039</td>\n",
       "    </tr>\n",
       "    <tr>\n",
       "      <th>Random Forest Regressor</th>\n",
       "      <td>0.915099</td>\n",
       "      <td>10.108128</td>\n",
       "      <td>0.776331</td>\n",
       "      <td>1.440097</td>\n",
       "      <td>0.476136</td>\n",
       "    </tr>\n",
       "    <tr>\n",
       "      <th>TPOT Regressor</th>\n",
       "      <td>0.908191</td>\n",
       "      <td>9.786181</td>\n",
       "      <td>0.723247</td>\n",
       "      <td>1.347896</td>\n",
       "      <td>0.509676</td>\n",
       "    </tr>\n",
       "    <tr>\n",
       "      <th>Support Vector Regressor</th>\n",
       "      <td>1.085699</td>\n",
       "      <td>12.076638</td>\n",
       "      <td>0.699065</td>\n",
       "      <td>1.667433</td>\n",
       "      <td>0.393438</td>\n",
       "    </tr>\n",
       "    <tr>\n",
       "      <th>Kernel Ridge Regressor</th>\n",
       "      <td>5.681436</td>\n",
       "      <td>56.179868</td>\n",
       "      <td>2.577666</td>\n",
       "      <td>38.923075</td>\n",
       "      <td>-13.159038</td>\n",
       "    </tr>\n",
       "    <tr>\n",
       "      <th>K-NN Regressor</th>\n",
       "      <td>1.238586</td>\n",
       "      <td>13.832984</td>\n",
       "      <td>0.992273</td>\n",
       "      <td>2.518701</td>\n",
       "      <td>0.083773</td>\n",
       "    </tr>\n",
       "    <tr>\n",
       "      <th>Gaussian Process Regressor</th>\n",
       "      <td>1.058839</td>\n",
       "      <td>11.637233</td>\n",
       "      <td>0.700279</td>\n",
       "      <td>1.611530</td>\n",
       "      <td>0.413774</td>\n",
       "    </tr>\n",
       "    <tr>\n",
       "      <th>Gradient Boosting Regressor</th>\n",
       "      <td>0.955143</td>\n",
       "      <td>10.217580</td>\n",
       "      <td>0.740883</td>\n",
       "      <td>1.461205</td>\n",
       "      <td>0.468458</td>\n",
       "    </tr>\n",
       "    <tr>\n",
       "      <th>Ensemble Model</th>\n",
       "      <td>2.421212</td>\n",
       "      <td>25.541459</td>\n",
       "      <td>4.363080</td>\n",
       "      <td>24.898739</td>\n",
       "      <td>-8.057409</td>\n",
       "    </tr>\n",
       "  </tbody>\n",
       "</table>\n",
       "</div>"
      ],
      "text/plain": [
       "                                   MAE     MRAE(%)      StdAE         MSE  \\\n",
       "Name                                                                        \n",
       "Neural Regressor             11.549765  119.088182  27.482067  888.661094   \n",
       "Random Forest Regressor       0.915099   10.108128   0.776331    1.440097   \n",
       "TPOT Regressor                0.908191    9.786181   0.723247    1.347896   \n",
       "Support Vector Regressor      1.085699   12.076638   0.699065    1.667433   \n",
       "Kernel Ridge Regressor        5.681436   56.179868   2.577666   38.923075   \n",
       "K-NN Regressor                1.238586   13.832984   0.992273    2.518701   \n",
       "Gaussian Process Regressor    1.058839   11.637233   0.700279    1.611530   \n",
       "Gradient Boosting Regressor   0.955143   10.217580   0.740883    1.461205   \n",
       "Ensemble Model                2.421212   25.541459   4.363080   24.898739   \n",
       "\n",
       "                                  $R^2$  \n",
       "Name                                     \n",
       "Neural Regressor            -322.268039  \n",
       "Random Forest Regressor        0.476136  \n",
       "TPOT Regressor                 0.509676  \n",
       "Support Vector Regressor       0.393438  \n",
       "Kernel Ridge Regressor       -13.159038  \n",
       "K-NN Regressor                 0.083773  \n",
       "Gaussian Process Regressor     0.413774  \n",
       "Gradient Boosting Regressor    0.468458  \n",
       "Ensemble Model                -8.057409  "
      ]
     },
     "metadata": {},
     "output_type": "display_data"
    }
   ],
   "source": [
    "art.evaluate_models_cv()"
   ]
  },
  {
   "cell_type": "markdown",
   "id": "c59ea196",
   "metadata": {},
   "source": [
    "The $R^2$-value is a good first indication on how will the model is able to explain the data. However, further analysis is needed in order to check if there are unexpected patterns in the predictions (e.g. an outlier). A correlation plot can be used for this purpose. A correlation plot between the observerd and the predicted measurement should yield a straight diagonal line if the model is able to make perfect predictions (i.e. the observed measurement = predicted measurment). \n",
    "\n",
    "The plot below shows the crossvalidated ensemble prediction compared to observations of mean productivity of library and control strains (i.e. the unused folds during the k-fold cross-validation)\n"
   ]
  },
  {
   "cell_type": "code",
   "execution_count": 27,
   "id": "f7b70322",
   "metadata": {},
   "outputs": [
    {
     "data": {
      "image/png": "[encoded data removed]",
      "text/plain": [
       "<Figure size 504x504 with 1 Axes>"
      ]
     },
     "metadata": {},
     "output_type": "display_data"
    }
   ],
   "source": [
    "plot.predictions_vs_observations(art, cv_flag=True, errorbars_flag=False, log=False)"
   ]
  },
  {
   "cell_type": "markdown",
   "id": "21af9143",
   "metadata": {},
   "source": [
    "Chances are the plot above is does not show a nice diagonal line. This could have a range of different causes. To only list a few:\n",
    "\n",
    "1. The measuring error is too big\n",
    "2. The pattern generating the activity values is too complex to learn based on the current set of training samples\n",
    "3. The model is undertrained\n",
    "4. The model is over trained\n",
    "\n",
    "At his point, not much can be done about the first two points. Reducing the measuring error is likely to require a complete re-design of the experiment. The second problem could possibly be mitigated with attitional training samples, although there is no guarantee that this would work. Point three can be checked relatively easily by checking the non-cross-validated corralation plot. If the non-cross-validated model is able to accurately reproduce the its training data, the model is likely to have learned enough to prevent underfitting. This corraltion graph is shown in the cell below\n",
    "\n",
    "Check wether the model is over trained (point 4), most often requires a deeper analysis of the learning curves of the models. **TODO: fix the script for generating the learning curves two cells down**\n",
    "\n"
   ]
  },
  {
   "cell_type": "code",
   "execution_count": 26,
   "id": "a55ce018",
   "metadata": {},
   "outputs": [
    {
     "data": {
      "image/png": "[encoded data removed]",
      "text/plain": [
       "<Figure size 504x504 with 1 Axes>"
      ]
     },
     "metadata": {},
     "output_type": "display_data"
    }
   ],
   "source": [
    "plot.predictions_vs_observations(art, cv_flag=False, errorbars_flag=False, log=False)"
   ]
  },
  {
   "cell_type": "markdown",
   "id": "e7368edb",
   "metadata": {},
   "source": [
    "### learning curves\n",
    "\n",
    "10 cross-validation runs were performed in parallel running the script `learning_curves_per_set_size.py` with arguments `run_number` and `set_index` (between 0 and 14 for a total of 15 cases). The results were stored in\n",
    "\n",
    "## TODO:\n",
    "Adapt the `learning_curves_per_set_size.py` such that it is applicable to our dataset (see Zang, Petersen & Radivojević et al. (2020))"
   ]
  },
  {
   "cell_type": "code",
   "execution_count": 19,
   "id": "d9bad680",
   "metadata": {},
   "outputs": [],
   "source": [
    "output_directory = './results_onehot/learning_curves'"
   ]
  },
  {
   "cell_type": "code",
   "execution_count": 20,
   "id": "3b03e976",
   "metadata": {},
   "outputs": [
    {
     "ename": "FileNotFoundError",
     "evalue": "[Errno 2] No such file or directory: './results_onehot/learning_curves/metrics_train_test_1.pkl'",
     "output_type": "error",
     "traceback": [
      "\u001b[0;31m---------------------------------------------------------------------------\u001b[0m",
      "\u001b[0;31mFileNotFoundError\u001b[0m                         Traceback (most recent call last)",
      "\u001b[0;32m/tmp/ipykernel_115500/1539669882.py\u001b[0m in \u001b[0;36m<module>\u001b[0;34m\u001b[0m\n\u001b[1;32m      3\u001b[0m \u001b[0;32mfor\u001b[0m \u001b[0mrun\u001b[0m \u001b[0;32min\u001b[0m \u001b[0mrange\u001b[0m\u001b[0;34m(\u001b[0m\u001b[0mnum_runs\u001b[0m\u001b[0;34m)\u001b[0m\u001b[0;34m:\u001b[0m\u001b[0;34m\u001b[0m\u001b[0;34m\u001b[0m\u001b[0m\n\u001b[1;32m      4\u001b[0m     \u001b[0mfilename\u001b[0m \u001b[0;34m=\u001b[0m \u001b[0;34mf'{output_directory}/metrics_train_test_{run+1}.pkl'\u001b[0m\u001b[0;34m\u001b[0m\u001b[0;34m\u001b[0m\u001b[0m\n\u001b[0;32m----> 5\u001b[0;31m     \u001b[0;32mwith\u001b[0m \u001b[0mopen\u001b[0m\u001b[0;34m(\u001b[0m\u001b[0mfilename\u001b[0m\u001b[0;34m,\u001b[0m \u001b[0;34m'rb'\u001b[0m\u001b[0;34m)\u001b[0m \u001b[0;32mas\u001b[0m \u001b[0mf\u001b[0m\u001b[0;34m:\u001b[0m\u001b[0;34m\u001b[0m\u001b[0;34m\u001b[0m\u001b[0m\n\u001b[0m\u001b[1;32m      6\u001b[0m         \u001b[0mmetrics_all\u001b[0m\u001b[0;34m[\u001b[0m\u001b[0mrun\u001b[0m\u001b[0;34m]\u001b[0m \u001b[0;34m=\u001b[0m \u001b[0mpickle\u001b[0m\u001b[0;34m.\u001b[0m\u001b[0mload\u001b[0m\u001b[0;34m(\u001b[0m\u001b[0mf\u001b[0m\u001b[0;34m)\u001b[0m\u001b[0;34m\u001b[0m\u001b[0;34m\u001b[0m\u001b[0m\n",
      "\u001b[0;31mFileNotFoundError\u001b[0m: [Errno 2] No such file or directory: './results_onehot/learning_curves/metrics_train_test_1.pkl'"
     ]
    }
   ],
   "source": [
    "num_runs = 10\n",
    "metrics_all = {}\n",
    "for run in range(num_runs):\n",
    "    filename = f'{output_directory}/metrics_train_test_{run+1}.pkl'\n",
    "    with open(filename, 'rb') as f:\n",
    "        metrics_all[run] = pickle.load(f) "
   ]
  },
  {
   "cell_type": "markdown",
   "id": "c9af5ae7",
   "metadata": {},
   "source": [
    "## Step 6: Using the ART for making predicitons\n",
    "\n",
    "Now that the ART is all trained and well, it finally possible to use the tool for making predictions on un-tested samples. "
   ]
  },
  {
   "cell_type": "markdown",
   "id": "018fceef",
   "metadata": {},
   "source": [
    "A first step of validating how accurate the predictions are, is to compare the predictions made by ART for the samples for which we already have the measurements."
   ]
  },
  {
   "cell_type": "code",
   "execution_count": 21,
   "id": "7ca77cf8",
   "metadata": {},
   "outputs": [
    {
     "name": "stdout",
     "output_type": "stream",
     "text": [
      "156\n",
      "156\n",
      "    Line Name  prediction  cv_prediction Replicate\n",
      "0         #01  -38.477001      -7.242499        r0\n",
      "1         #01  -38.477001      -7.242499        r1\n",
      "2         #01  -38.477001      -7.242499        r2\n",
      "3         #02  -37.798151      -9.822592        r0\n",
      "4         #02  -37.798151      -9.822592        r1\n",
      "..        ...         ...            ...       ...\n",
      "151       #63  -38.394279      -9.521926        r1\n",
      "152       #63  -38.394279      -9.521848        r2\n",
      "153       #64  -37.549720     -10.193287        r0\n",
      "154       #64  -37.549720     -10.193287        r1\n",
      "155       #64  -37.549720     -10.193287        r2\n",
      "\n",
      "[156 rows x 4 columns]\n"
     ]
    },
    {
     "name": "stderr",
     "output_type": "stream",
     "text": [
      "/tmp/ipykernel_115500/3455088302.py:7: FutureWarning: Columnar iteration over characters will be deprecated in future releases.\n",
      "  jbei_library_pred_df['Line Name'], jbei_library_pred_df['Replicate'] = jbei_library_pred_df['Line Name'].str.split('-', 1).str\n"
     ]
    },
    {
     "data": {
      "text/plain": [
       "8"
      ]
     },
     "execution_count": 21,
     "metadata": {},
     "output_type": "execute_result"
    }
   ],
   "source": [
    "cv_prediction = np.array(art.model_df_cv[0]['Predictions']['Ensemble Model'])\n",
    "print(len(cv_prediction))\n",
    "print(len(samples_art_oneh_filtered['Line Name'].unique()))\n",
    "predicted_mean, predicted_std = art.post_pred_stats(art.load_input_data(scale=False))\n",
    "\n",
    "library_pred_df = pd.DataFrame({'Line Name' : samples_art_oneh_filtered['Line Name'].unique(),'prediction' : predicted_mean.squeeze(), 'cv_prediction' : cv_prediction})\n",
    "library_pred_df['Line Name'], library_pred_df['Replicate'] = library_pred_df['Line Name'].str.split('-', 1).str\n",
    "print(library_pred_df)"
   ]
  },
  {
   "cell_type": "markdown",
   "id": "3536c1cf",
   "metadata": {},
   "source": [
    "Now, combine the predictions dataframe with the measured data"
   ]
  },
  {
   "cell_type": "code",
   "execution_count": 22,
   "id": "d7eef453",
   "metadata": {},
   "outputs": [
    {
     "name": "stdout",
     "output_type": "stream",
     "text": [
      "  Line Name  prediction  cv_prediction Replicate\n",
      "0       #01  -38.477001      -7.242499        r0\n",
      "1       #01  -38.477001      -7.242499        r1\n",
      "2       #01  -38.477001      -7.242499        r2\n",
      "3       #02  -37.798151      -9.822592        r0\n",
      "4       #02  -37.798151      -9.822592        r1\n",
      "  Line Name Replicate          Measurement  str_idx  pro_idx  sec_idx  gen_idx\n",
      "0       #01        r0   -5.919818524250338        2        6       16       22\n",
      "1       #01        r1   -5.911463675062115        2        6       16       22\n",
      "2       #01        r2   -5.900194502930249        2        6       16       22\n",
      "3       #02        r0   -10.52760178576078        4       11       18       19\n",
      "4       #02        r1  -10.644871095979585        4       11       18       19\n"
     ]
    },
    {
     "data": {
      "text/html": [
       "<div>\n",
       "<style scoped>\n",
       "    .dataframe tbody tr th:only-of-type {\n",
       "        vertical-align: middle;\n",
       "    }\n",
       "\n",
       "    .dataframe tbody tr th {\n",
       "        vertical-align: top;\n",
       "    }\n",
       "\n",
       "    .dataframe thead th {\n",
       "        text-align: right;\n",
       "    }\n",
       "</style>\n",
       "<table border=\"1\" class=\"dataframe\">\n",
       "  <thead>\n",
       "    <tr style=\"text-align: right;\">\n",
       "      <th></th>\n",
       "      <th>Line Name</th>\n",
       "      <th>Replicate</th>\n",
       "      <th>Measurement</th>\n",
       "      <th>str_idx</th>\n",
       "      <th>pro_idx</th>\n",
       "      <th>sec_idx</th>\n",
       "      <th>gen_idx</th>\n",
       "      <th>prediction</th>\n",
       "      <th>cv_prediction</th>\n",
       "    </tr>\n",
       "  </thead>\n",
       "  <tbody>\n",
       "    <tr>\n",
       "      <th>0</th>\n",
       "      <td>#01</td>\n",
       "      <td>r0</td>\n",
       "      <td>-5.919818524250338</td>\n",
       "      <td>2</td>\n",
       "      <td>6</td>\n",
       "      <td>16</td>\n",
       "      <td>22</td>\n",
       "      <td>-38.477001</td>\n",
       "      <td>-7.242499</td>\n",
       "    </tr>\n",
       "    <tr>\n",
       "      <th>1</th>\n",
       "      <td>#01</td>\n",
       "      <td>r1</td>\n",
       "      <td>-5.911463675062115</td>\n",
       "      <td>2</td>\n",
       "      <td>6</td>\n",
       "      <td>16</td>\n",
       "      <td>22</td>\n",
       "      <td>-38.477001</td>\n",
       "      <td>-7.242499</td>\n",
       "    </tr>\n",
       "    <tr>\n",
       "      <th>2</th>\n",
       "      <td>#01</td>\n",
       "      <td>r2</td>\n",
       "      <td>-5.900194502930249</td>\n",
       "      <td>2</td>\n",
       "      <td>6</td>\n",
       "      <td>16</td>\n",
       "      <td>22</td>\n",
       "      <td>-38.477001</td>\n",
       "      <td>-7.242499</td>\n",
       "    </tr>\n",
       "    <tr>\n",
       "      <th>3</th>\n",
       "      <td>#02</td>\n",
       "      <td>r0</td>\n",
       "      <td>-10.52760178576078</td>\n",
       "      <td>4</td>\n",
       "      <td>11</td>\n",
       "      <td>18</td>\n",
       "      <td>19</td>\n",
       "      <td>-37.798151</td>\n",
       "      <td>-9.822592</td>\n",
       "    </tr>\n",
       "    <tr>\n",
       "      <th>4</th>\n",
       "      <td>#02</td>\n",
       "      <td>r1</td>\n",
       "      <td>-10.644871095979585</td>\n",
       "      <td>4</td>\n",
       "      <td>11</td>\n",
       "      <td>18</td>\n",
       "      <td>19</td>\n",
       "      <td>-37.798151</td>\n",
       "      <td>-9.822592</td>\n",
       "    </tr>\n",
       "  </tbody>\n",
       "</table>\n",
       "</div>"
      ],
      "text/plain": [
       "  Line Name Replicate          Measurement  str_idx  pro_idx  sec_idx  \\\n",
       "0       #01        r0   -5.919818524250338        2        6       16   \n",
       "1       #01        r1   -5.911463675062115        2        6       16   \n",
       "2       #01        r2   -5.900194502930249        2        6       16   \n",
       "3       #02        r0   -10.52760178576078        4       11       18   \n",
       "4       #02        r1  -10.644871095979585        4       11       18   \n",
       "\n",
       "   gen_idx  prediction  cv_prediction  \n",
       "0       22  -38.477001      -7.242499  \n",
       "1       22  -38.477001      -7.242499  \n",
       "2       22  -38.477001      -7.242499  \n",
       "3       19  -37.798151      -9.822592  \n",
       "4       19  -37.798151      -9.822592  "
      ]
     },
     "execution_count": 22,
     "metadata": {},
     "output_type": "execute_result"
    }
   ],
   "source": [
    "\n",
    "print(library_pred_df.head())\n",
    "samples = pd.read_csv('Sample_list.csv', sep=',')\n",
    "print(samples.head())\n",
    "\n",
    "samples = pd.merge(samples, library_pred_df,  how='left', left_on=['Line Name', 'Replicate'], right_on = ['Line Name', 'Replicate'])\n",
    "samples.head()"
   ]
  },
  {
   "cell_type": "code",
   "execution_count": 25,
   "id": "b1619224",
   "metadata": {},
   "outputs": [
    {
     "name": "stdout",
     "output_type": "stream",
     "text": [
      "[[1. 0. 0. 0. 1. 0. 0. 0. 0. 0. 0. 0. 0. 0. 1. 0. 0. 0. 1. 0. 0. 0.]\n",
      " [1. 0. 0. 0. 1. 0. 0. 0. 0. 0. 0. 0. 0. 0. 1. 0. 0. 0. 0. 1. 0. 0.]\n",
      " [1. 0. 0. 0. 1. 0. 0. 0. 0. 0. 0. 0. 0. 0. 1. 0. 0. 0. 0. 0. 1. 0.]\n",
      " [1. 0. 0. 0. 1. 0. 0. 0. 0. 0. 0. 0. 0. 0. 1. 0. 0. 0. 0. 0. 0. 1.]\n",
      " [1. 0. 0. 0. 1. 0. 0. 0. 0. 0. 0. 0. 0. 0. 0. 1. 0. 0. 1. 0. 0. 0.]]\n"
     ]
    }
   ],
   "source": [
    "num_strains = 4\n",
    "num_promoters = 10\n",
    "num_secretion_signals = 4\n",
    "num_genes = 4\n",
    "\n",
    "num_designs = num_strains*num_promoters*num_secretion_signals*num_genes\n",
    "num_promoters_onehot = art.num_input_var\n",
    "\n",
    "designs = np.zeros((num_designs, num_promoters_onehot))\n",
    "\n",
    "i = 0\n",
    "\n",
    "strains = np.eye(num_strains)\n",
    "promoters = np.eye(num_promoters)\n",
    "seqretion = np.eye(num_secretion_signals)\n",
    "\n",
    "for p1 in seqretion:\n",
    "    for p2 in promoters:\n",
    "        for p3 in seqretion:\n",
    "            for p4 in seqretion:\n",
    "                designs[i,:] = np.hstack((p1,p2,p3,p4)).astype(int)\n",
    "                i+=1\n",
    "\n",
    "print(designs[:5])\n"
   ]
  },
  {
   "cell_type": "markdown",
   "id": "55bffe1f",
   "metadata": {},
   "source": [
    "Calculate mean predicted production and standard deviation for all possible designs."
   ]
  },
  {
   "cell_type": "code",
   "execution_count": null,
   "id": "b237ca15",
   "metadata": {},
   "outputs": [],
   "source": [
    "pp_mean, pp_std = art.post_pred_stats(designs)"
   ]
  },
  {
   "cell_type": "markdown",
   "id": "49d019b7",
   "metadata": {},
   "source": [
    "The relative engineering accuracy is set to one percent to make sure recommendations are different from the input data."
   ]
  },
  {
   "cell_type": "code",
   "execution_count": null,
   "id": "39b4be78",
   "metadata": {},
   "outputs": [],
   "source": [
    "art.rel_eng_accuracy = 0.01"
   ]
  },
  {
   "cell_type": "markdown",
   "id": "c58ebd9f",
   "metadata": {},
   "source": [
    "### Exploitative approach\n",
    "\n",
    "Objective function is defined as the mean predicted production (the parameter for exploration is set to 𝛼=0\n",
    ")."
   ]
  },
  {
   "cell_type": "code",
   "execution_count": null,
   "id": "7b2bc6f0",
   "metadata": {},
   "outputs": [],
   "source": [
    "obj_func = pp_mean \n",
    "data = np.hstack((designs, obj_func, obj_func))\n",
    "print(data)"
   ]
  },
  {
   "cell_type": "code",
   "execution_count": null,
   "id": "fc599bbb",
   "metadata": {},
   "outputs": [],
   "source": [
    "art.recommend(data=data)\n",
    "ind_max = np.argmax(art.recommendations.values[:,-1])\n",
    "mean, std = art.post_pred_stats(art.recommendations.values[ind_max,:-1])\n",
    "print(f'Mean and standard deviation of the recommendation with the highest predicted production are: {mean[0][0]:.2f}, {std[0][0]:.2f}')"
   ]
  },
  {
   "cell_type": "code",
   "execution_count": null,
   "id": "975b7e1b",
   "metadata": {},
   "outputs": [],
   "source": [
    "df_rec_categ_exploit = pd.DataFrame(index=art.recommendations.index, columns=['strain','promoter','seqretion','gene',measurement[0]])\n",
    "for i in range(art.num_recommendations):\n",
    "    rec = art.recommendations.iloc[i][np.round(art.recommendations.values[i,:]).astype('int64') != 0]\n",
    "    df_rec_categ_exploit.iloc[i][('strain','promoter','seqretion','gene')] = [int(float(p.split('_')[2])) for p in rec.index[:-1]]\n",
    "    df_rec_categ_exploit.iloc[i][measurement] = rec[measurement]\n",
    "\n",
    "df_rec_categ_exploit['Predicted activity'] = np.exp(np.array(df_rec_categ_exploit[measurement].values.tolist()))\n",
    "\n",
    "df_rec_categ_exploit"
   ]
  },
  {
   "cell_type": "code",
   "execution_count": null,
   "id": "2dcd5f63",
   "metadata": {},
   "outputs": [],
   "source": [
    "df_rec_categ_exploit.nunique()"
   ]
  }
 ],
 "metadata": {
  "kernelspec": {
   "display_name": "Python 3 (ipykernel)",
   "language": "python",
   "name": "python3"
  },
  "language_info": {
   "codemirror_mode": {
    "name": "ipython",
    "version": 3
   },
   "file_extension": ".py",
   "mimetype": "text/x-python",
   "name": "python",
   "nbconvert_exporter": "python",
   "pygments_lexer": "ipython3",
   "version": "3.9.2"
  }
 },
 "nbformat": 4,
 "nbformat_minor": 5
}
