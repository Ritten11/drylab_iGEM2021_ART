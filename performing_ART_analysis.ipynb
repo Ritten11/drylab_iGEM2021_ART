{
 "cells": [
  {
   "cell_type": "code",
   "execution_count": 1,
   "id": "6983d0a8",
   "metadata": {},
   "outputs": [
    {
     "name": "stdout",
     "output_type": "stream",
     "text": [
      "Do not have mpi4py package.\n",
      "Do not have acor package\n"
     ]
    }
   ],
   "source": [
    "import sys\n",
    "import glob\n",
    "import os\n",
    "import re\n",
    "import numpy as np\n",
    "import pandas as pd\n",
    "import matplotlib.pyplot as plt\n",
    "%matplotlib inline\n",
    "import seaborn as sns\n",
    "# from scipy.interpolate import UnivariateSpline\n",
    "# from scipy import stats\n",
    "import pickle\n",
    "\n",
    "from itertools import chain\n",
    "from scipy.optimize import curve_fit\n",
    "\n",
    "# Import ART\n",
    "\n",
    "sys.path.append('.')\n",
    "sys.path.append('../ART_iGEM')\n",
    "\n",
    "from art.core import *\n",
    "import art.plot as plot"
   ]
  },
  {
   "cell_type": "markdown",
   "id": "d7b81b2a",
   "metadata": {},
   "source": [
    "# The first step: Loading and structuring the data\n",
    "\n",
    "The Automated Recommendation tool is used to determine which combination of *Saccharomyces spp.* strain, promotor, secretion peptide and alpha-amylase gene is expected to yield a high alpha-amylase activity. The training data for ART consists of alpha-amylase activity produced by **X** samples out of the possible 640 combinations. This activity was measured using the **X** kit. \n",
    "\n",
    "\n",
    "\n",
    "However, the first step is to load in the various data files and restructure them."
   ]
  },
  {
   "cell_type": "code",
   "execution_count": 4,
   "id": "1c9e635f",
   "metadata": {},
   "outputs": [],
   "source": [
    "# Storing the current working directory for later usage\n",
    "cwd = os.getcwd()\n",
    "\n",
    "# Change into the correct working directory\n",
    "data_dir = os.path.join(cwd,'data','AA 2-10')\n",
    "os.chdir(data_dir)"
   ]
  },
  {
   "cell_type": "code",
   "execution_count": 5,
   "id": "df456d25",
   "metadata": {},
   "outputs": [
    {
     "name": "stdout",
     "output_type": "stream",
     "text": [
      "['19.44.TXT', '19.34.TXT', '20.04.TXT', '20.14.TXT', '19.14.TXT', '19.02.TXT', '19.29.TXT', 'error_2111.TXT', '19.24.TXT', '20.09.TXT', '19.59.TXT', '19.54.TXT', '19.19.TXT', '21.12.TXT', '19.49.TXT', '19.39.TXT']\n",
      "['19.02.TXT', '19.14.TXT', '19.19.TXT', '19.24.TXT', '19.29.TXT', '19.34.TXT', '19.39.TXT', '19.44.TXT', '19.49.TXT', '19.54.TXT', '19.59.TXT', '20.04.TXT', '20.09.TXT', '20.14.TXT', '21.12.TXT']\n",
      "(8, 12)\n",
      "(8, 12)\n",
      "(8, 12)\n",
      "(8, 12)\n",
      "(8, 12)\n",
      "(8, 12)\n",
      "(8, 12)\n",
      "(8, 12)\n",
      "(8, 12)\n",
      "(8, 12)\n",
      "(8, 12)\n",
      "(8, 12)\n",
      "(8, 12)\n",
      "(8, 12)\n",
      "(8, 12)\n",
      "   Hour Minute absolute_diff  File_name  \\\n",
      "0    19      2             0  19.02.TXT   \n",
      "1    19     14            12  19.14.TXT   \n",
      "2    19     19            17  19.19.TXT   \n",
      "3    19     24            22  19.24.TXT   \n",
      "4    19     29            27  19.29.TXT   \n",
      "5    19     34            32  19.34.TXT   \n",
      "6    19     39            37  19.39.TXT   \n",
      "7    19     44            42  19.44.TXT   \n",
      "8    19     49            47  19.49.TXT   \n",
      "9    19     54            52  19.54.TXT   \n",
      "10   19     59            57  19.59.TXT   \n",
      "11   20      4            62  20.04.TXT   \n",
      "12   20      9            67  20.09.TXT   \n",
      "13   20     14            72  20.14.TXT   \n",
      "14   21     12           130  21.12.TXT   \n",
      "\n",
      "                                     abs_measurements  \n",
      "0         0      1      2      3      4      5    ...  \n",
      "1         0      1      2      3      4      5    ...  \n",
      "2         0      1      2      3      4      5    ...  \n",
      "3         0      1      2      3      4      5    ...  \n",
      "4         0      1      2      3      4      5    ...  \n",
      "5         0      1      2      3      4      5    ...  \n",
      "6         0      1      2      3      4      5    ...  \n",
      "7         0      1      2      3      4      5    ...  \n",
      "8         0      1      2      3      4      5    ...  \n",
      "9         0      1      2      3      4      5    ...  \n",
      "10        0      1      2      3      4      5    ...  \n",
      "11        0      1      2      3      4      5    ...  \n",
      "12        0      1      2      3      4      5    ...  \n",
      "13        0      1      2      3      4      5    ...  \n",
      "14        0      1      2      3      4      5    ...  \n"
     ]
    },
    {
     "name": "stderr",
     "output_type": "stream",
     "text": [
      "/home/user/.pyenv/versions/3.9.2/envs/ART_iGEM-3.9.2/lib/python3.9/site-packages/pandas/core/dtypes/cast.py:881: VisibleDeprecationWarning: Creating an ndarray from ragged nested sequences (which is a list-or-tuple of lists-or-tuples-or ndarrays with different lengths or shapes) is deprecated. If you meant to do this, you must specify 'dtype=object' when creating the ndarray.\n",
      "  element = np.asarray(element)\n"
     ]
    }
   ],
   "source": [
    "# Extract the file names of all absorbance measurement files\n",
    "abs_files = glob.glob('*.TXT')\n",
    "print(abs_files)\n",
    "abs_files.remove('error_2111.TXT') # One of the measurements was incorrectly excecuted. This file has to manually exlcuded from the analysis\n",
    "abs_files.sort()\n",
    "print(abs_files)\n",
    "\n",
    "# Creating a dataframe with time measurements and reference to the absorbance measure file\n",
    "abs_df = pd.DataFrame(columns=['Hour', 'Minute', 'absolute_diff', 'File_name', 'abs_measurements'])\n",
    "for i, file in enumerate(abs_files):\n",
    "    ms_time = file.split('.')\n",
    "    ms_time = [int(string) for string in ms_time[0:2]]\n",
    "    if i == 0:\n",
    "        time_diff = 0\n",
    "    else:\n",
    "        time_diff = (ms_time[0]-abs_df['Hour'][0])*60+(ms_time[1]-abs_df['Minute'][0])\n",
    "    abs_measurement = pd.read_csv(file, header = None, sep=',')\n",
    "    abs_measurement = abs_measurement.iloc[:, :-1] # Due to the output format of the plate reader, there is an extra column with empty values.\n",
    "    abs_df.loc[i] = [ms_time[0], ms_time[1], time_diff, file, abs_measurement]\n",
    "    print(np.shape(abs_df['abs_measurements'][i]))\n",
    "print(abs_df)"
   ]
  },
  {
   "cell_type": "code",
   "execution_count": 6,
   "id": "e7c23c00",
   "metadata": {},
   "outputs": [
    {
     "name": "stdout",
     "output_type": "stream",
     "text": [
      "(8, 12)\n",
      "    0    1      2      3      4      5       6       7    8    9    10   11\n",
      "0  NaN  NaN    NaN    NaN    NaN    NaN     NaN     NaN  NaN  NaN  NaN  NaN\n",
      "1  NaN  NaN    NaN    NaN    NaN    NaN     NaN     NaN  NaN  NaN  NaN  NaN\n",
      "2  NaN  NaN  BLANK  BLANK  2nmol  2nmol  10nmol  10nmol  #34  NaN  NaN  NaN\n",
      "3  #14  #14    #14    #15    #15    #15     #18     #18  #18  #20  #20  #20\n",
      "4  #26  #26    #26    #27    #27    #27     #34     #34  NaN  #35  #35  #35\n",
      "5  NaN  NaN    NaN    NaN    NaN    NaN     NaN     NaN  NaN  NaN  NaN  NaN\n",
      "6  #06  #06    #06    #10    #10    #10     #11     #11  #11  #16  #16  #16\n",
      "7  #21  #21    #21    NaN    NaN    NaN     NaN     NaN  NaN  NaN  NaN  NaN\n",
      "      0      1      2      3      4      5      6      7      8      9   \\\n",
      "0  0.000  0.000  0.000  0.000  0.000  0.000  0.000  0.000  0.000  0.000   \n",
      "1  0.000  0.000  0.000  0.000  0.000  0.000  0.000  0.000  0.000  0.000   \n",
      "2  0.000  0.000  0.056  0.055  0.145  0.152  0.481  0.503  0.067  0.000   \n",
      "3  0.066  0.067  0.073  0.062  0.075  0.065  0.064  0.067  0.065  0.066   \n",
      "4  0.068  0.065  0.067  0.080  0.077  0.078  0.065  0.067  0.000  0.066   \n",
      "5  0.000  0.000  0.000  0.000  0.000  0.000  0.000  0.000  0.000  0.000   \n",
      "6  0.065  0.067  0.065  0.070  0.068  0.088  0.066  0.067  0.066  0.064   \n",
      "7  0.064  0.065  0.119  0.000  0.000  0.000  0.000  0.000  0.000  0.000   \n",
      "\n",
      "      10     11  \n",
      "0  0.000  0.000  \n",
      "1  0.000  0.000  \n",
      "2  0.000  0.000  \n",
      "3  0.099  0.067  \n",
      "4  0.066  0.070  \n",
      "5  0.000  0.000  \n",
      "6  0.065  0.066  \n",
      "7  0.000  0.000  \n"
     ]
    }
   ],
   "source": [
    "# Next up, is getting the locations of the plates for each sample\n",
    "plate_arr = pd.read_csv('plate_arrangements.csv', sep=',')\n",
    "plate_arr = plate_arr.iloc[:, 1:] # For easy navigation, the first column is removed\n",
    "plate_arr.columns = [int(col_num)-1 for col_num in plate_arr.columns]\n",
    "\n",
    "# The dataframe of the well locations is now in exactly the same shape as the dataframes used for storing the absorbance measures\n",
    "print(np.shape(plate_arr))\n",
    "\n",
    "print(plate_arr)\n",
    "print(abs_df['abs_measurements'][0])\n"
   ]
  },
  {
   "cell_type": "code",
   "execution_count": 7,
   "id": "104774fb",
   "metadata": {},
   "outputs": [
    {
     "name": "stdout",
     "output_type": "stream",
     "text": [
      "Total number of unique samples in dataset: 13\n",
      "{'#06_r0': [0.065, 0.065, 0.065, 0.065, 0.065, 0.065, 0.065, 0.065, 0.065, 0.065, 0.065, 0.065, 0.065, 0.065, 0.065], '#06_r1': [0.067, 0.072, 0.075, 0.078, 0.08, 0.083, 0.085, 0.088, 0.09, 0.093, 0.095, 0.098, 0.101, 0.104, 0.133], '#06_r2': [0.065, 0.064, 0.064, 0.065, 0.064, 0.064, 0.064, 0.064, 0.064, 0.064, 0.064, 0.064, 0.064, 0.064, 0.065], '#10_r0': [0.07, 0.079, 0.084, 0.089, 0.093, 0.099, 0.105, 0.11, 0.116, 0.122, 0.127, 0.133, 0.139, 0.147, 0.214], '#10_r1': [0.068, 0.077, 0.082, 0.087, 0.092, 0.097, 0.103, 0.108, 0.114, 0.12, 0.126, 0.132, 0.138, 0.145, 0.213], '#10_r2': [0.088, 0.085, 0.087, 0.09, 0.093, 0.098, 0.103, 0.108, 0.114, 0.12, 0.126, 0.131, 0.137, 0.145, 0.214], '#11_r0': [0.066, 0.067, 0.067, 0.067, 0.067, 0.067, 0.067, 0.067, 0.067, 0.067, 0.067, 0.067, 0.067, 0.067, 0.068], '#11_r1': [0.067, 0.075, 0.078, 0.082, 0.085, 0.089, 0.092, 0.096, 0.099, 0.102, 0.106, 0.109, 0.112, 0.117, 0.154], '#11_r2': [0.066, 0.066, 0.067, 0.067, 0.066, 0.066, 0.066, 0.066, 0.066, 0.066, 0.066, 0.066, 0.066, 0.066, 0.067], '#14_r0': [0.066, 0.065, 0.065, 0.065, 0.065, 0.065, 0.065, 0.065, 0.065, 0.065, 0.065, 0.065, 0.065, 0.065, 0.065], '#14_r1': [0.067, 0.066, 0.066, 0.066, 0.066, 0.066, 0.066, 0.066, 0.066, 0.066, 0.066, 0.066, 0.066, 0.066, 0.067], '#14_r2': [0.073, 0.068, 0.067, 0.066, 0.065, 0.065, 0.065, 0.065, 0.065, 0.064, 0.064, 0.064, 0.064, 0.064, 0.065], '#15_r0': [0.062, 0.062, 0.062, 0.062, 0.062, 0.062, 0.062, 0.062, 0.062, 0.062, 0.062, 0.062, 0.062, 0.062, 0.063], '#15_r1': [0.075, 0.077, 0.075, 0.075, 0.076, 0.076, 0.077, 0.077, 0.076, 0.077, 0.077, 0.078, 0.077, 0.077, 0.078], '#15_r2': [0.065, 0.064, 0.064, 0.064, 0.064, 0.064, 0.064, 0.064, 0.064, 0.064, 0.064, 0.064, 0.064, 0.065, 0.065], '#16_r0': [0.064, 0.064, 0.064, 0.064, 0.064, 0.064, 0.064, 0.064, 0.064, 0.064, 0.065, 0.065, 0.065, 0.065, 0.065], '#16_r1': [0.065, 0.066, 0.066, 0.066, 0.066, 0.066, 0.066, 0.066, 0.066, 0.066, 0.067, 0.067, 0.067, 0.067, 0.067], '#16_r2': [0.066, 0.066, 0.066, 0.066, 0.066, 0.066, 0.066, 0.066, 0.066, 0.066, 0.066, 0.066, 0.066, 0.066, 0.066], '#18_r0': [0.064, 0.064, 0.064, 0.065, 0.064, 0.064, 0.064, 0.064, 0.064, 0.064, 0.064, 0.064, 0.064, 0.064, 0.064], '#18_r1': [0.067, 0.066, 0.066, 0.066, 0.066, 0.066, 0.066, 0.066, 0.066, 0.066, 0.066, 0.066, 0.066, 0.066, 0.066], '#18_r2': [0.065, 0.065, 0.065, 0.065, 0.065, 0.065, 0.065, 0.065, 0.065, 0.065, 0.065, 0.065, 0.065, 0.065, 0.066], '#20_r0': [0.066, 0.067, 0.067, 0.067, 0.067, 0.067, 0.067, 0.067, 0.067, 0.067, 0.067, 0.067, 0.067, 0.067, 0.067], '#20_r1': [0.099, 0.25, 0.319, 0.392, 0.445, 0.5, 0.553, 0.599, 0.647, 0.689, 0.729, 0.77, 0.804, 0.847, 1.015], '#20_r2': [0.067, 0.067, 0.067, 0.067, 0.067, 0.067, 0.067, 0.067, 0.067, 0.067, 0.067, 0.067, 0.067, 0.067, 0.067], '#21_r0': [0.064, 0.064, 0.065, 0.065, 0.066, 0.066, 0.067, 0.068, 0.068, 0.069, 0.069, 0.07, 0.071, 0.071, 0.079], '#21_r1': [0.065, 0.065, 0.066, 0.066, 0.067, 0.067, 0.068, 0.068, 0.069, 0.069, 0.07, 0.071, 0.071, 0.072, 0.08], '#21_r2': [0.119, 0.099, 0.092, 0.084, 0.08, 0.068, 0.069, 0.069, 0.07, 0.07, 0.071, 0.071, 0.072, 0.073, 0.08], '#26_r0': [0.068, 0.069, 0.069, 0.07, 0.071, 0.072, 0.073, 0.073, 0.074, 0.075, 0.076, 0.077, 0.079, 0.08, 0.094], '#26_r1': [0.065, 0.066, 0.066, 0.067, 0.068, 0.069, 0.07, 0.07, 0.071, 0.072, 0.073, 0.074, 0.075, 0.077, 0.089], '#26_r2': [0.067, 0.068, 0.069, 0.071, 0.071, 0.072, 0.073, 0.074, 0.075, 0.076, 0.077, 0.078, 0.079, 0.081, 0.094], '#27_r0': [0.08, 0.097, 0.106, 0.116, 0.124, 0.133, 0.143, 0.152, 0.163, 0.172, 0.182, 0.192, 0.202, 0.215, 0.328], '#27_r1': [0.077, 0.093, 0.102, 0.112, 0.12, 0.129, 0.139, 0.148, 0.158, 0.168, 0.177, 0.188, 0.197, 0.21, 0.323], '#27_r2': [0.078, 0.095, 0.104, 0.114, 0.122, 0.131, 0.141, 0.15, 0.16, 0.17, 0.18, 0.19, 0.2, 0.213, 0.326], '#34_r0': [0.067, 0.067, 0.068, 0.069, 0.07, 0.071, 0.072, 0.073, 0.074, 0.075, 0.076, 0.078, 0.079, 0.081, 0.097], '#34_r1': [0.065, 0.066, 0.066, 0.067, 0.068, 0.069, 0.07, 0.071, 0.071, 0.072, 0.073, 0.075, 0.076, 0.077, 0.092], '#34_r2': [0.067, 0.067, 0.068, 0.069, 0.069, 0.07, 0.071, 0.072, 0.073, 0.073, 0.074, 0.075, 0.076, 0.078, 0.091], '#35_r0': [0.066, 0.067, 0.067, 0.069, 0.07, 0.071, 0.072, 0.073, 0.074, 0.074, 0.076, 0.077, 0.078, 0.079, 0.094], '#35_r1': [0.066, 0.066, 0.067, 0.068, 0.068, 0.07, 0.07, 0.071, 0.072, 0.074, 0.074, 0.075, 0.077, 0.078, 0.092], '#35_r2': [0.07, 0.071, 0.071, 0.072, 0.073, 0.074, 0.075, 0.076, 0.077, 0.078, 0.079, 0.08, 0.081, 0.083, 0.096], '10nmol_r0': [0.481, 0.504, 0.512, 0.515, 0.517, 0.518, 0.518, 0.518, 0.519, 0.519, 0.519, 0.52, 0.52, 0.52, 0.522], '10nmol_r1': [0.503, 0.524, 0.531, 0.533, 0.535, 0.535, 0.536, 0.537, 0.537, 0.537, 0.538, 0.538, 0.538, 0.539, 0.541], '2nmol_r0': [0.145, 0.148, 0.15, 0.15, 0.151, 0.151, 0.151, 0.151, 0.151, 0.151, 0.151, 0.151, 0.151, 0.151, 0.152], '2nmol_r1': [0.152, 0.156, 0.157, 0.158, 0.158, 0.159, 0.159, 0.159, 0.159, 0.159, 0.159, 0.159, 0.159, 0.159, 0.16], 'BLANK_r0': [0.056, 0.056, 0.056, 0.056, 0.056, 0.056, 0.056, 0.056, 0.056, 0.056, 0.056, 0.056, 0.056, 0.056, 0.056], 'BLANK_r1': [0.055, 0.056, 0.056, 0.056, 0.056, 0.056, 0.056, 0.056, 0.056, 0.056, 0.056, 0.056, 0.056, 0.056, 0.056]}\n"
     ]
    }
   ],
   "source": [
    "# Extracting the unique values out of the plate arragements\n",
    "samples = plate_arr.values.flatten()\n",
    "samples = np.unique(samples.astype(str)) \n",
    "samples = np.delete(samples, np.where(samples == 'nan'))\n",
    "print(f'Total number of unique samples in dataset: {len(samples)-3}')\n",
    "# After extracting the unique values, it is possible to create a disctionary where each sample is matched with the corresponding absorbance measure\n",
    "sample_dict = {}\n",
    "for sample in samples:\n",
    "    coordinates = np.array(np.where(plate_arr == sample)).T\n",
    "    for i, coord in enumerate(coordinates):\n",
    "        sample_name = sample + '_r' + str(i)\n",
    "        sample_dict[sample_name] = [measurement[coord[1]][coord[0]] for measurement in abs_df['abs_measurements']]\n",
    "print(sample_dict)"
   ]
  },
  {
   "cell_type": "code",
   "execution_count": 8,
   "id": "2e736f12",
   "metadata": {},
   "outputs": [
    {
     "name": "stdout",
     "output_type": "stream",
     "text": [
      "   sample  Dilution(%)  OD (raw)  OD (stadardized)\n",
      "0      14          2.5     0.136             0.072\n",
      "1      15          2.5     0.118             0.054\n",
      "2      18          2.5     0.131             0.067\n",
      "3      20          2.5     0.134             0.070\n",
      "4      26          2.5     0.130             0.066\n",
      "5      27          2.5     0.117             0.053\n",
      "6      34          2.5     0.132             0.068\n",
      "7      35          2.5     0.142             0.078\n",
      "8       6          2.5     0.136             0.072\n",
      "9      10          2.5     0.123             0.059\n",
      "10     11          2.5     0.139             0.075\n",
      "11     16          2.5     0.106             0.042\n",
      "12     21          2.5     0.164             0.100\n",
      "13      B          2.5     0.064             0.000\n"
     ]
    }
   ],
   "source": [
    "# The final dataframe that needs to be loaded are the OD measures for each sample\n",
    "\n",
    "OD_measures = pd.read_csv('OD_standerdized.csv', sep=',')\n",
    "print(OD_measures)\n"
   ]
  },
  {
   "cell_type": "markdown",
   "id": "3f291d90",
   "metadata": {},
   "source": [
    "# Step 2: Filtering and correcting the data for the baseline absorbance\n",
    "\n",
    "The data currently stored in sample_dict cannot be used yet. The following data preprocessing steps need to be taken first:\n",
    "\n",
    "1. Subtract the baseline absorbance\n",
    "2. Remove any values above the 10nmol standard. "
   ]
  },
  {
   "cell_type": "code",
   "execution_count": 9,
   "id": "483cc8b8",
   "metadata": {},
   "outputs": [
    {
     "name": "stdout",
     "output_type": "stream",
     "text": [
      "{'#06_r0': array([0.0095, 0.009 , 0.009 , 0.009 , 0.009 , 0.009 , 0.009 , 0.009 ,\n",
      "       0.009 , 0.009 , 0.009 , 0.009 , 0.009 , 0.009 , 0.009 ]), '#06_r1': array([0.0115, 0.016 , 0.019 , 0.022 , 0.024 , 0.027 , 0.029 , 0.032 ,\n",
      "       0.034 , 0.037 , 0.039 , 0.042 , 0.045 , 0.048 , 0.077 ]), '#06_r2': array([0.0095, 0.008 , 0.008 , 0.009 , 0.008 , 0.008 , 0.008 , 0.008 ,\n",
      "       0.008 , 0.008 , 0.008 , 0.008 , 0.008 , 0.008 , 0.009 ]), '#10_r0': array([0.0145, 0.023 , 0.028 , 0.033 , 0.037 , 0.043 , 0.049 , 0.054 ,\n",
      "       0.06  , 0.066 , 0.071 , 0.077 , 0.083 , 0.091 , 0.158 ]), '#10_r1': array([0.0125, 0.021 , 0.026 , 0.031 , 0.036 , 0.041 , 0.047 , 0.052 ,\n",
      "       0.058 , 0.064 , 0.07  , 0.076 , 0.082 , 0.089 , 0.157 ]), '#10_r2': array([0.0325, 0.029 , 0.031 , 0.034 , 0.037 , 0.042 , 0.047 , 0.052 ,\n",
      "       0.058 , 0.064 , 0.07  , 0.075 , 0.081 , 0.089 , 0.158 ]), '#11_r0': array([0.0105, 0.011 , 0.011 , 0.011 , 0.011 , 0.011 , 0.011 , 0.011 ,\n",
      "       0.011 , 0.011 , 0.011 , 0.011 , 0.011 , 0.011 , 0.012 ]), '#11_r1': array([0.0115, 0.019 , 0.022 , 0.026 , 0.029 , 0.033 , 0.036 , 0.04  ,\n",
      "       0.043 , 0.046 , 0.05  , 0.053 , 0.056 , 0.061 , 0.098 ]), '#11_r2': array([0.0105, 0.01  , 0.011 , 0.011 , 0.01  , 0.01  , 0.01  , 0.01  ,\n",
      "       0.01  , 0.01  , 0.01  , 0.01  , 0.01  , 0.01  , 0.011 ]), '#14_r0': array([0.0105, 0.009 , 0.009 , 0.009 , 0.009 , 0.009 , 0.009 , 0.009 ,\n",
      "       0.009 , 0.009 , 0.009 , 0.009 , 0.009 , 0.009 , 0.009 ]), '#14_r1': array([0.0115, 0.01  , 0.01  , 0.01  , 0.01  , 0.01  , 0.01  , 0.01  ,\n",
      "       0.01  , 0.01  , 0.01  , 0.01  , 0.01  , 0.01  , 0.011 ]), '#14_r2': array([0.0175, 0.012 , 0.011 , 0.01  , 0.009 , 0.009 , 0.009 , 0.009 ,\n",
      "       0.009 , 0.008 , 0.008 , 0.008 , 0.008 , 0.008 , 0.009 ]), '#15_r0': array([0.0065, 0.006 , 0.006 , 0.006 , 0.006 , 0.006 , 0.006 , 0.006 ,\n",
      "       0.006 , 0.006 , 0.006 , 0.006 , 0.006 , 0.006 , 0.007 ]), '#15_r1': array([0.0195, 0.021 , 0.019 , 0.019 , 0.02  , 0.02  , 0.021 , 0.021 ,\n",
      "       0.02  , 0.021 , 0.021 , 0.022 , 0.021 , 0.021 , 0.022 ]), '#15_r2': array([0.0095, 0.008 , 0.008 , 0.008 , 0.008 , 0.008 , 0.008 , 0.008 ,\n",
      "       0.008 , 0.008 , 0.008 , 0.008 , 0.008 , 0.009 , 0.009 ]), '#16_r0': array([0.0085, 0.008 , 0.008 , 0.008 , 0.008 , 0.008 , 0.008 , 0.008 ,\n",
      "       0.008 , 0.008 , 0.009 , 0.009 , 0.009 , 0.009 , 0.009 ]), '#16_r1': array([0.0095, 0.01  , 0.01  , 0.01  , 0.01  , 0.01  , 0.01  , 0.01  ,\n",
      "       0.01  , 0.01  , 0.011 , 0.011 , 0.011 , 0.011 , 0.011 ]), '#16_r2': array([0.0105, 0.01  , 0.01  , 0.01  , 0.01  , 0.01  , 0.01  , 0.01  ,\n",
      "       0.01  , 0.01  , 0.01  , 0.01  , 0.01  , 0.01  , 0.01  ]), '#18_r0': array([0.0085, 0.008 , 0.008 , 0.009 , 0.008 , 0.008 , 0.008 , 0.008 ,\n",
      "       0.008 , 0.008 , 0.008 , 0.008 , 0.008 , 0.008 , 0.008 ]), '#18_r1': array([0.0115, 0.01  , 0.01  , 0.01  , 0.01  , 0.01  , 0.01  , 0.01  ,\n",
      "       0.01  , 0.01  , 0.01  , 0.01  , 0.01  , 0.01  , 0.01  ]), '#18_r2': array([0.0095, 0.009 , 0.009 , 0.009 , 0.009 , 0.009 , 0.009 , 0.009 ,\n",
      "       0.009 , 0.009 , 0.009 , 0.009 , 0.009 , 0.009 , 0.01  ]), '#20_r0': array([0.0105, 0.011 , 0.011 , 0.011 , 0.011 , 0.011 , 0.011 , 0.011 ,\n",
      "       0.011 , 0.011 , 0.011 , 0.011 , 0.011 , 0.011 , 0.011 ]), '#20_r1': array([0.0435, 0.194 , 0.263 , 0.336 , 0.389 , 0.444 , 0.497 , 0.543 ,\n",
      "       0.591 , 0.633 , 0.673 , 0.714 , 0.748 , 0.791 , 0.959 ]), '#20_r2': array([0.0115, 0.011 , 0.011 , 0.011 , 0.011 , 0.011 , 0.011 , 0.011 ,\n",
      "       0.011 , 0.011 , 0.011 , 0.011 , 0.011 , 0.011 , 0.011 ]), '#21_r0': array([0.0085, 0.008 , 0.009 , 0.009 , 0.01  , 0.01  , 0.011 , 0.012 ,\n",
      "       0.012 , 0.013 , 0.013 , 0.014 , 0.015 , 0.015 , 0.023 ]), '#21_r1': array([0.0095, 0.009 , 0.01  , 0.01  , 0.011 , 0.011 , 0.012 , 0.012 ,\n",
      "       0.013 , 0.013 , 0.014 , 0.015 , 0.015 , 0.016 , 0.024 ]), '#21_r2': array([0.0635, 0.043 , 0.036 , 0.028 , 0.024 , 0.012 , 0.013 , 0.013 ,\n",
      "       0.014 , 0.014 , 0.015 , 0.015 , 0.016 , 0.017 , 0.024 ]), '#26_r0': array([0.0125, 0.013 , 0.013 , 0.014 , 0.015 , 0.016 , 0.017 , 0.017 ,\n",
      "       0.018 , 0.019 , 0.02  , 0.021 , 0.023 , 0.024 , 0.038 ]), '#26_r1': array([0.0095, 0.01  , 0.01  , 0.011 , 0.012 , 0.013 , 0.014 , 0.014 ,\n",
      "       0.015 , 0.016 , 0.017 , 0.018 , 0.019 , 0.021 , 0.033 ]), '#26_r2': array([0.0115, 0.012 , 0.013 , 0.015 , 0.015 , 0.016 , 0.017 , 0.018 ,\n",
      "       0.019 , 0.02  , 0.021 , 0.022 , 0.023 , 0.025 , 0.038 ]), '#27_r0': array([0.0245, 0.041 , 0.05  , 0.06  , 0.068 , 0.077 , 0.087 , 0.096 ,\n",
      "       0.107 , 0.116 , 0.126 , 0.136 , 0.146 , 0.159 , 0.272 ]), '#27_r1': array([0.0215, 0.037 , 0.046 , 0.056 , 0.064 , 0.073 , 0.083 , 0.092 ,\n",
      "       0.102 , 0.112 , 0.121 , 0.132 , 0.141 , 0.154 , 0.267 ]), '#27_r2': array([0.0225, 0.039 , 0.048 , 0.058 , 0.066 , 0.075 , 0.085 , 0.094 ,\n",
      "       0.104 , 0.114 , 0.124 , 0.134 , 0.144 , 0.157 , 0.27  ]), '#34_r0': array([0.0115, 0.011 , 0.012 , 0.013 , 0.014 , 0.015 , 0.016 , 0.017 ,\n",
      "       0.018 , 0.019 , 0.02  , 0.022 , 0.023 , 0.025 , 0.041 ]), '#34_r1': array([0.0095, 0.01  , 0.01  , 0.011 , 0.012 , 0.013 , 0.014 , 0.015 ,\n",
      "       0.015 , 0.016 , 0.017 , 0.019 , 0.02  , 0.021 , 0.036 ]), '#34_r2': array([0.0115, 0.011 , 0.012 , 0.013 , 0.013 , 0.014 , 0.015 , 0.016 ,\n",
      "       0.017 , 0.017 , 0.018 , 0.019 , 0.02  , 0.022 , 0.035 ]), '#35_r0': array([0.0105, 0.011 , 0.011 , 0.013 , 0.014 , 0.015 , 0.016 , 0.017 ,\n",
      "       0.018 , 0.018 , 0.02  , 0.021 , 0.022 , 0.023 , 0.038 ]), '#35_r1': array([0.0105, 0.01  , 0.011 , 0.012 , 0.012 , 0.014 , 0.014 , 0.015 ,\n",
      "       0.016 , 0.018 , 0.018 , 0.019 , 0.021 , 0.022 , 0.036 ]), '#35_r2': array([0.0145, 0.015 , 0.015 , 0.016 , 0.017 , 0.018 , 0.019 , 0.02  ,\n",
      "       0.021 , 0.022 , 0.023 , 0.024 , 0.025 , 0.027 , 0.04  ]), '10nmol_r0': array([0.4255, 0.448 , 0.456 , 0.459 , 0.461 , 0.462 , 0.462 , 0.462 ,\n",
      "       0.463 , 0.463 , 0.463 , 0.464 , 0.464 , 0.464 , 0.466 ]), '10nmol_r1': array([0.4475, 0.468 , 0.475 , 0.477 , 0.479 , 0.479 , 0.48  , 0.481 ,\n",
      "       0.481 , 0.481 , 0.482 , 0.482 , 0.482 , 0.483 , 0.485 ]), '2nmol_r0': array([0.0895, 0.092 , 0.094 , 0.094 , 0.095 , 0.095 , 0.095 , 0.095 ,\n",
      "       0.095 , 0.095 , 0.095 , 0.095 , 0.095 , 0.095 , 0.096 ]), '2nmol_r1': array([0.0965, 0.1   , 0.101 , 0.102 , 0.102 , 0.103 , 0.103 , 0.103 ,\n",
      "       0.103 , 0.103 , 0.103 , 0.103 , 0.103 , 0.103 , 0.104 ]), 'BLANK_r0': array([0.0005, 0.    , 0.    , 0.    , 0.    , 0.    , 0.    , 0.    ,\n",
      "       0.    , 0.    , 0.    , 0.    , 0.    , 0.    , 0.    ]), 'BLANK_r1': array([-0.0005,  0.    ,  0.    ,  0.    ,  0.    ,  0.    ,  0.    ,\n",
      "        0.    ,  0.    ,  0.    ,  0.    ,  0.    ,  0.    ,  0.    ,\n",
      "        0.    ])}\n"
     ]
    }
   ],
   "source": [
    "# Determining the average baseline\n",
    "baseline = np.average([sample_dict['BLANK_r0'],sample_dict['BLANK_r1']], axis=0)\n",
    "\n",
    "# subtracting the baseline from the other samples\n",
    "for sample in sample_dict:\n",
    "    sample_dict[sample] = np.subtract(sample_dict[sample], baseline)\n",
    "\n",
    "print(sample_dict)"
   ]
  },
  {
   "cell_type": "code",
   "execution_count": 10,
   "id": "86c54285",
   "metadata": {},
   "outputs": [
    {
     "name": "stdout",
     "output_type": "stream",
     "text": [
      "Shortening the time series of sample #20_r1 to length 6\n"
     ]
    }
   ],
   "source": [
    "# Next up is checking whether there are any datapoints that show an obsorbance which is higher than the 10nmol \n",
    "# standard. Measurements above this standard are not reliable and thus cannot be used as input for the ART. \n",
    "# Measurements of the same sample taken before the sample exceeded the standard can still be used as training data \n",
    "# for the ART.\n",
    "\n",
    "def correct_sample_by_standard(standard, sample, sample_name):\n",
    "    rest = np.subtract(standard, sample)\n",
    "    corrected_sample = sample\n",
    "    for i, d_measurement in enumerate(rest):\n",
    "        if d_measurement < 0:\n",
    "            corrected_sample = sample[:i]\n",
    "            print(f'Shortening the time series of sample {sample_name} to length {len(corrected_sample)}')\n",
    "            break\n",
    "    return corrected_sample\n",
    "\n",
    "avg_10nmol_standard = np.average([sample_dict['10nmol_r0'],sample_dict['10nmol_r1']], axis=0)\n",
    "\n",
    "for sample, measurement in sample_dict.items():\n",
    "    if ('#' in sample): # Only check the actual samples and skip the standard and baseline measurements\n",
    "        sample_dict[sample] = correct_sample_by_standard(avg_10nmol_standard, measurement, sample)\n"
   ]
  },
  {
   "cell_type": "markdown",
   "id": "5564d541",
   "metadata": {},
   "source": [
    "# Step 3: Determine alpha-amylase activity of each sample\n",
    "\n",
    "The alpha-amylase activity of a sample is determined y the change in absorbance over time. This change in absorbance \n",
    "is linear with respect to time. Therefore, it is possible to fit a linear curve to each sample in order to abtain a function in the form of $absorbance = a*t+b$, where $a$ is the change in absorbance over time (i.e. the alpha-amylase activity), $t$ is the time and $b$ is some offset. \n",
    "\n",
    "Under perfect conditions, $b$ would be 0. However, preparing the samples takes some time. This means that at the time of the first measurement, some samples already had the time to **X** for about 15 minutes while others were only prepared one minute in advance. This means that $b$ will not be 0 for most of our samples.\n",
    "\n",
    "For our analysis, the exact value of $b$ is irrelevant as the main interest lies within the change in absobance (i.e. $a$). The value of $b$ is only needed in order to fit the linear curve better to the datapoints. Once the curve has been fitted, the $a$ value is used and interpreted as the alpha-amylase activity of the sample. "
   ]
  },
  {
   "cell_type": "code",
   "execution_count": 11,
   "id": "521e7ab4",
   "metadata": {},
   "outputs": [
    {
     "name": "stdout",
     "output_type": "stream",
     "text": [
      "The ydata of sample #06_r0: [0.0095 0.009  0.009  0.009  0.009  0.009  0.009  0.009  0.009  0.009\n",
      " 0.009  0.009  0.009  0.009  0.009 ]\n",
      "Sample #06_r1 fits the linear curve with an R^2 of 0.9991643891211567\n",
      "The ydata of sample #06_r2: [0.0095 0.008  0.008  0.009  0.008  0.008  0.008  0.008  0.008  0.008\n",
      " 0.008  0.008  0.008  0.008  0.009 ]\n",
      "Sample #10_r0 fits the linear curve with an R^2 of 0.9961603991092894\n",
      "Sample #10_r1 fits the linear curve with an R^2 of 0.9963388616499251\n",
      "Sample #10_r2 fits the linear curve with an R^2 of 0.9608470498519187\n",
      "The ydata of sample #11_r0: [0.0105 0.011  0.011  0.011  0.011  0.011  0.011  0.011  0.011  0.011\n",
      " 0.011  0.011  0.011  0.011  0.012 ]\n",
      "Sample #11_r1 fits the linear curve with an R^2 of 0.9994143522228782\n",
      "The ydata of sample #11_r2: [0.0105 0.01   0.011  0.011  0.01   0.01   0.01   0.01   0.01   0.01\n",
      " 0.01   0.01   0.01   0.01   0.011 ]\n",
      "The ydata of sample #14_r0: [0.0105 0.009  0.009  0.009  0.009  0.009  0.009  0.009  0.009  0.009\n",
      " 0.009  0.009  0.009  0.009  0.009 ]\n",
      "The ydata of sample #14_r1: [0.0115 0.01   0.01   0.01   0.01   0.01   0.01   0.01   0.01   0.01\n",
      " 0.01   0.01   0.01   0.01   0.011 ]\n",
      "The ydata of sample #14_r2: [0.0175 0.012  0.011  0.01   0.009  0.009  0.009  0.009  0.009  0.008\n",
      " 0.008  0.008  0.008  0.008  0.009 ]\n",
      "The ydata of sample #15_r0: [0.0065 0.006  0.006  0.006  0.006  0.006  0.006  0.006  0.006  0.006\n",
      " 0.006  0.006  0.006  0.006  0.007 ]\n",
      "The ydata of sample #15_r1: [0.0195 0.021  0.019  0.019  0.02   0.02   0.021  0.021  0.02   0.021\n",
      " 0.021  0.022  0.021  0.021  0.022 ]\n",
      "The ydata of sample #15_r2: [0.0095 0.008  0.008  0.008  0.008  0.008  0.008  0.008  0.008  0.008\n",
      " 0.008  0.008  0.008  0.009  0.009 ]\n",
      "The ydata of sample #16_r0: [0.0085 0.008  0.008  0.008  0.008  0.008  0.008  0.008  0.008  0.008\n",
      " 0.009  0.009  0.009  0.009  0.009 ]\n",
      "The ydata of sample #16_r1: [0.0095 0.01   0.01   0.01   0.01   0.01   0.01   0.01   0.01   0.01\n",
      " 0.011  0.011  0.011  0.011  0.011 ]\n",
      "The ydata of sample #16_r2: [0.0105 0.01   0.01   0.01   0.01   0.01   0.01   0.01   0.01   0.01\n",
      " 0.01   0.01   0.01   0.01   0.01  ]\n",
      "The ydata of sample #18_r0: [0.0085 0.008  0.008  0.009  0.008  0.008  0.008  0.008  0.008  0.008\n",
      " 0.008  0.008  0.008  0.008  0.008 ]\n",
      "The ydata of sample #18_r1: [0.0115 0.01   0.01   0.01   0.01   0.01   0.01   0.01   0.01   0.01\n",
      " 0.01   0.01   0.01   0.01   0.01  ]\n",
      "The ydata of sample #18_r2: [0.0095 0.009  0.009  0.009  0.009  0.009  0.009  0.009  0.009  0.009\n",
      " 0.009  0.009  0.009  0.009  0.01  ]\n",
      "The ydata of sample #20_r0: [0.0105 0.011  0.011  0.011  0.011  0.011  0.011  0.011  0.011  0.011\n",
      " 0.011  0.011  0.011  0.011  0.011 ]\n",
      "Sample #20_r1 fits the linear curve with an R^2 of 0.9980315386688146\n",
      "The ydata of sample #20_r2: [0.0115 0.011  0.011  0.011  0.011  0.011  0.011  0.011  0.011  0.011\n",
      " 0.011  0.011  0.011  0.011  0.011 ]\n",
      "Sample #21_r0 fits the linear curve with an R^2 of 0.9757790580519199\n",
      "Sample #21_r1 fits the linear curve with an R^2 of 0.9677300909352989\n",
      "The ydata of sample #21_r2: [0.0635 0.043  0.036  0.028  0.024  0.012  0.013  0.013  0.014  0.014\n",
      " 0.015  0.015  0.016  0.017  0.024 ]\n",
      "Sample #26_r0 fits the linear curve with an R^2 of 0.9653563176986353\n",
      "Sample #26_r1 fits the linear curve with an R^2 of 0.9741083527758839\n",
      "Sample #26_r2 fits the linear curve with an R^2 of 0.9875403889237027\n",
      "Sample #27_r0 fits the linear curve with an R^2 of 0.9981754342234114\n",
      "Sample #27_r1 fits the linear curve with an R^2 of 0.9979165391272021\n",
      "Sample #27_r2 fits the linear curve with an R^2 of 0.9981149701191296\n",
      "Sample #34_r0 fits the linear curve with an R^2 of 0.9685881669601898\n",
      "Sample #34_r1 fits the linear curve with an R^2 of 0.9646482709570571\n",
      "Sample #34_r2 fits the linear curve with an R^2 of 0.9598122281327575\n",
      "Sample #35_r0 fits the linear curve with an R^2 of 0.9806443215075106\n",
      "Sample #35_r1 fits the linear curve with an R^2 of 0.9673465065266547\n",
      "Sample #35_r2 fits the linear curve with an R^2 of 0.9793748561545693\n"
     ]
    },
    {
     "data": {
      "text/plain": [
       "<matplotlib.legend.Legend at 0x7f08a565b430>"
      ]
     },
     "execution_count": 11,
     "metadata": {},
     "output_type": "execute_result"
    },
    {
     "data": {
      "image/png": "[encoded data removed]",
      "text/plain": [
       "<Figure size 432x288 with 1 Axes>"
      ]
     },
     "metadata": {
      "needs_background": "light"
     },
     "output_type": "display_data"
    }
   ],
   "source": [
    "\n",
    "# Defining a linear curve\n",
    "def linear_curve(x, a, b):\n",
    "    return a * x + b\n",
    "\n",
    "# Calculating R^2. For an explanation, see https://stackoverflow.com/questions/19189362/getting-the-r-squared-value-using-curve-fit\n",
    "def determine_R2(xdata, ydata, popt):\n",
    "    residuals = ydata - linear_curve(xdata, *popt)\n",
    "    ss_res = np.sum(residuals**2)\n",
    "    ss_tot = np.sum((ydata-np.mean(ydata))**2)\n",
    "    r_squared = 1 - (ss_res / ss_tot)\n",
    "    return r_squared\n",
    "\n",
    "activity_dict={}\n",
    "for sample in sample_dict:\n",
    "    if ('#' in sample): # Only analize the samples and not the standards\n",
    "        ydata = sample_dict[sample]\n",
    "        xdata = abs_df['absolute_diff'][:len(ydata)] # As some samples might have been corrected for exceeding the standard, the length of the xdata might need to be shortened as well for that perticular sample\n",
    "        popt, pcov = curve_fit(linear_curve, xdata, ydata)\n",
    "        a, b = popt\n",
    "        activity_dict[sample] = a # As explaine above, the slope of the curve is anagolous to the activity of the sample\n",
    "        R_squared = determine_R2(xdata, ydata, popt)\n",
    "\n",
    "        # The R^2 value represents how well the y-value can be explained by the x-value by some function f(). In this case,\n",
    "        # the f() function is a first order polynomial (i.e. a linear curve) in the form of f(x)=y=a*x+b. The downside of using \n",
    "        # the R^2 value for representing the fit to a linear curve, is that is there is no slope (i.e. a=0), the R^2 value is 0\n",
    "        # as well. Therefore, all absorbance measures that have a R^2 value of less than 0.95 need to be manually verified on whether\n",
    "        # they are in fact linear curves. \n",
    "        if R_squared < 0.95: \n",
    "            plt.plot(xdata, ydata, label=sample)\n",
    "            #print(f'R^2 value of sample {sample}: {R_squared}')\n",
    "            print(f'The ydata of sample {sample}: {ydata}')\n",
    "        else:\n",
    "            print(f'Sample {sample} fits the linear curve with an R^2 of {R_squared}')\n",
    "plt.legend()"
   ]
  },
  {
   "cell_type": "markdown",
   "id": "1cfba62d",
   "metadata": {},
   "source": [
    "Based on the figure created in the cell above, it should be possible to locate any sample that does not show the expected linear behavior. In order to exclude this sample, along with other replicates of the same sample, enter the name of this sample in the in the cell below"
   ]
  },
  {
   "cell_type": "code",
   "execution_count": 12,
   "id": "d42838ec",
   "metadata": {},
   "outputs": [
    {
     "name": "stdout",
     "output_type": "stream",
     "text": [
      "Samples in dictionary before removal: dict_keys(['#06_r0', '#06_r1', '#06_r2', '#10_r0', '#10_r1', '#10_r2', '#11_r0', '#11_r1', '#11_r2', '#14_r0', '#14_r1', '#14_r2', '#15_r0', '#15_r1', '#15_r2', '#16_r0', '#16_r1', '#16_r2', '#18_r0', '#18_r1', '#18_r2', '#20_r0', '#20_r1', '#20_r2', '#21_r0', '#21_r1', '#21_r2', '#26_r0', '#26_r1', '#26_r2', '#27_r0', '#27_r1', '#27_r2', '#34_r0', '#34_r1', '#34_r2', '#35_r0', '#35_r1', '#35_r2'])\n",
      "Samples in dictionary after removal: dict_keys(['#06_r0', '#06_r1', '#06_r2', '#10_r0', '#10_r1', '#10_r2', '#11_r0', '#11_r1', '#11_r2', '#14_r0', '#14_r1', '#14_r2', '#15_r0', '#15_r1', '#15_r2', '#16_r0', '#16_r1', '#16_r2', '#18_r0', '#18_r1', '#18_r2', '#20_r0', '#20_r1', '#20_r2', '#21_r0', '#21_r1', '#21_r2', '#26_r0', '#26_r1', '#26_r2', '#27_r0', '#27_r1', '#27_r2', '#34_r0', '#34_r1', '#34_r2', '#35_r0', '#35_r1', '#35_r2'])\n"
     ]
    }
   ],
   "source": [
    "\n",
    "samples_to_exclude = [] # for example: ['#26', '#17'] in order to exclude all replicates of samples 26 and 17\n",
    "\n",
    "\n",
    "print(f'Samples in dictionary before removal: {activity_dict.keys()}')\n",
    "for sample in samples_to_exclude:\n",
    "    activity_dict = dict(filter(lambda elem: sample not in elem[0], activity_dict.items()))\n",
    "print(f'Samples in dictionary after removal: {activity_dict.keys()}')"
   ]
  },
  {
   "cell_type": "markdown",
   "id": "0a559c03",
   "metadata": {},
   "source": [
    "# Step 4: Correcting for OD\n",
    "\n",
    "The starting conditions of the overnight cultures were not completely equal across all samples. In order to prevent samples that started their overnight cultures with a higher cell count from yielding the best results, it is necesarry to first account for the number of cells in each sample. The Optical Density (OD) of the sample before **X** was used as a proxy for this cell count. Under the assumption that there is a linear relation between cell count, OD and alpha-amylase activity, the alpha-amylase activity per cell unit can be derived by deviding the overall alpha-amylase activity of a sample with the OD of that sample. \n",
    "\n",
    "Another issue is that the linearity of the OD with respect to the number of cells no longer holds after the sample has reached an OD of **X** and values onder a **Y** contain a substantial about of measuring error. Therefore, each sample was diluted to either 2.5%, 1% or .5% depending on which level of dilution yielded an OD between **X** and **Y**. \n",
    "\n",
    "Therefore, the first step is to determine how many cell units there were in the original sample by deviding the measured OD over the concentration of the diluted mixture. Afterwards, the alpha-amylase activity per cell unit is determined by deviding the total alpha-amylase activity of a sample over the number of cell units within that sample."
   ]
  },
  {
   "cell_type": "code",
   "execution_count": 13,
   "id": "ca66ae7b",
   "metadata": {},
   "outputs": [
    {
     "name": "stdout",
     "output_type": "stream",
     "text": [
      "   sample  Dilution(%)  OD (raw)  OD (stadardized)  cell_units\n",
      "0      14          2.5     0.136             0.072        2.88\n",
      "1      15          2.5     0.118             0.054        2.16\n",
      "2      18          2.5     0.131             0.067        2.68\n",
      "3      20          2.5     0.134             0.070        2.80\n",
      "4      26          2.5     0.130             0.066        2.64\n",
      "5      27          2.5     0.117             0.053        2.12\n",
      "6      34          2.5     0.132             0.068        2.72\n",
      "7      35          2.5     0.142             0.078        3.12\n",
      "8       6          2.5     0.136             0.072        2.88\n",
      "9      10          2.5     0.123             0.059        2.36\n",
      "10     11          2.5     0.139             0.075        3.00\n",
      "11     16          2.5     0.106             0.042        1.68\n",
      "12     21          2.5     0.164             0.100        4.00\n",
      "13      B          2.5     0.064             0.000        0.00\n"
     ]
    }
   ],
   "source": [
    "OD_measures['cell_units'] = OD_measures['OD (stadardized)']/(OD_measures['Dilution(%)']/100)\n",
    "print(OD_measures)"
   ]
  },
  {
   "cell_type": "code",
   "execution_count": 14,
   "id": "8b04644a",
   "metadata": {},
   "outputs": [
    {
     "name": "stdout",
     "output_type": "stream",
     "text": [
      "{'#06_r0': -5.621981153621963e-07, '#06_r1': 0.00017744170968098615, '#06_r2': -1.430439239372598e-07, '#10_r0': 0.00047690144726654586, '#10_r1': 0.0004804840441421956, '#10_r2': 0.0004390619198226658, '#11_r0': 2.5740025726084024e-06, '#11_r1': 0.00022416177257859196, '#11_r2': 2.698560231429265e-07, '#14_r0': -1.6865942773833861e-06, '#14_r1': 4.3246015344752374e-07, '#14_r2': -1.6120782226548693e-05, '#15_r0': 2.075808502840601e-06, '#15_r1': 1.0010897496146723e-05, '#15_r2': 1.4725823350282209e-06, '#16_r0': 5.993611728607435e-06, '#16_r1': 7.921148493576555e-06, '#16_r2': -9.637681977637645e-07, '#18_r0': -1.2226054949776185e-06, '#18_r1': -1.8124595219642357e-06, '#18_r2': 1.6730396522249872e-06, '#20_r0': 5.782611455939328e-07, '#20_r1': 0.0045341654510349235, '#20_r2': -5.78260918658259e-07, '#21_r0': 2.9592247338340344e-05, '#21_r1': 2.9128783187575377e-05, '#21_r2': -5.8753365116548837e-05, '#26_r0': 7.590491459882144e-05, '#26_r1': 7.068454636108722e-05, '#26_r2': 7.908032101756219e-05, '#27_r0': 0.0009126296718291375, '#27_r1': 0.0009060972011447383, '#27_r2': 0.0009125641430402305, '#34_r0': 8.688632368825638e-05, '#34_r1': 7.628244122185723e-05, '#34_r2': 6.827801542468437e-05, '#35_r0': 6.926782669257503e-05, '#35_r1': 6.575031383635401e-05, '#35_r2': 6.564590937144345e-05}\n"
     ]
    },
    {
     "data": {
      "text/plain": [
       "([0,\n",
       "  1,\n",
       "  2,\n",
       "  3,\n",
       "  4,\n",
       "  5,\n",
       "  6,\n",
       "  7,\n",
       "  8,\n",
       "  9,\n",
       "  10,\n",
       "  11,\n",
       "  12,\n",
       "  13,\n",
       "  14,\n",
       "  15,\n",
       "  16,\n",
       "  17,\n",
       "  18,\n",
       "  19,\n",
       "  20,\n",
       "  21,\n",
       "  22,\n",
       "  23,\n",
       "  24,\n",
       "  25,\n",
       "  26,\n",
       "  27,\n",
       "  28,\n",
       "  29,\n",
       "  30,\n",
       "  31,\n",
       "  32,\n",
       "  33,\n",
       "  34,\n",
       "  35,\n",
       "  36,\n",
       "  37,\n",
       "  38],\n",
       " [Text(0, 0, ''),\n",
       "  Text(0, 0, ''),\n",
       "  Text(0, 0, ''),\n",
       "  Text(0, 0, ''),\n",
       "  Text(0, 0, ''),\n",
       "  Text(0, 0, ''),\n",
       "  Text(0, 0, ''),\n",
       "  Text(0, 0, ''),\n",
       "  Text(0, 0, ''),\n",
       "  Text(0, 0, ''),\n",
       "  Text(0, 0, ''),\n",
       "  Text(0, 0, ''),\n",
       "  Text(0, 0, ''),\n",
       "  Text(0, 0, ''),\n",
       "  Text(0, 0, ''),\n",
       "  Text(0, 0, ''),\n",
       "  Text(0, 0, ''),\n",
       "  Text(0, 0, ''),\n",
       "  Text(0, 0, ''),\n",
       "  Text(0, 0, ''),\n",
       "  Text(0, 0, ''),\n",
       "  Text(0, 0, ''),\n",
       "  Text(0, 0, ''),\n",
       "  Text(0, 0, ''),\n",
       "  Text(0, 0, ''),\n",
       "  Text(0, 0, ''),\n",
       "  Text(0, 0, ''),\n",
       "  Text(0, 0, ''),\n",
       "  Text(0, 0, ''),\n",
       "  Text(0, 0, ''),\n",
       "  Text(0, 0, ''),\n",
       "  Text(0, 0, ''),\n",
       "  Text(0, 0, ''),\n",
       "  Text(0, 0, ''),\n",
       "  Text(0, 0, ''),\n",
       "  Text(0, 0, ''),\n",
       "  Text(0, 0, ''),\n",
       "  Text(0, 0, ''),\n",
       "  Text(0, 0, '')])"
      ]
     },
     "execution_count": 14,
     "metadata": {},
     "output_type": "execute_result"
    },
    {
     "data": {
      "image/png": "[encoded data removed]",
      "text/plain": [
       "<Figure size 720x360 with 1 Axes>"
      ]
     },
     "metadata": {
      "needs_background": "light"
     },
     "output_type": "display_data"
    }
   ],
   "source": [
    "# In order to account for the un-equal cell counts at the beginning of the incubation period of each sample, the\n",
    "# activity for each replicate is divided by the number of cell units within the original sample. \n",
    "\n",
    "for sample in activity_dict:\n",
    "    sample_number = re.findall(r'^(?:#)(\\d\\d)', sample) # some RegEX for finding the sample number\n",
    "    if len(sample_number)>0:\n",
    "        sample_number = int(sample_number[0])\n",
    "        activity_dict[sample] = activity_dict[sample]/OD_measures.loc[OD_measures['sample']==str(sample_number)].iloc[0]['cell_units']\n",
    "\n",
    "print(activity_dict)\n",
    "\n",
    "fig, ax = plt.subplots(figsize=(10, 5))\n",
    "plt.bar(activity_dict.keys(), activity_dict.values())\n",
    "plt.xticks(rotation=90)"
   ]
  },
  {
   "cell_type": "markdown",
   "id": "472eac33",
   "metadata": {},
   "source": [
    "# Step 5: Match the strain name with the strain, promoter, secretion peptide and gene combination\n",
    "\n",
    "Once the activity of each sample has been determined, this activity needs to be matched to combination of parts used for creating the sample. The end result is a file in which can be directly used by the ART pipeline.  "
   ]
  },
  {
   "cell_type": "code",
   "execution_count": 25,
   "id": "35b6936d",
   "metadata": {},
   "outputs": [
    {
     "name": "stdout",
     "output_type": "stream",
     "text": [
      "   Line name Replicate  activity  str_idx  pro_idx  sec_idx  gen_idx\n",
      "15       #06        r0 -0.000001        2       11       17       19\n",
      "   Line name Replicate  activity  str_idx  pro_idx  sec_idx  gen_idx\n",
      "16       #06        r1  0.000177        2       11       17       19\n",
      "   Line name Replicate activity  str_idx  pro_idx  sec_idx  gen_idx\n",
      "17       #06        r2     -0.0        2       11       17       19\n",
      "   Line name Replicate  activity  str_idx  pro_idx  sec_idx  gen_idx\n",
      "27       #10        r0  0.000477        2        8       16       22\n",
      "   Line name Replicate activity  str_idx  pro_idx  sec_idx  gen_idx\n",
      "28       #10        r1  0.00048        2        8       16       22\n",
      "   Line name Replicate  activity  str_idx  pro_idx  sec_idx  gen_idx\n",
      "29       #10        r2  0.000439        2        8       16       22\n",
      "   Line name Replicate  activity  str_idx  pro_idx  sec_idx  gen_idx\n",
      "30       #11        r0  0.000003        2        5       15       21\n",
      "   Line name Replicate  activity  str_idx  pro_idx  sec_idx  gen_idx\n",
      "31       #11        r1  0.000224        2        5       15       21\n",
      "   Line name Replicate activity  str_idx  pro_idx  sec_idx  gen_idx\n",
      "32       #11        r2      0.0        2        5       15       21\n",
      "   Line name Replicate  activity  str_idx  pro_idx  sec_idx  gen_idx\n",
      "39       #14        r0 -0.000002        1       14       16       20\n",
      "   Line name Replicate activity  str_idx  pro_idx  sec_idx  gen_idx\n",
      "40       #14        r1      0.0        1       14       16       20\n",
      "   Line name Replicate  activity  str_idx  pro_idx  sec_idx  gen_idx\n",
      "41       #14        r2 -0.000016        1       14       16       20\n",
      "   Line name Replicate  activity  str_idx  pro_idx  sec_idx  gen_idx\n",
      "42       #15        r0  0.000002        1        6       18       19\n",
      "   Line name Replicate activity  str_idx  pro_idx  sec_idx  gen_idx\n",
      "43       #15        r1  0.00001        1        6       18       19\n",
      "   Line name Replicate  activity  str_idx  pro_idx  sec_idx  gen_idx\n",
      "44       #15        r2  0.000001        1        6       18       19\n",
      "   Line name Replicate  activity  str_idx  pro_idx  sec_idx  gen_idx\n",
      "45       #16        r0  0.000006        2       13       15       21\n",
      "   Line name Replicate  activity  str_idx  pro_idx  sec_idx  gen_idx\n",
      "46       #16        r1  0.000008        2       13       15       21\n",
      "   Line name Replicate  activity  str_idx  pro_idx  sec_idx  gen_idx\n",
      "47       #16        r2 -0.000001        2       13       15       21\n",
      "   Line name Replicate  activity  str_idx  pro_idx  sec_idx  gen_idx\n",
      "51       #18        r0 -0.000001        1       13       18       20\n",
      "   Line name Replicate  activity  str_idx  pro_idx  sec_idx  gen_idx\n",
      "52       #18        r1 -0.000002        1       13       18       20\n",
      "   Line name Replicate  activity  str_idx  pro_idx  sec_idx  gen_idx\n",
      "53       #18        r2  0.000002        1       13       18       20\n",
      "   Line name Replicate  activity  str_idx  pro_idx  sec_idx  gen_idx\n",
      "57       #20        r0  0.000001        1       11       18       20\n",
      "   Line name Replicate  activity  str_idx  pro_idx  sec_idx  gen_idx\n",
      "58       #20        r1  0.004534        1       11       18       20\n",
      "   Line name Replicate  activity  str_idx  pro_idx  sec_idx  gen_idx\n",
      "59       #20        r2 -0.000001        1       11       18       20\n",
      "   Line name Replicate activity  str_idx  pro_idx  sec_idx  gen_idx\n",
      "60       #21        r0  0.00003        2       10       16       22\n",
      "   Line name Replicate  activity  str_idx  pro_idx  sec_idx  gen_idx\n",
      "61       #21        r1  0.000029        2       10       16       22\n",
      "   Line name Replicate  activity  str_idx  pro_idx  sec_idx  gen_idx\n",
      "62       #21        r2 -0.000059        2       10       16       22\n",
      "   Line name Replicate  activity  str_idx  pro_idx  sec_idx  gen_idx\n",
      "75       #26        r0  0.000076        1        8       16       21\n",
      "   Line name Replicate  activity  str_idx  pro_idx  sec_idx  gen_idx\n",
      "76       #26        r1  0.000071        1        8       16       21\n",
      "   Line name Replicate  activity  str_idx  pro_idx  sec_idx  gen_idx\n",
      "77       #26        r2  0.000079        1        8       16       21\n",
      "   Line name Replicate  activity  str_idx  pro_idx  sec_idx  gen_idx\n",
      "78       #27        r0  0.000913        1       11       15       22\n",
      "   Line name Replicate  activity  str_idx  pro_idx  sec_idx  gen_idx\n",
      "79       #27        r1  0.000906        1       11       15       22\n",
      "   Line name Replicate  activity  str_idx  pro_idx  sec_idx  gen_idx\n",
      "80       #27        r2  0.000913        1       11       15       22\n",
      "   Line name Replicate  activity  str_idx  pro_idx  sec_idx  gen_idx\n",
      "99       #34        r0  0.000087        1        7       16       21\n",
      "    Line name Replicate  activity  str_idx  pro_idx  sec_idx  gen_idx\n",
      "100       #34        r1  0.000076        1        7       16       21\n",
      "    Line name Replicate  activity  str_idx  pro_idx  sec_idx  gen_idx\n",
      "101       #34        r2  0.000068        1        7       16       21\n",
      "    Line name Replicate  activity  str_idx  pro_idx  sec_idx  gen_idx\n",
      "102       #35        r0  0.000069        1       10       17       21\n",
      "    Line name Replicate  activity  str_idx  pro_idx  sec_idx  gen_idx\n",
      "103       #35        r1  0.000066        1       10       17       21\n",
      "    Line name Replicate  activity  str_idx  pro_idx  sec_idx  gen_idx\n",
      "104       #35        r2  0.000066        1       10       17       21\n"
     ]
    }
   ],
   "source": [
    "os.chdir(cwd) # set the working directory back to the orignal one\n",
    "\n",
    "results = pd.read_csv('Sample_list.csv', sep=',') # load in the file contianing the link of the sample name to the various parts\n",
    "for sample in activity_dict:\n",
    "    line_name, replicate = sample.split('_')\n",
    "    \n",
    "    # Adding the measured activity to the results\n",
    "    results.loc[(results['Line name']==line_name) & (results['Replicate']==replicate), 'activity'] = activity_dict[sample]\n",
    "    print(results.loc[(results['Line name']==line_name) & (results['Replicate']==replicate)])\n",
    "# Write the results into the original file\n",
    "results.to_csv('Sample_list.csv', sep=',', index=False) "
   ]
  },
  {
   "cell_type": "code",
   "execution_count": 3,
   "id": "7a224ce5",
   "metadata": {},
   "outputs": [
    {
     "name": "stdout",
     "output_type": "stream",
     "text": [
      "  Line Name Replicate Count  measurement  str_idx  pro_idx  sec_idx  gen_idx\n",
      "0     SP001              r1     0.829131        2        6       16       22\n",
      "1     SP001              r2     0.333064        2        6       16       22\n",
      "2     SP001              r3     0.871142        2        6       16       22\n",
      "3     SP002              r1     0.937158        4       11       18       19\n",
      "4     SP002              r2     0.054991        4       11       18       19\n"
     ]
    },
    {
     "data": {
      "text/html": [
       "<div>\n",
       "<style scoped>\n",
       "    .dataframe tbody tr th:only-of-type {\n",
       "        vertical-align: middle;\n",
       "    }\n",
       "\n",
       "    .dataframe tbody tr th {\n",
       "        vertical-align: top;\n",
       "    }\n",
       "\n",
       "    .dataframe thead th {\n",
       "        text-align: right;\n",
       "    }\n",
       "</style>\n",
       "<table border=\"1\" class=\"dataframe\">\n",
       "  <thead>\n",
       "    <tr style=\"text-align: right;\">\n",
       "      <th></th>\n",
       "      <th>Line Name</th>\n",
       "      <th>measurement</th>\n",
       "      <th>str_idx</th>\n",
       "      <th>pro_idx</th>\n",
       "      <th>sec_idx</th>\n",
       "      <th>gen_idx</th>\n",
       "    </tr>\n",
       "  </thead>\n",
       "  <tbody>\n",
       "    <tr>\n",
       "      <th>0</th>\n",
       "      <td>SP001-r1</td>\n",
       "      <td>0.829131</td>\n",
       "      <td>2</td>\n",
       "      <td>6</td>\n",
       "      <td>16</td>\n",
       "      <td>22</td>\n",
       "    </tr>\n",
       "    <tr>\n",
       "      <th>1</th>\n",
       "      <td>SP001-r2</td>\n",
       "      <td>0.333064</td>\n",
       "      <td>2</td>\n",
       "      <td>6</td>\n",
       "      <td>16</td>\n",
       "      <td>22</td>\n",
       "    </tr>\n",
       "    <tr>\n",
       "      <th>2</th>\n",
       "      <td>SP001-r3</td>\n",
       "      <td>0.871142</td>\n",
       "      <td>2</td>\n",
       "      <td>6</td>\n",
       "      <td>16</td>\n",
       "      <td>22</td>\n",
       "    </tr>\n",
       "    <tr>\n",
       "      <th>3</th>\n",
       "      <td>SP002-r1</td>\n",
       "      <td>0.937158</td>\n",
       "      <td>4</td>\n",
       "      <td>11</td>\n",
       "      <td>18</td>\n",
       "      <td>19</td>\n",
       "    </tr>\n",
       "    <tr>\n",
       "      <th>4</th>\n",
       "      <td>SP002-r2</td>\n",
       "      <td>0.054991</td>\n",
       "      <td>4</td>\n",
       "      <td>11</td>\n",
       "      <td>18</td>\n",
       "      <td>19</td>\n",
       "    </tr>\n",
       "  </tbody>\n",
       "</table>\n",
       "</div>"
      ],
      "text/plain": [
       "  Line Name  measurement  str_idx  pro_idx  sec_idx  gen_idx\n",
       "0  SP001-r1     0.829131        2        6       16       22\n",
       "1  SP001-r2     0.333064        2        6       16       22\n",
       "2  SP001-r3     0.871142        2        6       16       22\n",
       "3  SP002-r1     0.937158        4       11       18       19\n",
       "4  SP002-r2     0.054991        4       11       18       19"
      ]
     },
     "execution_count": 3,
     "metadata": {},
     "output_type": "execute_result"
    }
   ],
   "source": [
    "strains = pd.read_csv('mock_data.csv', sep=',')\n",
    "\n",
    "print(strains.head())\n",
    "\n",
    "#strains_art_oneh = strains.copy().loc[np.logical_or(strains['origin'] == 'lib', strains['origin'] == 'ctr')]\n",
    "\n",
    "strains[\"Line Name\"] = strains[\"Line Name\"] + \"-\" + strains[\"Replicate Count\"]\n",
    "\n",
    "strains = strains.loc[:,['Line Name','measurement','str_idx', 'pro_idx', 'sec_idx', 'gen_idx']]\n",
    "strains.head()"
   ]
  },
  {
   "cell_type": "code",
   "execution_count": 4,
   "id": "009357fc",
   "metadata": {},
   "outputs": [
    {
     "data": {
      "text/html": [
       "<div>\n",
       "<style scoped>\n",
       "    .dataframe tbody tr th:only-of-type {\n",
       "        vertical-align: middle;\n",
       "    }\n",
       "\n",
       "    .dataframe tbody tr th {\n",
       "        vertical-align: top;\n",
       "    }\n",
       "\n",
       "    .dataframe thead th {\n",
       "        text-align: right;\n",
       "    }\n",
       "</style>\n",
       "<table border=\"1\" class=\"dataframe\">\n",
       "  <thead>\n",
       "    <tr style=\"text-align: right;\">\n",
       "      <th></th>\n",
       "      <th>Line Name</th>\n",
       "      <th>measurement</th>\n",
       "      <th>str_idx_1</th>\n",
       "      <th>str_idx_2</th>\n",
       "      <th>str_idx_3</th>\n",
       "      <th>str_idx_4</th>\n",
       "      <th>pro_idx_5</th>\n",
       "      <th>pro_idx_6</th>\n",
       "      <th>pro_idx_7</th>\n",
       "      <th>pro_idx_8</th>\n",
       "      <th>...</th>\n",
       "      <th>pro_idx_13</th>\n",
       "      <th>pro_idx_14</th>\n",
       "      <th>sec_idx_15</th>\n",
       "      <th>sec_idx_16</th>\n",
       "      <th>sec_idx_17</th>\n",
       "      <th>sec_idx_18</th>\n",
       "      <th>gen_idx_19</th>\n",
       "      <th>gen_idx_20</th>\n",
       "      <th>gen_idx_21</th>\n",
       "      <th>gen_idx_22</th>\n",
       "    </tr>\n",
       "  </thead>\n",
       "  <tbody>\n",
       "    <tr>\n",
       "      <th>0</th>\n",
       "      <td>SP001-r1</td>\n",
       "      <td>0.829131</td>\n",
       "      <td>0</td>\n",
       "      <td>1</td>\n",
       "      <td>0</td>\n",
       "      <td>0</td>\n",
       "      <td>0</td>\n",
       "      <td>1</td>\n",
       "      <td>0</td>\n",
       "      <td>0</td>\n",
       "      <td>...</td>\n",
       "      <td>0</td>\n",
       "      <td>0</td>\n",
       "      <td>0</td>\n",
       "      <td>1</td>\n",
       "      <td>0</td>\n",
       "      <td>0</td>\n",
       "      <td>0</td>\n",
       "      <td>0</td>\n",
       "      <td>0</td>\n",
       "      <td>1</td>\n",
       "    </tr>\n",
       "    <tr>\n",
       "      <th>1</th>\n",
       "      <td>SP001-r2</td>\n",
       "      <td>0.333064</td>\n",
       "      <td>0</td>\n",
       "      <td>1</td>\n",
       "      <td>0</td>\n",
       "      <td>0</td>\n",
       "      <td>0</td>\n",
       "      <td>1</td>\n",
       "      <td>0</td>\n",
       "      <td>0</td>\n",
       "      <td>...</td>\n",
       "      <td>0</td>\n",
       "      <td>0</td>\n",
       "      <td>0</td>\n",
       "      <td>1</td>\n",
       "      <td>0</td>\n",
       "      <td>0</td>\n",
       "      <td>0</td>\n",
       "      <td>0</td>\n",
       "      <td>0</td>\n",
       "      <td>1</td>\n",
       "    </tr>\n",
       "    <tr>\n",
       "      <th>2</th>\n",
       "      <td>SP001-r3</td>\n",
       "      <td>0.871142</td>\n",
       "      <td>0</td>\n",
       "      <td>1</td>\n",
       "      <td>0</td>\n",
       "      <td>0</td>\n",
       "      <td>0</td>\n",
       "      <td>1</td>\n",
       "      <td>0</td>\n",
       "      <td>0</td>\n",
       "      <td>...</td>\n",
       "      <td>0</td>\n",
       "      <td>0</td>\n",
       "      <td>0</td>\n",
       "      <td>1</td>\n",
       "      <td>0</td>\n",
       "      <td>0</td>\n",
       "      <td>0</td>\n",
       "      <td>0</td>\n",
       "      <td>0</td>\n",
       "      <td>1</td>\n",
       "    </tr>\n",
       "    <tr>\n",
       "      <th>3</th>\n",
       "      <td>SP002-r1</td>\n",
       "      <td>0.937158</td>\n",
       "      <td>0</td>\n",
       "      <td>0</td>\n",
       "      <td>0</td>\n",
       "      <td>1</td>\n",
       "      <td>0</td>\n",
       "      <td>0</td>\n",
       "      <td>0</td>\n",
       "      <td>0</td>\n",
       "      <td>...</td>\n",
       "      <td>0</td>\n",
       "      <td>0</td>\n",
       "      <td>0</td>\n",
       "      <td>0</td>\n",
       "      <td>0</td>\n",
       "      <td>1</td>\n",
       "      <td>1</td>\n",
       "      <td>0</td>\n",
       "      <td>0</td>\n",
       "      <td>0</td>\n",
       "    </tr>\n",
       "    <tr>\n",
       "      <th>4</th>\n",
       "      <td>SP002-r2</td>\n",
       "      <td>0.054991</td>\n",
       "      <td>0</td>\n",
       "      <td>0</td>\n",
       "      <td>0</td>\n",
       "      <td>1</td>\n",
       "      <td>0</td>\n",
       "      <td>0</td>\n",
       "      <td>0</td>\n",
       "      <td>0</td>\n",
       "      <td>...</td>\n",
       "      <td>0</td>\n",
       "      <td>0</td>\n",
       "      <td>0</td>\n",
       "      <td>0</td>\n",
       "      <td>0</td>\n",
       "      <td>1</td>\n",
       "      <td>1</td>\n",
       "      <td>0</td>\n",
       "      <td>0</td>\n",
       "      <td>0</td>\n",
       "    </tr>\n",
       "  </tbody>\n",
       "</table>\n",
       "<p>5 rows × 21 columns</p>\n",
       "</div>"
      ],
      "text/plain": [
       "  Line Name  measurement  str_idx_1  str_idx_2  str_idx_3  str_idx_4  \\\n",
       "0  SP001-r1     0.829131          0          1          0          0   \n",
       "1  SP001-r2     0.333064          0          1          0          0   \n",
       "2  SP001-r3     0.871142          0          1          0          0   \n",
       "3  SP002-r1     0.937158          0          0          0          1   \n",
       "4  SP002-r2     0.054991          0          0          0          1   \n",
       "\n",
       "   pro_idx_5  pro_idx_6  pro_idx_7  pro_idx_8  ...  pro_idx_13  pro_idx_14  \\\n",
       "0          0          1          0          0  ...           0           0   \n",
       "1          0          1          0          0  ...           0           0   \n",
       "2          0          1          0          0  ...           0           0   \n",
       "3          0          0          0          0  ...           0           0   \n",
       "4          0          0          0          0  ...           0           0   \n",
       "\n",
       "   sec_idx_15  sec_idx_16  sec_idx_17  sec_idx_18  gen_idx_19  gen_idx_20  \\\n",
       "0           0           1           0           0           0           0   \n",
       "1           0           1           0           0           0           0   \n",
       "2           0           1           0           0           0           0   \n",
       "3           0           0           0           1           1           0   \n",
       "4           0           0           0           1           1           0   \n",
       "\n",
       "   gen_idx_21  gen_idx_22  \n",
       "0           0           1  \n",
       "1           0           1  \n",
       "2           0           1  \n",
       "3           0           0  \n",
       "4           0           0  \n",
       "\n",
       "[5 rows x 21 columns]"
      ]
     },
     "execution_count": 4,
     "metadata": {},
     "output_type": "execute_result"
    }
   ],
   "source": [
    "strains_art_oneh = pd.get_dummies(data=strains, columns=['str_idx', 'pro_idx', 'sec_idx', 'gen_idx'])\n",
    "strains_art_oneh.head()"
   ]
  },
  {
   "cell_type": "code",
   "execution_count": 5,
   "id": "400ecb1c",
   "metadata": {},
   "outputs": [
    {
     "name": "stdout",
     "output_type": "stream",
     "text": [
      "['str_idx_1', 'str_idx_2', 'str_idx_3', 'str_idx_4', 'pro_idx_5', 'pro_idx_6', 'pro_idx_7', 'pro_idx_8', 'pro_idx_11', 'pro_idx_13', 'pro_idx_14', 'sec_idx_15', 'sec_idx_16', 'sec_idx_17', 'sec_idx_18', 'gen_idx_19', 'gen_idx_20', 'gen_idx_21', 'gen_idx_22']\n"
     ]
    }
   ],
   "source": [
    "# store the columnnames as parameter setting for ART\n",
    "colnames = strains_art_oneh.columns[2:].tolist()\n",
    "print(colnames)"
   ]
  },
  {
   "cell_type": "code",
   "execution_count": 6,
   "id": "0d5544bd",
   "metadata": {},
   "outputs": [
    {
     "name": "stdout",
     "output_type": "stream",
     "text": [
      "     Line Name      level_1         0\n",
      "0     SP001-r1  measurement  0.829131\n",
      "1     SP001-r1    str_idx_1  0.000000\n",
      "2     SP001-r1    str_idx_2  1.000000\n",
      "3     SP001-r1    str_idx_3  0.000000\n",
      "4     SP001-r1    str_idx_4  0.000000\n",
      "...        ...          ...       ...\n",
      "1135  SP019-r3   sec_idx_18  0.000000\n",
      "1136  SP019-r3   gen_idx_19  0.000000\n",
      "1137  SP019-r3   gen_idx_20  0.000000\n",
      "1138  SP019-r3   gen_idx_21  1.000000\n",
      "1139  SP019-r3   gen_idx_22  0.000000\n",
      "\n",
      "[1140 rows x 3 columns]\n"
     ]
    },
    {
     "data": {
      "text/html": [
       "<div>\n",
       "<style scoped>\n",
       "    .dataframe tbody tr th:only-of-type {\n",
       "        vertical-align: middle;\n",
       "    }\n",
       "\n",
       "    .dataframe tbody tr th {\n",
       "        vertical-align: top;\n",
       "    }\n",
       "\n",
       "    .dataframe thead th {\n",
       "        text-align: right;\n",
       "    }\n",
       "</style>\n",
       "<table border=\"1\" class=\"dataframe\">\n",
       "  <thead>\n",
       "    <tr style=\"text-align: right;\">\n",
       "      <th></th>\n",
       "      <th>Line Name</th>\n",
       "      <th>Measurement Type</th>\n",
       "      <th>Value</th>\n",
       "    </tr>\n",
       "  </thead>\n",
       "  <tbody>\n",
       "    <tr>\n",
       "      <th>0</th>\n",
       "      <td>SP001-r1</td>\n",
       "      <td>measurement</td>\n",
       "      <td>0.829131</td>\n",
       "    </tr>\n",
       "    <tr>\n",
       "      <th>1</th>\n",
       "      <td>SP001-r1</td>\n",
       "      <td>str_idx_1</td>\n",
       "      <td>0.000000</td>\n",
       "    </tr>\n",
       "    <tr>\n",
       "      <th>2</th>\n",
       "      <td>SP001-r1</td>\n",
       "      <td>str_idx_2</td>\n",
       "      <td>1.000000</td>\n",
       "    </tr>\n",
       "    <tr>\n",
       "      <th>3</th>\n",
       "      <td>SP001-r1</td>\n",
       "      <td>str_idx_3</td>\n",
       "      <td>0.000000</td>\n",
       "    </tr>\n",
       "    <tr>\n",
       "      <th>4</th>\n",
       "      <td>SP001-r1</td>\n",
       "      <td>str_idx_4</td>\n",
       "      <td>0.000000</td>\n",
       "    </tr>\n",
       "  </tbody>\n",
       "</table>\n",
       "</div>"
      ],
      "text/plain": [
       "  Line Name Measurement Type     Value\n",
       "0  SP001-r1      measurement  0.829131\n",
       "1  SP001-r1        str_idx_1  0.000000\n",
       "2  SP001-r1        str_idx_2  1.000000\n",
       "3  SP001-r1        str_idx_3  0.000000\n",
       "4  SP001-r1        str_idx_4  0.000000"
      ]
     },
     "execution_count": 6,
     "metadata": {},
     "output_type": "execute_result"
    }
   ],
   "source": [
    "# Pivot the dataframe and change the column names\n",
    "strains_art_oneh = strains_art_oneh.set_index('Line Name').stack().reset_index()\n",
    "print(strains_art_oneh)\n",
    "strains_art_oneh.columns = ['Line Name', 'Measurement Type', 'Value']\n",
    "strains_art_oneh.head()"
   ]
  },
  {
   "cell_type": "markdown",
   "id": "1d582a62",
   "metadata": {},
   "source": [
    "# This section will be handling noice detection and elimination. While we are still handling mock data, it can be disregarded."
   ]
  },
  {
   "cell_type": "code",
   "execution_count": 7,
   "id": "d3ede783",
   "metadata": {},
   "outputs": [],
   "source": [
    "measurement = ['measurement']"
   ]
  },
  {
   "cell_type": "code",
   "execution_count": 8,
   "id": "77da8a40",
   "metadata": {},
   "outputs": [
    {
     "name": "stderr",
     "output_type": "stream",
     "text": [
      "../ART_iGEM/art/utility.py:835: FutureWarning: Columnar iteration over characters will be deprecated in future releases.\n",
      "  df[\"Line Name\"], df[\"Replicate\"] = df[\"Line Name\"].str.split(\"-\").str\n"
     ]
    },
    {
     "data": {
      "text/html": [
       "measurement"
      ],
      "text/plain": [
       "<IPython.core.display.HTML object>"
      ]
     },
     "metadata": {},
     "output_type": "display_data"
    },
    {
     "data": {
      "text/html": [
       "1 individual replicates from 1 strains found with absolute error higher than 0.50 (data with errors higher than 99% of all data)."
      ],
      "text/plain": [
       "<IPython.core.display.HTML object>"
      ]
     },
     "metadata": {},
     "output_type": "display_data"
    },
    {
     "data": {
      "text/html": [
       "<div>\n",
       "<style scoped>\n",
       "    .dataframe tbody tr th:only-of-type {\n",
       "        vertical-align: middle;\n",
       "    }\n",
       "\n",
       "    .dataframe tbody tr th {\n",
       "        vertical-align: top;\n",
       "    }\n",
       "\n",
       "    .dataframe thead th {\n",
       "        text-align: right;\n",
       "    }\n",
       "</style>\n",
       "<table border=\"1\" class=\"dataframe\">\n",
       "  <thead>\n",
       "    <tr style=\"text-align: right;\">\n",
       "      <th></th>\n",
       "      <th>Value</th>\n",
       "      <th>Measurement Type</th>\n",
       "      <th>Replicate Mean</th>\n",
       "      <th>Replicate Error</th>\n",
       "    </tr>\n",
       "    <tr>\n",
       "      <th>Line Name</th>\n",
       "      <th></th>\n",
       "      <th></th>\n",
       "      <th></th>\n",
       "      <th></th>\n",
       "    </tr>\n",
       "  </thead>\n",
       "  <tbody>\n",
       "    <tr>\n",
       "      <th>SP002-r1</th>\n",
       "      <td>0.937158</td>\n",
       "      <td>measurement</td>\n",
       "      <td>0.387615</td>\n",
       "      <td>0.549542</td>\n",
       "    </tr>\n",
       "  </tbody>\n",
       "</table>\n",
       "</div>"
      ],
      "text/plain": [
       "              Value Measurement Type  Replicate Mean  Replicate Error\n",
       "Line Name                                                            \n",
       "SP002-r1   0.937158      measurement        0.387615         0.549542"
      ]
     },
     "metadata": {},
     "output_type": "display_data"
    },
    {
     "data": {
      "text/html": [
       "\n",
       "Excluded 3 individual replicates from 1 strains:"
      ],
      "text/plain": [
       "<IPython.core.display.HTML object>"
      ]
     },
     "metadata": {},
     "output_type": "display_data"
    },
    {
     "data": {
      "text/html": [
       "<div>\n",
       "<style scoped>\n",
       "    .dataframe tbody tr th:only-of-type {\n",
       "        vertical-align: middle;\n",
       "    }\n",
       "\n",
       "    .dataframe tbody tr th {\n",
       "        vertical-align: top;\n",
       "    }\n",
       "\n",
       "    .dataframe thead th {\n",
       "        text-align: right;\n",
       "    }\n",
       "</style>\n",
       "<table border=\"1\" class=\"dataframe\">\n",
       "  <thead>\n",
       "    <tr style=\"text-align: right;\">\n",
       "      <th></th>\n",
       "      <th>Line Name</th>\n",
       "      <th>Measurement Type</th>\n",
       "      <th>Value</th>\n",
       "    </tr>\n",
       "  </thead>\n",
       "  <tbody>\n",
       "    <tr>\n",
       "      <th>60</th>\n",
       "      <td>SP002-r1</td>\n",
       "      <td>measurement</td>\n",
       "      <td>0.937158</td>\n",
       "    </tr>\n",
       "    <tr>\n",
       "      <th>80</th>\n",
       "      <td>SP002-r2</td>\n",
       "      <td>measurement</td>\n",
       "      <td>0.054991</td>\n",
       "    </tr>\n",
       "    <tr>\n",
       "      <th>100</th>\n",
       "      <td>SP002-r3</td>\n",
       "      <td>measurement</td>\n",
       "      <td>0.170698</td>\n",
       "    </tr>\n",
       "  </tbody>\n",
       "</table>\n",
       "</div>"
      ],
      "text/plain": [
       "    Line Name Measurement Type     Value\n",
       "60   SP002-r1      measurement  0.937158\n",
       "80   SP002-r2      measurement  0.054991\n",
       "100  SP002-r3      measurement  0.170698"
      ]
     },
     "metadata": {},
     "output_type": "display_data"
    }
   ],
   "source": [
    "noisy_line_name = utils.find_noisy_data(strains_art_oneh, measurement, percentile=99,plot_flag=False)\n",
    "strains_art_oneh_filtered = utils.filter_noisy_data(strains_art_oneh, noisy_line_name, measurement, filter_all_replicates=True,plot_flag=False)\n"
   ]
  },
  {
   "cell_type": "code",
   "execution_count": 9,
   "id": "5bc58cef",
   "metadata": {},
   "outputs": [
    {
     "name": "stdout",
     "output_type": "stream",
     "text": [
      "The value that delimites the one percent most extreme errors is: 0.5\n"
     ]
    },
    {
     "name": "stderr",
     "output_type": "stream",
     "text": [
      "../ART_iGEM/art/utility.py:835: FutureWarning: Columnar iteration over characters will be deprecated in future releases.\n",
      "  df[\"Line Name\"], df[\"Replicate\"] = df[\"Line Name\"].str.split(\"-\").str\n"
     ]
    }
   ],
   "source": [
    "errors = utils.add_replicate_mean_and_error(strains_art_oneh, ['measurement'])['Replicate Error']\n",
    "limit = round(np.percentile(abs(errors), 99),2)\n",
    "print(\"The value that delimites the one percent most extreme errors is: {}\".format(limit))"
   ]
  },
  {
   "cell_type": "code",
   "execution_count": 10,
   "id": "3f1e4fd1",
   "metadata": {},
   "outputs": [
    {
     "data": {
      "text/plain": [
       "0.49033361243682116"
      ]
     },
     "execution_count": 10,
     "metadata": {},
     "output_type": "execute_result"
    }
   ],
   "source": [
    "errors.abs().mean()*2.5"
   ]
  },
  {
   "cell_type": "code",
   "execution_count": 22,
   "id": "5da5d231",
   "metadata": {},
   "outputs": [
    {
     "name": "stderr",
     "output_type": "stream",
     "text": [
      "/home/user/.pyenv/versions/3.9.2/envs/ART_iGEM-3.9.2/lib/python3.9/site-packages/seaborn/distributions.py:2557: FutureWarning: `distplot` is a deprecated function and will be removed in a future version. Please adapt your code to use either `displot` (a figure-level function with similar flexibility) or `histplot` (an axes-level function for histograms).\n",
      "  warnings.warn(msg, FutureWarning)\n"
     ]
    },
    {
     "data": {
      "image/png": "[encoded data removed]",
      "text/plain": [
       "<Figure size 360x360 with 1 Axes>"
      ]
     },
     "metadata": {
      "needs_background": "light"
     },
     "output_type": "display_data"
    }
   ],
   "source": [
    "fig, ax = plt.subplots(figsize=(5, 5))\n",
    "fig.set_tight_layout(True)\n",
    "sns.distplot(errors, ax=ax);\n",
    "ax.set_ylim(0, 10)\n",
    "ax.set_xlim(-1, 1)\n",
    "ax.set_ylabel('Frequency')\n",
    "ax.set_xlabel('Absolute difference')\n",
    "fig.savefig('./figures/Figure 4B.pdf')"
   ]
  },
  {
   "cell_type": "code",
   "execution_count": 19,
   "id": "cf5c8621",
   "metadata": {},
   "outputs": [
    {
     "name": "stderr",
     "output_type": "stream",
     "text": [
      "/home/user/.pyenv/versions/3.9.2/envs/ART_iGEM-3.9.2/lib/python3.9/site-packages/seaborn/distributions.py:2557: FutureWarning: `distplot` is a deprecated function and will be removed in a future version. Please adapt your code to use either `displot` (a figure-level function with similar flexibility) or `histplot` (an axes-level function for histograms).\n",
      "  warnings.warn(msg, FutureWarning)\n"
     ]
    },
    {
     "data": {
      "image/png": "[encoded data removed]",
      "text/plain": [
       "<Figure size 360x360 with 1 Axes>"
      ]
     },
     "metadata": {
      "needs_background": "light"
     },
     "output_type": "display_data"
    }
   ],
   "source": [
    "fig, ax = plt.subplots(figsize=(5, 5))\n",
    "fig.set_tight_layout(True)\n",
    "sns.distplot(errors, ax=ax)\n",
    "ax.set_ylim(0, 0.005)\n",
    "ax.set_xlim(-130, 130)\n",
    "ax.axvline(x=limit, ymin=0, color='r', ls='--')\n",
    "ax.axvline(x=-limit, ymin=0, color='r', ls='--')\n",
    "ax.annotate(str(round(-limit, 2)), xy=(-limit-50, 0), xytext=(-limit-50, 0.002), color='r')\n",
    "ax.annotate(str(round(limit, 2)), xy=(limit+5, 0), xytext=(limit+5, 0.002), color='r')\n",
    "ax.set_xlabel('Absolute difference')\n",
    "fig.savefig('./figures/Figure 4C.pdf')"
   ]
  },
  {
   "cell_type": "markdown",
   "id": "b8fca30a",
   "metadata": {},
   "source": [
    "# RUNNING ART!!!!!"
   ]
  },
  {
   "cell_type": "code",
   "execution_count": 11,
   "id": "e21f9a46",
   "metadata": {},
   "outputs": [],
   "source": [
    "art_params = {}\n",
    "art_params['response_vars'] = measurement\n",
    "art_params['input_vars'] = colnames\n",
    "art_params['seed'] = 42  # default: None\n",
    "art_params['num_recommendations'] = 30   \n",
    "art_params['cross_val'] = True\n",
    "art_params['recommend'] = False\n",
    "art_params['output_directory'] = 'results_onehot/'\n"
   ]
  },
  {
   "cell_type": "code",
   "execution_count": 12,
   "id": "c367330e",
   "metadata": {},
   "outputs": [],
   "source": [
    "run_art = False"
   ]
  },
  {
   "cell_type": "code",
   "execution_count": 13,
   "id": "619066af",
   "metadata": {},
   "outputs": [
    {
     "name": "stdout",
     "output_type": "stream",
     "text": [
      "CPU times: user 131 ms, sys: 118 ms, total: 249 ms\n",
      "Wall time: 6.84 s\n"
     ]
    }
   ],
   "source": [
    "%%time\n",
    "if run_art:\n",
    "    art = RecommendationEngine(strains_art_oneh, **art_params)\n",
    "else:\n",
    "    with open('results_onehot/art.pkl', 'rb') as output:\n",
    "        art = pickle.load(output)"
   ]
  },
  {
   "cell_type": "markdown",
   "id": "5c5119d2",
   "metadata": {},
   "source": [
    "## Starting with analysis of the data"
   ]
  },
  {
   "cell_type": "code",
   "execution_count": 14,
   "id": "52d19895",
   "metadata": {},
   "outputs": [
    {
     "data": {
      "text/html": [
       "<div>\n",
       "<style scoped>\n",
       "    .dataframe tbody tr th:only-of-type {\n",
       "        vertical-align: middle;\n",
       "    }\n",
       "\n",
       "    .dataframe tbody tr th {\n",
       "        vertical-align: top;\n",
       "    }\n",
       "\n",
       "    .dataframe thead th {\n",
       "        text-align: right;\n",
       "    }\n",
       "</style>\n",
       "<table border=\"1\" class=\"dataframe\">\n",
       "  <thead>\n",
       "    <tr style=\"text-align: right;\">\n",
       "      <th></th>\n",
       "      <th>MAE</th>\n",
       "      <th>MRAE(%)</th>\n",
       "      <th>StdAE</th>\n",
       "      <th>MSE</th>\n",
       "      <th>$R^2$</th>\n",
       "    </tr>\n",
       "    <tr>\n",
       "      <th>Name</th>\n",
       "      <th></th>\n",
       "      <th></th>\n",
       "      <th></th>\n",
       "      <th></th>\n",
       "      <th></th>\n",
       "    </tr>\n",
       "  </thead>\n",
       "  <tbody>\n",
       "    <tr>\n",
       "      <th>Neural Regressor</th>\n",
       "      <td>1.104182</td>\n",
       "      <td>584.258551</td>\n",
       "      <td>1.940910</td>\n",
       "      <td>4.986350</td>\n",
       "      <td>-58.992243</td>\n",
       "    </tr>\n",
       "    <tr>\n",
       "      <th>Random Forest Regressor</th>\n",
       "      <td>0.249611</td>\n",
       "      <td>280.704693</td>\n",
       "      <td>0.170122</td>\n",
       "      <td>0.091247</td>\n",
       "      <td>-0.097824</td>\n",
       "    </tr>\n",
       "    <tr>\n",
       "      <th>TPOT Regressor</th>\n",
       "      <td>0.259209</td>\n",
       "      <td>278.552805</td>\n",
       "      <td>0.171459</td>\n",
       "      <td>0.096587</td>\n",
       "      <td>-0.162072</td>\n",
       "    </tr>\n",
       "    <tr>\n",
       "      <th>Support Vector Regressor</th>\n",
       "      <td>0.251958</td>\n",
       "      <td>269.026522</td>\n",
       "      <td>0.152847</td>\n",
       "      <td>0.086845</td>\n",
       "      <td>-0.044856</td>\n",
       "    </tr>\n",
       "    <tr>\n",
       "      <th>Kernel Ridge Regressor</th>\n",
       "      <td>0.402462</td>\n",
       "      <td>109.105827</td>\n",
       "      <td>0.259633</td>\n",
       "      <td>0.229385</td>\n",
       "      <td>-1.759797</td>\n",
       "    </tr>\n",
       "    <tr>\n",
       "      <th>K-NN Regressor</th>\n",
       "      <td>0.243453</td>\n",
       "      <td>280.314682</td>\n",
       "      <td>0.174101</td>\n",
       "      <td>0.089581</td>\n",
       "      <td>-0.077770</td>\n",
       "    </tr>\n",
       "    <tr>\n",
       "      <th>Gaussian Process Regressor</th>\n",
       "      <td>0.253649</td>\n",
       "      <td>265.143738</td>\n",
       "      <td>0.144137</td>\n",
       "      <td>0.085113</td>\n",
       "      <td>-0.024020</td>\n",
       "    </tr>\n",
       "    <tr>\n",
       "      <th>Gradient Boosting Regressor</th>\n",
       "      <td>0.243457</td>\n",
       "      <td>271.920112</td>\n",
       "      <td>0.167972</td>\n",
       "      <td>0.087486</td>\n",
       "      <td>-0.052568</td>\n",
       "    </tr>\n",
       "    <tr>\n",
       "      <th>Ensemble Model</th>\n",
       "      <td>0.253090</td>\n",
       "      <td>269.600868</td>\n",
       "      <td>0.160006</td>\n",
       "      <td>0.089656</td>\n",
       "      <td>-0.078682</td>\n",
       "    </tr>\n",
       "  </tbody>\n",
       "</table>\n",
       "</div>"
      ],
      "text/plain": [
       "                                  MAE     MRAE(%)     StdAE       MSE  \\\n",
       "Name                                                                    \n",
       "Neural Regressor             1.104182  584.258551  1.940910  4.986350   \n",
       "Random Forest Regressor      0.249611  280.704693  0.170122  0.091247   \n",
       "TPOT Regressor               0.259209  278.552805  0.171459  0.096587   \n",
       "Support Vector Regressor     0.251958  269.026522  0.152847  0.086845   \n",
       "Kernel Ridge Regressor       0.402462  109.105827  0.259633  0.229385   \n",
       "K-NN Regressor               0.243453  280.314682  0.174101  0.089581   \n",
       "Gaussian Process Regressor   0.253649  265.143738  0.144137  0.085113   \n",
       "Gradient Boosting Regressor  0.243457  271.920112  0.167972  0.087486   \n",
       "Ensemble Model               0.253090  269.600868  0.160006  0.089656   \n",
       "\n",
       "                                 $R^2$  \n",
       "Name                                    \n",
       "Neural Regressor            -58.992243  \n",
       "Random Forest Regressor      -0.097824  \n",
       "TPOT Regressor               -0.162072  \n",
       "Support Vector Regressor     -0.044856  \n",
       "Kernel Ridge Regressor       -1.759797  \n",
       "K-NN Regressor               -0.077770  \n",
       "Gaussian Process Regressor   -0.024020  \n",
       "Gradient Boosting Regressor  -0.052568  \n",
       "Ensemble Model               -0.078682  "
      ]
     },
     "metadata": {},
     "output_type": "display_data"
    }
   ],
   "source": [
    "art.evaluate_models_cv()"
   ]
  },
  {
   "cell_type": "markdown",
   "id": "c59ea196",
   "metadata": {},
   "source": [
    "Crossvalidated ensemble prediction compared to observations of mean productivity of library and control strains\n"
   ]
  },
  {
   "cell_type": "code",
   "execution_count": 14,
   "id": "f7b70322",
   "metadata": {},
   "outputs": [
    {
     "data": {
      "image/png": "[encoded data removed]",
      "text/plain": [
       "<Figure size 504x504 with 1 Axes>"
      ]
     },
     "metadata": {},
     "output_type": "display_data"
    }
   ],
   "source": [
    "plot.predictions_vs_observations(art, cv_flag=True, errorbars_flag=False, xlim=[[0, 1]], ylim=[[0, 1]], log=False)"
   ]
  },
  {
   "cell_type": "markdown",
   "id": "21af9143",
   "metadata": {},
   "source": [
    "Ensemble prediction compared to observations of mean productivity of library and control strains\n"
   ]
  },
  {
   "cell_type": "code",
   "execution_count": 16,
   "id": "a55ce018",
   "metadata": {},
   "outputs": [
    {
     "data": {
      "image/png": "[encoded data removed]",
      "text/plain": [
       "<Figure size 504x504 with 1 Axes>"
      ]
     },
     "metadata": {},
     "output_type": "display_data"
    }
   ],
   "source": [
    "plot.predictions_vs_observations(art, cv_flag=False, errorbars_flag=False, xlim=[[0, 1]], ylim=[[0, 1]], log=False)"
   ]
  },
  {
   "cell_type": "markdown",
   "id": "e7368edb",
   "metadata": {},
   "source": [
    "### learning curves\n",
    "\n",
    "10 cross-validation runs were performed in parallel running the script `learning_curves_per_set_size.py` with arguments `run_number` and `set_index` (between 0 and 14 for a total of 15 cases). The results were stored in\n",
    "\n",
    "## TODO:\n",
    "Adapt the `learning_curves_per_set_size.py` such that it is applicable to our dataset (see Zang and Petersen et al. (2019))."
   ]
  },
  {
   "cell_type": "code",
   "execution_count": 17,
   "id": "d9bad680",
   "metadata": {},
   "outputs": [],
   "source": [
    "output_directory = './results_onehot/learning_curves'"
   ]
  },
  {
   "cell_type": "code",
   "execution_count": null,
   "id": "3b03e976",
   "metadata": {},
   "outputs": [],
   "source": [
    "num_runs = 10\n",
    "metrics_all = {}\n",
    "for run in range(num_runs):\n",
    "    filename = f'{output_directory}/metrics_train_test_{run+1}.pkl'\n",
    "    with open(filename, 'rb') as f:\n",
    "        metrics_all[run] = pickle.load(f) "
   ]
  },
  {
   "cell_type": "markdown",
   "id": "c9af5ae7",
   "metadata": {},
   "source": [
    "### Adding predictions to main dataframe"
   ]
  },
  {
   "cell_type": "code",
   "execution_count": 40,
   "id": "7ca77cf8",
   "metadata": {},
   "outputs": [
    {
     "name": "stdout",
     "output_type": "stream",
     "text": [
      "   Line Name  prediction_JBEI  cv_prediction_JBEI Replicate Count\n",
      "0      SP001         0.654151            0.471133              r1\n",
      "1      SP001         0.654151            0.471133              r2\n",
      "2      SP001         0.654151            0.471133              r3\n",
      "3      SP002         0.393837            0.463324              r1\n",
      "4      SP002         0.393837            0.463324              r2\n",
      "5      SP002         0.393837            0.463324              r3\n",
      "6      SP003         0.421236            0.441021              r1\n",
      "7      SP003         0.421236            0.441021              r2\n",
      "8      SP003         0.421236            0.441021              r3\n",
      "9      SP004         0.422982            0.376040              r1\n",
      "10     SP004         0.422982            0.376040              r2\n",
      "11     SP004         0.422982            0.376040              r3\n",
      "12     SP005         0.560198            0.576586              r1\n",
      "13     SP005         0.560198            0.576586              r2\n",
      "14     SP005         0.560198            0.576586              r3\n",
      "15     SP006         0.424860            0.421627              r1\n",
      "16     SP006         0.424860            0.421627              r2\n",
      "17     SP006         0.424860            0.421627              r3\n",
      "18     SP007         0.301943            0.571422              r1\n",
      "19     SP007         0.301943            0.571422              r2\n",
      "20     SP007         0.301943            0.571422              r3\n",
      "21     SP008         0.656040            0.521545              r1\n",
      "22     SP008         0.656040            0.521545              r2\n",
      "23     SP008         0.656040            0.521545              r3\n",
      "24     SP009         0.397049            0.580236              r1\n",
      "25     SP009         0.397049            0.580236              r2\n",
      "26     SP009         0.397049            0.580236              r3\n",
      "27     SP010         0.581646            0.568496              r1\n",
      "28     SP010         0.581646            0.568496              r2\n",
      "29     SP010         0.581646            0.568496              r3\n",
      "30     SP011         0.626340            0.535298              r1\n",
      "31     SP011         0.626340            0.535298              r2\n",
      "32     SP011         0.626340            0.535298              r3\n",
      "33     SP012         0.413583            0.606038              r1\n",
      "34     SP012         0.413583            0.606038              r2\n",
      "35     SP012         0.413583            0.606038              r3\n",
      "36     SP013         0.351244            0.408736              r1\n",
      "37     SP013         0.351244            0.408736              r2\n",
      "38     SP013         0.351244            0.408736              r3\n",
      "39     SP014         0.659264            0.454078              r1\n",
      "40     SP014         0.659264            0.454078              r2\n",
      "41     SP014         0.659264            0.454078              r3\n",
      "42     SP015         0.295756            0.541616              r1\n",
      "43     SP015         0.295756            0.541616              r2\n",
      "44     SP015         0.295756            0.541616              r3\n",
      "45     SP016         0.608994            0.580059              r1\n",
      "46     SP016         0.608994            0.580059              r2\n",
      "47     SP016         0.608994            0.580059              r3\n",
      "48     SP017         0.534662            0.449235              r1\n",
      "49     SP017         0.534662            0.449235              r2\n",
      "50     SP017         0.534662            0.449235              r3\n",
      "51     SP018         0.423142            0.552304              r1\n",
      "52     SP018         0.423142            0.552304              r2\n",
      "53     SP018         0.423142            0.552304              r3\n",
      "54     SP019         0.733909            0.500477              r1\n",
      "55     SP019         0.733909            0.500477              r2\n",
      "56     SP019         0.733909            0.500477              r3\n"
     ]
    },
    {
     "name": "stderr",
     "output_type": "stream",
     "text": [
      "/tmp/ipykernel_35490/527757656.py:4: FutureWarning: Columnar iteration over characters will be deprecated in future releases.\n",
      "  jbei_library_pred_df['Line Name'], jbei_library_pred_df['Replicate Count'] = jbei_library_pred_df['Line Name'].str.split('-', 1).str\n"
     ]
    }
   ],
   "source": [
    "cv_prediction      = np.array(art.model_df_cv[0]['Predictions']['Ensemble Model'])\n",
    "predicted_mean, predicted_std = art.post_pred_stats(art.load_input_data(scale=False))\n",
    "jbei_library_pred_df = pd.DataFrame({'Line Name' : strains_art_oneh_filtered['Line Name'].unique(),'prediction_JBEI' : predicted_mean.squeeze(), 'cv_prediction_JBEI' : cv_prediction})\n",
    "jbei_library_pred_df['Line Name'], jbei_library_pred_df['replicate_count'] = jbei_library_pred_df['Line Name'].str.split('-', 1).str\n",
    "print(jbei_library_pred_df)\n",
    "# jbei_library_pred_df.head()"
   ]
  },
  {
   "cell_type": "code",
   "execution_count": 47,
   "id": "d7eef453",
   "metadata": {},
   "outputs": [
    {
     "name": "stdout",
     "output_type": "stream",
     "text": [
      "  Line Name  prediction_JBEI  cv_prediction_JBEI Replicate Count\n",
      "0     SP001         0.654151            0.471133              r1\n",
      "1     SP001         0.654151            0.471133              r2\n",
      "2     SP001         0.654151            0.471133              r3\n",
      "3     SP002         0.393837            0.463324              r1\n",
      "4     SP002         0.393837            0.463324              r2\n",
      "  Line Name Replicate Count  measurement  str_idx  pro_idx  sec_idx  gen_idx\n",
      "0     SP001              r1     0.829131        2        6       16       22\n",
      "1     SP001              r2     0.333064        2        6       16       22\n",
      "2     SP001              r3     0.871142        2        6       16       22\n",
      "3     SP002              r1     0.937158        4       11       18       19\n",
      "4     SP002              r2     0.054991        4       11       18       19\n"
     ]
    },
    {
     "data": {
      "text/html": [
       "<div>\n",
       "<style scoped>\n",
       "    .dataframe tbody tr th:only-of-type {\n",
       "        vertical-align: middle;\n",
       "    }\n",
       "\n",
       "    .dataframe tbody tr th {\n",
       "        vertical-align: top;\n",
       "    }\n",
       "\n",
       "    .dataframe thead th {\n",
       "        text-align: right;\n",
       "    }\n",
       "</style>\n",
       "<table border=\"1\" class=\"dataframe\">\n",
       "  <thead>\n",
       "    <tr style=\"text-align: right;\">\n",
       "      <th></th>\n",
       "      <th>Line Name</th>\n",
       "      <th>Replicate Count</th>\n",
       "      <th>measurement</th>\n",
       "      <th>str_idx</th>\n",
       "      <th>pro_idx</th>\n",
       "      <th>sec_idx</th>\n",
       "      <th>gen_idx</th>\n",
       "      <th>prediction_JBEI</th>\n",
       "      <th>cv_prediction_JBEI</th>\n",
       "    </tr>\n",
       "  </thead>\n",
       "  <tbody>\n",
       "    <tr>\n",
       "      <th>0</th>\n",
       "      <td>SP001</td>\n",
       "      <td>r1</td>\n",
       "      <td>0.829131</td>\n",
       "      <td>2</td>\n",
       "      <td>6</td>\n",
       "      <td>16</td>\n",
       "      <td>22</td>\n",
       "      <td>0.654151</td>\n",
       "      <td>0.471133</td>\n",
       "    </tr>\n",
       "    <tr>\n",
       "      <th>1</th>\n",
       "      <td>SP001</td>\n",
       "      <td>r2</td>\n",
       "      <td>0.333064</td>\n",
       "      <td>2</td>\n",
       "      <td>6</td>\n",
       "      <td>16</td>\n",
       "      <td>22</td>\n",
       "      <td>0.654151</td>\n",
       "      <td>0.471133</td>\n",
       "    </tr>\n",
       "    <tr>\n",
       "      <th>2</th>\n",
       "      <td>SP001</td>\n",
       "      <td>r3</td>\n",
       "      <td>0.871142</td>\n",
       "      <td>2</td>\n",
       "      <td>6</td>\n",
       "      <td>16</td>\n",
       "      <td>22</td>\n",
       "      <td>0.654151</td>\n",
       "      <td>0.471133</td>\n",
       "    </tr>\n",
       "    <tr>\n",
       "      <th>3</th>\n",
       "      <td>SP002</td>\n",
       "      <td>r1</td>\n",
       "      <td>0.937158</td>\n",
       "      <td>4</td>\n",
       "      <td>11</td>\n",
       "      <td>18</td>\n",
       "      <td>19</td>\n",
       "      <td>0.393837</td>\n",
       "      <td>0.463324</td>\n",
       "    </tr>\n",
       "    <tr>\n",
       "      <th>4</th>\n",
       "      <td>SP002</td>\n",
       "      <td>r2</td>\n",
       "      <td>0.054991</td>\n",
       "      <td>4</td>\n",
       "      <td>11</td>\n",
       "      <td>18</td>\n",
       "      <td>19</td>\n",
       "      <td>0.393837</td>\n",
       "      <td>0.463324</td>\n",
       "    </tr>\n",
       "  </tbody>\n",
       "</table>\n",
       "</div>"
      ],
      "text/plain": [
       "  Line Name Replicate Count  measurement  str_idx  pro_idx  sec_idx  gen_idx  \\\n",
       "0     SP001              r1     0.829131        2        6       16       22   \n",
       "1     SP001              r2     0.333064        2        6       16       22   \n",
       "2     SP001              r3     0.871142        2        6       16       22   \n",
       "3     SP002              r1     0.937158        4       11       18       19   \n",
       "4     SP002              r2     0.054991        4       11       18       19   \n",
       "\n",
       "   prediction_JBEI  cv_prediction_JBEI  \n",
       "0         0.654151            0.471133  \n",
       "1         0.654151            0.471133  \n",
       "2         0.654151            0.471133  \n",
       "3         0.393837            0.463324  \n",
       "4         0.393837            0.463324  "
      ]
     },
     "execution_count": 47,
     "metadata": {},
     "output_type": "execute_result"
    }
   ],
   "source": [
    "\n",
    "print(jbei_library_pred_df.head())\n",
    "strains = pd.read_csv('mock_data.csv', sep=',')\n",
    "print(strains.head())\n",
    "\n",
    "strains = pd.merge(strains, jbei_library_pred_df,  how='left', left_on=['Line Name', 'replicate_count'], right_on = ['Line Name', 'replicate_count'])\n",
    "strains.head()"
   ]
  },
  {
   "cell_type": "code",
   "execution_count": null,
   "id": "bc81fe74",
   "metadata": {},
   "outputs": [],
   "source": [
    "num_strains = 4\n",
    "indeces_strains = np.array(range(1,num_strains+1))\n",
    "num_promoters = 10\n",
    "indeces_promoters = np.array(range(num_strains+1, num_strains+num_promoters+1))\n",
    "num_secretion_signals = 4\n",
    "indeces_secretion = np.array(range(num_strains+num_promoters+1, num_strains+num_promoters+num_secretion_signals+1))\n",
    "num_genes = 4"
   ]
  },
  {
   "cell_type": "code",
   "execution_count": 57,
   "id": "b1619224",
   "metadata": {},
   "outputs": [
    {
     "name": "stdout",
     "output_type": "stream",
     "text": [
      "[[1. 0. 0. 0. 1. 0. 0. 0. 0. 0. 0. 1. 0. 0. 0. 1. 0. 0. 0.]\n",
      " [1. 0. 0. 0. 1. 0. 0. 0. 0. 0. 0. 1. 0. 0. 0. 0. 1. 0. 0.]\n",
      " [1. 0. 0. 0. 1. 0. 0. 0. 0. 0. 0. 1. 0. 0. 0. 0. 0. 1. 0.]\n",
      " [1. 0. 0. 0. 1. 0. 0. 0. 0. 0. 0. 1. 0. 0. 0. 0. 0. 0. 1.]\n",
      " [1. 0. 0. 0. 1. 0. 0. 0. 0. 0. 0. 0. 1. 0. 0. 1. 0. 0. 0.]]\n"
     ]
    }
   ],
   "source": [
    "num_of_promoters = 6\n",
    "num_of_genes = 5\n",
    "num_of_designs = 4*7*4*4\n",
    "num_of_promoters_onehot = art.num_input_var\n",
    "designs = np.zeros((num_of_designs, num_of_promoters_onehot))\n",
    "\n",
    "i = 0\n",
    "\n",
    "promoters = np.eye(7)\n",
    "seqretion = np.eye(4)\n",
    "\n",
    "for p1 in seqretion:\n",
    "    for p2 in promoters:\n",
    "        for p3 in seqretion:\n",
    "            for p4 in seqretion:\n",
    "                designs[i,:] = np.hstack((p1,p2,p3,p4)).astype(int)\n",
    "                i+=1\n",
    "\n",
    "print(designs[:5])\n"
   ]
  },
  {
   "cell_type": "markdown",
   "id": "55bffe1f",
   "metadata": {},
   "source": [
    "Calculate mean predicted production and standard deviation for all possible designs."
   ]
  },
  {
   "cell_type": "code",
   "execution_count": 59,
   "id": "b237ca15",
   "metadata": {},
   "outputs": [],
   "source": [
    "pp_mean, pp_std = art.post_pred_stats(designs)"
   ]
  },
  {
   "cell_type": "markdown",
   "id": "49d019b7",
   "metadata": {},
   "source": [
    "The relative engineering accuracy is set to one percent to make sure recommendations are different from the input data."
   ]
  },
  {
   "cell_type": "code",
   "execution_count": 58,
   "id": "39b4be78",
   "metadata": {},
   "outputs": [],
   "source": [
    "art.rel_eng_accuracy = 0.01"
   ]
  },
  {
   "cell_type": "markdown",
   "id": "c58ebd9f",
   "metadata": {},
   "source": [
    "### Exploitative approach\n",
    "\n",
    "Objective function is defined as the mean predicted production (the parameter for exploration is set to 𝛼=0\n",
    ")."
   ]
  },
  {
   "cell_type": "code",
   "execution_count": 61,
   "id": "7b2bc6f0",
   "metadata": {},
   "outputs": [
    {
     "name": "stdout",
     "output_type": "stream",
     "text": [
      "[[1.         0.         0.         ... 0.         0.44887904 0.44887904]\n",
      " [1.         0.         0.         ... 0.         0.54857018 0.54857018]\n",
      " [1.         0.         0.         ... 0.         0.5868449  0.5868449 ]\n",
      " ...\n",
      " [0.         0.         0.         ... 0.         0.46325537 0.46325537]\n",
      " [0.         0.         0.         ... 0.         0.45935323 0.45935323]\n",
      " [0.         0.         0.         ... 1.         0.42411605 0.42411605]]\n"
     ]
    }
   ],
   "source": [
    "obj_func = pp_mean \n",
    "data = np.hstack((designs, obj_func, obj_func))\n",
    "print(data)"
   ]
  },
  {
   "cell_type": "code",
   "execution_count": 62,
   "id": "fc599bbb",
   "metadata": {},
   "outputs": [
    {
     "name": "stdout",
     "output_type": "stream",
     "text": [
      "Mean and standard deviation of the recommendation with the highest predicted production are: 0.70, 0.30\n"
     ]
    },
    {
     "name": "stderr",
     "output_type": "stream",
     "text": [
      "../ART_iGEM/art/core.py:1610: RuntimeWarning: invalid value encountered in double_scalars\n",
      "  np.abs(new_rec[l] - previous_points[k][l])\n",
      "../ART_iGEM/art/core.py:1610: RuntimeWarning: divide by zero encountered in double_scalars\n",
      "  np.abs(new_rec[l] - previous_points[k][l])\n"
     ]
    }
   ],
   "source": [
    "art.recommend(data=data)\n",
    "ind_max = np.argmax(art.recommendations.values[:,-1])\n",
    "mean, std = art.post_pred_stats(art.recommendations.values[ind_max,:-1])\n",
    "print(f'Mean and standard deviation of the recommendation with the highest predicted production are: {mean[0][0]:.2f}, {std[0][0]:.2f}')"
   ]
  },
  {
   "cell_type": "code",
   "execution_count": 66,
   "id": "975b7e1b",
   "metadata": {},
   "outputs": [
    {
     "name": "stdout",
     "output_type": "stream",
     "text": [
      "str_idx_3      1.000000\n",
      "pro_idx_7      1.000000\n",
      "sec_idx_15     1.000000\n",
      "gen_idx_22     1.000000\n",
      "measurement    0.701008\n",
      "Name: 0, dtype: float64\n",
      "str_idx_2      1.000000\n",
      "pro_idx_7      1.000000\n",
      "sec_idx_15     1.000000\n",
      "gen_idx_21     1.000000\n",
      "measurement    0.683987\n",
      "Name: 1, dtype: float64\n",
      "str_idx_3      1.000000\n",
      "pro_idx_7      1.000000\n",
      "sec_idx_16     1.000000\n",
      "gen_idx_21     1.000000\n",
      "measurement    0.682584\n",
      "Name: 2, dtype: float64\n",
      "str_idx_1      1.000000\n",
      "pro_idx_7      1.000000\n",
      "sec_idx_15     1.000000\n",
      "gen_idx_21     1.000000\n",
      "measurement    0.675854\n",
      "Name: 3, dtype: float64\n",
      "str_idx_3      1.000000\n",
      "pro_idx_8      1.000000\n",
      "sec_idx_15     1.000000\n",
      "gen_idx_21     1.000000\n",
      "measurement    0.665815\n",
      "Name: 4, dtype: float64\n",
      "str_idx_2      1.000000\n",
      "pro_idx_7      1.000000\n",
      "sec_idx_15     1.000000\n",
      "gen_idx_22     1.000000\n",
      "measurement    0.654832\n",
      "Name: 5, dtype: float64\n",
      "str_idx_1      1.000000\n",
      "pro_idx_7      1.000000\n",
      "sec_idx_15     1.000000\n",
      "gen_idx_22     1.000000\n",
      "measurement    0.652208\n",
      "Name: 6, dtype: float64\n",
      "str_idx_2      1.000000\n",
      "pro_idx_7      1.000000\n",
      "sec_idx_16     1.000000\n",
      "gen_idx_21     1.000000\n",
      "measurement    0.650428\n",
      "Name: 7, dtype: float64\n",
      "str_idx_3      1.000000\n",
      "pro_idx_7      1.000000\n",
      "sec_idx_15     1.000000\n",
      "gen_idx_20     1.000000\n",
      "measurement    0.650211\n",
      "Name: 8, dtype: float64\n",
      "str_idx_1      1.000000\n",
      "pro_idx_14     1.000000\n",
      "sec_idx_16     1.000000\n",
      "gen_idx_21     1.000000\n",
      "measurement    0.648241\n",
      "Name: 9, dtype: float64\n",
      "str_idx_2      1.000000\n",
      "pro_idx_7      1.000000\n",
      "sec_idx_15     1.000000\n",
      "gen_idx_20     1.000000\n",
      "measurement    0.644602\n",
      "Name: 10, dtype: float64\n",
      "str_idx_1      1.000000\n",
      "pro_idx_7      1.000000\n",
      "sec_idx_16     1.000000\n",
      "gen_idx_21     1.000000\n",
      "measurement    0.640159\n",
      "Name: 11, dtype: float64\n",
      "str_idx_2      1.000000\n",
      "pro_idx_14     1.000000\n",
      "sec_idx_16     1.000000\n",
      "gen_idx_20     1.000000\n",
      "measurement    0.637547\n",
      "Name: 12, dtype: float64\n",
      "str_idx_1      1.000000\n",
      "pro_idx_14     1.000000\n",
      "sec_idx_16     1.000000\n",
      "gen_idx_22     1.000000\n",
      "measurement    0.637327\n",
      "Name: 13, dtype: float64\n",
      "str_idx_2      1.000000\n",
      "pro_idx_14     1.000000\n",
      "sec_idx_16     1.000000\n",
      "gen_idx_21     1.000000\n",
      "measurement    0.634978\n",
      "Name: 14, dtype: float64\n",
      "str_idx_3      1.000000\n",
      "pro_idx_7      1.000000\n",
      "sec_idx_17     1.000000\n",
      "gen_idx_21     1.000000\n",
      "measurement    0.634779\n",
      "Name: 15, dtype: float64\n",
      "str_idx_3      1.000000\n",
      "pro_idx_14     1.000000\n",
      "sec_idx_16     1.000000\n",
      "gen_idx_21     1.000000\n",
      "measurement    0.632859\n",
      "Name: 16, dtype: float64\n",
      "str_idx_2      1.000000\n",
      "pro_idx_14     1.000000\n",
      "sec_idx_16     1.000000\n",
      "gen_idx_22     1.000000\n",
      "measurement    0.631791\n",
      "Name: 17, dtype: float64\n",
      "str_idx_1      1.000000\n",
      "pro_idx_14     1.000000\n",
      "sec_idx_15     1.000000\n",
      "gen_idx_21     1.000000\n",
      "measurement    0.630245\n",
      "Name: 18, dtype: float64\n",
      "str_idx_3      1.000000\n",
      "pro_idx_14     1.000000\n",
      "sec_idx_15     1.000000\n",
      "gen_idx_21     1.000000\n",
      "measurement    0.630176\n",
      "Name: 19, dtype: float64\n",
      "str_idx_3      1.000000\n",
      "pro_idx_5      1.000000\n",
      "sec_idx_15     1.000000\n",
      "gen_idx_21     1.000000\n",
      "measurement    0.628139\n",
      "Name: 20, dtype: float64\n",
      "str_idx_2      1.000000\n",
      "pro_idx_6      1.000000\n",
      "sec_idx_15     1.000000\n",
      "gen_idx_22     1.000000\n",
      "measurement    0.627426\n",
      "Name: 21, dtype: float64\n",
      "str_idx_2      1.000000\n",
      "pro_idx_14     1.000000\n",
      "sec_idx_15     1.000000\n",
      "gen_idx_21     1.000000\n",
      "measurement    0.625211\n",
      "Name: 22, dtype: float64\n",
      "str_idx_1      1.000000\n",
      "pro_idx_14     1.000000\n",
      "sec_idx_15     1.000000\n",
      "gen_idx_20     1.000000\n",
      "measurement    0.625022\n",
      "Name: 23, dtype: float64\n",
      "str_idx_2      1.000000\n",
      "pro_idx_8      1.000000\n",
      "sec_idx_15     1.000000\n",
      "gen_idx_22     1.000000\n",
      "measurement    0.624499\n",
      "Name: 24, dtype: float64\n",
      "str_idx_3      1.000000\n",
      "pro_idx_7      1.000000\n",
      "sec_idx_16     1.000000\n",
      "gen_idx_22     1.000000\n",
      "measurement    0.624403\n",
      "Name: 25, dtype: float64\n",
      "str_idx_1      1.000000\n",
      "pro_idx_7      1.000000\n",
      "sec_idx_15     1.000000\n",
      "gen_idx_20     1.000000\n",
      "measurement    0.623204\n",
      "Name: 26, dtype: float64\n",
      "str_idx_3      1.000000\n",
      "pro_idx_14     1.000000\n",
      "sec_idx_15     1.000000\n",
      "gen_idx_22     1.000000\n",
      "measurement    0.623177\n",
      "Name: 27, dtype: float64\n",
      "str_idx_2      1.000000\n",
      "pro_idx_14     1.000000\n",
      "sec_idx_15     1.000000\n",
      "gen_idx_22     1.000000\n",
      "measurement    0.622007\n",
      "Name: 28, dtype: float64\n",
      "str_idx_2      1.000000\n",
      "pro_idx_8      1.000000\n",
      "sec_idx_15     1.000000\n",
      "gen_idx_21     1.000000\n",
      "measurement    0.618963\n",
      "Name: 29, dtype: float64\n"
     ]
    },
    {
     "data": {
      "text/html": [
       "<div>\n",
       "<style scoped>\n",
       "    .dataframe tbody tr th:only-of-type {\n",
       "        vertical-align: middle;\n",
       "    }\n",
       "\n",
       "    .dataframe tbody tr th {\n",
       "        vertical-align: top;\n",
       "    }\n",
       "\n",
       "    .dataframe thead th {\n",
       "        text-align: right;\n",
       "    }\n",
       "</style>\n",
       "<table border=\"1\" class=\"dataframe\">\n",
       "  <thead>\n",
       "    <tr style=\"text-align: right;\">\n",
       "      <th></th>\n",
       "      <th>strain</th>\n",
       "      <th>promoter</th>\n",
       "      <th>seqretion</th>\n",
       "      <th>gene</th>\n",
       "      <th>measurement</th>\n",
       "    </tr>\n",
       "  </thead>\n",
       "  <tbody>\n",
       "    <tr>\n",
       "      <th>0</th>\n",
       "      <td>3</td>\n",
       "      <td>7</td>\n",
       "      <td>15</td>\n",
       "      <td>22</td>\n",
       "      <td>0.701008</td>\n",
       "    </tr>\n",
       "    <tr>\n",
       "      <th>1</th>\n",
       "      <td>2</td>\n",
       "      <td>7</td>\n",
       "      <td>15</td>\n",
       "      <td>21</td>\n",
       "      <td>0.683987</td>\n",
       "    </tr>\n",
       "    <tr>\n",
       "      <th>2</th>\n",
       "      <td>3</td>\n",
       "      <td>7</td>\n",
       "      <td>16</td>\n",
       "      <td>21</td>\n",
       "      <td>0.682584</td>\n",
       "    </tr>\n",
       "    <tr>\n",
       "      <th>3</th>\n",
       "      <td>1</td>\n",
       "      <td>7</td>\n",
       "      <td>15</td>\n",
       "      <td>21</td>\n",
       "      <td>0.675854</td>\n",
       "    </tr>\n",
       "    <tr>\n",
       "      <th>4</th>\n",
       "      <td>3</td>\n",
       "      <td>8</td>\n",
       "      <td>15</td>\n",
       "      <td>21</td>\n",
       "      <td>0.665815</td>\n",
       "    </tr>\n",
       "  </tbody>\n",
       "</table>\n",
       "</div>"
      ],
      "text/plain": [
       "  strain promoter seqretion gene measurement\n",
       "0      3        7        15   22    0.701008\n",
       "1      2        7        15   21    0.683987\n",
       "2      3        7        16   21    0.682584\n",
       "3      1        7        15   21    0.675854\n",
       "4      3        8        15   21    0.665815"
      ]
     },
     "execution_count": 66,
     "metadata": {},
     "output_type": "execute_result"
    }
   ],
   "source": [
    "df_rec_categ_exploit = pd.DataFrame(index=art.recommendations.index, columns=['strain','promoter','seqretion','gene',measurement[0]])\n",
    "for i in range(art.num_recommendations):\n",
    "    rec = art.recommendations.iloc[i][art.recommendations.values[i,:] > 0]\n",
    "    df_rec_categ_exploit.iloc[i][('strain','promoter','seqretion','gene')] = [int(float(p.split('_')[2])) for p in rec.index[:-1]]\n",
    "    df_rec_categ_exploit.iloc[i][measurement] = rec[measurement]\n",
    "df_rec_categ_exploit.head()"
   ]
  },
  {
   "cell_type": "code",
   "execution_count": 67,
   "id": "2dcd5f63",
   "metadata": {},
   "outputs": [
    {
     "data": {
      "text/plain": [
       "strain          3\n",
       "promoter        5\n",
       "seqretion       3\n",
       "gene            3\n",
       "measurement    30\n",
       "dtype: int64"
      ]
     },
     "execution_count": 67,
     "metadata": {},
     "output_type": "execute_result"
    }
   ],
   "source": [
    "df_rec_categ_exploit.nunique()"
   ]
  }
 ],
 "metadata": {
  "kernelspec": {
   "display_name": "Python 3 (ipykernel)",
   "language": "python",
   "name": "python3"
  },
  "language_info": {
   "codemirror_mode": {
    "name": "ipython",
    "version": 3
   },
   "file_extension": ".py",
   "mimetype": "text/x-python",
   "name": "python",
   "nbconvert_exporter": "python",
   "pygments_lexer": "ipython3",
   "version": "3.9.2"
  }
 },
 "nbformat": 4,
 "nbformat_minor": 5
}
